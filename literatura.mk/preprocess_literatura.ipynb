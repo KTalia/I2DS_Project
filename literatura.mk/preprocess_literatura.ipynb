{
 "cells": [
  {
   "cell_type": "markdown",
   "id": "70ae9832",
   "metadata": {},
   "source": [
    "# 📚 Literatura.mk - Book Dataset Cleaning & Preprocessing"
   ]
  },
  {
   "cell_type": "code",
   "execution_count": 43,
   "id": "dd64e90a",
   "metadata": {},
   "outputs": [],
   "source": [
    "import pandas as pd\n",
    "import numpy as np"
   ]
  },
  {
   "cell_type": "code",
   "execution_count": 44,
   "id": "254852e4",
   "metadata": {},
   "outputs": [],
   "source": [
    "df= pd.read_csv('literatura_books.csv', encoding='utf-8-sig') "
   ]
  },
  {
   "cell_type": "code",
   "execution_count": 45,
   "id": "372435a4",
   "metadata": {},
   "outputs": [
    {
     "data": {
      "application/vnd.microsoft.datawrangler.viewer.v0+json": {
       "columns": [
        {
         "name": "index",
         "rawType": "int64",
         "type": "integer"
        },
        {
         "name": "id",
         "rawType": "int64",
         "type": "integer"
        },
        {
         "name": "title",
         "rawType": "object",
         "type": "string"
        },
        {
         "name": "author",
         "rawType": "object",
         "type": "string"
        },
        {
         "name": "category",
         "rawType": "object",
         "type": "string"
        },
        {
         "name": "price",
         "rawType": "float64",
         "type": "float"
        },
        {
         "name": "retrieved_at",
         "rawType": "object",
         "type": "string"
        }
       ],
       "conversionMethod": "pd.DataFrame",
       "ref": "2f727bf3-661e-4c8c-a7aa-8aac3594484f",
       "rows": [
        [
         "0",
         "1",
         "Разговори со ќерка ми за економијата или како функционира капитализмот",
         "Јанис Варуфакис",
         "ПОЛИТИКА",
         "400.0",
         "2025-04-07"
        ],
        [
         "1",
         "2",
         "Semper Idem",
         "Ѓорѓе Лебовиќ",
         "ИСТОРИСКА ФИКЦИЈА",
         "500.0",
         "2025-04-07"
        ],
        [
         "2",
         "3",
         "На дното: раскази",
         "Максим Горки",
         "РАСКАЗИ",
         "400.0",
         "2025-04-07"
        ],
        [
         "3",
         "4",
         "Панонскиот адмирал: емоционален водич низ дискографијата на Ѓорѓе Балашевиќ",
         "Иван Ивачковиќ",
         "БИОГРАФИИ И МЕМОАРИ",
         "490.0",
         "2025-04-07"
        ],
        [
         "4",
         "5",
         "Изгубени германци",
         "Дејан Дуковски",
         "ДРАМИ",
         "299.0",
         "2025-04-07"
        ]
       ],
       "shape": {
        "columns": 6,
        "rows": 5
       }
      },
      "text/html": [
       "<div>\n",
       "<style scoped>\n",
       "    .dataframe tbody tr th:only-of-type {\n",
       "        vertical-align: middle;\n",
       "    }\n",
       "\n",
       "    .dataframe tbody tr th {\n",
       "        vertical-align: top;\n",
       "    }\n",
       "\n",
       "    .dataframe thead th {\n",
       "        text-align: right;\n",
       "    }\n",
       "</style>\n",
       "<table border=\"1\" class=\"dataframe\">\n",
       "  <thead>\n",
       "    <tr style=\"text-align: right;\">\n",
       "      <th></th>\n",
       "      <th>id</th>\n",
       "      <th>title</th>\n",
       "      <th>author</th>\n",
       "      <th>category</th>\n",
       "      <th>price</th>\n",
       "      <th>retrieved_at</th>\n",
       "    </tr>\n",
       "  </thead>\n",
       "  <tbody>\n",
       "    <tr>\n",
       "      <th>0</th>\n",
       "      <td>1</td>\n",
       "      <td>Разговори со ќерка ми за економијата или како ...</td>\n",
       "      <td>Јанис Варуфакис</td>\n",
       "      <td>ПОЛИТИКА</td>\n",
       "      <td>400.0</td>\n",
       "      <td>2025-04-07</td>\n",
       "    </tr>\n",
       "    <tr>\n",
       "      <th>1</th>\n",
       "      <td>2</td>\n",
       "      <td>Semper Idem</td>\n",
       "      <td>Ѓорѓе Лебовиќ</td>\n",
       "      <td>ИСТОРИСКА ФИКЦИЈА</td>\n",
       "      <td>500.0</td>\n",
       "      <td>2025-04-07</td>\n",
       "    </tr>\n",
       "    <tr>\n",
       "      <th>2</th>\n",
       "      <td>3</td>\n",
       "      <td>На дното: раскази</td>\n",
       "      <td>Максим Горки</td>\n",
       "      <td>РАСКАЗИ</td>\n",
       "      <td>400.0</td>\n",
       "      <td>2025-04-07</td>\n",
       "    </tr>\n",
       "    <tr>\n",
       "      <th>3</th>\n",
       "      <td>4</td>\n",
       "      <td>Панонскиот адмирал: емоционален водич низ диск...</td>\n",
       "      <td>Иван Ивачковиќ</td>\n",
       "      <td>БИОГРАФИИ И МЕМОАРИ</td>\n",
       "      <td>490.0</td>\n",
       "      <td>2025-04-07</td>\n",
       "    </tr>\n",
       "    <tr>\n",
       "      <th>4</th>\n",
       "      <td>5</td>\n",
       "      <td>Изгубени германци</td>\n",
       "      <td>Дејан Дуковски</td>\n",
       "      <td>ДРАМИ</td>\n",
       "      <td>299.0</td>\n",
       "      <td>2025-04-07</td>\n",
       "    </tr>\n",
       "  </tbody>\n",
       "</table>\n",
       "</div>"
      ],
      "text/plain": [
       "   id                                              title           author  \\\n",
       "0   1  Разговори со ќерка ми за економијата или како ...  Јанис Варуфакис   \n",
       "1   2                                        Semper Idem    Ѓорѓе Лебовиќ   \n",
       "2   3                                  На дното: раскази     Максим Горки   \n",
       "3   4  Панонскиот адмирал: емоционален водич низ диск...   Иван Ивачковиќ   \n",
       "4   5                                  Изгубени германци   Дејан Дуковски   \n",
       "\n",
       "              category  price retrieved_at  \n",
       "0             ПОЛИТИКА  400.0   2025-04-07  \n",
       "1    ИСТОРИСКА ФИКЦИЈА  500.0   2025-04-07  \n",
       "2              РАСКАЗИ  400.0   2025-04-07  \n",
       "3  БИОГРАФИИ И МЕМОАРИ  490.0   2025-04-07  \n",
       "4                ДРАМИ  299.0   2025-04-07  "
      ]
     },
     "execution_count": 45,
     "metadata": {},
     "output_type": "execute_result"
    }
   ],
   "source": [
    "df.head()"
   ]
  },
  {
   "cell_type": "markdown",
   "id": "6df9b83e",
   "metadata": {},
   "source": [
    "### 1. Drop the redundant 'book_id' column"
   ]
  },
  {
   "cell_type": "code",
   "execution_count": 46,
   "id": "092be676",
   "metadata": {},
   "outputs": [],
   "source": [
    "df = df.drop(columns=['id'])\n",
    "df.to_csv(\"literatura_books.csv\", encoding='utf-8-sig', index=False)\n",
    "df = pd.read_csv(\"literatura_books.csv\", encoding='utf-8-sig')"
   ]
  },
  {
   "cell_type": "markdown",
   "id": "e29fbb55",
   "metadata": {},
   "source": [
    "### 2. Convert the 'Retrieved At' column to datetime format."
   ]
  },
  {
   "cell_type": "code",
   "execution_count": 47,
   "id": "b42105cd",
   "metadata": {},
   "outputs": [],
   "source": [
    "df['retrieved_at'] = pd.to_datetime(df['retrieved_at'])"
   ]
  },
  {
   "cell_type": "code",
   "execution_count": 48,
   "id": "2f0811ce",
   "metadata": {},
   "outputs": [
    {
     "data": {
      "application/vnd.microsoft.datawrangler.viewer.v0+json": {
       "columns": [
        {
         "name": "index",
         "rawType": "int64",
         "type": "integer"
        },
        {
         "name": "title",
         "rawType": "object",
         "type": "string"
        },
        {
         "name": "author",
         "rawType": "object",
         "type": "string"
        },
        {
         "name": "category",
         "rawType": "object",
         "type": "string"
        },
        {
         "name": "price",
         "rawType": "float64",
         "type": "float"
        },
        {
         "name": "retrieved_at",
         "rawType": "datetime64[ns]",
         "type": "datetime"
        }
       ],
       "conversionMethod": "pd.DataFrame",
       "ref": "a961d794-f4b7-4091-9312-e0182bd54aaf",
       "rows": [
        [
         "0",
         "Разговори со ќерка ми за економијата или како функционира капитализмот",
         "Јанис Варуфакис",
         "ПОЛИТИКА",
         "400.0",
         "2025-04-07 00:00:00"
        ],
        [
         "1",
         "Semper Idem",
         "Ѓорѓе Лебовиќ",
         "ИСТОРИСКА ФИКЦИЈА",
         "500.0",
         "2025-04-07 00:00:00"
        ],
        [
         "2",
         "На дното: раскази",
         "Максим Горки",
         "РАСКАЗИ",
         "400.0",
         "2025-04-07 00:00:00"
        ],
        [
         "3",
         "Панонскиот адмирал: емоционален водич низ дискографијата на Ѓорѓе Балашевиќ",
         "Иван Ивачковиќ",
         "БИОГРАФИИ И МЕМОАРИ",
         "490.0",
         "2025-04-07 00:00:00"
        ],
        [
         "4",
         "Изгубени германци",
         "Дејан Дуковски",
         "ДРАМИ",
         "299.0",
         "2025-04-07 00:00:00"
        ]
       ],
       "shape": {
        "columns": 5,
        "rows": 5
       }
      },
      "text/html": [
       "<div>\n",
       "<style scoped>\n",
       "    .dataframe tbody tr th:only-of-type {\n",
       "        vertical-align: middle;\n",
       "    }\n",
       "\n",
       "    .dataframe tbody tr th {\n",
       "        vertical-align: top;\n",
       "    }\n",
       "\n",
       "    .dataframe thead th {\n",
       "        text-align: right;\n",
       "    }\n",
       "</style>\n",
       "<table border=\"1\" class=\"dataframe\">\n",
       "  <thead>\n",
       "    <tr style=\"text-align: right;\">\n",
       "      <th></th>\n",
       "      <th>title</th>\n",
       "      <th>author</th>\n",
       "      <th>category</th>\n",
       "      <th>price</th>\n",
       "      <th>retrieved_at</th>\n",
       "    </tr>\n",
       "  </thead>\n",
       "  <tbody>\n",
       "    <tr>\n",
       "      <th>0</th>\n",
       "      <td>Разговори со ќерка ми за економијата или како ...</td>\n",
       "      <td>Јанис Варуфакис</td>\n",
       "      <td>ПОЛИТИКА</td>\n",
       "      <td>400.0</td>\n",
       "      <td>2025-04-07</td>\n",
       "    </tr>\n",
       "    <tr>\n",
       "      <th>1</th>\n",
       "      <td>Semper Idem</td>\n",
       "      <td>Ѓорѓе Лебовиќ</td>\n",
       "      <td>ИСТОРИСКА ФИКЦИЈА</td>\n",
       "      <td>500.0</td>\n",
       "      <td>2025-04-07</td>\n",
       "    </tr>\n",
       "    <tr>\n",
       "      <th>2</th>\n",
       "      <td>На дното: раскази</td>\n",
       "      <td>Максим Горки</td>\n",
       "      <td>РАСКАЗИ</td>\n",
       "      <td>400.0</td>\n",
       "      <td>2025-04-07</td>\n",
       "    </tr>\n",
       "    <tr>\n",
       "      <th>3</th>\n",
       "      <td>Панонскиот адмирал: емоционален водич низ диск...</td>\n",
       "      <td>Иван Ивачковиќ</td>\n",
       "      <td>БИОГРАФИИ И МЕМОАРИ</td>\n",
       "      <td>490.0</td>\n",
       "      <td>2025-04-07</td>\n",
       "    </tr>\n",
       "    <tr>\n",
       "      <th>4</th>\n",
       "      <td>Изгубени германци</td>\n",
       "      <td>Дејан Дуковски</td>\n",
       "      <td>ДРАМИ</td>\n",
       "      <td>299.0</td>\n",
       "      <td>2025-04-07</td>\n",
       "    </tr>\n",
       "  </tbody>\n",
       "</table>\n",
       "</div>"
      ],
      "text/plain": [
       "                                               title           author  \\\n",
       "0  Разговори со ќерка ми за економијата или како ...  Јанис Варуфакис   \n",
       "1                                        Semper Idem    Ѓорѓе Лебовиќ   \n",
       "2                                  На дното: раскази     Максим Горки   \n",
       "3  Панонскиот адмирал: емоционален водич низ диск...   Иван Ивачковиќ   \n",
       "4                                  Изгубени германци   Дејан Дуковски   \n",
       "\n",
       "              category  price retrieved_at  \n",
       "0             ПОЛИТИКА  400.0   2025-04-07  \n",
       "1    ИСТОРИСКА ФИКЦИЈА  500.0   2025-04-07  \n",
       "2              РАСКАЗИ  400.0   2025-04-07  \n",
       "3  БИОГРАФИИ И МЕМОАРИ  490.0   2025-04-07  \n",
       "4                ДРАМИ  299.0   2025-04-07  "
      ]
     },
     "execution_count": 48,
     "metadata": {},
     "output_type": "execute_result"
    }
   ],
   "source": [
    "df.head()"
   ]
  },
  {
   "cell_type": "markdown",
   "id": "cb802238",
   "metadata": {},
   "source": [
    "### 3. Check for Duplicates\n",
    "- There are no duplicate entries"
   ]
  },
  {
   "cell_type": "code",
   "execution_count": 56,
   "id": "3607f0dd",
   "metadata": {},
   "outputs": [
    {
     "name": "stdout",
     "output_type": "stream",
     "text": [
      "Length of duplicates:  0\n"
     ]
    }
   ],
   "source": [
    "duplicates = df[df.duplicated(keep=False)]\n",
    "duplicates = duplicates.sort_values(by=['title', 'author'])\n",
    "print(\"Length of duplicates: \", len(duplicates))"
   ]
  },
  {
   "cell_type": "markdown",
   "id": "642c800a",
   "metadata": {},
   "source": [
    "### 4. Define a function to normalize author names  \n",
    "- Inconsistent Formats:\n",
    "    - Some names are written in the `\"LastName, FirstName\"` format.\n",
    "    - Others are written in `\"FirstName LastName\"` or even as a comma-separated list of multiple authors.\n",
    "\n",
    "- Normalizing names into a consistent format like `\"FirstName LastName\"` or `\"Author1 Author2 Author3\"`."
   ]
  },
  {
   "cell_type": "code",
   "execution_count": 50,
   "id": "61db9afa",
   "metadata": {},
   "outputs": [],
   "source": [
    "def normalize_author(author):\n",
    "    if pd.isna(author):\n",
    "        return author  \n",
    "    if ',' in author:\n",
    "        parts = [part.strip() for part in author.split(',')]\n",
    "        return ' '.join(parts[::-1])\n",
    "    return author "
   ]
  },
  {
   "cell_type": "code",
   "execution_count": 51,
   "id": "5198fd2c",
   "metadata": {},
   "outputs": [],
   "source": [
    "df['author'] = df['author'].apply(normalize_author)"
   ]
  },
  {
   "cell_type": "markdown",
   "id": "0238125b",
   "metadata": {},
   "source": [
    "### 5. Replace '?' in author with null"
   ]
  },
  {
   "cell_type": "code",
   "execution_count": 52,
   "id": "bfdc6f31",
   "metadata": {},
   "outputs": [],
   "source": [
    "df.loc[df['author'].str.match(r'^[\\?=]+$', na=False), 'author'] = np.nan"
   ]
  },
  {
   "cell_type": "code",
   "execution_count": 53,
   "id": "d2409ae4",
   "metadata": {},
   "outputs": [],
   "source": [
    "filtered_df = df[df['author'].str.match(r'^[\\?=]+$', na=False)]"
   ]
  },
  {
   "cell_type": "markdown",
   "id": "be565482",
   "metadata": {},
   "source": [
    "### 6. Replace '/' in author with null"
   ]
  },
  {
   "cell_type": "code",
   "execution_count": 54,
   "id": "8d532e2d",
   "metadata": {},
   "outputs": [],
   "source": [
    "df.loc[df['author'] == '/', 'author'] = np.nan"
   ]
  },
  {
   "cell_type": "code",
   "execution_count": null,
   "id": "fc4ee9d4",
   "metadata": {},
   "outputs": [],
   "source": [
    "df.to_csv(\"literatura_books.csv\", encoding='utf-8-sig', index=False)"
   ]
  }
 ],
 "metadata": {
  "kernelspec": {
   "display_name": ".venv",
   "language": "python",
   "name": "python3"
  },
  "language_info": {
   "codemirror_mode": {
    "name": "ipython",
    "version": 3
   },
   "file_extension": ".py",
   "mimetype": "text/x-python",
   "name": "python",
   "nbconvert_exporter": "python",
   "pygments_lexer": "ipython3",
   "version": "3.13.2"
  }
 },
 "nbformat": 4,
 "nbformat_minor": 5
}
