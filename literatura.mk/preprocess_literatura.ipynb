{
 "cells": [
  {
   "cell_type": "markdown",
   "id": "70ae9832",
   "metadata": {},
   "source": [
    "# 📚 Literatura.mk - Book Dataset Cleaning & Preprocessing"
   ]
  },
  {
   "cell_type": "code",
   "execution_count": 1,
   "id": "dd64e90a",
   "metadata": {},
   "outputs": [],
   "source": [
    "import pandas as pd\n",
    "import numpy as np"
   ]
  },
  {
   "cell_type": "code",
   "execution_count": 2,
   "id": "254852e4",
   "metadata": {},
   "outputs": [],
   "source": [
    "df= pd.read_csv('../data/original_datasets/literatura_books.csv', encoding='utf-8-sig') "
   ]
  },
  {
   "cell_type": "code",
   "execution_count": 3,
   "id": "372435a4",
   "metadata": {},
   "outputs": [
    {
     "data": {
      "application/vnd.microsoft.datawrangler.viewer.v0+json": {
       "columns": [
        {
         "name": "index",
         "rawType": "int64",
         "type": "integer"
        },
        {
         "name": "id",
         "rawType": "int64",
         "type": "integer"
        },
        {
         "name": "title",
         "rawType": "object",
         "type": "string"
        },
        {
         "name": "author",
         "rawType": "object",
         "type": "string"
        },
        {
         "name": "price",
         "rawType": "float64",
         "type": "float"
        },
        {
         "name": "category",
         "rawType": "object",
         "type": "string"
        },
        {
         "name": "retrieved_at",
         "rawType": "object",
         "type": "string"
        }
       ],
       "conversionMethod": "pd.DataFrame",
       "ref": "12688299-752f-4cdf-859c-68ed8a3eb708",
       "rows": [
        [
         "0",
         "1",
         "Светот ти припаѓа тебе: Што ти недостасува?",
         "Роберт Колиер",
         "400.0",
         "МОТИВАЦИЈА И САМОПОМОШ",
         "2025-05-15"
        ],
        [
         "1",
         "2",
         "Светот ти припаѓа тебе: Погледни се како го правиш тоа",
         "Роберт Колиер",
         "400.0",
         "МОТИВАЦИЈА И САМОПОМОШ",
         "2025-05-15"
        ],
        [
         "2",
         "3",
         "Инвестирај во себе: Ментални пријатели и непријатели",
         "Орисон Свет Марден",
         "400.0",
         "МОТИВАЦИЈА И САМОПОМОШ",
         "2025-05-15"
        ],
        [
         "3",
         "4",
         "Инвестирај во себе: Биди општествено успешен",
         "Орисон Свет Марден",
         "400.0",
         "МОТИВАЦИЈА И САМОПОМОШ",
         "2025-05-15"
        ],
        [
         "4",
         "5",
         "Граматика на љубовта",
         "Иван Бунин",
         "300.0",
         "РАСКАЗИ",
         "2025-05-15"
        ]
       ],
       "shape": {
        "columns": 6,
        "rows": 5
       }
      },
      "text/html": [
       "<div>\n",
       "<style scoped>\n",
       "    .dataframe tbody tr th:only-of-type {\n",
       "        vertical-align: middle;\n",
       "    }\n",
       "\n",
       "    .dataframe tbody tr th {\n",
       "        vertical-align: top;\n",
       "    }\n",
       "\n",
       "    .dataframe thead th {\n",
       "        text-align: right;\n",
       "    }\n",
       "</style>\n",
       "<table border=\"1\" class=\"dataframe\">\n",
       "  <thead>\n",
       "    <tr style=\"text-align: right;\">\n",
       "      <th></th>\n",
       "      <th>id</th>\n",
       "      <th>title</th>\n",
       "      <th>author</th>\n",
       "      <th>price</th>\n",
       "      <th>category</th>\n",
       "      <th>retrieved_at</th>\n",
       "    </tr>\n",
       "  </thead>\n",
       "  <tbody>\n",
       "    <tr>\n",
       "      <th>0</th>\n",
       "      <td>1</td>\n",
       "      <td>Светот ти припаѓа тебе: Што ти недостасува?</td>\n",
       "      <td>Роберт Колиер</td>\n",
       "      <td>400.0</td>\n",
       "      <td>МОТИВАЦИЈА И САМОПОМОШ</td>\n",
       "      <td>2025-05-15</td>\n",
       "    </tr>\n",
       "    <tr>\n",
       "      <th>1</th>\n",
       "      <td>2</td>\n",
       "      <td>Светот ти припаѓа тебе: Погледни се како го пр...</td>\n",
       "      <td>Роберт Колиер</td>\n",
       "      <td>400.0</td>\n",
       "      <td>МОТИВАЦИЈА И САМОПОМОШ</td>\n",
       "      <td>2025-05-15</td>\n",
       "    </tr>\n",
       "    <tr>\n",
       "      <th>2</th>\n",
       "      <td>3</td>\n",
       "      <td>Инвестирај во себе: Ментални пријатели и непри...</td>\n",
       "      <td>Орисон Свет Марден</td>\n",
       "      <td>400.0</td>\n",
       "      <td>МОТИВАЦИЈА И САМОПОМОШ</td>\n",
       "      <td>2025-05-15</td>\n",
       "    </tr>\n",
       "    <tr>\n",
       "      <th>3</th>\n",
       "      <td>4</td>\n",
       "      <td>Инвестирај во себе: Биди општествено успешен</td>\n",
       "      <td>Орисон Свет Марден</td>\n",
       "      <td>400.0</td>\n",
       "      <td>МОТИВАЦИЈА И САМОПОМОШ</td>\n",
       "      <td>2025-05-15</td>\n",
       "    </tr>\n",
       "    <tr>\n",
       "      <th>4</th>\n",
       "      <td>5</td>\n",
       "      <td>Граматика на љубовта</td>\n",
       "      <td>Иван Бунин</td>\n",
       "      <td>300.0</td>\n",
       "      <td>РАСКАЗИ</td>\n",
       "      <td>2025-05-15</td>\n",
       "    </tr>\n",
       "  </tbody>\n",
       "</table>\n",
       "</div>"
      ],
      "text/plain": [
       "   id                                              title              author  \\\n",
       "0   1        Светот ти припаѓа тебе: Што ти недостасува?       Роберт Колиер   \n",
       "1   2  Светот ти припаѓа тебе: Погледни се како го пр...       Роберт Колиер   \n",
       "2   3  Инвестирај во себе: Ментални пријатели и непри...  Орисон Свет Марден   \n",
       "3   4       Инвестирај во себе: Биди општествено успешен  Орисон Свет Марден   \n",
       "4   5                               Граматика на љубовта          Иван Бунин   \n",
       "\n",
       "   price                category retrieved_at  \n",
       "0  400.0  МОТИВАЦИЈА И САМОПОМОШ   2025-05-15  \n",
       "1  400.0  МОТИВАЦИЈА И САМОПОМОШ   2025-05-15  \n",
       "2  400.0  МОТИВАЦИЈА И САМОПОМОШ   2025-05-15  \n",
       "3  400.0  МОТИВАЦИЈА И САМОПОМОШ   2025-05-15  \n",
       "4  300.0                 РАСКАЗИ   2025-05-15  "
      ]
     },
     "execution_count": 3,
     "metadata": {},
     "output_type": "execute_result"
    }
   ],
   "source": [
    "df.head()"
   ]
  },
  {
   "cell_type": "markdown",
   "id": "6df9b83e",
   "metadata": {},
   "source": [
    "### 1. Drop the redundant 'book_id' column"
   ]
  },
  {
   "cell_type": "code",
   "execution_count": 4,
   "id": "092be676",
   "metadata": {},
   "outputs": [],
   "source": [
    "df = df.drop(columns=['id'])"
   ]
  },
  {
   "cell_type": "markdown",
   "id": "e29fbb55",
   "metadata": {},
   "source": [
    "### 2. Convert the 'Retrieved At' column to datetime format."
   ]
  },
  {
   "cell_type": "code",
   "execution_count": 5,
   "id": "b42105cd",
   "metadata": {},
   "outputs": [],
   "source": [
    "df['retrieved_at'] = pd.to_datetime(df['retrieved_at'])"
   ]
  },
  {
   "cell_type": "code",
   "execution_count": 6,
   "id": "2f0811ce",
   "metadata": {},
   "outputs": [
    {
     "data": {
      "application/vnd.microsoft.datawrangler.viewer.v0+json": {
       "columns": [
        {
         "name": "index",
         "rawType": "int64",
         "type": "integer"
        },
        {
         "name": "title",
         "rawType": "object",
         "type": "string"
        },
        {
         "name": "author",
         "rawType": "object",
         "type": "string"
        },
        {
         "name": "price",
         "rawType": "float64",
         "type": "float"
        },
        {
         "name": "category",
         "rawType": "object",
         "type": "string"
        },
        {
         "name": "retrieved_at",
         "rawType": "datetime64[ns]",
         "type": "datetime"
        }
       ],
       "conversionMethod": "pd.DataFrame",
       "ref": "59db9744-28b8-4b08-bff2-bf1e4a0d9556",
       "rows": [
        [
         "0",
         "Светот ти припаѓа тебе: Што ти недостасува?",
         "Роберт Колиер",
         "400.0",
         "МОТИВАЦИЈА И САМОПОМОШ",
         "2025-05-15 00:00:00"
        ],
        [
         "1",
         "Светот ти припаѓа тебе: Погледни се како го правиш тоа",
         "Роберт Колиер",
         "400.0",
         "МОТИВАЦИЈА И САМОПОМОШ",
         "2025-05-15 00:00:00"
        ],
        [
         "2",
         "Инвестирај во себе: Ментални пријатели и непријатели",
         "Орисон Свет Марден",
         "400.0",
         "МОТИВАЦИЈА И САМОПОМОШ",
         "2025-05-15 00:00:00"
        ],
        [
         "3",
         "Инвестирај во себе: Биди општествено успешен",
         "Орисон Свет Марден",
         "400.0",
         "МОТИВАЦИЈА И САМОПОМОШ",
         "2025-05-15 00:00:00"
        ],
        [
         "4",
         "Граматика на љубовта",
         "Иван Бунин",
         "300.0",
         "РАСКАЗИ",
         "2025-05-15 00:00:00"
        ]
       ],
       "shape": {
        "columns": 5,
        "rows": 5
       }
      },
      "text/html": [
       "<div>\n",
       "<style scoped>\n",
       "    .dataframe tbody tr th:only-of-type {\n",
       "        vertical-align: middle;\n",
       "    }\n",
       "\n",
       "    .dataframe tbody tr th {\n",
       "        vertical-align: top;\n",
       "    }\n",
       "\n",
       "    .dataframe thead th {\n",
       "        text-align: right;\n",
       "    }\n",
       "</style>\n",
       "<table border=\"1\" class=\"dataframe\">\n",
       "  <thead>\n",
       "    <tr style=\"text-align: right;\">\n",
       "      <th></th>\n",
       "      <th>title</th>\n",
       "      <th>author</th>\n",
       "      <th>price</th>\n",
       "      <th>category</th>\n",
       "      <th>retrieved_at</th>\n",
       "    </tr>\n",
       "  </thead>\n",
       "  <tbody>\n",
       "    <tr>\n",
       "      <th>0</th>\n",
       "      <td>Светот ти припаѓа тебе: Што ти недостасува?</td>\n",
       "      <td>Роберт Колиер</td>\n",
       "      <td>400.0</td>\n",
       "      <td>МОТИВАЦИЈА И САМОПОМОШ</td>\n",
       "      <td>2025-05-15</td>\n",
       "    </tr>\n",
       "    <tr>\n",
       "      <th>1</th>\n",
       "      <td>Светот ти припаѓа тебе: Погледни се како го пр...</td>\n",
       "      <td>Роберт Колиер</td>\n",
       "      <td>400.0</td>\n",
       "      <td>МОТИВАЦИЈА И САМОПОМОШ</td>\n",
       "      <td>2025-05-15</td>\n",
       "    </tr>\n",
       "    <tr>\n",
       "      <th>2</th>\n",
       "      <td>Инвестирај во себе: Ментални пријатели и непри...</td>\n",
       "      <td>Орисон Свет Марден</td>\n",
       "      <td>400.0</td>\n",
       "      <td>МОТИВАЦИЈА И САМОПОМОШ</td>\n",
       "      <td>2025-05-15</td>\n",
       "    </tr>\n",
       "    <tr>\n",
       "      <th>3</th>\n",
       "      <td>Инвестирај во себе: Биди општествено успешен</td>\n",
       "      <td>Орисон Свет Марден</td>\n",
       "      <td>400.0</td>\n",
       "      <td>МОТИВАЦИЈА И САМОПОМОШ</td>\n",
       "      <td>2025-05-15</td>\n",
       "    </tr>\n",
       "    <tr>\n",
       "      <th>4</th>\n",
       "      <td>Граматика на љубовта</td>\n",
       "      <td>Иван Бунин</td>\n",
       "      <td>300.0</td>\n",
       "      <td>РАСКАЗИ</td>\n",
       "      <td>2025-05-15</td>\n",
       "    </tr>\n",
       "  </tbody>\n",
       "</table>\n",
       "</div>"
      ],
      "text/plain": [
       "                                               title              author  \\\n",
       "0        Светот ти припаѓа тебе: Што ти недостасува?       Роберт Колиер   \n",
       "1  Светот ти припаѓа тебе: Погледни се како го пр...       Роберт Колиер   \n",
       "2  Инвестирај во себе: Ментални пријатели и непри...  Орисон Свет Марден   \n",
       "3       Инвестирај во себе: Биди општествено успешен  Орисон Свет Марден   \n",
       "4                               Граматика на љубовта          Иван Бунин   \n",
       "\n",
       "   price                category retrieved_at  \n",
       "0  400.0  МОТИВАЦИЈА И САМОПОМОШ   2025-05-15  \n",
       "1  400.0  МОТИВАЦИЈА И САМОПОМОШ   2025-05-15  \n",
       "2  400.0  МОТИВАЦИЈА И САМОПОМОШ   2025-05-15  \n",
       "3  400.0  МОТИВАЦИЈА И САМОПОМОШ   2025-05-15  \n",
       "4  300.0                 РАСКАЗИ   2025-05-15  "
      ]
     },
     "execution_count": 6,
     "metadata": {},
     "output_type": "execute_result"
    }
   ],
   "source": [
    "df.head()"
   ]
  },
  {
   "cell_type": "markdown",
   "id": "cb802238",
   "metadata": {},
   "source": [
    "### 3. Check for Duplicates\n",
    "- There are no duplicate entries"
   ]
  },
  {
   "cell_type": "code",
   "execution_count": 7,
   "id": "3607f0dd",
   "metadata": {},
   "outputs": [
    {
     "name": "stdout",
     "output_type": "stream",
     "text": [
      "Length of duplicates:  188\n"
     ]
    }
   ],
   "source": [
    "duplicates = df[df.duplicated(keep=False)]\n",
    "duplicates = duplicates.sort_values(by=['title', 'author'])\n",
    "print(\"Length of duplicates: \", len(duplicates))"
   ]
  },
  {
   "cell_type": "markdown",
   "id": "642c800a",
   "metadata": {},
   "source": [
    "### 4. Define a function to normalize author names  \n",
    "- Inconsistent Formats:\n",
    "    - Some names are written in the `\"LastName, FirstName\"` format.\n",
    "    - Others are written in `\"FirstName LastName\"` or even as a comma-separated list of multiple authors.\n",
    "\n",
    "- Normalizing names into a consistent format like `\"FirstName LastName\"` or `\"Author1 Author2 Author3\"`."
   ]
  },
  {
   "cell_type": "code",
   "execution_count": 8,
   "id": "61db9afa",
   "metadata": {},
   "outputs": [],
   "source": [
    "def normalize_author(author):\n",
    "    if pd.isna(author):\n",
    "        return author  \n",
    "    if ',' in author:\n",
    "        parts = [part.strip() for part in author.split(',')]\n",
    "        return ' '.join(parts[::-1])\n",
    "    return author "
   ]
  },
  {
   "cell_type": "code",
   "execution_count": 9,
   "id": "5198fd2c",
   "metadata": {},
   "outputs": [],
   "source": [
    "df['author'] = df['author'].apply(normalize_author)"
   ]
  },
  {
   "cell_type": "markdown",
   "id": "0238125b",
   "metadata": {},
   "source": [
    "### 5. Replace '?' in author with null"
   ]
  },
  {
   "cell_type": "code",
   "execution_count": 10,
   "id": "bfdc6f31",
   "metadata": {},
   "outputs": [],
   "source": [
    "df.loc[df['author'].str.match(r'^[\\?=]+$', na=False), 'author'] = np.nan"
   ]
  },
  {
   "cell_type": "code",
   "execution_count": 11,
   "id": "d2409ae4",
   "metadata": {},
   "outputs": [],
   "source": [
    "filtered_df = df[df['author'].str.match(r'^[\\?=]+$', na=False)]"
   ]
  },
  {
   "cell_type": "markdown",
   "id": "be565482",
   "metadata": {},
   "source": [
    "### 6. Replace '/' in author with null"
   ]
  },
  {
   "cell_type": "code",
   "execution_count": 12,
   "id": "8d532e2d",
   "metadata": {},
   "outputs": [],
   "source": [
    "df.loc[df['author'] == '/', 'author'] = np.nan"
   ]
  },
  {
   "cell_type": "code",
   "execution_count": 13,
   "id": "fc4ee9d4",
   "metadata": {},
   "outputs": [],
   "source": [
    "df.to_csv(\"../data/preprocessed_datasets/literatura_books.csv\", encoding='utf-8-sig', index=False)"
   ]
  },
  {
   "cell_type": "markdown",
   "id": "ec194f86",
   "metadata": {},
   "source": [
    "### Preprocessing Output Summary"
   ]
  },
  {
   "cell_type": "markdown",
   "id": "ad6f25ce",
   "metadata": {},
   "source": [
    "Number of Books Scraped"
   ]
  },
  {
   "cell_type": "code",
   "execution_count": 14,
   "id": "cc73bde0",
   "metadata": {},
   "outputs": [
    {
     "data": {
      "text/plain": [
       "234"
      ]
     },
     "execution_count": 14,
     "metadata": {},
     "output_type": "execute_result"
    }
   ],
   "source": [
    "df.shape[0]"
   ]
  },
  {
   "cell_type": "markdown",
   "id": "9e66ae42",
   "metadata": {},
   "source": [
    "Number of categories"
   ]
  },
  {
   "cell_type": "code",
   "execution_count": 15,
   "id": "8297a9c6",
   "metadata": {},
   "outputs": [
    {
     "name": "stdout",
     "output_type": "stream",
     "text": [
      "24\n"
     ]
    }
   ],
   "source": [
    "total_categories = df['category'].nunique()\n",
    "print(total_categories)"
   ]
  }
 ],
 "metadata": {
  "kernelspec": {
   "display_name": ".venv",
   "language": "python",
   "name": "python3"
  },
  "language_info": {
   "codemirror_mode": {
    "name": "ipython",
    "version": 3
   },
   "file_extension": ".py",
   "mimetype": "text/x-python",
   "name": "python",
   "nbconvert_exporter": "python",
   "pygments_lexer": "ipython3",
   "version": "3.13.2"
  }
 },
 "nbformat": 4,
 "nbformat_minor": 5
}
