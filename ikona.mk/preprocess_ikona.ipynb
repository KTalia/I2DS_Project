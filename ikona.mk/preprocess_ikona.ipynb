{
 "cells": [
  {
   "cell_type": "markdown",
   "id": "d2c3dd48",
   "metadata": {},
   "source": [
    "# 📚 Ikona.mk - Book Dataset Cleaning & Preprocessing"
   ]
  },
  {
   "cell_type": "code",
   "execution_count": 41,
   "id": "6eb40bf6",
   "metadata": {},
   "outputs": [],
   "source": [
    "import pandas as pd\n",
    "import numpy as np"
   ]
  },
  {
   "cell_type": "code",
   "execution_count": 42,
   "id": "33ba5ca5",
   "metadata": {},
   "outputs": [],
   "source": [
    "df= pd.read_csv('../data/original_datasets/ikona_books.csv', encoding='utf-8-sig') "
   ]
  },
  {
   "cell_type": "code",
   "execution_count": 43,
   "id": "afb8e267",
   "metadata": {},
   "outputs": [
    {
     "data": {
      "application/vnd.microsoft.datawrangler.viewer.v0+json": {
       "columns": [
        {
         "name": "index",
         "rawType": "int64",
         "type": "integer"
        },
        {
         "name": "id",
         "rawType": "int64",
         "type": "integer"
        },
        {
         "name": "title",
         "rawType": "object",
         "type": "string"
        },
        {
         "name": "author",
         "rawType": "object",
         "type": "string"
        },
        {
         "name": "real_price",
         "rawType": "object",
         "type": "string"
        },
        {
         "name": "sale_price",
         "rawType": "object",
         "type": "unknown"
        },
        {
         "name": "sale",
         "rawType": "int64",
         "type": "integer"
        },
        {
         "name": "category",
         "rawType": "object",
         "type": "string"
        },
        {
         "name": "retrieved_at",
         "rawType": "object",
         "type": "string"
        }
       ],
       "conversionMethod": "pd.DataFrame",
       "ref": "052f1087-f772-469c-830d-86252c6c630b",
       "rows": [
        [
         "0",
         "1",
         "АУТИСТОТ И ГУЛАБОТ ПИСМОНОСЕЦ",
         "Родан Ал Галиди",
         "449 ",
         "399 ден",
         "1",
         "Романса",
         "2025-05-17"
        ],
        [
         "1",
         "2",
         "БЕЗНАДЕЖНО",
         "Колин Хувер",
         "450 ден",
         null,
         "0",
         "Романса",
         "2025-05-17"
        ],
        [
         "2",
         "3",
         "ВИРТУОЗ",
         "Маргрит де Мор",
         "449 ден",
         null,
         "0",
         "Романса",
         "2025-05-17"
        ],
        [
         "3",
         "4",
         "ГОСПОЃА АТАТУРК Првата дама на модерна Турција",
         "Ипек Чалишлар",
         "799 ден",
         null,
         "0",
         "Романса",
         "2025-05-17"
        ],
        [
         "4",
         "5",
         "ДАВЕНИК",
         "Маргрит де Мор",
         "559 ден",
         null,
         "0",
         "Романса",
         "2025-05-17"
        ]
       ],
       "shape": {
        "columns": 8,
        "rows": 5
       }
      },
      "text/html": [
       "<div>\n",
       "<style scoped>\n",
       "    .dataframe tbody tr th:only-of-type {\n",
       "        vertical-align: middle;\n",
       "    }\n",
       "\n",
       "    .dataframe tbody tr th {\n",
       "        vertical-align: top;\n",
       "    }\n",
       "\n",
       "    .dataframe thead th {\n",
       "        text-align: right;\n",
       "    }\n",
       "</style>\n",
       "<table border=\"1\" class=\"dataframe\">\n",
       "  <thead>\n",
       "    <tr style=\"text-align: right;\">\n",
       "      <th></th>\n",
       "      <th>id</th>\n",
       "      <th>title</th>\n",
       "      <th>author</th>\n",
       "      <th>real_price</th>\n",
       "      <th>sale_price</th>\n",
       "      <th>sale</th>\n",
       "      <th>category</th>\n",
       "      <th>retrieved_at</th>\n",
       "    </tr>\n",
       "  </thead>\n",
       "  <tbody>\n",
       "    <tr>\n",
       "      <th>0</th>\n",
       "      <td>1</td>\n",
       "      <td>АУТИСТОТ И ГУЛАБОТ ПИСМОНОСЕЦ</td>\n",
       "      <td>Родан Ал Галиди</td>\n",
       "      <td>449</td>\n",
       "      <td>399 ден</td>\n",
       "      <td>1</td>\n",
       "      <td>Романса</td>\n",
       "      <td>2025-05-17</td>\n",
       "    </tr>\n",
       "    <tr>\n",
       "      <th>1</th>\n",
       "      <td>2</td>\n",
       "      <td>БЕЗНАДЕЖНО</td>\n",
       "      <td>Колин Хувер</td>\n",
       "      <td>450 ден</td>\n",
       "      <td>NaN</td>\n",
       "      <td>0</td>\n",
       "      <td>Романса</td>\n",
       "      <td>2025-05-17</td>\n",
       "    </tr>\n",
       "    <tr>\n",
       "      <th>2</th>\n",
       "      <td>3</td>\n",
       "      <td>ВИРТУОЗ</td>\n",
       "      <td>Маргрит де Мор</td>\n",
       "      <td>449 ден</td>\n",
       "      <td>NaN</td>\n",
       "      <td>0</td>\n",
       "      <td>Романса</td>\n",
       "      <td>2025-05-17</td>\n",
       "    </tr>\n",
       "    <tr>\n",
       "      <th>3</th>\n",
       "      <td>4</td>\n",
       "      <td>ГОСПОЃА АТАТУРК Првата дама на модерна Турција</td>\n",
       "      <td>Ипек Чалишлар</td>\n",
       "      <td>799 ден</td>\n",
       "      <td>NaN</td>\n",
       "      <td>0</td>\n",
       "      <td>Романса</td>\n",
       "      <td>2025-05-17</td>\n",
       "    </tr>\n",
       "    <tr>\n",
       "      <th>4</th>\n",
       "      <td>5</td>\n",
       "      <td>ДАВЕНИК</td>\n",
       "      <td>Маргрит де Мор</td>\n",
       "      <td>559 ден</td>\n",
       "      <td>NaN</td>\n",
       "      <td>0</td>\n",
       "      <td>Романса</td>\n",
       "      <td>2025-05-17</td>\n",
       "    </tr>\n",
       "  </tbody>\n",
       "</table>\n",
       "</div>"
      ],
      "text/plain": [
       "   id                                           title           author  \\\n",
       "0   1                   АУТИСТОТ И ГУЛАБОТ ПИСМОНОСЕЦ  Родан Ал Галиди   \n",
       "1   2                                      БЕЗНАДЕЖНО      Колин Хувер   \n",
       "2   3                                         ВИРТУОЗ   Маргрит де Мор   \n",
       "3   4  ГОСПОЃА АТАТУРК Првата дама на модерна Турција    Ипек Чалишлар   \n",
       "4   5                                         ДАВЕНИК   Маргрит де Мор   \n",
       "\n",
       "  real_price sale_price  sale category retrieved_at  \n",
       "0       449     399 ден     1  Романса   2025-05-17  \n",
       "1    450 ден        NaN     0  Романса   2025-05-17  \n",
       "2    449 ден        NaN     0  Романса   2025-05-17  \n",
       "3    799 ден        NaN     0  Романса   2025-05-17  \n",
       "4    559 ден        NaN     0  Романса   2025-05-17  "
      ]
     },
     "execution_count": 43,
     "metadata": {},
     "output_type": "execute_result"
    }
   ],
   "source": [
    "df.head()"
   ]
  },
  {
   "cell_type": "code",
   "execution_count": 44,
   "id": "45da5d3d",
   "metadata": {},
   "outputs": [],
   "source": [
    "df = df.drop('id', axis=1)"
   ]
  },
  {
   "cell_type": "markdown",
   "id": "e589a8c7",
   "metadata": {},
   "source": [
    "### 1. Converting the 'Sale' Column to Boolean & rename it"
   ]
  },
  {
   "cell_type": "code",
   "execution_count": 45,
   "id": "dd605938",
   "metadata": {},
   "outputs": [],
   "source": [
    "df[\"sale\"] = df[\"sale\"].astype(bool)"
   ]
  },
  {
   "cell_type": "code",
   "execution_count": 46,
   "id": "cad4cf86",
   "metadata": {},
   "outputs": [],
   "source": [
    "df = df.rename(columns={\"sale\": \"IsOnSale\"})"
   ]
  },
  {
   "cell_type": "code",
   "execution_count": 47,
   "id": "4f55fe45",
   "metadata": {},
   "outputs": [
    {
     "data": {
      "application/vnd.microsoft.datawrangler.viewer.v0+json": {
       "columns": [
        {
         "name": "index",
         "rawType": "int64",
         "type": "integer"
        },
        {
         "name": "title",
         "rawType": "object",
         "type": "string"
        },
        {
         "name": "author",
         "rawType": "object",
         "type": "string"
        },
        {
         "name": "real_price",
         "rawType": "object",
         "type": "string"
        },
        {
         "name": "sale_price",
         "rawType": "object",
         "type": "unknown"
        },
        {
         "name": "IsOnSale",
         "rawType": "bool",
         "type": "boolean"
        },
        {
         "name": "category",
         "rawType": "object",
         "type": "string"
        },
        {
         "name": "retrieved_at",
         "rawType": "object",
         "type": "string"
        }
       ],
       "conversionMethod": "pd.DataFrame",
       "ref": "17f1a867-b1ea-4227-88fe-53753051a80f",
       "rows": [
        [
         "0",
         "АУТИСТОТ И ГУЛАБОТ ПИСМОНОСЕЦ",
         "Родан Ал Галиди",
         "449 ",
         "399 ден",
         "True",
         "Романса",
         "2025-05-17"
        ],
        [
         "1",
         "БЕЗНАДЕЖНО",
         "Колин Хувер",
         "450 ден",
         null,
         "False",
         "Романса",
         "2025-05-17"
        ],
        [
         "2",
         "ВИРТУОЗ",
         "Маргрит де Мор",
         "449 ден",
         null,
         "False",
         "Романса",
         "2025-05-17"
        ],
        [
         "3",
         "ГОСПОЃА АТАТУРК Првата дама на модерна Турција",
         "Ипек Чалишлар",
         "799 ден",
         null,
         "False",
         "Романса",
         "2025-05-17"
        ],
        [
         "4",
         "ДАВЕНИК",
         "Маргрит де Мор",
         "559 ден",
         null,
         "False",
         "Романса",
         "2025-05-17"
        ]
       ],
       "shape": {
        "columns": 7,
        "rows": 5
       }
      },
      "text/html": [
       "<div>\n",
       "<style scoped>\n",
       "    .dataframe tbody tr th:only-of-type {\n",
       "        vertical-align: middle;\n",
       "    }\n",
       "\n",
       "    .dataframe tbody tr th {\n",
       "        vertical-align: top;\n",
       "    }\n",
       "\n",
       "    .dataframe thead th {\n",
       "        text-align: right;\n",
       "    }\n",
       "</style>\n",
       "<table border=\"1\" class=\"dataframe\">\n",
       "  <thead>\n",
       "    <tr style=\"text-align: right;\">\n",
       "      <th></th>\n",
       "      <th>title</th>\n",
       "      <th>author</th>\n",
       "      <th>real_price</th>\n",
       "      <th>sale_price</th>\n",
       "      <th>IsOnSale</th>\n",
       "      <th>category</th>\n",
       "      <th>retrieved_at</th>\n",
       "    </tr>\n",
       "  </thead>\n",
       "  <tbody>\n",
       "    <tr>\n",
       "      <th>0</th>\n",
       "      <td>АУТИСТОТ И ГУЛАБОТ ПИСМОНОСЕЦ</td>\n",
       "      <td>Родан Ал Галиди</td>\n",
       "      <td>449</td>\n",
       "      <td>399 ден</td>\n",
       "      <td>True</td>\n",
       "      <td>Романса</td>\n",
       "      <td>2025-05-17</td>\n",
       "    </tr>\n",
       "    <tr>\n",
       "      <th>1</th>\n",
       "      <td>БЕЗНАДЕЖНО</td>\n",
       "      <td>Колин Хувер</td>\n",
       "      <td>450 ден</td>\n",
       "      <td>NaN</td>\n",
       "      <td>False</td>\n",
       "      <td>Романса</td>\n",
       "      <td>2025-05-17</td>\n",
       "    </tr>\n",
       "    <tr>\n",
       "      <th>2</th>\n",
       "      <td>ВИРТУОЗ</td>\n",
       "      <td>Маргрит де Мор</td>\n",
       "      <td>449 ден</td>\n",
       "      <td>NaN</td>\n",
       "      <td>False</td>\n",
       "      <td>Романса</td>\n",
       "      <td>2025-05-17</td>\n",
       "    </tr>\n",
       "    <tr>\n",
       "      <th>3</th>\n",
       "      <td>ГОСПОЃА АТАТУРК Првата дама на модерна Турција</td>\n",
       "      <td>Ипек Чалишлар</td>\n",
       "      <td>799 ден</td>\n",
       "      <td>NaN</td>\n",
       "      <td>False</td>\n",
       "      <td>Романса</td>\n",
       "      <td>2025-05-17</td>\n",
       "    </tr>\n",
       "    <tr>\n",
       "      <th>4</th>\n",
       "      <td>ДАВЕНИК</td>\n",
       "      <td>Маргрит де Мор</td>\n",
       "      <td>559 ден</td>\n",
       "      <td>NaN</td>\n",
       "      <td>False</td>\n",
       "      <td>Романса</td>\n",
       "      <td>2025-05-17</td>\n",
       "    </tr>\n",
       "  </tbody>\n",
       "</table>\n",
       "</div>"
      ],
      "text/plain": [
       "                                            title           author real_price  \\\n",
       "0                   АУТИСТОТ И ГУЛАБОТ ПИСМОНОСЕЦ  Родан Ал Галиди       449    \n",
       "1                                      БЕЗНАДЕЖНО      Колин Хувер    450 ден   \n",
       "2                                         ВИРТУОЗ   Маргрит де Мор    449 ден   \n",
       "3  ГОСПОЃА АТАТУРК Првата дама на модерна Турција    Ипек Чалишлар    799 ден   \n",
       "4                                         ДАВЕНИК   Маргрит де Мор    559 ден   \n",
       "\n",
       "  sale_price  IsOnSale category retrieved_at  \n",
       "0    399 ден      True  Романса   2025-05-17  \n",
       "1        NaN     False  Романса   2025-05-17  \n",
       "2        NaN     False  Романса   2025-05-17  \n",
       "3        NaN     False  Романса   2025-05-17  \n",
       "4        NaN     False  Романса   2025-05-17  "
      ]
     },
     "execution_count": 47,
     "metadata": {},
     "output_type": "execute_result"
    }
   ],
   "source": [
    "df.head()"
   ]
  },
  {
   "cell_type": "markdown",
   "id": "7589f60c",
   "metadata": {},
   "source": [
    "### 2. Convert the 'Retrieved At' column to datetime format."
   ]
  },
  {
   "cell_type": "code",
   "execution_count": 48,
   "id": "f47bce81",
   "metadata": {},
   "outputs": [],
   "source": [
    "df['retrieved_at'] = pd.to_datetime(df['retrieved_at'])"
   ]
  },
  {
   "cell_type": "markdown",
   "id": "8154d42e",
   "metadata": {},
   "source": [
    "### 3. Prices\n",
    "- Before converting to numeric,remove \"ден\", remove commas and strip whitespace"
   ]
  },
  {
   "cell_type": "code",
   "execution_count": 49,
   "id": "4c433f48",
   "metadata": {},
   "outputs": [],
   "source": [
    "df['real_price'] = df['real_price'].str.replace(\"ден\", \"\", regex=False).str.replace(\",\", \"\").str.strip()\n",
    "df['sale_price'] = df['sale_price'].str.replace(\"ден\", \"\", regex=False).str.replace(\",\", \"\").str.strip()\n",
    "\n",
    "df[\"real_price\"] = pd.to_numeric(df[\"real_price\"], errors=\"coerce\")\n",
    "df[\"sale_price\"] = pd.to_numeric(df[\"sale_price\"], errors=\"coerce\")"
   ]
  },
  {
   "cell_type": "markdown",
   "id": "fc7be92a",
   "metadata": {},
   "source": [
    "### 4. Remove duplicates"
   ]
  },
  {
   "cell_type": "code",
   "execution_count": 50,
   "id": "2393746b",
   "metadata": {},
   "outputs": [],
   "source": [
    "df = df.dropna(subset=['real_price'])"
   ]
  },
  {
   "cell_type": "code",
   "execution_count": 51,
   "id": "bc2069a9",
   "metadata": {},
   "outputs": [
    {
     "name": "stdout",
     "output_type": "stream",
     "text": [
      "Length of duplicates:  0\n"
     ]
    }
   ],
   "source": [
    "duplicates = df[df.duplicated(keep=False)]\n",
    "duplicates = duplicates.sort_values(by=['title', 'author'])\n",
    "print(\"Length of duplicates: \", len(duplicates))"
   ]
  },
  {
   "cell_type": "markdown",
   "id": "7483d9cf",
   "metadata": {},
   "source": [
    "### 5. Replace \"-\" with spaces only in the 'Author' column, e.g. \"Maria Herbert-Liew\" → \"Maria Herbert Liew\""
   ]
  },
  {
   "cell_type": "code",
   "execution_count": 52,
   "id": "fc681f8d",
   "metadata": {},
   "outputs": [],
   "source": [
    "df['author'] = df['author'].str.replace('-', ' ', regex=False)"
   ]
  },
  {
   "cell_type": "markdown",
   "id": "84f2548c",
   "metadata": {},
   "source": [
    "### 6. Create Discount Percentage Column(%):\n",
    "- If IsOnSale is True, calculate discount info(discount percentage)"
   ]
  },
  {
   "cell_type": "code",
   "execution_count": 53,
   "id": "faf41a23",
   "metadata": {},
   "outputs": [],
   "source": [
    "df['Discount (%)'] = 0.0\n",
    "\n",
    "mask = (df['IsOnSale'] == True) & (df['real_price'] > 0)\n",
    "df.loc[mask, 'Discount (%)'] = (\n",
    "    ((df.loc[mask, 'real_price'] - df.loc[mask, 'sale_price']) / df.loc[mask, 'real_price']) * 100\n",
    ").round().astype(int)\n"
   ]
  },
  {
   "cell_type": "code",
   "execution_count": 54,
   "id": "fba85937",
   "metadata": {},
   "outputs": [
    {
     "data": {
      "application/vnd.microsoft.datawrangler.viewer.v0+json": {
       "columns": [
        {
         "name": "index",
         "rawType": "int64",
         "type": "integer"
        },
        {
         "name": "title",
         "rawType": "object",
         "type": "string"
        },
        {
         "name": "author",
         "rawType": "object",
         "type": "string"
        },
        {
         "name": "real_price",
         "rawType": "float64",
         "type": "float"
        },
        {
         "name": "sale_price",
         "rawType": "float64",
         "type": "float"
        },
        {
         "name": "IsOnSale",
         "rawType": "bool",
         "type": "boolean"
        },
        {
         "name": "category",
         "rawType": "object",
         "type": "string"
        },
        {
         "name": "retrieved_at",
         "rawType": "datetime64[ns]",
         "type": "datetime"
        },
        {
         "name": "Discount (%)",
         "rawType": "float64",
         "type": "float"
        }
       ],
       "conversionMethod": "pd.DataFrame",
       "ref": "87f69852-0a72-4c4a-badf-915369a67aa8",
       "rows": [
        [
         "0",
         "АУТИСТОТ И ГУЛАБОТ ПИСМОНОСЕЦ",
         "Родан Ал Галиди",
         "449.0",
         "399.0",
         "True",
         "Романса",
         "2025-05-17 00:00:00",
         "11.0"
        ],
        [
         "1",
         "БЕЗНАДЕЖНО",
         "Колин Хувер",
         "450.0",
         null,
         "False",
         "Романса",
         "2025-05-17 00:00:00",
         "0.0"
        ],
        [
         "2",
         "ВИРТУОЗ",
         "Маргрит де Мор",
         "449.0",
         null,
         "False",
         "Романса",
         "2025-05-17 00:00:00",
         "0.0"
        ],
        [
         "3",
         "ГОСПОЃА АТАТУРК Првата дама на модерна Турција",
         "Ипек Чалишлар",
         "799.0",
         null,
         "False",
         "Романса",
         "2025-05-17 00:00:00",
         "0.0"
        ],
        [
         "4",
         "ДАВЕНИК",
         "Маргрит де Мор",
         "559.0",
         null,
         "False",
         "Романса",
         "2025-05-17 00:00:00",
         "0.0"
        ]
       ],
       "shape": {
        "columns": 8,
        "rows": 5
       }
      },
      "text/html": [
       "<div>\n",
       "<style scoped>\n",
       "    .dataframe tbody tr th:only-of-type {\n",
       "        vertical-align: middle;\n",
       "    }\n",
       "\n",
       "    .dataframe tbody tr th {\n",
       "        vertical-align: top;\n",
       "    }\n",
       "\n",
       "    .dataframe thead th {\n",
       "        text-align: right;\n",
       "    }\n",
       "</style>\n",
       "<table border=\"1\" class=\"dataframe\">\n",
       "  <thead>\n",
       "    <tr style=\"text-align: right;\">\n",
       "      <th></th>\n",
       "      <th>title</th>\n",
       "      <th>author</th>\n",
       "      <th>real_price</th>\n",
       "      <th>sale_price</th>\n",
       "      <th>IsOnSale</th>\n",
       "      <th>category</th>\n",
       "      <th>retrieved_at</th>\n",
       "      <th>Discount (%)</th>\n",
       "    </tr>\n",
       "  </thead>\n",
       "  <tbody>\n",
       "    <tr>\n",
       "      <th>0</th>\n",
       "      <td>АУТИСТОТ И ГУЛАБОТ ПИСМОНОСЕЦ</td>\n",
       "      <td>Родан Ал Галиди</td>\n",
       "      <td>449.0</td>\n",
       "      <td>399.0</td>\n",
       "      <td>True</td>\n",
       "      <td>Романса</td>\n",
       "      <td>2025-05-17</td>\n",
       "      <td>11.0</td>\n",
       "    </tr>\n",
       "    <tr>\n",
       "      <th>1</th>\n",
       "      <td>БЕЗНАДЕЖНО</td>\n",
       "      <td>Колин Хувер</td>\n",
       "      <td>450.0</td>\n",
       "      <td>NaN</td>\n",
       "      <td>False</td>\n",
       "      <td>Романса</td>\n",
       "      <td>2025-05-17</td>\n",
       "      <td>0.0</td>\n",
       "    </tr>\n",
       "    <tr>\n",
       "      <th>2</th>\n",
       "      <td>ВИРТУОЗ</td>\n",
       "      <td>Маргрит де Мор</td>\n",
       "      <td>449.0</td>\n",
       "      <td>NaN</td>\n",
       "      <td>False</td>\n",
       "      <td>Романса</td>\n",
       "      <td>2025-05-17</td>\n",
       "      <td>0.0</td>\n",
       "    </tr>\n",
       "    <tr>\n",
       "      <th>3</th>\n",
       "      <td>ГОСПОЃА АТАТУРК Првата дама на модерна Турција</td>\n",
       "      <td>Ипек Чалишлар</td>\n",
       "      <td>799.0</td>\n",
       "      <td>NaN</td>\n",
       "      <td>False</td>\n",
       "      <td>Романса</td>\n",
       "      <td>2025-05-17</td>\n",
       "      <td>0.0</td>\n",
       "    </tr>\n",
       "    <tr>\n",
       "      <th>4</th>\n",
       "      <td>ДАВЕНИК</td>\n",
       "      <td>Маргрит де Мор</td>\n",
       "      <td>559.0</td>\n",
       "      <td>NaN</td>\n",
       "      <td>False</td>\n",
       "      <td>Романса</td>\n",
       "      <td>2025-05-17</td>\n",
       "      <td>0.0</td>\n",
       "    </tr>\n",
       "  </tbody>\n",
       "</table>\n",
       "</div>"
      ],
      "text/plain": [
       "                                            title           author  \\\n",
       "0                   АУТИСТОТ И ГУЛАБОТ ПИСМОНОСЕЦ  Родан Ал Галиди   \n",
       "1                                      БЕЗНАДЕЖНО      Колин Хувер   \n",
       "2                                         ВИРТУОЗ   Маргрит де Мор   \n",
       "3  ГОСПОЃА АТАТУРК Првата дама на модерна Турција    Ипек Чалишлар   \n",
       "4                                         ДАВЕНИК   Маргрит де Мор   \n",
       "\n",
       "   real_price  sale_price  IsOnSale category retrieved_at  Discount (%)  \n",
       "0       449.0       399.0      True  Романса   2025-05-17          11.0  \n",
       "1       450.0         NaN     False  Романса   2025-05-17           0.0  \n",
       "2       449.0         NaN     False  Романса   2025-05-17           0.0  \n",
       "3       799.0         NaN     False  Романса   2025-05-17           0.0  \n",
       "4       559.0         NaN     False  Романса   2025-05-17           0.0  "
      ]
     },
     "execution_count": 54,
     "metadata": {},
     "output_type": "execute_result"
    }
   ],
   "source": [
    "df.head()"
   ]
  },
  {
   "cell_type": "code",
   "execution_count": 55,
   "id": "c6a3d4a1",
   "metadata": {},
   "outputs": [],
   "source": [
    "df.loc[df['sale_price'].isna(), 'sale_price'] = 0"
   ]
  },
  {
   "cell_type": "markdown",
   "id": "1e06393a",
   "metadata": {},
   "source": [
    "### 7. Missing values"
   ]
  },
  {
   "cell_type": "code",
   "execution_count": 56,
   "id": "e2560480",
   "metadata": {},
   "outputs": [
    {
     "data": {
      "application/vnd.microsoft.datawrangler.viewer.v0+json": {
       "columns": [
        {
         "name": "index",
         "rawType": "int64",
         "type": "integer"
        },
        {
         "name": "column",
         "rawType": "object",
         "type": "string"
        },
        {
         "name": "percent missing",
         "rawType": "float64",
         "type": "float"
        }
       ],
       "conversionMethod": "pd.DataFrame",
       "ref": "305bcbed-4ea0-4d18-b87a-ce94f2be6d63",
       "rows": [
        [
         "0",
         "title",
         "0.0"
        ],
        [
         "1",
         "author",
         "13.82"
        ],
        [
         "2",
         "real_price",
         "0.0"
        ],
        [
         "3",
         "sale_price",
         "0.0"
        ],
        [
         "4",
         "IsOnSale",
         "0.0"
        ],
        [
         "5",
         "category",
         "0.0"
        ],
        [
         "6",
         "retrieved_at",
         "0.0"
        ],
        [
         "7",
         "Discount (%)",
         "0.0"
        ]
       ],
       "shape": {
        "columns": 2,
        "rows": 8
       }
      },
      "text/html": [
       "<div>\n",
       "<style scoped>\n",
       "    .dataframe tbody tr th:only-of-type {\n",
       "        vertical-align: middle;\n",
       "    }\n",
       "\n",
       "    .dataframe tbody tr th {\n",
       "        vertical-align: top;\n",
       "    }\n",
       "\n",
       "    .dataframe thead th {\n",
       "        text-align: right;\n",
       "    }\n",
       "</style>\n",
       "<table border=\"1\" class=\"dataframe\">\n",
       "  <thead>\n",
       "    <tr style=\"text-align: right;\">\n",
       "      <th></th>\n",
       "      <th>column</th>\n",
       "      <th>percent missing</th>\n",
       "    </tr>\n",
       "  </thead>\n",
       "  <tbody>\n",
       "    <tr>\n",
       "      <th>0</th>\n",
       "      <td>title</td>\n",
       "      <td>0.00</td>\n",
       "    </tr>\n",
       "    <tr>\n",
       "      <th>1</th>\n",
       "      <td>author</td>\n",
       "      <td>13.82</td>\n",
       "    </tr>\n",
       "    <tr>\n",
       "      <th>2</th>\n",
       "      <td>real_price</td>\n",
       "      <td>0.00</td>\n",
       "    </tr>\n",
       "    <tr>\n",
       "      <th>3</th>\n",
       "      <td>sale_price</td>\n",
       "      <td>0.00</td>\n",
       "    </tr>\n",
       "    <tr>\n",
       "      <th>4</th>\n",
       "      <td>IsOnSale</td>\n",
       "      <td>0.00</td>\n",
       "    </tr>\n",
       "    <tr>\n",
       "      <th>5</th>\n",
       "      <td>category</td>\n",
       "      <td>0.00</td>\n",
       "    </tr>\n",
       "    <tr>\n",
       "      <th>6</th>\n",
       "      <td>retrieved_at</td>\n",
       "      <td>0.00</td>\n",
       "    </tr>\n",
       "    <tr>\n",
       "      <th>7</th>\n",
       "      <td>Discount (%)</td>\n",
       "      <td>0.00</td>\n",
       "    </tr>\n",
       "  </tbody>\n",
       "</table>\n",
       "</div>"
      ],
      "text/plain": [
       "         column  percent missing\n",
       "0         title             0.00\n",
       "1        author            13.82\n",
       "2    real_price             0.00\n",
       "3    sale_price             0.00\n",
       "4      IsOnSale             0.00\n",
       "5      category             0.00\n",
       "6  retrieved_at             0.00\n",
       "7  Discount (%)             0.00"
      ]
     },
     "execution_count": 56,
     "metadata": {},
     "output_type": "execute_result"
    }
   ],
   "source": [
    "missing_percent = df.isnull().sum() / len(df) * 100\n",
    "missing_percent = missing_percent.round(2)\n",
    "missing_percent = missing_percent.reset_index().rename(columns={\"index\": \"column\", 0: \"percent missing\"})\n",
    "missing_percent"
   ]
  },
  {
   "cell_type": "code",
   "execution_count": 57,
   "id": "ce0d25ec",
   "metadata": {},
   "outputs": [
    {
     "name": "stdout",
     "output_type": "stream",
     "text": [
      "\n",
      "'Author' column:\n",
      "Non-missing values: 948\n",
      "Missing values: 152\n",
      "Percentage missing: 13.82%\n"
     ]
    }
   ],
   "source": [
    "total_rows = len(df)\n",
    "missing_authors = df['author'].isna().sum()\n",
    "non_missing_authors = total_rows - missing_authors\n",
    "\n",
    "print(f\"\\n'Author' column:\")\n",
    "print(f\"Non-missing values: {non_missing_authors}\")\n",
    "print(f\"Missing values: {missing_authors}\")\n",
    "print(f\"Percentage missing: {round((missing_authors / total_rows) * 100, 2)}%\")\n"
   ]
  },
  {
   "cell_type": "code",
   "execution_count": 58,
   "id": "f382e4e6",
   "metadata": {},
   "outputs": [],
   "source": [
    "df.to_csv(\"../data/preprocessed_datasets/ikona_books.csv\", encoding='utf-8-sig', index=False)"
   ]
  },
  {
   "cell_type": "markdown",
   "id": "971b107a",
   "metadata": {},
   "source": [
    "### Preprocessing Output Summary"
   ]
  },
  {
   "cell_type": "markdown",
   "id": "45403789",
   "metadata": {},
   "source": [
    "Number of Books Scraped"
   ]
  },
  {
   "cell_type": "code",
   "execution_count": 59,
   "id": "c8332c25",
   "metadata": {},
   "outputs": [
    {
     "data": {
      "text/plain": [
       "1100"
      ]
     },
     "execution_count": 59,
     "metadata": {},
     "output_type": "execute_result"
    }
   ],
   "source": [
    "df.shape[0]"
   ]
  },
  {
   "cell_type": "markdown",
   "id": "c0df96e7",
   "metadata": {},
   "source": [
    "Number of categories"
   ]
  },
  {
   "cell_type": "code",
   "execution_count": 60,
   "id": "79768f16",
   "metadata": {},
   "outputs": [
    {
     "name": "stdout",
     "output_type": "stream",
     "text": [
      "13\n"
     ]
    }
   ],
   "source": [
    "total_categories = df['category'].nunique()\n",
    "print(total_categories)"
   ]
  },
  {
   "cell_type": "markdown",
   "id": "7f1e3582",
   "metadata": {},
   "source": [
    "Number of Discounted Books"
   ]
  },
  {
   "cell_type": "code",
   "execution_count": 61,
   "id": "b43899cf",
   "metadata": {},
   "outputs": [
    {
     "name": "stdout",
     "output_type": "stream",
     "text": [
      "32\n"
     ]
    }
   ],
   "source": [
    "num_distinct_on_sale = df[df['IsOnSale'] == True]['title'].nunique()\n",
    "print(num_distinct_on_sale)"
   ]
  },
  {
   "cell_type": "code",
   "execution_count": 62,
   "id": "ca2dd423",
   "metadata": {},
   "outputs": [
    {
     "data": {
      "application/vnd.microsoft.datawrangler.viewer.v0+json": {
       "columns": [
        {
         "name": "index",
         "rawType": "int64",
         "type": "integer"
        },
        {
         "name": "title",
         "rawType": "object",
         "type": "string"
        },
        {
         "name": "author",
         "rawType": "object",
         "type": "string"
        },
        {
         "name": "real_price",
         "rawType": "float64",
         "type": "float"
        },
        {
         "name": "sale_price",
         "rawType": "float64",
         "type": "float"
        },
        {
         "name": "IsOnSale",
         "rawType": "bool",
         "type": "boolean"
        },
        {
         "name": "category",
         "rawType": "object",
         "type": "string"
        },
        {
         "name": "retrieved_at",
         "rawType": "datetime64[ns]",
         "type": "datetime"
        },
        {
         "name": "Discount (%)",
         "rawType": "float64",
         "type": "float"
        }
       ],
       "conversionMethod": "pd.DataFrame",
       "ref": "95b385cb-84c0-49cf-9521-27a765c42536",
       "rows": [
        [
         "0",
         "АУТИСТОТ И ГУЛАБОТ ПИСМОНОСЕЦ",
         "Родан Ал Галиди",
         "449.0",
         "399.0",
         "True",
         "Романса",
         "2025-05-17 00:00:00",
         "11.0"
        ],
        [
         "1",
         "БЕЗНАДЕЖНО",
         "Колин Хувер",
         "450.0",
         "0.0",
         "False",
         "Романса",
         "2025-05-17 00:00:00",
         "0.0"
        ],
        [
         "2",
         "ВИРТУОЗ",
         "Маргрит де Мор",
         "449.0",
         "0.0",
         "False",
         "Романса",
         "2025-05-17 00:00:00",
         "0.0"
        ],
        [
         "3",
         "ГОСПОЃА АТАТУРК Првата дама на модерна Турција",
         "Ипек Чалишлар",
         "799.0",
         "0.0",
         "False",
         "Романса",
         "2025-05-17 00:00:00",
         "0.0"
        ],
        [
         "4",
         "ДАВЕНИК",
         "Маргрит де Мор",
         "559.0",
         "0.0",
         "False",
         "Романса",
         "2025-05-17 00:00:00",
         "0.0"
        ]
       ],
       "shape": {
        "columns": 8,
        "rows": 5
       }
      },
      "text/html": [
       "<div>\n",
       "<style scoped>\n",
       "    .dataframe tbody tr th:only-of-type {\n",
       "        vertical-align: middle;\n",
       "    }\n",
       "\n",
       "    .dataframe tbody tr th {\n",
       "        vertical-align: top;\n",
       "    }\n",
       "\n",
       "    .dataframe thead th {\n",
       "        text-align: right;\n",
       "    }\n",
       "</style>\n",
       "<table border=\"1\" class=\"dataframe\">\n",
       "  <thead>\n",
       "    <tr style=\"text-align: right;\">\n",
       "      <th></th>\n",
       "      <th>title</th>\n",
       "      <th>author</th>\n",
       "      <th>real_price</th>\n",
       "      <th>sale_price</th>\n",
       "      <th>IsOnSale</th>\n",
       "      <th>category</th>\n",
       "      <th>retrieved_at</th>\n",
       "      <th>Discount (%)</th>\n",
       "    </tr>\n",
       "  </thead>\n",
       "  <tbody>\n",
       "    <tr>\n",
       "      <th>0</th>\n",
       "      <td>АУТИСТОТ И ГУЛАБОТ ПИСМОНОСЕЦ</td>\n",
       "      <td>Родан Ал Галиди</td>\n",
       "      <td>449.0</td>\n",
       "      <td>399.0</td>\n",
       "      <td>True</td>\n",
       "      <td>Романса</td>\n",
       "      <td>2025-05-17</td>\n",
       "      <td>11.0</td>\n",
       "    </tr>\n",
       "    <tr>\n",
       "      <th>1</th>\n",
       "      <td>БЕЗНАДЕЖНО</td>\n",
       "      <td>Колин Хувер</td>\n",
       "      <td>450.0</td>\n",
       "      <td>0.0</td>\n",
       "      <td>False</td>\n",
       "      <td>Романса</td>\n",
       "      <td>2025-05-17</td>\n",
       "      <td>0.0</td>\n",
       "    </tr>\n",
       "    <tr>\n",
       "      <th>2</th>\n",
       "      <td>ВИРТУОЗ</td>\n",
       "      <td>Маргрит де Мор</td>\n",
       "      <td>449.0</td>\n",
       "      <td>0.0</td>\n",
       "      <td>False</td>\n",
       "      <td>Романса</td>\n",
       "      <td>2025-05-17</td>\n",
       "      <td>0.0</td>\n",
       "    </tr>\n",
       "    <tr>\n",
       "      <th>3</th>\n",
       "      <td>ГОСПОЃА АТАТУРК Првата дама на модерна Турција</td>\n",
       "      <td>Ипек Чалишлар</td>\n",
       "      <td>799.0</td>\n",
       "      <td>0.0</td>\n",
       "      <td>False</td>\n",
       "      <td>Романса</td>\n",
       "      <td>2025-05-17</td>\n",
       "      <td>0.0</td>\n",
       "    </tr>\n",
       "    <tr>\n",
       "      <th>4</th>\n",
       "      <td>ДАВЕНИК</td>\n",
       "      <td>Маргрит де Мор</td>\n",
       "      <td>559.0</td>\n",
       "      <td>0.0</td>\n",
       "      <td>False</td>\n",
       "      <td>Романса</td>\n",
       "      <td>2025-05-17</td>\n",
       "      <td>0.0</td>\n",
       "    </tr>\n",
       "  </tbody>\n",
       "</table>\n",
       "</div>"
      ],
      "text/plain": [
       "                                            title           author  \\\n",
       "0                   АУТИСТОТ И ГУЛАБОТ ПИСМОНОСЕЦ  Родан Ал Галиди   \n",
       "1                                      БЕЗНАДЕЖНО      Колин Хувер   \n",
       "2                                         ВИРТУОЗ   Маргрит де Мор   \n",
       "3  ГОСПОЃА АТАТУРК Првата дама на модерна Турција    Ипек Чалишлар   \n",
       "4                                         ДАВЕНИК   Маргрит де Мор   \n",
       "\n",
       "   real_price  sale_price  IsOnSale category retrieved_at  Discount (%)  \n",
       "0       449.0       399.0      True  Романса   2025-05-17          11.0  \n",
       "1       450.0         0.0     False  Романса   2025-05-17           0.0  \n",
       "2       449.0         0.0     False  Романса   2025-05-17           0.0  \n",
       "3       799.0         0.0     False  Романса   2025-05-17           0.0  \n",
       "4       559.0         0.0     False  Романса   2025-05-17           0.0  "
      ]
     },
     "execution_count": 62,
     "metadata": {},
     "output_type": "execute_result"
    }
   ],
   "source": [
    "df.head()"
   ]
  }
 ],
 "metadata": {
  "kernelspec": {
   "display_name": ".venv",
   "language": "python",
   "name": "python3"
  },
  "language_info": {
   "codemirror_mode": {
    "name": "ipython",
    "version": 3
   },
   "file_extension": ".py",
   "mimetype": "text/x-python",
   "name": "python",
   "nbconvert_exporter": "python",
   "pygments_lexer": "ipython3",
   "version": "3.13.2"
  }
 },
 "nbformat": 4,
 "nbformat_minor": 5
}
