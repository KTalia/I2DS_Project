{
 "cells": [
  {
   "cell_type": "markdown",
   "id": "3f51883a",
   "metadata": {},
   "source": [
    "# 📚 AkademskaKniga.mk - Book Dataset Cleaning & Preprocessing"
   ]
  },
  {
   "cell_type": "code",
   "execution_count": 88,
   "id": "83b1ecbb",
   "metadata": {},
   "outputs": [],
   "source": [
    "import pandas as pd\n",
    "import numpy as np"
   ]
  },
  {
   "cell_type": "code",
   "execution_count": 89,
   "id": "2deed8a1",
   "metadata": {},
   "outputs": [],
   "source": [
    "df= pd.read_csv('../data/original_datasets/akademskakniga_books.csv', encoding='utf-8-sig') "
   ]
  },
  {
   "cell_type": "code",
   "execution_count": 90,
   "id": "e9377f4c",
   "metadata": {},
   "outputs": [
    {
     "data": {
      "application/vnd.microsoft.datawrangler.viewer.v0+json": {
       "columns": [
        {
         "name": "index",
         "rawType": "int64",
         "type": "integer"
        },
        {
         "name": "id",
         "rawType": "int64",
         "type": "integer"
        },
        {
         "name": "title",
         "rawType": "object",
         "type": "string"
        },
        {
         "name": "author",
         "rawType": "object",
         "type": "string"
        },
        {
         "name": "real_price",
         "rawType": "float64",
         "type": "float"
        },
        {
         "name": "sale_price",
         "rawType": "object",
         "type": "string"
        },
        {
         "name": "sale",
         "rawType": "int64",
         "type": "integer"
        },
        {
         "name": "category",
         "rawType": "object",
         "type": "string"
        },
        {
         "name": "retrieved_at",
         "rawType": "object",
         "type": "string"
        }
       ],
       "conversionMethod": "pd.DataFrame",
       "ref": "7affb2ac-21ee-4403-affe-55285eba3dd8",
       "rows": [
        [
         "0",
         "1",
         "Accounting",
         "Warren, Carl S.",
         "6199.0",
         "4959 Мкд.",
         "1",
         "Accounting & Finance",
         "2025-05-15"
        ],
        [
         "1",
         "2",
         "Pricing in General I",
         "Parodi, Pietro",
         "5399.0",
         "4319 Мкд.",
         "1",
         "Accounting & Finance",
         "2025-05-15"
        ],
        [
         "2",
         "3",
         "Behavioral Finance i",
         "Kubinska, Elzbieta",
         "9399.0",
         "7519 Мкд.",
         "1",
         "Accounting & Finance",
         "2025-05-15"
        ],
        [
         "3",
         "4",
         "Handbook of Alternat",
         "-",
         "10099.0",
         "8079 Мкд.",
         "1",
         "Accounting & Finance",
         "2025-05-15"
        ],
        [
         "4",
         "5",
         "Using QuickBooks (R)",
         "Barbara), Glenn Owen",
         "4999.0",
         "3999 Мкд.",
         "1",
         "Accounting & Finance",
         "2025-05-15"
        ]
       ],
       "shape": {
        "columns": 8,
        "rows": 5
       }
      },
      "text/html": [
       "<div>\n",
       "<style scoped>\n",
       "    .dataframe tbody tr th:only-of-type {\n",
       "        vertical-align: middle;\n",
       "    }\n",
       "\n",
       "    .dataframe tbody tr th {\n",
       "        vertical-align: top;\n",
       "    }\n",
       "\n",
       "    .dataframe thead th {\n",
       "        text-align: right;\n",
       "    }\n",
       "</style>\n",
       "<table border=\"1\" class=\"dataframe\">\n",
       "  <thead>\n",
       "    <tr style=\"text-align: right;\">\n",
       "      <th></th>\n",
       "      <th>id</th>\n",
       "      <th>title</th>\n",
       "      <th>author</th>\n",
       "      <th>real_price</th>\n",
       "      <th>sale_price</th>\n",
       "      <th>sale</th>\n",
       "      <th>category</th>\n",
       "      <th>retrieved_at</th>\n",
       "    </tr>\n",
       "  </thead>\n",
       "  <tbody>\n",
       "    <tr>\n",
       "      <th>0</th>\n",
       "      <td>1</td>\n",
       "      <td>Accounting</td>\n",
       "      <td>Warren, Carl S.</td>\n",
       "      <td>6199.0</td>\n",
       "      <td>4959 Мкд.</td>\n",
       "      <td>1</td>\n",
       "      <td>Accounting &amp; Finance</td>\n",
       "      <td>2025-05-15</td>\n",
       "    </tr>\n",
       "    <tr>\n",
       "      <th>1</th>\n",
       "      <td>2</td>\n",
       "      <td>Pricing in General I</td>\n",
       "      <td>Parodi, Pietro</td>\n",
       "      <td>5399.0</td>\n",
       "      <td>4319 Мкд.</td>\n",
       "      <td>1</td>\n",
       "      <td>Accounting &amp; Finance</td>\n",
       "      <td>2025-05-15</td>\n",
       "    </tr>\n",
       "    <tr>\n",
       "      <th>2</th>\n",
       "      <td>3</td>\n",
       "      <td>Behavioral Finance i</td>\n",
       "      <td>Kubinska, Elzbieta</td>\n",
       "      <td>9399.0</td>\n",
       "      <td>7519 Мкд.</td>\n",
       "      <td>1</td>\n",
       "      <td>Accounting &amp; Finance</td>\n",
       "      <td>2025-05-15</td>\n",
       "    </tr>\n",
       "    <tr>\n",
       "      <th>3</th>\n",
       "      <td>4</td>\n",
       "      <td>Handbook of Alternat</td>\n",
       "      <td>-</td>\n",
       "      <td>10099.0</td>\n",
       "      <td>8079 Мкд.</td>\n",
       "      <td>1</td>\n",
       "      <td>Accounting &amp; Finance</td>\n",
       "      <td>2025-05-15</td>\n",
       "    </tr>\n",
       "    <tr>\n",
       "      <th>4</th>\n",
       "      <td>5</td>\n",
       "      <td>Using QuickBooks (R)</td>\n",
       "      <td>Barbara), Glenn Owen</td>\n",
       "      <td>4999.0</td>\n",
       "      <td>3999 Мкд.</td>\n",
       "      <td>1</td>\n",
       "      <td>Accounting &amp; Finance</td>\n",
       "      <td>2025-05-15</td>\n",
       "    </tr>\n",
       "  </tbody>\n",
       "</table>\n",
       "</div>"
      ],
      "text/plain": [
       "   id                 title                author  real_price sale_price  \\\n",
       "0   1            Accounting       Warren, Carl S.      6199.0  4959 Мкд.   \n",
       "1   2  Pricing in General I        Parodi, Pietro      5399.0  4319 Мкд.   \n",
       "2   3  Behavioral Finance i    Kubinska, Elzbieta      9399.0  7519 Мкд.   \n",
       "3   4  Handbook of Alternat                     -     10099.0  8079 Мкд.   \n",
       "4   5  Using QuickBooks (R)  Barbara), Glenn Owen      4999.0  3999 Мкд.   \n",
       "\n",
       "   sale              category retrieved_at  \n",
       "0     1  Accounting & Finance   2025-05-15  \n",
       "1     1  Accounting & Finance   2025-05-15  \n",
       "2     1  Accounting & Finance   2025-05-15  \n",
       "3     1  Accounting & Finance   2025-05-15  \n",
       "4     1  Accounting & Finance   2025-05-15  "
      ]
     },
     "execution_count": 90,
     "metadata": {},
     "output_type": "execute_result"
    }
   ],
   "source": [
    "df.head()"
   ]
  },
  {
   "cell_type": "code",
   "execution_count": 91,
   "id": "430faaf1",
   "metadata": {},
   "outputs": [],
   "source": [
    "df = df.drop('id', axis=1)"
   ]
  },
  {
   "cell_type": "markdown",
   "id": "240666b3",
   "metadata": {},
   "source": [
    "### 1. Converting the 'Sale' Column to Boolean & rename it"
   ]
  },
  {
   "cell_type": "code",
   "execution_count": 92,
   "id": "6240ebed",
   "metadata": {},
   "outputs": [],
   "source": [
    "df[\"sale\"] = df[\"sale\"].astype(bool)"
   ]
  },
  {
   "cell_type": "code",
   "execution_count": 93,
   "id": "239f9b90",
   "metadata": {},
   "outputs": [],
   "source": [
    "df = df.rename(columns={\"sale\": \"IsOnSale\"})"
   ]
  },
  {
   "cell_type": "markdown",
   "id": "cc52446a",
   "metadata": {},
   "source": [
    "### 2. Convert the 'Retrieved At' column to datetime format."
   ]
  },
  {
   "cell_type": "code",
   "execution_count": 94,
   "id": "1a5c228e",
   "metadata": {},
   "outputs": [],
   "source": [
    "df['retrieved_at'] = pd.to_datetime(df['retrieved_at'])"
   ]
  },
  {
   "cell_type": "markdown",
   "id": "67808534",
   "metadata": {},
   "source": [
    "### 3. Prices\n",
    "- Before converting to numeric,remove \"Мкд.\", remove commas and strip whitespace\n"
   ]
  },
  {
   "cell_type": "code",
   "execution_count": 95,
   "id": "8de4f501",
   "metadata": {},
   "outputs": [],
   "source": [
    "df['sale_price'] = df['sale_price'].str.replace(\"Мкд.\", \"\", regex=False).str.replace(\",\", \"\").str.strip()\n",
    "\n",
    "df[\"real_price\"] = pd.to_numeric(df[\"real_price\"], errors=\"coerce\")\n",
    "df[\"sale_price\"] = pd.to_numeric(df[\"sale_price\"], errors=\"coerce\")\n",
    "\n",
    "df['sale_price'] = df['sale_price'].astype(float)\n",
    "df['real_price'] = df['real_price'].astype(float)"
   ]
  },
  {
   "cell_type": "markdown",
   "id": "b01ad195",
   "metadata": {},
   "source": [
    "### 4. Remove duplicates"
   ]
  },
  {
   "cell_type": "code",
   "execution_count": 96,
   "id": "2aceebbb",
   "metadata": {},
   "outputs": [],
   "source": [
    "df = df.dropna(subset=['real_price'])"
   ]
  },
  {
   "cell_type": "code",
   "execution_count": 97,
   "id": "6b8b52f8",
   "metadata": {},
   "outputs": [
    {
     "name": "stdout",
     "output_type": "stream",
     "text": [
      "Length of duplicates:  5122\n"
     ]
    }
   ],
   "source": [
    "duplicates = df[df.duplicated(keep=False)]\n",
    "duplicates = duplicates.sort_values(by=['title', 'author'])\n",
    "print(\"Length of duplicates: \", len(duplicates))"
   ]
  },
  {
   "cell_type": "code",
   "execution_count": 98,
   "id": "2cf399b6",
   "metadata": {},
   "outputs": [
    {
     "name": "stdout",
     "output_type": "stream",
     "text": [
      "Original: 24536\n",
      "After drop_duplicates: 21393\n"
     ]
    }
   ],
   "source": [
    "print(\"Original:\", len(df))\n",
    "df = df.drop_duplicates()\n",
    "print(\"After drop_duplicates:\", len(df))"
   ]
  },
  {
   "cell_type": "markdown",
   "id": "0378684c",
   "metadata": {},
   "source": [
    "### 4. Define a function to normalize author names  \n",
    "- Inconsistent Formats:\n",
    "    - Some names are written in the `\"LastName, FirstName\"` format.\n",
    "    - Others are written in `\"FirstName LastName\"` or even as a comma-separated list of multiple authors.\n",
    "\n",
    "- Normalizing names into a consistent format like `\"FirstName LastName\"` or `\"Author1 Author2 Author3\"`."
   ]
  },
  {
   "cell_type": "code",
   "execution_count": 99,
   "id": "eb2cf3cb",
   "metadata": {},
   "outputs": [],
   "source": [
    "def normalize_author(author):\n",
    "    if pd.isna(author):\n",
    "        return author  \n",
    "    if ',' in author:\n",
    "        parts = [part.strip() for part in author.split(',')]\n",
    "        return ' '.join(parts[::-1])\n",
    "    return author"
   ]
  },
  {
   "cell_type": "code",
   "execution_count": 100,
   "id": "12e5aedc",
   "metadata": {},
   "outputs": [],
   "source": [
    "df['author'] = df['author'].apply(normalize_author)"
   ]
  },
  {
   "cell_type": "code",
   "execution_count": 101,
   "id": "6596b534",
   "metadata": {},
   "outputs": [
    {
     "data": {
      "application/vnd.microsoft.datawrangler.viewer.v0+json": {
       "columns": [
        {
         "name": "index",
         "rawType": "int64",
         "type": "integer"
        },
        {
         "name": "title",
         "rawType": "object",
         "type": "string"
        },
        {
         "name": "author",
         "rawType": "object",
         "type": "string"
        },
        {
         "name": "real_price",
         "rawType": "float64",
         "type": "float"
        },
        {
         "name": "sale_price",
         "rawType": "float64",
         "type": "float"
        },
        {
         "name": "IsOnSale",
         "rawType": "bool",
         "type": "boolean"
        },
        {
         "name": "category",
         "rawType": "object",
         "type": "string"
        },
        {
         "name": "retrieved_at",
         "rawType": "datetime64[ns]",
         "type": "datetime"
        }
       ],
       "conversionMethod": "pd.DataFrame",
       "ref": "3b4ab4ac-0582-4fce-8cad-42b597be9b77",
       "rows": [
        [
         "0",
         "Accounting",
         "Carl S. Warren",
         "6199.0",
         "4959.0",
         "True",
         "Accounting & Finance",
         "2025-05-15 00:00:00"
        ],
        [
         "1",
         "Pricing in General I",
         "Pietro Parodi",
         "5399.0",
         "4319.0",
         "True",
         "Accounting & Finance",
         "2025-05-15 00:00:00"
        ],
        [
         "2",
         "Behavioral Finance i",
         "Elzbieta Kubinska",
         "9399.0",
         "7519.0",
         "True",
         "Accounting & Finance",
         "2025-05-15 00:00:00"
        ],
        [
         "3",
         "Handbook of Alternat",
         "-",
         "10099.0",
         "8079.0",
         "True",
         "Accounting & Finance",
         "2025-05-15 00:00:00"
        ],
        [
         "4",
         "Using QuickBooks (R)",
         "Glenn Owen Barbara)",
         "4999.0",
         "3999.0",
         "True",
         "Accounting & Finance",
         "2025-05-15 00:00:00"
        ]
       ],
       "shape": {
        "columns": 7,
        "rows": 5
       }
      },
      "text/html": [
       "<div>\n",
       "<style scoped>\n",
       "    .dataframe tbody tr th:only-of-type {\n",
       "        vertical-align: middle;\n",
       "    }\n",
       "\n",
       "    .dataframe tbody tr th {\n",
       "        vertical-align: top;\n",
       "    }\n",
       "\n",
       "    .dataframe thead th {\n",
       "        text-align: right;\n",
       "    }\n",
       "</style>\n",
       "<table border=\"1\" class=\"dataframe\">\n",
       "  <thead>\n",
       "    <tr style=\"text-align: right;\">\n",
       "      <th></th>\n",
       "      <th>title</th>\n",
       "      <th>author</th>\n",
       "      <th>real_price</th>\n",
       "      <th>sale_price</th>\n",
       "      <th>IsOnSale</th>\n",
       "      <th>category</th>\n",
       "      <th>retrieved_at</th>\n",
       "    </tr>\n",
       "  </thead>\n",
       "  <tbody>\n",
       "    <tr>\n",
       "      <th>0</th>\n",
       "      <td>Accounting</td>\n",
       "      <td>Carl S. Warren</td>\n",
       "      <td>6199.0</td>\n",
       "      <td>4959.0</td>\n",
       "      <td>True</td>\n",
       "      <td>Accounting &amp; Finance</td>\n",
       "      <td>2025-05-15</td>\n",
       "    </tr>\n",
       "    <tr>\n",
       "      <th>1</th>\n",
       "      <td>Pricing in General I</td>\n",
       "      <td>Pietro Parodi</td>\n",
       "      <td>5399.0</td>\n",
       "      <td>4319.0</td>\n",
       "      <td>True</td>\n",
       "      <td>Accounting &amp; Finance</td>\n",
       "      <td>2025-05-15</td>\n",
       "    </tr>\n",
       "    <tr>\n",
       "      <th>2</th>\n",
       "      <td>Behavioral Finance i</td>\n",
       "      <td>Elzbieta Kubinska</td>\n",
       "      <td>9399.0</td>\n",
       "      <td>7519.0</td>\n",
       "      <td>True</td>\n",
       "      <td>Accounting &amp; Finance</td>\n",
       "      <td>2025-05-15</td>\n",
       "    </tr>\n",
       "    <tr>\n",
       "      <th>3</th>\n",
       "      <td>Handbook of Alternat</td>\n",
       "      <td>-</td>\n",
       "      <td>10099.0</td>\n",
       "      <td>8079.0</td>\n",
       "      <td>True</td>\n",
       "      <td>Accounting &amp; Finance</td>\n",
       "      <td>2025-05-15</td>\n",
       "    </tr>\n",
       "    <tr>\n",
       "      <th>4</th>\n",
       "      <td>Using QuickBooks (R)</td>\n",
       "      <td>Glenn Owen Barbara)</td>\n",
       "      <td>4999.0</td>\n",
       "      <td>3999.0</td>\n",
       "      <td>True</td>\n",
       "      <td>Accounting &amp; Finance</td>\n",
       "      <td>2025-05-15</td>\n",
       "    </tr>\n",
       "  </tbody>\n",
       "</table>\n",
       "</div>"
      ],
      "text/plain": [
       "                  title               author  real_price  sale_price  \\\n",
       "0            Accounting       Carl S. Warren      6199.0      4959.0   \n",
       "1  Pricing in General I        Pietro Parodi      5399.0      4319.0   \n",
       "2  Behavioral Finance i    Elzbieta Kubinska      9399.0      7519.0   \n",
       "3  Handbook of Alternat                    -     10099.0      8079.0   \n",
       "4  Using QuickBooks (R)  Glenn Owen Barbara)      4999.0      3999.0   \n",
       "\n",
       "   IsOnSale              category retrieved_at  \n",
       "0      True  Accounting & Finance   2025-05-15  \n",
       "1      True  Accounting & Finance   2025-05-15  \n",
       "2      True  Accounting & Finance   2025-05-15  \n",
       "3      True  Accounting & Finance   2025-05-15  \n",
       "4      True  Accounting & Finance   2025-05-15  "
      ]
     },
     "execution_count": 101,
     "metadata": {},
     "output_type": "execute_result"
    }
   ],
   "source": [
    "df.head()"
   ]
  },
  {
   "cell_type": "markdown",
   "id": "73ba6a7a",
   "metadata": {},
   "source": [
    "### 5. Replace '?' in author with null"
   ]
  },
  {
   "cell_type": "code",
   "execution_count": 102,
   "id": "9e9ce044",
   "metadata": {},
   "outputs": [],
   "source": [
    "df.loc[df['author'].str.match(r'^[\\?=]+$', na=False), 'author'] = np.nan"
   ]
  },
  {
   "cell_type": "markdown",
   "id": "d9a80e07",
   "metadata": {},
   "source": [
    "### 6. Replace '-' in author with null"
   ]
  },
  {
   "cell_type": "code",
   "execution_count": 103,
   "id": "68ee76ab",
   "metadata": {},
   "outputs": [],
   "source": [
    "df.loc[df['author'] == '-', 'author'] = np.nan"
   ]
  },
  {
   "cell_type": "markdown",
   "id": "78aa0c5a",
   "metadata": {},
   "source": [
    "### 7. Replace \"-\" with spaces only in the 'Author' column, e.g. \"Maria Herbert-Liew\" → \"Maria Herbert Liew\""
   ]
  },
  {
   "cell_type": "code",
   "execution_count": 104,
   "id": "c7b6b696",
   "metadata": {},
   "outputs": [],
   "source": [
    "df['author'] = df['author'].str.replace('-', ' ', regex=False)"
   ]
  },
  {
   "cell_type": "markdown",
   "id": "b093e1eb",
   "metadata": {},
   "source": [
    "### 8. Remove numbers from the 'Author' column,e.g. '1854 19 Oscar Wilde'"
   ]
  },
  {
   "cell_type": "code",
   "execution_count": 105,
   "id": "97d2f742",
   "metadata": {},
   "outputs": [],
   "source": [
    "df['author'] = df['author'].str.replace(r'\\d+', '', regex=True).str.strip().str.replace(r'\\s+', ' ', regex=True)"
   ]
  },
  {
   "cell_type": "markdown",
   "id": "62543657",
   "metadata": {},
   "source": [
    "### 9. Remove all parentheses \n",
    "- Remove all parentheses  and their content, matched or unmatched, including the parentheses themselves.\n",
    "- This simplifies your data, especially if the content inside parentheses is often additional info like (editor), (illustrator), or incomplete fragments like (author,  or author)."
   ]
  },
  {
   "cell_type": "code",
   "execution_count": 106,
   "id": "6ecb5493",
   "metadata": {},
   "outputs": [
    {
     "name": "stdout",
     "output_type": "stream",
     "text": [
      "Before cleaning:\n"
     ]
    },
    {
     "data": {
      "application/vnd.microsoft.datawrangler.viewer.v0+json": {
       "columns": [
        {
         "name": "index",
         "rawType": "int64",
         "type": "integer"
        },
        {
         "name": "author",
         "rawType": "object",
         "type": "string"
        }
       ],
       "conversionMethod": "pd.DataFrame",
       "ref": "6874f825-6c1f-46a0-8a73-37d92a5a5543",
       "rows": [
        [
         "4",
         "Glenn Owen Barbara)"
        ],
        [
         "45",
         "Financial (author)"
        ],
        [
         "88",
         "Parveen Za (editor)"
        ],
        [
         "149",
         "Royal Horticu work)"
        ],
        [
         "151",
         "Melan (illustrator)"
        ],
        [
         "181",
         "Arse (photographer)"
        ],
        [
         "218",
         "Tadao (illustrator)"
        ],
        [
         "383",
         "Angelika T (editor)"
        ],
        [
         "387",
         "Conr (photographer)"
        ],
        [
         "404",
         "Modular Proj (Firm)"
        ],
        [
         "408",
         "Landskap Desi body)"
        ],
        [
         "463",
         "Royal Institu body)"
        ],
        [
         "465",
         "Royal Institu body)"
        ],
        [
         "471",
         "Robert H. (editor)"
        ],
        [
         "484",
         "Manuelle Gau (Firm)"
        ],
        [
         "489",
         "Philip Jod (editor)"
        ],
        [
         "496",
         "Reto (photographer)"
        ],
        [
         "497",
         "Angelika T (editor)"
        ],
        [
         "498",
         "Angelika T (editor)"
        ],
        [
         "508",
         "Moshe S (architect)"
        ],
        [
         "509",
         "American Inst body)"
        ],
        [
         "544",
         "Cayetano C (editor)"
        ],
        [
         "547",
         "Natalie H? (editor)"
        ],
        [
         "598",
         "Elton Joh (honoree)"
        ],
        [
         "691",
         "Rainer Met (editor)"
        ],
        [
         "1033",
         "Mark Holbo (editor)"
        ],
        [
         "1366",
         "Ala (contributions)"
        ],
        [
         "1374",
         "Loewy (Firm)"
        ],
        [
         "1460",
         "Knitting for work)"
        ],
        [
         "1540",
         "Kari A. Co (editor)"
        ],
        [
         "1545",
         "Herl (photographer)"
        ],
        [
         "1546",
         "David (illustrator)"
        ],
        [
         "1547",
         "Davi (photographer)"
        ],
        [
         "1556",
         "Julius Wie (editor)"
        ],
        [
         "1557",
         "Julius Wie (editor)"
        ],
        [
         "1558",
         "Steve Cris (editor)"
        ],
        [
         "1559",
         "Harry (PHT)"
        ],
        [
         "1560",
         "Chris Murr (editor)"
        ],
        [
         "1561",
         "Davi (photographer)"
        ],
        [
         "1563",
         "Dian Hanso (editor)"
        ],
        [
         "1567",
         "United States work)"
        ],
        [
         "1581",
         "Bett (photographer)"
        ],
        [
         "1584",
         "Paul Dunca (editor)"
        ],
        [
         "1596",
         "Harr (photographer)"
        ],
        [
         "1597",
         "Anto (photographer)"
        ],
        [
         "1598",
         "Salvador D (artist)"
        ],
        [
         "1605",
         "Lee Shulma (editor)"
        ],
        [
         "1608",
         "Yang Liu (artist)"
        ],
        [
         "1747",
         "Jero (photographer)"
        ],
        [
         "1779",
         "Renee Flem (editor)"
        ]
       ],
       "shape": {
        "columns": 1,
        "rows": 363
       }
      },
      "text/html": [
       "<div>\n",
       "<style scoped>\n",
       "    .dataframe tbody tr th:only-of-type {\n",
       "        vertical-align: middle;\n",
       "    }\n",
       "\n",
       "    .dataframe tbody tr th {\n",
       "        vertical-align: top;\n",
       "    }\n",
       "\n",
       "    .dataframe thead th {\n",
       "        text-align: right;\n",
       "    }\n",
       "</style>\n",
       "<table border=\"1\" class=\"dataframe\">\n",
       "  <thead>\n",
       "    <tr style=\"text-align: right;\">\n",
       "      <th></th>\n",
       "      <th>author</th>\n",
       "    </tr>\n",
       "  </thead>\n",
       "  <tbody>\n",
       "    <tr>\n",
       "      <th>4</th>\n",
       "      <td>Glenn Owen Barbara)</td>\n",
       "    </tr>\n",
       "    <tr>\n",
       "      <th>45</th>\n",
       "      <td>Financial (author)</td>\n",
       "    </tr>\n",
       "    <tr>\n",
       "      <th>88</th>\n",
       "      <td>Parveen Za (editor)</td>\n",
       "    </tr>\n",
       "    <tr>\n",
       "      <th>149</th>\n",
       "      <td>Royal Horticu work)</td>\n",
       "    </tr>\n",
       "    <tr>\n",
       "      <th>151</th>\n",
       "      <td>Melan (illustrator)</td>\n",
       "    </tr>\n",
       "    <tr>\n",
       "      <th>...</th>\n",
       "      <td>...</td>\n",
       "    </tr>\n",
       "    <tr>\n",
       "      <th>25118</th>\n",
       "      <td>Syuhe (illustrator)</td>\n",
       "    </tr>\n",
       "    <tr>\n",
       "      <th>25151</th>\n",
       "      <td>GODSS (illustrator)</td>\n",
       "    </tr>\n",
       "    <tr>\n",
       "      <th>25155</th>\n",
       "      <td>Tracy Yard (artist)</td>\n",
       "    </tr>\n",
       "    <tr>\n",
       "      <th>25156</th>\n",
       "      <td>Tomo (illustrator)</td>\n",
       "    </tr>\n",
       "    <tr>\n",
       "      <th>25164</th>\n",
       "      <td>Nimo (illustrator)</td>\n",
       "    </tr>\n",
       "  </tbody>\n",
       "</table>\n",
       "<p>363 rows × 1 columns</p>\n",
       "</div>"
      ],
      "text/plain": [
       "                    author\n",
       "4      Glenn Owen Barbara)\n",
       "45      Financial (author)\n",
       "88     Parveen Za (editor)\n",
       "149    Royal Horticu work)\n",
       "151    Melan (illustrator)\n",
       "...                    ...\n",
       "25118  Syuhe (illustrator)\n",
       "25151  GODSS (illustrator)\n",
       "25155  Tracy Yard (artist)\n",
       "25156   Tomo (illustrator)\n",
       "25164   Nimo (illustrator)\n",
       "\n",
       "[363 rows x 1 columns]"
      ]
     },
     "execution_count": 106,
     "metadata": {},
     "output_type": "execute_result"
    }
   ],
   "source": [
    "mask = df['author'].str.contains(r'[\\(\\)]', regex=True, na=False)\n",
    "\n",
    "print(\"Before cleaning:\")\n",
    "df.loc[mask, ['author']]"
   ]
  },
  {
   "cell_type": "code",
   "execution_count": 107,
   "id": "691a58c1",
   "metadata": {},
   "outputs": [
    {
     "name": "stdout",
     "output_type": "stream",
     "text": [
      "\n",
      "After cleaning:\n"
     ]
    },
    {
     "data": {
      "application/vnd.microsoft.datawrangler.viewer.v0+json": {
       "columns": [
        {
         "name": "index",
         "rawType": "int64",
         "type": "integer"
        },
        {
         "name": "author",
         "rawType": "object",
         "type": "string"
        }
       ],
       "conversionMethod": "pd.DataFrame",
       "ref": "b0e3da4f-8780-477e-b374-55d95ef70a1d",
       "rows": [
        [
         "4",
         "Glenn Owen Barbara"
        ],
        [
         "45",
         "Financial"
        ],
        [
         "88",
         "Parveen Za"
        ],
        [
         "149",
         "Royal Horticu work"
        ],
        [
         "151",
         "Melan"
        ],
        [
         "181",
         "Arse"
        ],
        [
         "218",
         "Tadao"
        ],
        [
         "383",
         "Angelika T"
        ],
        [
         "387",
         "Conr"
        ],
        [
         "404",
         "Modular Proj"
        ],
        [
         "408",
         "Landskap Desi body"
        ],
        [
         "463",
         "Royal Institu body"
        ],
        [
         "465",
         "Royal Institu body"
        ],
        [
         "471",
         "Robert H."
        ],
        [
         "484",
         "Manuelle Gau"
        ],
        [
         "489",
         "Philip Jod"
        ],
        [
         "496",
         "Reto"
        ],
        [
         "497",
         "Angelika T"
        ],
        [
         "498",
         "Angelika T"
        ],
        [
         "508",
         "Moshe S"
        ],
        [
         "509",
         "American Inst body"
        ],
        [
         "544",
         "Cayetano C"
        ],
        [
         "547",
         "Natalie H?"
        ],
        [
         "598",
         "Elton Joh"
        ],
        [
         "691",
         "Rainer Met"
        ],
        [
         "1033",
         "Mark Holbo"
        ],
        [
         "1366",
         "Ala"
        ],
        [
         "1374",
         "Loewy"
        ],
        [
         "1460",
         "Knitting for work"
        ],
        [
         "1540",
         "Kari A. Co"
        ],
        [
         "1545",
         "Herl"
        ],
        [
         "1546",
         "David"
        ],
        [
         "1547",
         "Davi"
        ],
        [
         "1556",
         "Julius Wie"
        ],
        [
         "1557",
         "Julius Wie"
        ],
        [
         "1558",
         "Steve Cris"
        ],
        [
         "1559",
         "Harry"
        ],
        [
         "1560",
         "Chris Murr"
        ],
        [
         "1561",
         "Davi"
        ],
        [
         "1563",
         "Dian Hanso"
        ],
        [
         "1567",
         "United States work"
        ],
        [
         "1581",
         "Bett"
        ],
        [
         "1584",
         "Paul Dunca"
        ],
        [
         "1596",
         "Harr"
        ],
        [
         "1597",
         "Anto"
        ],
        [
         "1598",
         "Salvador D"
        ],
        [
         "1605",
         "Lee Shulma"
        ],
        [
         "1608",
         "Yang Liu"
        ],
        [
         "1747",
         "Jero"
        ],
        [
         "1779",
         "Renee Flem"
        ]
       ],
       "shape": {
        "columns": 1,
        "rows": 363
       }
      },
      "text/html": [
       "<div>\n",
       "<style scoped>\n",
       "    .dataframe tbody tr th:only-of-type {\n",
       "        vertical-align: middle;\n",
       "    }\n",
       "\n",
       "    .dataframe tbody tr th {\n",
       "        vertical-align: top;\n",
       "    }\n",
       "\n",
       "    .dataframe thead th {\n",
       "        text-align: right;\n",
       "    }\n",
       "</style>\n",
       "<table border=\"1\" class=\"dataframe\">\n",
       "  <thead>\n",
       "    <tr style=\"text-align: right;\">\n",
       "      <th></th>\n",
       "      <th>author</th>\n",
       "    </tr>\n",
       "  </thead>\n",
       "  <tbody>\n",
       "    <tr>\n",
       "      <th>4</th>\n",
       "      <td>Glenn Owen Barbara</td>\n",
       "    </tr>\n",
       "    <tr>\n",
       "      <th>45</th>\n",
       "      <td>Financial</td>\n",
       "    </tr>\n",
       "    <tr>\n",
       "      <th>88</th>\n",
       "      <td>Parveen Za</td>\n",
       "    </tr>\n",
       "    <tr>\n",
       "      <th>149</th>\n",
       "      <td>Royal Horticu work</td>\n",
       "    </tr>\n",
       "    <tr>\n",
       "      <th>151</th>\n",
       "      <td>Melan</td>\n",
       "    </tr>\n",
       "    <tr>\n",
       "      <th>...</th>\n",
       "      <td>...</td>\n",
       "    </tr>\n",
       "    <tr>\n",
       "      <th>25118</th>\n",
       "      <td>Syuhe</td>\n",
       "    </tr>\n",
       "    <tr>\n",
       "      <th>25151</th>\n",
       "      <td>GODSS</td>\n",
       "    </tr>\n",
       "    <tr>\n",
       "      <th>25155</th>\n",
       "      <td>Tracy Yard</td>\n",
       "    </tr>\n",
       "    <tr>\n",
       "      <th>25156</th>\n",
       "      <td>Tomo</td>\n",
       "    </tr>\n",
       "    <tr>\n",
       "      <th>25164</th>\n",
       "      <td>Nimo</td>\n",
       "    </tr>\n",
       "  </tbody>\n",
       "</table>\n",
       "<p>363 rows × 1 columns</p>\n",
       "</div>"
      ],
      "text/plain": [
       "                   author\n",
       "4      Glenn Owen Barbara\n",
       "45              Financial\n",
       "88             Parveen Za\n",
       "149    Royal Horticu work\n",
       "151                 Melan\n",
       "...                   ...\n",
       "25118               Syuhe\n",
       "25151               GODSS\n",
       "25155          Tracy Yard\n",
       "25156                Tomo\n",
       "25164                Nimo\n",
       "\n",
       "[363 rows x 1 columns]"
      ]
     },
     "execution_count": 107,
     "metadata": {},
     "output_type": "execute_result"
    }
   ],
   "source": [
    "df.loc[mask, 'author'] = df.loc[mask, 'author'].str.replace(r'\\([^)]*\\)', '', regex=True)\n",
    "df.loc[mask, 'author'] = df.loc[mask, 'author'].str.replace(r'[\\(\\)]', '', regex=True)\n",
    "df.loc[mask, 'author'] = df.loc[mask, 'author'].str.strip()\n",
    "\n",
    "print(\"\\nAfter cleaning:\")\n",
    "df.loc[mask, ['author']]"
   ]
  },
  {
   "cell_type": "markdown",
   "id": "dc890be0",
   "metadata": {},
   "source": [
    "### 10. Create Discount Percentage Column(%):\n",
    "- If IsOnSale is True, calculate discount info(discount percentage)"
   ]
  },
  {
   "cell_type": "code",
   "execution_count": 108,
   "id": "9708ccd3",
   "metadata": {},
   "outputs": [],
   "source": [
    "df['Discount (%)'] = 0.0\n",
    "\n",
    "mask = (df['IsOnSale'] == True) & (df['real_price'] > 0)\n",
    "df.loc[mask, 'Discount (%)'] = (\n",
    "    ((df.loc[mask, 'real_price'] - df.loc[mask, 'sale_price']) / df.loc[mask, 'real_price']) * 100\n",
    ").round().astype(int)\n"
   ]
  },
  {
   "cell_type": "code",
   "execution_count": 109,
   "id": "46c82a87",
   "metadata": {},
   "outputs": [
    {
     "data": {
      "application/vnd.microsoft.datawrangler.viewer.v0+json": {
       "columns": [
        {
         "name": "index",
         "rawType": "int64",
         "type": "integer"
        },
        {
         "name": "title",
         "rawType": "object",
         "type": "string"
        },
        {
         "name": "author",
         "rawType": "object",
         "type": "unknown"
        },
        {
         "name": "real_price",
         "rawType": "float64",
         "type": "float"
        },
        {
         "name": "sale_price",
         "rawType": "float64",
         "type": "float"
        },
        {
         "name": "IsOnSale",
         "rawType": "bool",
         "type": "boolean"
        },
        {
         "name": "category",
         "rawType": "object",
         "type": "string"
        },
        {
         "name": "retrieved_at",
         "rawType": "datetime64[ns]",
         "type": "datetime"
        },
        {
         "name": "Discount (%)",
         "rawType": "float64",
         "type": "float"
        }
       ],
       "conversionMethod": "pd.DataFrame",
       "ref": "d8685d3c-35a1-4bbf-b886-cd7b22f95063",
       "rows": [
        [
         "0",
         "Accounting",
         "Carl S. Warren",
         "6199.0",
         "4959.0",
         "True",
         "Accounting & Finance",
         "2025-05-15 00:00:00",
         "20.0"
        ],
        [
         "1",
         "Pricing in General I",
         "Pietro Parodi",
         "5399.0",
         "4319.0",
         "True",
         "Accounting & Finance",
         "2025-05-15 00:00:00",
         "20.0"
        ],
        [
         "2",
         "Behavioral Finance i",
         "Elzbieta Kubinska",
         "9399.0",
         "7519.0",
         "True",
         "Accounting & Finance",
         "2025-05-15 00:00:00",
         "20.0"
        ],
        [
         "3",
         "Handbook of Alternat",
         null,
         "10099.0",
         "8079.0",
         "True",
         "Accounting & Finance",
         "2025-05-15 00:00:00",
         "20.0"
        ],
        [
         "4",
         "Using QuickBooks (R)",
         "Glenn Owen Barbara",
         "4999.0",
         "3999.0",
         "True",
         "Accounting & Finance",
         "2025-05-15 00:00:00",
         "20.0"
        ]
       ],
       "shape": {
        "columns": 8,
        "rows": 5
       }
      },
      "text/html": [
       "<div>\n",
       "<style scoped>\n",
       "    .dataframe tbody tr th:only-of-type {\n",
       "        vertical-align: middle;\n",
       "    }\n",
       "\n",
       "    .dataframe tbody tr th {\n",
       "        vertical-align: top;\n",
       "    }\n",
       "\n",
       "    .dataframe thead th {\n",
       "        text-align: right;\n",
       "    }\n",
       "</style>\n",
       "<table border=\"1\" class=\"dataframe\">\n",
       "  <thead>\n",
       "    <tr style=\"text-align: right;\">\n",
       "      <th></th>\n",
       "      <th>title</th>\n",
       "      <th>author</th>\n",
       "      <th>real_price</th>\n",
       "      <th>sale_price</th>\n",
       "      <th>IsOnSale</th>\n",
       "      <th>category</th>\n",
       "      <th>retrieved_at</th>\n",
       "      <th>Discount (%)</th>\n",
       "    </tr>\n",
       "  </thead>\n",
       "  <tbody>\n",
       "    <tr>\n",
       "      <th>0</th>\n",
       "      <td>Accounting</td>\n",
       "      <td>Carl S. Warren</td>\n",
       "      <td>6199.0</td>\n",
       "      <td>4959.0</td>\n",
       "      <td>True</td>\n",
       "      <td>Accounting &amp; Finance</td>\n",
       "      <td>2025-05-15</td>\n",
       "      <td>20.0</td>\n",
       "    </tr>\n",
       "    <tr>\n",
       "      <th>1</th>\n",
       "      <td>Pricing in General I</td>\n",
       "      <td>Pietro Parodi</td>\n",
       "      <td>5399.0</td>\n",
       "      <td>4319.0</td>\n",
       "      <td>True</td>\n",
       "      <td>Accounting &amp; Finance</td>\n",
       "      <td>2025-05-15</td>\n",
       "      <td>20.0</td>\n",
       "    </tr>\n",
       "    <tr>\n",
       "      <th>2</th>\n",
       "      <td>Behavioral Finance i</td>\n",
       "      <td>Elzbieta Kubinska</td>\n",
       "      <td>9399.0</td>\n",
       "      <td>7519.0</td>\n",
       "      <td>True</td>\n",
       "      <td>Accounting &amp; Finance</td>\n",
       "      <td>2025-05-15</td>\n",
       "      <td>20.0</td>\n",
       "    </tr>\n",
       "    <tr>\n",
       "      <th>3</th>\n",
       "      <td>Handbook of Alternat</td>\n",
       "      <td>NaN</td>\n",
       "      <td>10099.0</td>\n",
       "      <td>8079.0</td>\n",
       "      <td>True</td>\n",
       "      <td>Accounting &amp; Finance</td>\n",
       "      <td>2025-05-15</td>\n",
       "      <td>20.0</td>\n",
       "    </tr>\n",
       "    <tr>\n",
       "      <th>4</th>\n",
       "      <td>Using QuickBooks (R)</td>\n",
       "      <td>Glenn Owen Barbara</td>\n",
       "      <td>4999.0</td>\n",
       "      <td>3999.0</td>\n",
       "      <td>True</td>\n",
       "      <td>Accounting &amp; Finance</td>\n",
       "      <td>2025-05-15</td>\n",
       "      <td>20.0</td>\n",
       "    </tr>\n",
       "  </tbody>\n",
       "</table>\n",
       "</div>"
      ],
      "text/plain": [
       "                  title              author  real_price  sale_price  IsOnSale  \\\n",
       "0            Accounting      Carl S. Warren      6199.0      4959.0      True   \n",
       "1  Pricing in General I       Pietro Parodi      5399.0      4319.0      True   \n",
       "2  Behavioral Finance i   Elzbieta Kubinska      9399.0      7519.0      True   \n",
       "3  Handbook of Alternat                 NaN     10099.0      8079.0      True   \n",
       "4  Using QuickBooks (R)  Glenn Owen Barbara      4999.0      3999.0      True   \n",
       "\n",
       "               category retrieved_at  Discount (%)  \n",
       "0  Accounting & Finance   2025-05-15          20.0  \n",
       "1  Accounting & Finance   2025-05-15          20.0  \n",
       "2  Accounting & Finance   2025-05-15          20.0  \n",
       "3  Accounting & Finance   2025-05-15          20.0  \n",
       "4  Accounting & Finance   2025-05-15          20.0  "
      ]
     },
     "execution_count": 109,
     "metadata": {},
     "output_type": "execute_result"
    }
   ],
   "source": [
    "df.head()"
   ]
  },
  {
   "cell_type": "markdown",
   "id": "baccc3d5",
   "metadata": {},
   "source": [
    "### 11. Missing values"
   ]
  },
  {
   "cell_type": "code",
   "execution_count": 110,
   "id": "40fc600b",
   "metadata": {},
   "outputs": [
    {
     "data": {
      "application/vnd.microsoft.datawrangler.viewer.v0+json": {
       "columns": [
        {
         "name": "index",
         "rawType": "int64",
         "type": "integer"
        },
        {
         "name": "column",
         "rawType": "object",
         "type": "string"
        },
        {
         "name": "percent missing",
         "rawType": "float64",
         "type": "float"
        }
       ],
       "conversionMethod": "pd.DataFrame",
       "ref": "4aa84240-2db1-4560-b36d-fdab279636ee",
       "rows": [
        [
         "0",
         "title",
         "0.0"
        ],
        [
         "1",
         "author",
         "1.22"
        ],
        [
         "2",
         "real_price",
         "0.0"
        ],
        [
         "3",
         "sale_price",
         "0.0"
        ],
        [
         "4",
         "IsOnSale",
         "0.0"
        ],
        [
         "5",
         "category",
         "0.0"
        ],
        [
         "6",
         "retrieved_at",
         "0.0"
        ],
        [
         "7",
         "Discount (%)",
         "0.0"
        ]
       ],
       "shape": {
        "columns": 2,
        "rows": 8
       }
      },
      "text/html": [
       "<div>\n",
       "<style scoped>\n",
       "    .dataframe tbody tr th:only-of-type {\n",
       "        vertical-align: middle;\n",
       "    }\n",
       "\n",
       "    .dataframe tbody tr th {\n",
       "        vertical-align: top;\n",
       "    }\n",
       "\n",
       "    .dataframe thead th {\n",
       "        text-align: right;\n",
       "    }\n",
       "</style>\n",
       "<table border=\"1\" class=\"dataframe\">\n",
       "  <thead>\n",
       "    <tr style=\"text-align: right;\">\n",
       "      <th></th>\n",
       "      <th>column</th>\n",
       "      <th>percent missing</th>\n",
       "    </tr>\n",
       "  </thead>\n",
       "  <tbody>\n",
       "    <tr>\n",
       "      <th>0</th>\n",
       "      <td>title</td>\n",
       "      <td>0.00</td>\n",
       "    </tr>\n",
       "    <tr>\n",
       "      <th>1</th>\n",
       "      <td>author</td>\n",
       "      <td>1.22</td>\n",
       "    </tr>\n",
       "    <tr>\n",
       "      <th>2</th>\n",
       "      <td>real_price</td>\n",
       "      <td>0.00</td>\n",
       "    </tr>\n",
       "    <tr>\n",
       "      <th>3</th>\n",
       "      <td>sale_price</td>\n",
       "      <td>0.00</td>\n",
       "    </tr>\n",
       "    <tr>\n",
       "      <th>4</th>\n",
       "      <td>IsOnSale</td>\n",
       "      <td>0.00</td>\n",
       "    </tr>\n",
       "    <tr>\n",
       "      <th>5</th>\n",
       "      <td>category</td>\n",
       "      <td>0.00</td>\n",
       "    </tr>\n",
       "    <tr>\n",
       "      <th>6</th>\n",
       "      <td>retrieved_at</td>\n",
       "      <td>0.00</td>\n",
       "    </tr>\n",
       "    <tr>\n",
       "      <th>7</th>\n",
       "      <td>Discount (%)</td>\n",
       "      <td>0.00</td>\n",
       "    </tr>\n",
       "  </tbody>\n",
       "</table>\n",
       "</div>"
      ],
      "text/plain": [
       "         column  percent missing\n",
       "0         title             0.00\n",
       "1        author             1.22\n",
       "2    real_price             0.00\n",
       "3    sale_price             0.00\n",
       "4      IsOnSale             0.00\n",
       "5      category             0.00\n",
       "6  retrieved_at             0.00\n",
       "7  Discount (%)             0.00"
      ]
     },
     "execution_count": 110,
     "metadata": {},
     "output_type": "execute_result"
    }
   ],
   "source": [
    "missing_percent = df.isnull().sum() / len(df) * 100\n",
    "missing_percent = missing_percent.round(2)\n",
    "missing_percent = missing_percent.reset_index().rename(columns={\"index\": \"column\", 0: \"percent missing\"})\n",
    "missing_percent"
   ]
  },
  {
   "cell_type": "code",
   "execution_count": 111,
   "id": "eb764c1c",
   "metadata": {},
   "outputs": [
    {
     "name": "stdout",
     "output_type": "stream",
     "text": [
      "\n",
      "'Author' column:\n",
      "Non-missing values: 21132\n",
      "Missing values: 261\n",
      "Percentage missing: 1.22%\n"
     ]
    }
   ],
   "source": [
    "total_rows = len(df)\n",
    "missing_authors = df['author'].isna().sum()\n",
    "non_missing_authors = total_rows - missing_authors\n",
    "\n",
    "print(f\"\\n'Author' column:\")\n",
    "print(f\"Non-missing values: {non_missing_authors}\")\n",
    "print(f\"Missing values: {missing_authors}\")\n",
    "print(f\"Percentage missing: {round((missing_authors / total_rows) * 100, 2)}%\")\n"
   ]
  },
  {
   "cell_type": "code",
   "execution_count": 112,
   "id": "42c713ea",
   "metadata": {},
   "outputs": [],
   "source": [
    "df.to_csv(\"../data/preprocessed_datasets/akademska_books.csv\", encoding='utf-8-sig', index=False)"
   ]
  },
  {
   "cell_type": "markdown",
   "id": "4761a775",
   "metadata": {},
   "source": [
    "### Preprocessing Output Summary"
   ]
  },
  {
   "cell_type": "markdown",
   "id": "e8e715f5",
   "metadata": {},
   "source": [
    "Number of Books Scraped"
   ]
  },
  {
   "cell_type": "code",
   "execution_count": 113,
   "id": "99c30843",
   "metadata": {},
   "outputs": [
    {
     "data": {
      "text/plain": [
       "21393"
      ]
     },
     "execution_count": 113,
     "metadata": {},
     "output_type": "execute_result"
    }
   ],
   "source": [
    "df.shape[0]"
   ]
  },
  {
   "cell_type": "markdown",
   "id": "08374672",
   "metadata": {},
   "source": [
    "Number of categories"
   ]
  },
  {
   "cell_type": "code",
   "execution_count": 114,
   "id": "db6dd618",
   "metadata": {},
   "outputs": [
    {
     "name": "stdout",
     "output_type": "stream",
     "text": [
      "37\n"
     ]
    }
   ],
   "source": [
    "total_categories = df['category'].nunique()\n",
    "print(total_categories)"
   ]
  },
  {
   "cell_type": "markdown",
   "id": "e9bbb4f5",
   "metadata": {},
   "source": [
    "Number of Discounted Books"
   ]
  },
  {
   "cell_type": "code",
   "execution_count": 115,
   "id": "622affab",
   "metadata": {},
   "outputs": [
    {
     "name": "stdout",
     "output_type": "stream",
     "text": [
      "19228\n"
     ]
    }
   ],
   "source": [
    "num_distinct_on_sale = df[df['IsOnSale'] == True]['title'].nunique()\n",
    "print(num_distinct_on_sale)"
   ]
  }
 ],
 "metadata": {
  "kernelspec": {
   "display_name": ".venv",
   "language": "python",
   "name": "python3"
  },
  "language_info": {
   "codemirror_mode": {
    "name": "ipython",
    "version": 3
   },
   "file_extension": ".py",
   "mimetype": "text/x-python",
   "name": "python",
   "nbconvert_exporter": "python",
   "pygments_lexer": "ipython3",
   "version": "3.13.2"
  }
 },
 "nbformat": 4,
 "nbformat_minor": 5
}
