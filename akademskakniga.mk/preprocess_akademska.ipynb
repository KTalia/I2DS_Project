{
 "cells": [
  {
   "cell_type": "markdown",
   "id": "8b64fd5a",
   "metadata": {},
   "source": [
    "# 📚 AkademskaKniga.mk - Book Dataset Cleaning & Preprocessing"
   ]
  },
  {
   "cell_type": "code",
   "execution_count": 16,
   "id": "6e6ff522",
   "metadata": {},
   "outputs": [],
   "source": [
    "import pandas as pd\n",
    "import numpy as np"
   ]
  },
  {
   "cell_type": "code",
   "execution_count": 17,
   "id": "545c4177",
   "metadata": {},
   "outputs": [],
   "source": [
    "df= pd.read_csv('akademska_books.csv', encoding='utf-8-sig') "
   ]
  },
  {
   "cell_type": "code",
   "execution_count": 18,
   "id": "b05c0f70",
   "metadata": {},
   "outputs": [
    {
     "data": {
      "application/vnd.microsoft.datawrangler.viewer.v0+json": {
       "columns": [
        {
         "name": "index",
         "rawType": "int64",
         "type": "integer"
        },
        {
         "name": "Title",
         "rawType": "object",
         "type": "string"
        },
        {
         "name": "Author",
         "rawType": "object",
         "type": "string"
        },
        {
         "name": "Real Price",
         "rawType": "float64",
         "type": "float"
        },
        {
         "name": "Sale Price",
         "rawType": "object",
         "type": "string"
        },
        {
         "name": "Sale",
         "rawType": "int64",
         "type": "integer"
        },
        {
         "name": "Category",
         "rawType": "object",
         "type": "string"
        },
        {
         "name": "Retrieved At",
         "rawType": "object",
         "type": "string"
        }
       ],
       "conversionMethod": "pd.DataFrame",
       "ref": "3db4e5af-3bcb-4161-a714-4cadf00313ce",
       "rows": [
        [
         "0",
         "Accounting",
         "Warren, Carl S.",
         "6199.0",
         "4959 Мкд.",
         "1",
         "Accounting & Finance",
         "2025-05-15"
        ],
        [
         "1",
         "Pricing in General I",
         "Parodi, Pietro",
         "5399.0",
         "4319 Мкд.",
         "1",
         "Accounting & Finance",
         "2025-05-15"
        ],
        [
         "2",
         "Behavioral Finance i",
         "Kubinska, Elzbieta",
         "9399.0",
         "7519 Мкд.",
         "1",
         "Accounting & Finance",
         "2025-05-15"
        ],
        [
         "3",
         "Handbook of Alternat",
         "-",
         "10099.0",
         "8079 Мкд.",
         "1",
         "Accounting & Finance",
         "2025-05-15"
        ],
        [
         "4",
         "Using QuickBooks (R)",
         "Barbara), Glenn Owen",
         "4999.0",
         "3999 Мкд.",
         "1",
         "Accounting & Finance",
         "2025-05-15"
        ]
       ],
       "shape": {
        "columns": 7,
        "rows": 5
       }
      },
      "text/html": [
       "<div>\n",
       "<style scoped>\n",
       "    .dataframe tbody tr th:only-of-type {\n",
       "        vertical-align: middle;\n",
       "    }\n",
       "\n",
       "    .dataframe tbody tr th {\n",
       "        vertical-align: top;\n",
       "    }\n",
       "\n",
       "    .dataframe thead th {\n",
       "        text-align: right;\n",
       "    }\n",
       "</style>\n",
       "<table border=\"1\" class=\"dataframe\">\n",
       "  <thead>\n",
       "    <tr style=\"text-align: right;\">\n",
       "      <th></th>\n",
       "      <th>Title</th>\n",
       "      <th>Author</th>\n",
       "      <th>Real Price</th>\n",
       "      <th>Sale Price</th>\n",
       "      <th>Sale</th>\n",
       "      <th>Category</th>\n",
       "      <th>Retrieved At</th>\n",
       "    </tr>\n",
       "  </thead>\n",
       "  <tbody>\n",
       "    <tr>\n",
       "      <th>0</th>\n",
       "      <td>Accounting</td>\n",
       "      <td>Warren, Carl S.</td>\n",
       "      <td>6199.0</td>\n",
       "      <td>4959 Мкд.</td>\n",
       "      <td>1</td>\n",
       "      <td>Accounting &amp; Finance</td>\n",
       "      <td>2025-05-15</td>\n",
       "    </tr>\n",
       "    <tr>\n",
       "      <th>1</th>\n",
       "      <td>Pricing in General I</td>\n",
       "      <td>Parodi, Pietro</td>\n",
       "      <td>5399.0</td>\n",
       "      <td>4319 Мкд.</td>\n",
       "      <td>1</td>\n",
       "      <td>Accounting &amp; Finance</td>\n",
       "      <td>2025-05-15</td>\n",
       "    </tr>\n",
       "    <tr>\n",
       "      <th>2</th>\n",
       "      <td>Behavioral Finance i</td>\n",
       "      <td>Kubinska, Elzbieta</td>\n",
       "      <td>9399.0</td>\n",
       "      <td>7519 Мкд.</td>\n",
       "      <td>1</td>\n",
       "      <td>Accounting &amp; Finance</td>\n",
       "      <td>2025-05-15</td>\n",
       "    </tr>\n",
       "    <tr>\n",
       "      <th>3</th>\n",
       "      <td>Handbook of Alternat</td>\n",
       "      <td>-</td>\n",
       "      <td>10099.0</td>\n",
       "      <td>8079 Мкд.</td>\n",
       "      <td>1</td>\n",
       "      <td>Accounting &amp; Finance</td>\n",
       "      <td>2025-05-15</td>\n",
       "    </tr>\n",
       "    <tr>\n",
       "      <th>4</th>\n",
       "      <td>Using QuickBooks (R)</td>\n",
       "      <td>Barbara), Glenn Owen</td>\n",
       "      <td>4999.0</td>\n",
       "      <td>3999 Мкд.</td>\n",
       "      <td>1</td>\n",
       "      <td>Accounting &amp; Finance</td>\n",
       "      <td>2025-05-15</td>\n",
       "    </tr>\n",
       "  </tbody>\n",
       "</table>\n",
       "</div>"
      ],
      "text/plain": [
       "                  Title                Author  Real Price Sale Price  Sale  \\\n",
       "0            Accounting       Warren, Carl S.      6199.0  4959 Мкд.     1   \n",
       "1  Pricing in General I        Parodi, Pietro      5399.0  4319 Мкд.     1   \n",
       "2  Behavioral Finance i    Kubinska, Elzbieta      9399.0  7519 Мкд.     1   \n",
       "3  Handbook of Alternat                     -     10099.0  8079 Мкд.     1   \n",
       "4  Using QuickBooks (R)  Barbara), Glenn Owen      4999.0  3999 Мкд.     1   \n",
       "\n",
       "               Category Retrieved At  \n",
       "0  Accounting & Finance   2025-05-15  \n",
       "1  Accounting & Finance   2025-05-15  \n",
       "2  Accounting & Finance   2025-05-15  \n",
       "3  Accounting & Finance   2025-05-15  \n",
       "4  Accounting & Finance   2025-05-15  "
      ]
     },
     "execution_count": 18,
     "metadata": {},
     "output_type": "execute_result"
    }
   ],
   "source": [
    "df.head()"
   ]
  },
  {
   "cell_type": "markdown",
   "id": "8b66e9b2",
   "metadata": {},
   "source": [
    "TODO:\n",
    "- -in author\n",
    "- check for ?\n",
    "check for NA,NA,NA... rows\n",
    "- extract mkd\n",
    "- convert sale to bool\n",
    "- convert retrieved_at to datetime\n",
    "- check for duplicates\n",
    "- check for multiple authors (, and)"
   ]
  },
  {
   "cell_type": "code",
   "execution_count": 19,
   "id": "cb672bb7",
   "metadata": {},
   "outputs": [
    {
     "data": {
      "text/plain": [
       "Title           629\n",
       "Author          631\n",
       "Real Price      629\n",
       "Sale Price      629\n",
       "Sale              0\n",
       "Category          0\n",
       "Retrieved At      0\n",
       "dtype: int64"
      ]
     },
     "execution_count": 19,
     "metadata": {},
     "output_type": "execute_result"
    }
   ],
   "source": [
    "df.isnull().sum()"
   ]
  },
  {
   "cell_type": "code",
   "execution_count": 20,
   "id": "82ebee36",
   "metadata": {},
   "outputs": [
    {
     "data": {
      "text/plain": [
       "25165"
      ]
     },
     "execution_count": 20,
     "metadata": {},
     "output_type": "execute_result"
    }
   ],
   "source": [
    "df.shape[0]"
   ]
  },
  {
   "cell_type": "markdown",
   "id": "77e83abd",
   "metadata": {},
   "source": [
    "### Preprocessing Output Summary"
   ]
  },
  {
   "cell_type": "markdown",
   "id": "cf894e65",
   "metadata": {},
   "source": [
    "Number of Books Scraped"
   ]
  },
  {
   "cell_type": "code",
   "execution_count": 21,
   "id": "f665e958",
   "metadata": {},
   "outputs": [
    {
     "data": {
      "text/plain": [
       "25165"
      ]
     },
     "execution_count": 21,
     "metadata": {},
     "output_type": "execute_result"
    }
   ],
   "source": [
    "df.shape[0]"
   ]
  },
  {
   "cell_type": "markdown",
   "id": "080092a3",
   "metadata": {},
   "source": [
    "Number of categories"
   ]
  },
  {
   "cell_type": "code",
   "execution_count": 22,
   "id": "f07fea43",
   "metadata": {},
   "outputs": [
    {
     "name": "stdout",
     "output_type": "stream",
     "text": [
      "37\n"
     ]
    }
   ],
   "source": [
    "total_categories = df['Category'].nunique()\n",
    "print(total_categories)"
   ]
  },
  {
   "cell_type": "markdown",
   "id": "76d2b018",
   "metadata": {},
   "source": [
    "Number of Discounted Books\n"
   ]
  },
  {
   "cell_type": "code",
   "execution_count": 23,
   "id": "54dc5db2",
   "metadata": {},
   "outputs": [],
   "source": [
    "# num_distinct_on_sale = df[df['IsOnSale'] == True]['Title'].nunique()\n",
    "# print(num_distinct_on_sale)"
   ]
  }
 ],
 "metadata": {
  "kernelspec": {
   "display_name": ".venv",
   "language": "python",
   "name": "python3"
  },
  "language_info": {
   "codemirror_mode": {
    "name": "ipython",
    "version": 3
   },
   "file_extension": ".py",
   "mimetype": "text/x-python",
   "name": "python",
   "nbconvert_exporter": "python",
   "pygments_lexer": "ipython3",
   "version": "3.13.2"
  }
 },
 "nbformat": 4,
 "nbformat_minor": 5
}
