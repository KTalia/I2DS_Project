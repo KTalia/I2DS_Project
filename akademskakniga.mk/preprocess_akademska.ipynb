{
 "cells": [
  {
   "cell_type": "markdown",
   "id": "3f51883a",
   "metadata": {},
   "source": [
    "# 📚 AkademskaKniga.mk - Book Dataset Cleaning & Preprocessing"
   ]
  },
  {
   "cell_type": "code",
   "execution_count": 82,
   "id": "83b1ecbb",
   "metadata": {},
   "outputs": [],
   "source": [
    "import pandas as pd\n",
    "import numpy as np"
   ]
  },
  {
   "cell_type": "code",
   "execution_count": 83,
   "id": "2deed8a1",
   "metadata": {},
   "outputs": [],
   "source": [
    "df= pd.read_csv('akademska_books.csv', encoding='utf-8-sig') "
   ]
  },
  {
   "cell_type": "code",
   "execution_count": 84,
   "id": "e9377f4c",
   "metadata": {},
   "outputs": [
    {
     "data": {
      "application/vnd.microsoft.datawrangler.viewer.v0+json": {
       "columns": [
        {
         "name": "index",
         "rawType": "int64",
         "type": "integer"
        },
        {
         "name": "Title",
         "rawType": "object",
         "type": "string"
        },
        {
         "name": "Author",
         "rawType": "object",
         "type": "string"
        },
        {
         "name": "Real Price",
         "rawType": "float64",
         "type": "float"
        },
        {
         "name": "Sale Price",
         "rawType": "object",
         "type": "string"
        },
        {
         "name": "Sale",
         "rawType": "int64",
         "type": "integer"
        },
        {
         "name": "Category",
         "rawType": "object",
         "type": "string"
        },
        {
         "name": "Retrieved At",
         "rawType": "object",
         "type": "string"
        }
       ],
       "conversionMethod": "pd.DataFrame",
       "ref": "867935d1-b7d4-49f7-821a-fccfe4655231",
       "rows": [
        [
         "0",
         "Accounting",
         "Warren, Carl S.",
         "6199.0",
         "4959 Мкд.",
         "1",
         "Accounting & Finance",
         "2025-05-15"
        ],
        [
         "1",
         "Pricing in General I",
         "Parodi, Pietro",
         "5399.0",
         "4319 Мкд.",
         "1",
         "Accounting & Finance",
         "2025-05-15"
        ],
        [
         "2",
         "Behavioral Finance i",
         "Kubinska, Elzbieta",
         "9399.0",
         "7519 Мкд.",
         "1",
         "Accounting & Finance",
         "2025-05-15"
        ],
        [
         "3",
         "Handbook of Alternat",
         "-",
         "10099.0",
         "8079 Мкд.",
         "1",
         "Accounting & Finance",
         "2025-05-15"
        ],
        [
         "4",
         "Using QuickBooks (R)",
         "Barbara), Glenn Owen",
         "4999.0",
         "3999 Мкд.",
         "1",
         "Accounting & Finance",
         "2025-05-15"
        ]
       ],
       "shape": {
        "columns": 7,
        "rows": 5
       }
      },
      "text/html": [
       "<div>\n",
       "<style scoped>\n",
       "    .dataframe tbody tr th:only-of-type {\n",
       "        vertical-align: middle;\n",
       "    }\n",
       "\n",
       "    .dataframe tbody tr th {\n",
       "        vertical-align: top;\n",
       "    }\n",
       "\n",
       "    .dataframe thead th {\n",
       "        text-align: right;\n",
       "    }\n",
       "</style>\n",
       "<table border=\"1\" class=\"dataframe\">\n",
       "  <thead>\n",
       "    <tr style=\"text-align: right;\">\n",
       "      <th></th>\n",
       "      <th>Title</th>\n",
       "      <th>Author</th>\n",
       "      <th>Real Price</th>\n",
       "      <th>Sale Price</th>\n",
       "      <th>Sale</th>\n",
       "      <th>Category</th>\n",
       "      <th>Retrieved At</th>\n",
       "    </tr>\n",
       "  </thead>\n",
       "  <tbody>\n",
       "    <tr>\n",
       "      <th>0</th>\n",
       "      <td>Accounting</td>\n",
       "      <td>Warren, Carl S.</td>\n",
       "      <td>6199.0</td>\n",
       "      <td>4959 Мкд.</td>\n",
       "      <td>1</td>\n",
       "      <td>Accounting &amp; Finance</td>\n",
       "      <td>2025-05-15</td>\n",
       "    </tr>\n",
       "    <tr>\n",
       "      <th>1</th>\n",
       "      <td>Pricing in General I</td>\n",
       "      <td>Parodi, Pietro</td>\n",
       "      <td>5399.0</td>\n",
       "      <td>4319 Мкд.</td>\n",
       "      <td>1</td>\n",
       "      <td>Accounting &amp; Finance</td>\n",
       "      <td>2025-05-15</td>\n",
       "    </tr>\n",
       "    <tr>\n",
       "      <th>2</th>\n",
       "      <td>Behavioral Finance i</td>\n",
       "      <td>Kubinska, Elzbieta</td>\n",
       "      <td>9399.0</td>\n",
       "      <td>7519 Мкд.</td>\n",
       "      <td>1</td>\n",
       "      <td>Accounting &amp; Finance</td>\n",
       "      <td>2025-05-15</td>\n",
       "    </tr>\n",
       "    <tr>\n",
       "      <th>3</th>\n",
       "      <td>Handbook of Alternat</td>\n",
       "      <td>-</td>\n",
       "      <td>10099.0</td>\n",
       "      <td>8079 Мкд.</td>\n",
       "      <td>1</td>\n",
       "      <td>Accounting &amp; Finance</td>\n",
       "      <td>2025-05-15</td>\n",
       "    </tr>\n",
       "    <tr>\n",
       "      <th>4</th>\n",
       "      <td>Using QuickBooks (R)</td>\n",
       "      <td>Barbara), Glenn Owen</td>\n",
       "      <td>4999.0</td>\n",
       "      <td>3999 Мкд.</td>\n",
       "      <td>1</td>\n",
       "      <td>Accounting &amp; Finance</td>\n",
       "      <td>2025-05-15</td>\n",
       "    </tr>\n",
       "  </tbody>\n",
       "</table>\n",
       "</div>"
      ],
      "text/plain": [
       "                  Title                Author  Real Price Sale Price  Sale  \\\n",
       "0            Accounting       Warren, Carl S.      6199.0  4959 Мкд.     1   \n",
       "1  Pricing in General I        Parodi, Pietro      5399.0  4319 Мкд.     1   \n",
       "2  Behavioral Finance i    Kubinska, Elzbieta      9399.0  7519 Мкд.     1   \n",
       "3  Handbook of Alternat                     -     10099.0  8079 Мкд.     1   \n",
       "4  Using QuickBooks (R)  Barbara), Glenn Owen      4999.0  3999 Мкд.     1   \n",
       "\n",
       "               Category Retrieved At  \n",
       "0  Accounting & Finance   2025-05-15  \n",
       "1  Accounting & Finance   2025-05-15  \n",
       "2  Accounting & Finance   2025-05-15  \n",
       "3  Accounting & Finance   2025-05-15  \n",
       "4  Accounting & Finance   2025-05-15  "
      ]
     },
     "execution_count": 84,
     "metadata": {},
     "output_type": "execute_result"
    }
   ],
   "source": [
    "df.head()"
   ]
  },
  {
   "cell_type": "markdown",
   "id": "240666b3",
   "metadata": {},
   "source": [
    "### 1. Converting the 'Sale' Column to Boolean & rename it"
   ]
  },
  {
   "cell_type": "code",
   "execution_count": 85,
   "id": "6240ebed",
   "metadata": {},
   "outputs": [],
   "source": [
    "df[\"Sale\"] = df[\"Sale\"].astype(bool)"
   ]
  },
  {
   "cell_type": "code",
   "execution_count": 86,
   "id": "239f9b90",
   "metadata": {},
   "outputs": [],
   "source": [
    "df = df.rename(columns={\"Sale\": \"IsOnSale\"})"
   ]
  },
  {
   "cell_type": "markdown",
   "id": "cc52446a",
   "metadata": {},
   "source": [
    "### 2. Convert the 'Retrieved At' column to datetime format."
   ]
  },
  {
   "cell_type": "code",
   "execution_count": 87,
   "id": "1a5c228e",
   "metadata": {},
   "outputs": [],
   "source": [
    "df['Retrieved At'] = pd.to_datetime(df['Retrieved At'])"
   ]
  },
  {
   "cell_type": "markdown",
   "id": "67808534",
   "metadata": {},
   "source": [
    "### 3. Prices\n",
    "- Before converting to numeric,remove \"Мкд.\", remove commas and strip whitespace\n"
   ]
  },
  {
   "cell_type": "code",
   "execution_count": 88,
   "id": "8de4f501",
   "metadata": {},
   "outputs": [],
   "source": [
    "df['Sale Price'] = df['Sale Price'].str.replace(\"Мкд.\", \"\", regex=False).str.replace(\",\", \"\").str.strip()\n",
    "\n",
    "df[\"Real Price\"] = pd.to_numeric(df[\"Real Price\"], errors=\"coerce\")\n",
    "df[\"Sale Price\"] = pd.to_numeric(df[\"Sale Price\"], errors=\"coerce\")\n",
    "df['Sale Price'] = df['Sale Price'].astype(float)"
   ]
  },
  {
   "cell_type": "markdown",
   "id": "b01ad195",
   "metadata": {},
   "source": [
    "### 4. Remove duplicates"
   ]
  },
  {
   "cell_type": "code",
   "execution_count": 89,
   "id": "6b8b52f8",
   "metadata": {},
   "outputs": [
    {
     "name": "stdout",
     "output_type": "stream",
     "text": [
      "Length of duplicates:  5122\n"
     ]
    }
   ],
   "source": [
    "duplicates = df[df.duplicated(keep=False)]\n",
    "duplicates = duplicates.sort_values(by=['Title', 'Author'])\n",
    "print(\"Length of duplicates: \", len(duplicates))"
   ]
  },
  {
   "cell_type": "code",
   "execution_count": 90,
   "id": "2cf399b6",
   "metadata": {},
   "outputs": [
    {
     "name": "stdout",
     "output_type": "stream",
     "text": [
      "Original: 24536\n",
      "After drop_duplicates: 21393\n"
     ]
    }
   ],
   "source": [
    "print(\"Original:\", len(df))\n",
    "df = df.drop_duplicates()\n",
    "print(\"After drop_duplicates:\", len(df))"
   ]
  },
  {
   "cell_type": "markdown",
   "id": "0378684c",
   "metadata": {},
   "source": [
    "### 4. Define a function to normalize author names  \n",
    "- Inconsistent Formats:\n",
    "    - Some names are written in the `\"LastName, FirstName\"` format.\n",
    "    - Others are written in `\"FirstName LastName\"` or even as a comma-separated list of multiple authors.\n",
    "\n",
    "- Normalizing names into a consistent format like `\"FirstName LastName\"` or `\"Author1 Author2 Author3\"`."
   ]
  },
  {
   "cell_type": "code",
   "execution_count": 91,
   "id": "eb2cf3cb",
   "metadata": {},
   "outputs": [],
   "source": [
    "def normalize_author(author):\n",
    "    if pd.isna(author):\n",
    "        return author  \n",
    "    if ',' in author:\n",
    "        parts = [part.strip() for part in author.split(',')]\n",
    "        return ' '.join(parts[::-1])\n",
    "    return author"
   ]
  },
  {
   "cell_type": "code",
   "execution_count": 92,
   "id": "12e5aedc",
   "metadata": {},
   "outputs": [],
   "source": [
    "df['Author'] = df['Author'].apply(normalize_author)"
   ]
  },
  {
   "cell_type": "code",
   "execution_count": 93,
   "id": "6596b534",
   "metadata": {},
   "outputs": [
    {
     "data": {
      "application/vnd.microsoft.datawrangler.viewer.v0+json": {
       "columns": [
        {
         "name": "index",
         "rawType": "int64",
         "type": "integer"
        },
        {
         "name": "Title",
         "rawType": "object",
         "type": "string"
        },
        {
         "name": "Author",
         "rawType": "object",
         "type": "string"
        },
        {
         "name": "Real Price",
         "rawType": "float64",
         "type": "float"
        },
        {
         "name": "Sale Price",
         "rawType": "float64",
         "type": "float"
        },
        {
         "name": "IsOnSale",
         "rawType": "bool",
         "type": "boolean"
        },
        {
         "name": "Category",
         "rawType": "object",
         "type": "string"
        },
        {
         "name": "Retrieved At",
         "rawType": "datetime64[ns]",
         "type": "datetime"
        }
       ],
       "conversionMethod": "pd.DataFrame",
       "ref": "20293d18-5658-415a-b623-7906ff4d5481",
       "rows": [
        [
         "0",
         "Accounting",
         "Carl S. Warren",
         "6199.0",
         "4959.0",
         "True",
         "Accounting & Finance",
         "2025-05-15 00:00:00"
        ],
        [
         "1",
         "Pricing in General I",
         "Pietro Parodi",
         "5399.0",
         "4319.0",
         "True",
         "Accounting & Finance",
         "2025-05-15 00:00:00"
        ],
        [
         "2",
         "Behavioral Finance i",
         "Elzbieta Kubinska",
         "9399.0",
         "7519.0",
         "True",
         "Accounting & Finance",
         "2025-05-15 00:00:00"
        ],
        [
         "3",
         "Handbook of Alternat",
         "-",
         "10099.0",
         "8079.0",
         "True",
         "Accounting & Finance",
         "2025-05-15 00:00:00"
        ],
        [
         "4",
         "Using QuickBooks (R)",
         "Glenn Owen Barbara)",
         "4999.0",
         "3999.0",
         "True",
         "Accounting & Finance",
         "2025-05-15 00:00:00"
        ]
       ],
       "shape": {
        "columns": 7,
        "rows": 5
       }
      },
      "text/html": [
       "<div>\n",
       "<style scoped>\n",
       "    .dataframe tbody tr th:only-of-type {\n",
       "        vertical-align: middle;\n",
       "    }\n",
       "\n",
       "    .dataframe tbody tr th {\n",
       "        vertical-align: top;\n",
       "    }\n",
       "\n",
       "    .dataframe thead th {\n",
       "        text-align: right;\n",
       "    }\n",
       "</style>\n",
       "<table border=\"1\" class=\"dataframe\">\n",
       "  <thead>\n",
       "    <tr style=\"text-align: right;\">\n",
       "      <th></th>\n",
       "      <th>Title</th>\n",
       "      <th>Author</th>\n",
       "      <th>Real Price</th>\n",
       "      <th>Sale Price</th>\n",
       "      <th>IsOnSale</th>\n",
       "      <th>Category</th>\n",
       "      <th>Retrieved At</th>\n",
       "    </tr>\n",
       "  </thead>\n",
       "  <tbody>\n",
       "    <tr>\n",
       "      <th>0</th>\n",
       "      <td>Accounting</td>\n",
       "      <td>Carl S. Warren</td>\n",
       "      <td>6199.0</td>\n",
       "      <td>4959.0</td>\n",
       "      <td>True</td>\n",
       "      <td>Accounting &amp; Finance</td>\n",
       "      <td>2025-05-15</td>\n",
       "    </tr>\n",
       "    <tr>\n",
       "      <th>1</th>\n",
       "      <td>Pricing in General I</td>\n",
       "      <td>Pietro Parodi</td>\n",
       "      <td>5399.0</td>\n",
       "      <td>4319.0</td>\n",
       "      <td>True</td>\n",
       "      <td>Accounting &amp; Finance</td>\n",
       "      <td>2025-05-15</td>\n",
       "    </tr>\n",
       "    <tr>\n",
       "      <th>2</th>\n",
       "      <td>Behavioral Finance i</td>\n",
       "      <td>Elzbieta Kubinska</td>\n",
       "      <td>9399.0</td>\n",
       "      <td>7519.0</td>\n",
       "      <td>True</td>\n",
       "      <td>Accounting &amp; Finance</td>\n",
       "      <td>2025-05-15</td>\n",
       "    </tr>\n",
       "    <tr>\n",
       "      <th>3</th>\n",
       "      <td>Handbook of Alternat</td>\n",
       "      <td>-</td>\n",
       "      <td>10099.0</td>\n",
       "      <td>8079.0</td>\n",
       "      <td>True</td>\n",
       "      <td>Accounting &amp; Finance</td>\n",
       "      <td>2025-05-15</td>\n",
       "    </tr>\n",
       "    <tr>\n",
       "      <th>4</th>\n",
       "      <td>Using QuickBooks (R)</td>\n",
       "      <td>Glenn Owen Barbara)</td>\n",
       "      <td>4999.0</td>\n",
       "      <td>3999.0</td>\n",
       "      <td>True</td>\n",
       "      <td>Accounting &amp; Finance</td>\n",
       "      <td>2025-05-15</td>\n",
       "    </tr>\n",
       "  </tbody>\n",
       "</table>\n",
       "</div>"
      ],
      "text/plain": [
       "                  Title               Author  Real Price  Sale Price  \\\n",
       "0            Accounting       Carl S. Warren      6199.0      4959.0   \n",
       "1  Pricing in General I        Pietro Parodi      5399.0      4319.0   \n",
       "2  Behavioral Finance i    Elzbieta Kubinska      9399.0      7519.0   \n",
       "3  Handbook of Alternat                    -     10099.0      8079.0   \n",
       "4  Using QuickBooks (R)  Glenn Owen Barbara)      4999.0      3999.0   \n",
       "\n",
       "   IsOnSale              Category Retrieved At  \n",
       "0      True  Accounting & Finance   2025-05-15  \n",
       "1      True  Accounting & Finance   2025-05-15  \n",
       "2      True  Accounting & Finance   2025-05-15  \n",
       "3      True  Accounting & Finance   2025-05-15  \n",
       "4      True  Accounting & Finance   2025-05-15  "
      ]
     },
     "execution_count": 93,
     "metadata": {},
     "output_type": "execute_result"
    }
   ],
   "source": [
    "df.head()"
   ]
  },
  {
   "cell_type": "markdown",
   "id": "73ba6a7a",
   "metadata": {},
   "source": [
    "### 5. Replace '?' in author with null"
   ]
  },
  {
   "cell_type": "code",
   "execution_count": 94,
   "id": "9e9ce044",
   "metadata": {},
   "outputs": [],
   "source": [
    "df.loc[df['Author'].str.match(r'^[\\?=]+$', na=False), 'Author'] = np.nan"
   ]
  },
  {
   "cell_type": "markdown",
   "id": "d9a80e07",
   "metadata": {},
   "source": [
    "### 6. Replace '-' in author with null"
   ]
  },
  {
   "cell_type": "code",
   "execution_count": 95,
   "id": "68ee76ab",
   "metadata": {},
   "outputs": [],
   "source": [
    "df.loc[df['Author'] == '-', 'Author'] = np.nan"
   ]
  },
  {
   "cell_type": "markdown",
   "id": "78aa0c5a",
   "metadata": {},
   "source": [
    "### 7. Replace \"-\" with spaces only in the 'Author' column, e.g. \"Maria Herbert-Liew\" → \"Maria Herbert Liew\""
   ]
  },
  {
   "cell_type": "code",
   "execution_count": 96,
   "id": "c7b6b696",
   "metadata": {},
   "outputs": [],
   "source": [
    "df['Author'] = df['Author'].str.replace('-', ' ', regex=False)"
   ]
  },
  {
   "cell_type": "markdown",
   "id": "b093e1eb",
   "metadata": {},
   "source": [
    "### 8. Remove numbers from the 'Author' column,e.g. '1854 19 Oscar Wilde'"
   ]
  },
  {
   "cell_type": "code",
   "execution_count": 97,
   "id": "97d2f742",
   "metadata": {},
   "outputs": [],
   "source": [
    "df['Author'] = df['Author'].str.replace(r'\\d+', '', regex=True).str.strip().str.replace(r'\\s+', ' ', regex=True)"
   ]
  },
  {
   "cell_type": "markdown",
   "id": "62543657",
   "metadata": {},
   "source": [
    "### 9. Remove all parentheses \n",
    "- Remove all parentheses  and their content, matched or unmatched, including the parentheses themselves.\n",
    "- This simplifies your data, especially if the content inside parentheses is often additional info like (editor), (illustrator), or incomplete fragments like (author,  or author)."
   ]
  },
  {
   "cell_type": "code",
   "execution_count": 98,
   "id": "6ecb5493",
   "metadata": {},
   "outputs": [
    {
     "name": "stdout",
     "output_type": "stream",
     "text": [
      "Before cleaning:\n"
     ]
    },
    {
     "data": {
      "application/vnd.microsoft.datawrangler.viewer.v0+json": {
       "columns": [
        {
         "name": "index",
         "rawType": "int64",
         "type": "integer"
        },
        {
         "name": "Author",
         "rawType": "object",
         "type": "string"
        }
       ],
       "conversionMethod": "pd.DataFrame",
       "ref": "8e0b0748-2ed2-4eb8-9339-b10a8adebe4b",
       "rows": [
        [
         "4",
         "Glenn Owen Barbara)"
        ],
        [
         "45",
         "Financial (author)"
        ],
        [
         "88",
         "Parveen Za (editor)"
        ],
        [
         "143",
         "Melan (illustrator)"
        ],
        [
         "173",
         "Arse (photographer)"
        ],
        [
         "210",
         "Tadao (illustrator)"
        ],
        [
         "375",
         "Angelika T (editor)"
        ],
        [
         "379",
         "Conr (photographer)"
        ],
        [
         "396",
         "Modular Proj (Firm)"
        ],
        [
         "400",
         "Landskap Desi body)"
        ],
        [
         "455",
         "Royal Institu body)"
        ],
        [
         "457",
         "Royal Institu body)"
        ],
        [
         "463",
         "Robert H. (editor)"
        ],
        [
         "476",
         "Manuelle Gau (Firm)"
        ],
        [
         "481",
         "Philip Jod (editor)"
        ],
        [
         "488",
         "Reto (photographer)"
        ],
        [
         "489",
         "Angelika T (editor)"
        ],
        [
         "490",
         "Angelika T (editor)"
        ],
        [
         "500",
         "Moshe S (architect)"
        ],
        [
         "501",
         "American Inst body)"
        ],
        [
         "536",
         "Cayetano C (editor)"
        ],
        [
         "539",
         "Natalie H? (editor)"
        ],
        [
         "590",
         "Elton Joh (honoree)"
        ],
        [
         "683",
         "Rainer Met (editor)"
        ],
        [
         "1018",
         "Mark Holbo (editor)"
        ],
        [
         "1338",
         "Ala (contributions)"
        ],
        [
         "1346",
         "Loewy (Firm)"
        ],
        [
         "1432",
         "Knitting for work)"
        ],
        [
         "1509",
         "Kari A. Co (editor)"
        ],
        [
         "1514",
         "Herl (photographer)"
        ],
        [
         "1515",
         "David (illustrator)"
        ],
        [
         "1516",
         "Davi (photographer)"
        ],
        [
         "1525",
         "Julius Wie (editor)"
        ],
        [
         "1526",
         "Julius Wie (editor)"
        ],
        [
         "1527",
         "Steve Cris (editor)"
        ],
        [
         "1528",
         "Harry (PHT)"
        ],
        [
         "1529",
         "Chris Murr (editor)"
        ],
        [
         "1530",
         "Davi (photographer)"
        ],
        [
         "1532",
         "Dian Hanso (editor)"
        ],
        [
         "1536",
         "United States work)"
        ],
        [
         "1550",
         "Bett (photographer)"
        ],
        [
         "1553",
         "Paul Dunca (editor)"
        ],
        [
         "1565",
         "Harr (photographer)"
        ],
        [
         "1566",
         "Anto (photographer)"
        ],
        [
         "1567",
         "Salvador D (artist)"
        ],
        [
         "1574",
         "Lee Shulma (editor)"
        ],
        [
         "1577",
         "Yang Liu (artist)"
        ],
        [
         "1716",
         "Jero (photographer)"
        ],
        [
         "1748",
         "Renee Flem (editor)"
        ],
        [
         "1774",
         "Mona Eltah content)"
        ]
       ],
       "shape": {
        "columns": 1,
        "rows": 362
       }
      },
      "text/html": [
       "<div>\n",
       "<style scoped>\n",
       "    .dataframe tbody tr th:only-of-type {\n",
       "        vertical-align: middle;\n",
       "    }\n",
       "\n",
       "    .dataframe tbody tr th {\n",
       "        vertical-align: top;\n",
       "    }\n",
       "\n",
       "    .dataframe thead th {\n",
       "        text-align: right;\n",
       "    }\n",
       "</style>\n",
       "<table border=\"1\" class=\"dataframe\">\n",
       "  <thead>\n",
       "    <tr style=\"text-align: right;\">\n",
       "      <th></th>\n",
       "      <th>Author</th>\n",
       "    </tr>\n",
       "  </thead>\n",
       "  <tbody>\n",
       "    <tr>\n",
       "      <th>4</th>\n",
       "      <td>Glenn Owen Barbara)</td>\n",
       "    </tr>\n",
       "    <tr>\n",
       "      <th>45</th>\n",
       "      <td>Financial (author)</td>\n",
       "    </tr>\n",
       "    <tr>\n",
       "      <th>88</th>\n",
       "      <td>Parveen Za (editor)</td>\n",
       "    </tr>\n",
       "    <tr>\n",
       "      <th>143</th>\n",
       "      <td>Melan (illustrator)</td>\n",
       "    </tr>\n",
       "    <tr>\n",
       "      <th>173</th>\n",
       "      <td>Arse (photographer)</td>\n",
       "    </tr>\n",
       "    <tr>\n",
       "      <th>...</th>\n",
       "      <td>...</td>\n",
       "    </tr>\n",
       "    <tr>\n",
       "      <th>24489</th>\n",
       "      <td>Syuhe (illustrator)</td>\n",
       "    </tr>\n",
       "    <tr>\n",
       "      <th>24522</th>\n",
       "      <td>GODSS (illustrator)</td>\n",
       "    </tr>\n",
       "    <tr>\n",
       "      <th>24526</th>\n",
       "      <td>Tracy Yard (artist)</td>\n",
       "    </tr>\n",
       "    <tr>\n",
       "      <th>24527</th>\n",
       "      <td>Tomo (illustrator)</td>\n",
       "    </tr>\n",
       "    <tr>\n",
       "      <th>24535</th>\n",
       "      <td>Nimo (illustrator)</td>\n",
       "    </tr>\n",
       "  </tbody>\n",
       "</table>\n",
       "<p>362 rows × 1 columns</p>\n",
       "</div>"
      ],
      "text/plain": [
       "                    Author\n",
       "4      Glenn Owen Barbara)\n",
       "45      Financial (author)\n",
       "88     Parveen Za (editor)\n",
       "143    Melan (illustrator)\n",
       "173    Arse (photographer)\n",
       "...                    ...\n",
       "24489  Syuhe (illustrator)\n",
       "24522  GODSS (illustrator)\n",
       "24526  Tracy Yard (artist)\n",
       "24527   Tomo (illustrator)\n",
       "24535   Nimo (illustrator)\n",
       "\n",
       "[362 rows x 1 columns]"
      ]
     },
     "execution_count": 98,
     "metadata": {},
     "output_type": "execute_result"
    }
   ],
   "source": [
    "mask = df['Author'].str.contains(r'[\\(\\)]', regex=True, na=False)\n",
    "\n",
    "print(\"Before cleaning:\")\n",
    "df.loc[mask, ['Author']]"
   ]
  },
  {
   "cell_type": "code",
   "execution_count": 99,
   "id": "691a58c1",
   "metadata": {},
   "outputs": [
    {
     "name": "stdout",
     "output_type": "stream",
     "text": [
      "\n",
      "After cleaning:\n"
     ]
    },
    {
     "data": {
      "application/vnd.microsoft.datawrangler.viewer.v0+json": {
       "columns": [
        {
         "name": "index",
         "rawType": "int64",
         "type": "integer"
        },
        {
         "name": "Author",
         "rawType": "object",
         "type": "string"
        }
       ],
       "conversionMethod": "pd.DataFrame",
       "ref": "e69aba43-d2cc-4b2c-8000-546da2360f3f",
       "rows": [
        [
         "4",
         "Glenn Owen Barbara"
        ],
        [
         "45",
         "Financial"
        ],
        [
         "88",
         "Parveen Za"
        ],
        [
         "143",
         "Melan"
        ],
        [
         "173",
         "Arse"
        ],
        [
         "210",
         "Tadao"
        ],
        [
         "375",
         "Angelika T"
        ],
        [
         "379",
         "Conr"
        ],
        [
         "396",
         "Modular Proj"
        ],
        [
         "400",
         "Landskap Desi body"
        ],
        [
         "455",
         "Royal Institu body"
        ],
        [
         "457",
         "Royal Institu body"
        ],
        [
         "463",
         "Robert H."
        ],
        [
         "476",
         "Manuelle Gau"
        ],
        [
         "481",
         "Philip Jod"
        ],
        [
         "488",
         "Reto"
        ],
        [
         "489",
         "Angelika T"
        ],
        [
         "490",
         "Angelika T"
        ],
        [
         "500",
         "Moshe S"
        ],
        [
         "501",
         "American Inst body"
        ],
        [
         "536",
         "Cayetano C"
        ],
        [
         "539",
         "Natalie H?"
        ],
        [
         "590",
         "Elton Joh"
        ],
        [
         "683",
         "Rainer Met"
        ],
        [
         "1018",
         "Mark Holbo"
        ],
        [
         "1338",
         "Ala"
        ],
        [
         "1346",
         "Loewy"
        ],
        [
         "1432",
         "Knitting for work"
        ],
        [
         "1509",
         "Kari A. Co"
        ],
        [
         "1514",
         "Herl"
        ],
        [
         "1515",
         "David"
        ],
        [
         "1516",
         "Davi"
        ],
        [
         "1525",
         "Julius Wie"
        ],
        [
         "1526",
         "Julius Wie"
        ],
        [
         "1527",
         "Steve Cris"
        ],
        [
         "1528",
         "Harry"
        ],
        [
         "1529",
         "Chris Murr"
        ],
        [
         "1530",
         "Davi"
        ],
        [
         "1532",
         "Dian Hanso"
        ],
        [
         "1536",
         "United States work"
        ],
        [
         "1550",
         "Bett"
        ],
        [
         "1553",
         "Paul Dunca"
        ],
        [
         "1565",
         "Harr"
        ],
        [
         "1566",
         "Anto"
        ],
        [
         "1567",
         "Salvador D"
        ],
        [
         "1574",
         "Lee Shulma"
        ],
        [
         "1577",
         "Yang Liu"
        ],
        [
         "1716",
         "Jero"
        ],
        [
         "1748",
         "Renee Flem"
        ],
        [
         "1774",
         "Mona Eltah content"
        ]
       ],
       "shape": {
        "columns": 1,
        "rows": 362
       }
      },
      "text/html": [
       "<div>\n",
       "<style scoped>\n",
       "    .dataframe tbody tr th:only-of-type {\n",
       "        vertical-align: middle;\n",
       "    }\n",
       "\n",
       "    .dataframe tbody tr th {\n",
       "        vertical-align: top;\n",
       "    }\n",
       "\n",
       "    .dataframe thead th {\n",
       "        text-align: right;\n",
       "    }\n",
       "</style>\n",
       "<table border=\"1\" class=\"dataframe\">\n",
       "  <thead>\n",
       "    <tr style=\"text-align: right;\">\n",
       "      <th></th>\n",
       "      <th>Author</th>\n",
       "    </tr>\n",
       "  </thead>\n",
       "  <tbody>\n",
       "    <tr>\n",
       "      <th>4</th>\n",
       "      <td>Glenn Owen Barbara</td>\n",
       "    </tr>\n",
       "    <tr>\n",
       "      <th>45</th>\n",
       "      <td>Financial</td>\n",
       "    </tr>\n",
       "    <tr>\n",
       "      <th>88</th>\n",
       "      <td>Parveen Za</td>\n",
       "    </tr>\n",
       "    <tr>\n",
       "      <th>143</th>\n",
       "      <td>Melan</td>\n",
       "    </tr>\n",
       "    <tr>\n",
       "      <th>173</th>\n",
       "      <td>Arse</td>\n",
       "    </tr>\n",
       "    <tr>\n",
       "      <th>...</th>\n",
       "      <td>...</td>\n",
       "    </tr>\n",
       "    <tr>\n",
       "      <th>24489</th>\n",
       "      <td>Syuhe</td>\n",
       "    </tr>\n",
       "    <tr>\n",
       "      <th>24522</th>\n",
       "      <td>GODSS</td>\n",
       "    </tr>\n",
       "    <tr>\n",
       "      <th>24526</th>\n",
       "      <td>Tracy Yard</td>\n",
       "    </tr>\n",
       "    <tr>\n",
       "      <th>24527</th>\n",
       "      <td>Tomo</td>\n",
       "    </tr>\n",
       "    <tr>\n",
       "      <th>24535</th>\n",
       "      <td>Nimo</td>\n",
       "    </tr>\n",
       "  </tbody>\n",
       "</table>\n",
       "<p>362 rows × 1 columns</p>\n",
       "</div>"
      ],
      "text/plain": [
       "                   Author\n",
       "4      Glenn Owen Barbara\n",
       "45              Financial\n",
       "88             Parveen Za\n",
       "143                 Melan\n",
       "173                  Arse\n",
       "...                   ...\n",
       "24489               Syuhe\n",
       "24522               GODSS\n",
       "24526          Tracy Yard\n",
       "24527                Tomo\n",
       "24535                Nimo\n",
       "\n",
       "[362 rows x 1 columns]"
      ]
     },
     "execution_count": 99,
     "metadata": {},
     "output_type": "execute_result"
    }
   ],
   "source": [
    "df.loc[mask, 'Author'] = df.loc[mask, 'Author'].str.replace(r'\\([^)]*\\)', '', regex=True)\n",
    "df.loc[mask, 'Author'] = df.loc[mask, 'Author'].str.replace(r'[\\(\\)]', '', regex=True)\n",
    "df.loc[mask, 'Author'] = df.loc[mask, 'Author'].str.strip()\n",
    "\n",
    "print(\"\\nAfter cleaning:\")\n",
    "df.loc[mask, ['Author']]"
   ]
  },
  {
   "cell_type": "markdown",
   "id": "dc890be0",
   "metadata": {},
   "source": [
    "### 10. Create Discount Percentage Column(%):\n",
    "- If IsOnSale is True, calculate discount info(discount percentage)"
   ]
  },
  {
   "cell_type": "code",
   "execution_count": 104,
   "id": "9708ccd3",
   "metadata": {},
   "outputs": [],
   "source": [
    "df['Discount (%)'] = 0.0\n",
    "\n",
    "mask = (df['IsOnSale'] == True) & (df['Real Price'] > 0)\n",
    "df.loc[mask, 'Discount (%)'] = (\n",
    "    ((df.loc[mask, 'Real Price'] - df.loc[mask, 'Sale Price']) / df.loc[mask, 'Real Price']) * 100\n",
    ").round().astype(int)\n"
   ]
  },
  {
   "cell_type": "code",
   "execution_count": 105,
   "id": "46c82a87",
   "metadata": {},
   "outputs": [
    {
     "data": {
      "application/vnd.microsoft.datawrangler.viewer.v0+json": {
       "columns": [
        {
         "name": "index",
         "rawType": "int64",
         "type": "integer"
        },
        {
         "name": "Title",
         "rawType": "object",
         "type": "string"
        },
        {
         "name": "Author",
         "rawType": "object",
         "type": "unknown"
        },
        {
         "name": "Real Price",
         "rawType": "float64",
         "type": "float"
        },
        {
         "name": "Sale Price",
         "rawType": "float64",
         "type": "float"
        },
        {
         "name": "IsOnSale",
         "rawType": "bool",
         "type": "boolean"
        },
        {
         "name": "Category",
         "rawType": "object",
         "type": "string"
        },
        {
         "name": "Retrieved At",
         "rawType": "object",
         "type": "string"
        },
        {
         "name": "Discount (%)",
         "rawType": "float64",
         "type": "float"
        }
       ],
       "conversionMethod": "pd.DataFrame",
       "ref": "44dc7a66-1122-412c-a927-88ec5edeab1b",
       "rows": [
        [
         "0",
         "Accounting",
         "Carl S. Warren",
         "6199.0",
         "4959.0",
         "True",
         "Accounting & Finance",
         "2025-05-15",
         "20.0"
        ],
        [
         "1",
         "Pricing in General I",
         "Pietro Parodi",
         "5399.0",
         "4319.0",
         "True",
         "Accounting & Finance",
         "2025-05-15",
         "20.0"
        ],
        [
         "2",
         "Behavioral Finance i",
         "Elzbieta Kubinska",
         "9399.0",
         "7519.0",
         "True",
         "Accounting & Finance",
         "2025-05-15",
         "20.0"
        ],
        [
         "3",
         "Handbook of Alternat",
         null,
         "10099.0",
         "8079.0",
         "True",
         "Accounting & Finance",
         "2025-05-15",
         "20.0"
        ],
        [
         "4",
         "Using QuickBooks (R)",
         "Glenn Owen Barbara",
         "4999.0",
         "3999.0",
         "True",
         "Accounting & Finance",
         "2025-05-15",
         "20.0"
        ]
       ],
       "shape": {
        "columns": 8,
        "rows": 5
       }
      },
      "text/html": [
       "<div>\n",
       "<style scoped>\n",
       "    .dataframe tbody tr th:only-of-type {\n",
       "        vertical-align: middle;\n",
       "    }\n",
       "\n",
       "    .dataframe tbody tr th {\n",
       "        vertical-align: top;\n",
       "    }\n",
       "\n",
       "    .dataframe thead th {\n",
       "        text-align: right;\n",
       "    }\n",
       "</style>\n",
       "<table border=\"1\" class=\"dataframe\">\n",
       "  <thead>\n",
       "    <tr style=\"text-align: right;\">\n",
       "      <th></th>\n",
       "      <th>Title</th>\n",
       "      <th>Author</th>\n",
       "      <th>Real Price</th>\n",
       "      <th>Sale Price</th>\n",
       "      <th>IsOnSale</th>\n",
       "      <th>Category</th>\n",
       "      <th>Retrieved At</th>\n",
       "      <th>Discount (%)</th>\n",
       "    </tr>\n",
       "  </thead>\n",
       "  <tbody>\n",
       "    <tr>\n",
       "      <th>0</th>\n",
       "      <td>Accounting</td>\n",
       "      <td>Carl S. Warren</td>\n",
       "      <td>6199.0</td>\n",
       "      <td>4959.0</td>\n",
       "      <td>True</td>\n",
       "      <td>Accounting &amp; Finance</td>\n",
       "      <td>2025-05-15</td>\n",
       "      <td>20.0</td>\n",
       "    </tr>\n",
       "    <tr>\n",
       "      <th>1</th>\n",
       "      <td>Pricing in General I</td>\n",
       "      <td>Pietro Parodi</td>\n",
       "      <td>5399.0</td>\n",
       "      <td>4319.0</td>\n",
       "      <td>True</td>\n",
       "      <td>Accounting &amp; Finance</td>\n",
       "      <td>2025-05-15</td>\n",
       "      <td>20.0</td>\n",
       "    </tr>\n",
       "    <tr>\n",
       "      <th>2</th>\n",
       "      <td>Behavioral Finance i</td>\n",
       "      <td>Elzbieta Kubinska</td>\n",
       "      <td>9399.0</td>\n",
       "      <td>7519.0</td>\n",
       "      <td>True</td>\n",
       "      <td>Accounting &amp; Finance</td>\n",
       "      <td>2025-05-15</td>\n",
       "      <td>20.0</td>\n",
       "    </tr>\n",
       "    <tr>\n",
       "      <th>3</th>\n",
       "      <td>Handbook of Alternat</td>\n",
       "      <td>NaN</td>\n",
       "      <td>10099.0</td>\n",
       "      <td>8079.0</td>\n",
       "      <td>True</td>\n",
       "      <td>Accounting &amp; Finance</td>\n",
       "      <td>2025-05-15</td>\n",
       "      <td>20.0</td>\n",
       "    </tr>\n",
       "    <tr>\n",
       "      <th>4</th>\n",
       "      <td>Using QuickBooks (R)</td>\n",
       "      <td>Glenn Owen Barbara</td>\n",
       "      <td>4999.0</td>\n",
       "      <td>3999.0</td>\n",
       "      <td>True</td>\n",
       "      <td>Accounting &amp; Finance</td>\n",
       "      <td>2025-05-15</td>\n",
       "      <td>20.0</td>\n",
       "    </tr>\n",
       "  </tbody>\n",
       "</table>\n",
       "</div>"
      ],
      "text/plain": [
       "                  Title              Author  Real Price  Sale Price  IsOnSale  \\\n",
       "0            Accounting      Carl S. Warren      6199.0      4959.0      True   \n",
       "1  Pricing in General I       Pietro Parodi      5399.0      4319.0      True   \n",
       "2  Behavioral Finance i   Elzbieta Kubinska      9399.0      7519.0      True   \n",
       "3  Handbook of Alternat                 NaN     10099.0      8079.0      True   \n",
       "4  Using QuickBooks (R)  Glenn Owen Barbara      4999.0      3999.0      True   \n",
       "\n",
       "               Category Retrieved At  Discount (%)  \n",
       "0  Accounting & Finance   2025-05-15          20.0  \n",
       "1  Accounting & Finance   2025-05-15          20.0  \n",
       "2  Accounting & Finance   2025-05-15          20.0  \n",
       "3  Accounting & Finance   2025-05-15          20.0  \n",
       "4  Accounting & Finance   2025-05-15          20.0  "
      ]
     },
     "execution_count": 105,
     "metadata": {},
     "output_type": "execute_result"
    }
   ],
   "source": [
    "df.head()"
   ]
  },
  {
   "cell_type": "markdown",
   "id": "baccc3d5",
   "metadata": {},
   "source": [
    "### 11. Missing values"
   ]
  },
  {
   "cell_type": "code",
   "execution_count": 106,
   "id": "40fc600b",
   "metadata": {},
   "outputs": [
    {
     "data": {
      "application/vnd.microsoft.datawrangler.viewer.v0+json": {
       "columns": [
        {
         "name": "index",
         "rawType": "int64",
         "type": "integer"
        },
        {
         "name": "column",
         "rawType": "object",
         "type": "string"
        },
        {
         "name": "percent missing",
         "rawType": "float64",
         "type": "float"
        }
       ],
       "conversionMethod": "pd.DataFrame",
       "ref": "3c0a62bc-5bb6-4077-960a-e88bdb53a22c",
       "rows": [
        [
         "0",
         "Title",
         "0.0"
        ],
        [
         "1",
         "Author",
         "1.22"
        ],
        [
         "2",
         "Real Price",
         "0.0"
        ],
        [
         "3",
         "Sale Price",
         "0.0"
        ],
        [
         "4",
         "IsOnSale",
         "0.0"
        ],
        [
         "5",
         "Category",
         "0.0"
        ],
        [
         "6",
         "Retrieved At",
         "0.0"
        ],
        [
         "7",
         "Discount (%)",
         "0.0"
        ]
       ],
       "shape": {
        "columns": 2,
        "rows": 8
       }
      },
      "text/html": [
       "<div>\n",
       "<style scoped>\n",
       "    .dataframe tbody tr th:only-of-type {\n",
       "        vertical-align: middle;\n",
       "    }\n",
       "\n",
       "    .dataframe tbody tr th {\n",
       "        vertical-align: top;\n",
       "    }\n",
       "\n",
       "    .dataframe thead th {\n",
       "        text-align: right;\n",
       "    }\n",
       "</style>\n",
       "<table border=\"1\" class=\"dataframe\">\n",
       "  <thead>\n",
       "    <tr style=\"text-align: right;\">\n",
       "      <th></th>\n",
       "      <th>column</th>\n",
       "      <th>percent missing</th>\n",
       "    </tr>\n",
       "  </thead>\n",
       "  <tbody>\n",
       "    <tr>\n",
       "      <th>0</th>\n",
       "      <td>Title</td>\n",
       "      <td>0.00</td>\n",
       "    </tr>\n",
       "    <tr>\n",
       "      <th>1</th>\n",
       "      <td>Author</td>\n",
       "      <td>1.22</td>\n",
       "    </tr>\n",
       "    <tr>\n",
       "      <th>2</th>\n",
       "      <td>Real Price</td>\n",
       "      <td>0.00</td>\n",
       "    </tr>\n",
       "    <tr>\n",
       "      <th>3</th>\n",
       "      <td>Sale Price</td>\n",
       "      <td>0.00</td>\n",
       "    </tr>\n",
       "    <tr>\n",
       "      <th>4</th>\n",
       "      <td>IsOnSale</td>\n",
       "      <td>0.00</td>\n",
       "    </tr>\n",
       "    <tr>\n",
       "      <th>5</th>\n",
       "      <td>Category</td>\n",
       "      <td>0.00</td>\n",
       "    </tr>\n",
       "    <tr>\n",
       "      <th>6</th>\n",
       "      <td>Retrieved At</td>\n",
       "      <td>0.00</td>\n",
       "    </tr>\n",
       "    <tr>\n",
       "      <th>7</th>\n",
       "      <td>Discount (%)</td>\n",
       "      <td>0.00</td>\n",
       "    </tr>\n",
       "  </tbody>\n",
       "</table>\n",
       "</div>"
      ],
      "text/plain": [
       "         column  percent missing\n",
       "0         Title             0.00\n",
       "1        Author             1.22\n",
       "2    Real Price             0.00\n",
       "3    Sale Price             0.00\n",
       "4      IsOnSale             0.00\n",
       "5      Category             0.00\n",
       "6  Retrieved At             0.00\n",
       "7  Discount (%)             0.00"
      ]
     },
     "execution_count": 106,
     "metadata": {},
     "output_type": "execute_result"
    }
   ],
   "source": [
    "missing_percent = df.isnull().sum() / len(df) * 100\n",
    "missing_percent = missing_percent.round(2)\n",
    "missing_percent = missing_percent.reset_index().rename(columns={\"index\": \"column\", 0: \"percent missing\"})\n",
    "missing_percent"
   ]
  },
  {
   "cell_type": "code",
   "execution_count": 107,
   "id": "eb764c1c",
   "metadata": {},
   "outputs": [
    {
     "name": "stdout",
     "output_type": "stream",
     "text": [
      "\n",
      "'Author' column:\n",
      "Non-missing values: 21131\n",
      "Missing values: 262\n",
      "Percentage missing: 1.22%\n"
     ]
    }
   ],
   "source": [
    "total_rows = len(df)\n",
    "missing_authors = df['Author'].isna().sum()\n",
    "non_missing_authors = total_rows - missing_authors\n",
    "\n",
    "print(f\"\\n'Author' column:\")\n",
    "print(f\"Non-missing values: {non_missing_authors}\")\n",
    "print(f\"Missing values: {missing_authors}\")\n",
    "print(f\"Percentage missing: {round((missing_authors / total_rows) * 100, 2)}%\")\n"
   ]
  },
  {
   "cell_type": "code",
   "execution_count": null,
   "id": "42c713ea",
   "metadata": {},
   "outputs": [],
   "source": [
    "df.to_csv(\"akademska_books.csv\", encoding='utf-8-sig', index=False)"
   ]
  },
  {
   "cell_type": "markdown",
   "id": "4761a775",
   "metadata": {},
   "source": [
    "### Preprocessing Output Summary"
   ]
  },
  {
   "cell_type": "markdown",
   "id": "e8e715f5",
   "metadata": {},
   "source": [
    "Number of Books Scraped"
   ]
  },
  {
   "cell_type": "code",
   "execution_count": 108,
   "id": "99c30843",
   "metadata": {},
   "outputs": [
    {
     "data": {
      "text/plain": [
       "21393"
      ]
     },
     "execution_count": 108,
     "metadata": {},
     "output_type": "execute_result"
    }
   ],
   "source": [
    "df.shape[0]"
   ]
  },
  {
   "cell_type": "markdown",
   "id": "08374672",
   "metadata": {},
   "source": [
    "Number of categories"
   ]
  },
  {
   "cell_type": "code",
   "execution_count": 109,
   "id": "db6dd618",
   "metadata": {},
   "outputs": [
    {
     "name": "stdout",
     "output_type": "stream",
     "text": [
      "37\n"
     ]
    }
   ],
   "source": [
    "total_categories = df['Category'].nunique()\n",
    "print(total_categories)"
   ]
  },
  {
   "cell_type": "markdown",
   "id": "e9bbb4f5",
   "metadata": {},
   "source": [
    "Number of Discounted Books"
   ]
  },
  {
   "cell_type": "code",
   "execution_count": 110,
   "id": "622affab",
   "metadata": {},
   "outputs": [
    {
     "name": "stdout",
     "output_type": "stream",
     "text": [
      "19228\n"
     ]
    }
   ],
   "source": [
    "num_distinct_on_sale = df[df['IsOnSale'] == True]['Title'].nunique()\n",
    "print(num_distinct_on_sale)"
   ]
  }
 ],
 "metadata": {
  "kernelspec": {
   "display_name": ".venv",
   "language": "python",
   "name": "python3"
  },
  "language_info": {
   "codemirror_mode": {
    "name": "ipython",
    "version": 3
   },
   "file_extension": ".py",
   "mimetype": "text/x-python",
   "name": "python",
   "nbconvert_exporter": "python",
   "pygments_lexer": "ipython3",
   "version": "3.13.2"
  }
 },
 "nbformat": 4,
 "nbformat_minor": 5
}
