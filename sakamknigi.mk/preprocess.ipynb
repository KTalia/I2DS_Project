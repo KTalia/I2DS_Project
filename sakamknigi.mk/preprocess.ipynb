{
 "cells": [
  {
   "cell_type": "code",
   "execution_count": 694,
   "id": "d0aaec4c",
   "metadata": {},
   "outputs": [],
   "source": [
    "import pandas as pd\n",
    "import missingno as msno\n",
    "import re"
   ]
  },
  {
   "cell_type": "code",
   "execution_count": 695,
   "id": "1205993a",
   "metadata": {},
   "outputs": [],
   "source": [
    "dff = pd.read_csv(\"sakammm_knigi.csv\", encoding='utf-8-sig')\n",
    "df = dff.copy()"
   ]
  },
  {
   "cell_type": "code",
   "execution_count": 696,
   "id": "3e6b7c53",
   "metadata": {},
   "outputs": [],
   "source": [
    "# df.head()"
   ]
  },
  {
   "cell_type": "code",
   "execution_count": 697,
   "id": "7ab5ad97",
   "metadata": {},
   "outputs": [],
   "source": [
    "# df.isnull().sum()"
   ]
  },
  {
   "cell_type": "markdown",
   "id": "b66c144b",
   "metadata": {},
   "source": [
    "### Clean Author Column"
   ]
  },
  {
   "cell_type": "code",
   "execution_count": 698,
   "id": "f965bad3",
   "metadata": {},
   "outputs": [],
   "source": [
    "# df['Author'] = df['Author'].str.replace(\"од:\", \"\")"
   ]
  },
  {
   "cell_type": "code",
   "execution_count": 699,
   "id": "fad51cf5",
   "metadata": {},
   "outputs": [],
   "source": [
    "# df.isnull().sum()"
   ]
  },
  {
   "cell_type": "markdown",
   "id": "afb93e2b",
   "metadata": {},
   "source": [
    "### Duplicates\n",
    "- 10 entries are completely identical. We can merge the, Keep only one"
   ]
  },
  {
   "cell_type": "code",
   "execution_count": 700,
   "id": "6249fd79",
   "metadata": {},
   "outputs": [],
   "source": [
    "# duplicates = df[df.duplicated(keep=False)]\n",
    "# duplicates = duplicates.sort_values(by=['Title', 'Author'])\n",
    "# print(\"Length of duplicates: \", len(duplicates))\n",
    "# duplicates.head(10)"
   ]
  },
  {
   "cell_type": "code",
   "execution_count": 701,
   "id": "935c2d18",
   "metadata": {},
   "outputs": [],
   "source": [
    "# print(\"Original:\", len(df))\n",
    "# df = df.drop_duplicates()\n",
    "# print(\"After drop_duplicates:\", len(df))\n",
    "# print(\"Duplicates removed:\", len(df) - len(df))"
   ]
  },
  {
   "cell_type": "markdown",
   "id": "75cf7827",
   "metadata": {},
   "source": [
    "### Author\n",
    "\n",
    "- All 7 Harry Poter books have a missing value in the Author field. Replace all with  'Џ.К. Роулинг'"
   ]
  },
  {
   "cell_type": "code",
   "execution_count": 702,
   "id": "31fb8617",
   "metadata": {},
   "outputs": [],
   "source": [
    "# harry_potter_rows = df[df['Title'].str.contains('Хари Потер', case=False, na=False)]\n",
    "# harry_potter_rows"
   ]
  },
  {
   "cell_type": "code",
   "execution_count": 703,
   "id": "2682e55d",
   "metadata": {},
   "outputs": [],
   "source": [
    "# df.loc[df['Title'].str.contains('Хари Потер', case=False, na=False), 'Author'] = 'Џ.К. Роулинг'"
   ]
  },
  {
   "cell_type": "markdown",
   "id": "d5ecbc8a",
   "metadata": {},
   "source": [
    "- Extract authors from the titles that contain authors(e.g. \"Избрани песни – Ана Ахматова\")\n"
   ]
  },
  {
   "cell_type": "code",
   "execution_count": 704,
   "id": "32515c7c",
   "metadata": {},
   "outputs": [],
   "source": [
    "# # See which authord have – or  - or —\n",
    "# authors_fix = df[df['Title'].str.contains(r'\\s[–\\-—]\\s\\w+(?:\\s\\w+)?', regex=True, case=False)]\n",
    "# authors_fix.head(100)"
   ]
  },
  {
   "cell_type": "code",
   "execution_count": 705,
   "id": "56114c1d",
   "metadata": {},
   "outputs": [],
   "source": [
    "# updates = {\n",
    "#    521: {'Title': 'Избрани песни', 'Author': 'Ана Ахматова'},\n",
    "#    770: {'Title': 'Подарокот', 'Author': 'Едит Егер'},\n",
    "#    843: {'Title': 'Херој', 'Author': 'Р.Бирн'},\n",
    "#    976: {'Title': 'ИСТОРИЈА НА РЕЛИГИИТЕ', 'Author': 'Александар Мењ'}\n",
    "# }\n",
    "\n",
    "# for idx, update in updates.items():\n",
    "#     df.at[idx, 'Title'] = update['Title']\n",
    "#     df.at[idx, 'Author'] = update['Author']"
   ]
  },
  {
   "cell_type": "code",
   "execution_count": 706,
   "id": "97e48df1",
   "metadata": {},
   "outputs": [],
   "source": [
    "# df[df['Title'].str.contains('ИСТОРИЈА НА РЕЛИГИИТЕ', case=False)]\n",
    "# df[df['Title'].str.contains('Херој', case=False)]\n",
    "# df[df['Title'].str.contains('Избрани песни', case=False)]\n",
    "# df[df['Title'].str.contains('Подарокот', case=False)]"
   ]
  },
  {
   "cell_type": "markdown",
   "id": "362d65ed",
   "metadata": {},
   "source": [
    "Check for 'и'"
   ]
  },
  {
   "cell_type": "code",
   "execution_count": 707,
   "id": "de8dcef3",
   "metadata": {},
   "outputs": [],
   "source": [
    "# two_authors_df = df[df['Author'].str.contains(r'\\sи\\s', case=False, na=False)]\n",
    "# two_authors_df"
   ]
  },
  {
   "cell_type": "code",
   "execution_count": 708,
   "id": "0a258ce2",
   "metadata": {},
   "outputs": [],
   "source": [
    "# two_authors_df = df[df['Author'].str.contains(r'\\sи\\s', case=False, na=False)].copy()\n",
    "\n",
    "# two_authors_df['Author'] = two_authors_df['Author'].str.split(' и ')\n",
    "\n",
    "# exploded_df = two_authors_df.explode('Author', ignore_index=True)\n",
    "\n",
    "# df = pd.concat([df[~df['Author'].str.contains(r'\\sи\\s', case=False, na=False)], exploded_df], ignore_index=True)"
   ]
  },
  {
   "cell_type": "markdown",
   "id": "8e96fd72",
   "metadata": {},
   "source": [
    "- Check for Authors divided by , Example: 1060\tАурис\t Себастијан Фицек, Винсент Клиш,"
   ]
  },
  {
   "cell_type": "code",
   "execution_count": 709,
   "id": "b43a8456",
   "metadata": {},
   "outputs": [],
   "source": [
    "# # Find rows with commas in Author\n",
    "# comma_rows = df['Author'].str.contains(r'\\s*,\\s*', na=False)\n",
    "\n",
    "# # Remove trailing commas in those rows\n",
    "# df.loc[comma_rows, 'Author'] = df.loc[comma_rows, 'Author'].str.rstrip(', ')\n"
   ]
  },
  {
   "cell_type": "code",
   "execution_count": 710,
   "id": "00e3fb59",
   "metadata": {},
   "outputs": [],
   "source": [
    "# comma_authors_df = df[df['Author'].str.contains(r'\\s*,\\s*', na=False)]\n",
    "# comma_authors_df"
   ]
  },
  {
   "cell_type": "code",
   "execution_count": 711,
   "id": "dc4392fc",
   "metadata": {},
   "outputs": [],
   "source": [
    "# comma_authors_df = df[df['Author'].str.contains(r'\\s*,\\s*', na=False)].copy()\n",
    "\n",
    "# comma_authors_df['Author'] = comma_authors_df['Author'].str.rstrip(', ')\n",
    "# comma_authors_df['Author'] = comma_authors_df['Author'].str.split(r'\\s*,\\s*')\n",
    "# exploded_comma_df = comma_authors_df.explode('Author', ignore_index=True)\n",
    "# df = df[~df['Author'].str.contains(r'\\s*,\\s*', na=False)]\n",
    "# df = pd.concat([df, exploded_comma_df], ignore_index=True)\n"
   ]
  },
  {
   "cell_type": "code",
   "execution_count": 712,
   "id": "50d4f7a3",
   "metadata": {},
   "outputs": [],
   "source": [
    "# comma_authors_df = df[df['Author'].str.contains(r'\\s*,\\s*', na=False)]\n",
    "# comma_authors_df"
   ]
  },
  {
   "cell_type": "code",
   "execution_count": 713,
   "id": "efd56cd9",
   "metadata": {},
   "outputs": [],
   "source": [
    "# df.to_csv(\"sakammm_knigi.csv\", encoding='utf-8-sig', index=False)\n",
    "# df = pd.read_csv(\"sakammm_knigi.csv\", encoding='utf-8-sig')"
   ]
  },
  {
   "cell_type": "markdown",
   "id": "fb59e19e",
   "metadata": {},
   "source": [
    "- Find titles that appear under multiple authors <br/> The books from before have multiple authors: (Кралицата Шарлот, Да можев да ти го подарам Божиќ, Аурис, Совршената замена)"
   ]
  },
  {
   "cell_type": "code",
   "execution_count": 715,
   "id": "ac83da3a",
   "metadata": {},
   "outputs": [
    {
     "data": {
      "application/vnd.microsoft.datawrangler.viewer.v0+json": {
       "columns": [
        {
         "name": "index",
         "rawType": "int64",
         "type": "integer"
        },
        {
         "name": "Title",
         "rawType": "object",
         "type": "string"
        },
        {
         "name": "Author",
         "rawType": "object",
         "type": "unknown"
        },
        {
         "name": "Author Count",
         "rawType": "int64",
         "type": "integer"
        }
       ],
       "conversionMethod": "pd.DataFrame",
       "ref": "99a990a2-2ce4-4365-bd46-ae96ff5f02b6",
       "rows": [
        [
         "1140",
         "Подарокот",
         "['Едит Егер' ' Себастијан Фицек' nan]",
         "3"
        ],
        [
         "264",
         "Вистинскиот",
         "[' Џон Марс' nan]",
         "2"
        ],
        [
         "126",
         "Аурис",
         "[' Себастијан Фицек' 'Винсент Клиш']",
         "2"
        ],
        [
         "361",
         "Да можев да ти го подарам Божиќ",
         "[' Џенифер Л. Мајер' 'Лин Плорд']",
         "2"
        ],
        [
         "761",
         "Кралицата Шарлота",
         "[' Џулија Квин' 'Шонда Рајмс']",
         "2"
        ],
        [
         "1420",
         "Совршената замена",
         "[' Грир Хендрикс' 'Сара Пеканен']",
         "2"
        ],
        [
         "1604",
         "Херој",
         "[' Саманта Јанг' 'Р.Бирн']",
         "2"
        ]
       ],
       "shape": {
        "columns": 3,
        "rows": 7
       }
      },
      "text/html": [
       "<div>\n",
       "<style scoped>\n",
       "    .dataframe tbody tr th:only-of-type {\n",
       "        vertical-align: middle;\n",
       "    }\n",
       "\n",
       "    .dataframe tbody tr th {\n",
       "        vertical-align: top;\n",
       "    }\n",
       "\n",
       "    .dataframe thead th {\n",
       "        text-align: right;\n",
       "    }\n",
       "</style>\n",
       "<table border=\"1\" class=\"dataframe\">\n",
       "  <thead>\n",
       "    <tr style=\"text-align: right;\">\n",
       "      <th></th>\n",
       "      <th>Title</th>\n",
       "      <th>Author</th>\n",
       "      <th>Author Count</th>\n",
       "    </tr>\n",
       "  </thead>\n",
       "  <tbody>\n",
       "    <tr>\n",
       "      <th>1140</th>\n",
       "      <td>Подарокот</td>\n",
       "      <td>[Едит Егер,  Себастијан Фицек, nan]</td>\n",
       "      <td>3</td>\n",
       "    </tr>\n",
       "    <tr>\n",
       "      <th>264</th>\n",
       "      <td>Вистинскиот</td>\n",
       "      <td>[ Џон Марс, nan]</td>\n",
       "      <td>2</td>\n",
       "    </tr>\n",
       "    <tr>\n",
       "      <th>126</th>\n",
       "      <td>Аурис</td>\n",
       "      <td>[ Себастијан Фицек, Винсент Клиш]</td>\n",
       "      <td>2</td>\n",
       "    </tr>\n",
       "    <tr>\n",
       "      <th>361</th>\n",
       "      <td>Да можев да ти го подарам Божиќ</td>\n",
       "      <td>[ Џенифер Л. Мајер, Лин Плорд]</td>\n",
       "      <td>2</td>\n",
       "    </tr>\n",
       "    <tr>\n",
       "      <th>761</th>\n",
       "      <td>Кралицата Шарлота</td>\n",
       "      <td>[ Џулија Квин, Шонда Рајмс]</td>\n",
       "      <td>2</td>\n",
       "    </tr>\n",
       "    <tr>\n",
       "      <th>1420</th>\n",
       "      <td>Совршената замена</td>\n",
       "      <td>[ Грир Хендрикс, Сара Пеканен]</td>\n",
       "      <td>2</td>\n",
       "    </tr>\n",
       "    <tr>\n",
       "      <th>1604</th>\n",
       "      <td>Херој</td>\n",
       "      <td>[ Саманта Јанг, Р.Бирн]</td>\n",
       "      <td>2</td>\n",
       "    </tr>\n",
       "  </tbody>\n",
       "</table>\n",
       "</div>"
      ],
      "text/plain": [
       "                                Title                               Author  \\\n",
       "1140                        Подарокот  [Едит Егер,  Себастијан Фицек, nan]   \n",
       "264                       Вистинскиот                     [ Џон Марс, nan]   \n",
       "126                             Аурис    [ Себастијан Фицек, Винсент Клиш]   \n",
       "361   Да можев да ти го подарам Божиќ       [ Џенифер Л. Мајер, Лин Плорд]   \n",
       "761                 Кралицата Шарлота          [ Џулија Квин, Шонда Рајмс]   \n",
       "1420                Совршената замена       [ Грир Хендрикс, Сара Пеканен]   \n",
       "1604                            Херој              [ Саманта Јанг, Р.Бирн]   \n",
       "\n",
       "      Author Count  \n",
       "1140             3  \n",
       "264              2  \n",
       "126              2  \n",
       "361              2  \n",
       "761              2  \n",
       "1420             2  \n",
       "1604             2  "
      ]
     },
     "execution_count": 715,
     "metadata": {},
     "output_type": "execute_result"
    }
   ],
   "source": [
    "# Group by Title and collect unique authors\n",
    "title_authors = df.groupby('Title')['Author'].unique()\n",
    "\n",
    "# Reset to a DataFrame\n",
    "title_authors_df = title_authors.reset_index()\n",
    "\n",
    "# Add a count of how many authors per title\n",
    "title_authors_df['Author Count'] = title_authors_df['Author'].apply(len)\n",
    "\n",
    "# Filter titles with more than one author (i.e., different authors for the same book title)\n",
    "duplicate_titles = title_authors_df[title_authors_df['Author Count'] > 1]\n",
    "\n",
    "# Sort by number of authors if desired\n",
    "duplicate_titles = duplicate_titles.sort_values(by='Author Count', ascending=False)\n",
    "\n",
    "# Show the result\n",
    "duplicate_titles.head(200)\n"
   ]
  }
 ],
 "metadata": {
  "kernelspec": {
   "display_name": ".venv",
   "language": "python",
   "name": "python3"
  },
  "language_info": {
   "codemirror_mode": {
    "name": "ipython",
    "version": 3
   },
   "file_extension": ".py",
   "mimetype": "text/x-python",
   "name": "python",
   "nbconvert_exporter": "python",
   "pygments_lexer": "ipython3",
   "version": "3.13.2"
  }
 },
 "nbformat": 4,
 "nbformat_minor": 5
}
