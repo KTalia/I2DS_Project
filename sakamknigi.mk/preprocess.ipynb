{
 "cells": [
  {
   "cell_type": "markdown",
   "id": "dca487b5",
   "metadata": {},
   "source": [
    "## 📚 SakamKnigi.mk - Book Dataset Cleaning & Preprocessing Pipeline"
   ]
  },
  {
   "cell_type": "code",
   "execution_count": 6,
   "id": "0a3f555a",
   "metadata": {},
   "outputs": [],
   "source": [
    "import pandas as pd\n",
    "import missingno as msno\n",
    "import re\n",
    "import numpy as np"
   ]
  },
  {
   "cell_type": "code",
   "execution_count": 7,
   "id": "e09330b3",
   "metadata": {},
   "outputs": [],
   "source": [
    "df = pd.read_csv(\"knigi.csv\", encoding='utf-8-sig')"
   ]
  },
  {
   "cell_type": "code",
   "execution_count": 8,
   "id": "30a78c83",
   "metadata": {},
   "outputs": [
    {
     "data": {
      "application/vnd.microsoft.datawrangler.viewer.v0+json": {
       "columns": [
        {
         "name": "index",
         "rawType": "int64",
         "type": "integer"
        },
        {
         "name": "Title",
         "rawType": "object",
         "type": "string"
        },
        {
         "name": "Author",
         "rawType": "object",
         "type": "string"
        },
        {
         "name": "Real Price",
         "rawType": "object",
         "type": "string"
        },
        {
         "name": "Sale Price",
         "rawType": "object",
         "type": "string"
        },
        {
         "name": "Sale",
         "rawType": "int64",
         "type": "integer"
        },
        {
         "name": "Category",
         "rawType": "object",
         "type": "string"
        },
        {
         "name": "Retrieved At",
         "rawType": "object",
         "type": "string"
        }
       ],
       "conversionMethod": "pd.DataFrame",
       "ref": "61ddf223-3c35-4d1c-83fa-f3532fa652c4",
       "rows": [
        [
         "0",
         "Фаворити",
         "од: Лејн Фарго",
         "590 ден",
         "590 ден",
         "0",
         "Романси",
         "2025-05-02"
        ],
        [
         "1",
         "Тунел",
         "од: Ана Волц",
         "400 ден",
         "400 ден",
         "0",
         "Романси",
         "2025-05-02"
        ],
        [
         "2",
         "Љубов во Рим",
         "од: Сара Адамс",
         "490 ден",
         "490 ден",
         "0",
         "Романси",
         "2025-05-02"
        ],
        [
         "3",
         "Шпанска љубовна измама",
         "од: Елена Армас",
         "590 ден",
         "590 ден",
         "0",
         "Романси",
         "2025-05-02"
        ],
        [
         "4",
         "Изопачени лаги",
         "од: Ана Хуанг",
         "590 ден",
         "590 ден",
         "0",
         "Романси",
         "2025-05-02"
        ]
       ],
       "shape": {
        "columns": 7,
        "rows": 5
       }
      },
      "text/html": [
       "<div>\n",
       "<style scoped>\n",
       "    .dataframe tbody tr th:only-of-type {\n",
       "        vertical-align: middle;\n",
       "    }\n",
       "\n",
       "    .dataframe tbody tr th {\n",
       "        vertical-align: top;\n",
       "    }\n",
       "\n",
       "    .dataframe thead th {\n",
       "        text-align: right;\n",
       "    }\n",
       "</style>\n",
       "<table border=\"1\" class=\"dataframe\">\n",
       "  <thead>\n",
       "    <tr style=\"text-align: right;\">\n",
       "      <th></th>\n",
       "      <th>Title</th>\n",
       "      <th>Author</th>\n",
       "      <th>Real Price</th>\n",
       "      <th>Sale Price</th>\n",
       "      <th>Sale</th>\n",
       "      <th>Category</th>\n",
       "      <th>Retrieved At</th>\n",
       "    </tr>\n",
       "  </thead>\n",
       "  <tbody>\n",
       "    <tr>\n",
       "      <th>0</th>\n",
       "      <td>Фаворити</td>\n",
       "      <td>од: Лејн Фарго</td>\n",
       "      <td>590 ден</td>\n",
       "      <td>590 ден</td>\n",
       "      <td>0</td>\n",
       "      <td>Романси</td>\n",
       "      <td>2025-05-02</td>\n",
       "    </tr>\n",
       "    <tr>\n",
       "      <th>1</th>\n",
       "      <td>Тунел</td>\n",
       "      <td>од: Ана Волц</td>\n",
       "      <td>400 ден</td>\n",
       "      <td>400 ден</td>\n",
       "      <td>0</td>\n",
       "      <td>Романси</td>\n",
       "      <td>2025-05-02</td>\n",
       "    </tr>\n",
       "    <tr>\n",
       "      <th>2</th>\n",
       "      <td>Љубов во Рим</td>\n",
       "      <td>од: Сара Адамс</td>\n",
       "      <td>490 ден</td>\n",
       "      <td>490 ден</td>\n",
       "      <td>0</td>\n",
       "      <td>Романси</td>\n",
       "      <td>2025-05-02</td>\n",
       "    </tr>\n",
       "    <tr>\n",
       "      <th>3</th>\n",
       "      <td>Шпанска љубовна измама</td>\n",
       "      <td>од: Елена Армас</td>\n",
       "      <td>590 ден</td>\n",
       "      <td>590 ден</td>\n",
       "      <td>0</td>\n",
       "      <td>Романси</td>\n",
       "      <td>2025-05-02</td>\n",
       "    </tr>\n",
       "    <tr>\n",
       "      <th>4</th>\n",
       "      <td>Изопачени лаги</td>\n",
       "      <td>од: Ана Хуанг</td>\n",
       "      <td>590 ден</td>\n",
       "      <td>590 ден</td>\n",
       "      <td>0</td>\n",
       "      <td>Романси</td>\n",
       "      <td>2025-05-02</td>\n",
       "    </tr>\n",
       "  </tbody>\n",
       "</table>\n",
       "</div>"
      ],
      "text/plain": [
       "                    Title           Author Real Price Sale Price  Sale  \\\n",
       "0                Фаворити   од: Лејн Фарго    590 ден    590 ден     0   \n",
       "1                   Тунел     од: Ана Волц    400 ден    400 ден     0   \n",
       "2            Љубов во Рим   од: Сара Адамс    490 ден    490 ден     0   \n",
       "3  Шпанска љубовна измама  од: Елена Армас    590 ден    590 ден     0   \n",
       "4          Изопачени лаги    од: Ана Хуанг    590 ден    590 ден     0   \n",
       "\n",
       "  Category Retrieved At  \n",
       "0  Романси   2025-05-02  \n",
       "1  Романси   2025-05-02  \n",
       "2  Романси   2025-05-02  \n",
       "3  Романси   2025-05-02  \n",
       "4  Романси   2025-05-02  "
      ]
     },
     "execution_count": 8,
     "metadata": {},
     "output_type": "execute_result"
    }
   ],
   "source": [
    "df.head()"
   ]
  },
  {
   "cell_type": "markdown",
   "id": "b691d616",
   "metadata": {},
   "source": [
    "### 1. Convert 'Retrieved At' to datetime"
   ]
  },
  {
   "cell_type": "markdown",
   "id": "f0ee35eb",
   "metadata": {},
   "source": [
    "### 2. Convert Sale to bool and rename to IsOnSale"
   ]
  },
  {
   "cell_type": "markdown",
   "id": "7a1d9523",
   "metadata": {},
   "source": [
    "### 3. Clean author and title fields"
   ]
  },
  {
   "cell_type": "markdown",
   "id": "806da6b9",
   "metadata": {},
   "source": [
    "### 4. Fix duplicates and handle multiple authors"
   ]
  },
  {
   "cell_type": "markdown",
   "id": "996654af",
   "metadata": {},
   "source": [
    "### 5. Clean and convert prices"
   ]
  },
  {
   "cell_type": "markdown",
   "id": "f754696e",
   "metadata": {},
   "source": []
  }
 ],
 "metadata": {
  "kernelspec": {
   "display_name": ".venv",
   "language": "python",
   "name": "python3"
  },
  "language_info": {
   "codemirror_mode": {
    "name": "ipython",
    "version": 3
   },
   "file_extension": ".py",
   "mimetype": "text/x-python",
   "name": "python",
   "nbconvert_exporter": "python",
   "pygments_lexer": "ipython3",
   "version": "3.13.2"
  }
 },
 "nbformat": 4,
 "nbformat_minor": 5
}
