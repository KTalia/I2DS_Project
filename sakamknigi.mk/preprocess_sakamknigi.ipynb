{
 "cells": [
  {
   "cell_type": "markdown",
   "id": "9dadcb51",
   "metadata": {},
   "source": [
    "## 📚 SakamKnigi.mk - Book Dataset Cleaning & Preprocessing"
   ]
  },
  {
   "cell_type": "code",
   "execution_count": 176,
   "id": "78de7e7a",
   "metadata": {},
   "outputs": [],
   "source": [
    "import pandas as pd\n",
    "import missingno as msno\n",
    "import re\n",
    "import numpy as np"
   ]
  },
  {
   "cell_type": "code",
   "execution_count": 177,
   "id": "8bc1c20a",
   "metadata": {},
   "outputs": [],
   "source": [
    "df= pd.read_csv('../data/original_datasets/sakamknigi_books.csv', encoding='utf-8-sig') "
   ]
  },
  {
   "cell_type": "code",
   "execution_count": 178,
   "id": "60bd6378",
   "metadata": {},
   "outputs": [],
   "source": [
    "df = df.drop('id', axis=1)"
   ]
  },
  {
   "cell_type": "code",
   "execution_count": 179,
   "id": "3a44d1ac",
   "metadata": {},
   "outputs": [
    {
     "data": {
      "application/vnd.microsoft.datawrangler.viewer.v0+json": {
       "columns": [
        {
         "name": "index",
         "rawType": "int64",
         "type": "integer"
        },
        {
         "name": "title",
         "rawType": "object",
         "type": "string"
        },
        {
         "name": "author",
         "rawType": "object",
         "type": "string"
        },
        {
         "name": "real_price",
         "rawType": "object",
         "type": "string"
        },
        {
         "name": "sale_price",
         "rawType": "object",
         "type": "string"
        },
        {
         "name": "sale",
         "rawType": "int64",
         "type": "integer"
        },
        {
         "name": "category",
         "rawType": "object",
         "type": "string"
        },
        {
         "name": "retrieved_at",
         "rawType": "object",
         "type": "string"
        }
       ],
       "conversionMethod": "pd.DataFrame",
       "ref": "7bfb7bf2-d55e-4fd3-a38e-6fe83d306e19",
       "rows": [
        [
         "0",
         "Фаворити",
         "од: Лејн Фарго",
         "590 ден",
         "590 ден",
         "0",
         "Романси",
         "2025-05-02"
        ],
        [
         "1",
         "Тунел",
         "од: Ана Волц",
         "400 ден",
         "400 ден",
         "0",
         "Романси",
         "2025-05-02"
        ],
        [
         "2",
         "Љубов во Рим",
         "од: Сара Адамс",
         "490 ден",
         "490 ден",
         "0",
         "Романси",
         "2025-05-02"
        ],
        [
         "3",
         "Шпанска љубовна измама",
         "од: Елена Армас",
         "590 ден",
         "590 ден",
         "0",
         "Романси",
         "2025-05-02"
        ],
        [
         "4",
         "Изопачени лаги",
         "од: Ана Хуанг",
         "590 ден",
         "590 ден",
         "0",
         "Романси",
         "2025-05-02"
        ]
       ],
       "shape": {
        "columns": 7,
        "rows": 5
       }
      },
      "text/html": [
       "<div>\n",
       "<style scoped>\n",
       "    .dataframe tbody tr th:only-of-type {\n",
       "        vertical-align: middle;\n",
       "    }\n",
       "\n",
       "    .dataframe tbody tr th {\n",
       "        vertical-align: top;\n",
       "    }\n",
       "\n",
       "    .dataframe thead th {\n",
       "        text-align: right;\n",
       "    }\n",
       "</style>\n",
       "<table border=\"1\" class=\"dataframe\">\n",
       "  <thead>\n",
       "    <tr style=\"text-align: right;\">\n",
       "      <th></th>\n",
       "      <th>title</th>\n",
       "      <th>author</th>\n",
       "      <th>real_price</th>\n",
       "      <th>sale_price</th>\n",
       "      <th>sale</th>\n",
       "      <th>category</th>\n",
       "      <th>retrieved_at</th>\n",
       "    </tr>\n",
       "  </thead>\n",
       "  <tbody>\n",
       "    <tr>\n",
       "      <th>0</th>\n",
       "      <td>Фаворити</td>\n",
       "      <td>од: Лејн Фарго</td>\n",
       "      <td>590 ден</td>\n",
       "      <td>590 ден</td>\n",
       "      <td>0</td>\n",
       "      <td>Романси</td>\n",
       "      <td>2025-05-02</td>\n",
       "    </tr>\n",
       "    <tr>\n",
       "      <th>1</th>\n",
       "      <td>Тунел</td>\n",
       "      <td>од: Ана Волц</td>\n",
       "      <td>400 ден</td>\n",
       "      <td>400 ден</td>\n",
       "      <td>0</td>\n",
       "      <td>Романси</td>\n",
       "      <td>2025-05-02</td>\n",
       "    </tr>\n",
       "    <tr>\n",
       "      <th>2</th>\n",
       "      <td>Љубов во Рим</td>\n",
       "      <td>од: Сара Адамс</td>\n",
       "      <td>490 ден</td>\n",
       "      <td>490 ден</td>\n",
       "      <td>0</td>\n",
       "      <td>Романси</td>\n",
       "      <td>2025-05-02</td>\n",
       "    </tr>\n",
       "    <tr>\n",
       "      <th>3</th>\n",
       "      <td>Шпанска љубовна измама</td>\n",
       "      <td>од: Елена Армас</td>\n",
       "      <td>590 ден</td>\n",
       "      <td>590 ден</td>\n",
       "      <td>0</td>\n",
       "      <td>Романси</td>\n",
       "      <td>2025-05-02</td>\n",
       "    </tr>\n",
       "    <tr>\n",
       "      <th>4</th>\n",
       "      <td>Изопачени лаги</td>\n",
       "      <td>од: Ана Хуанг</td>\n",
       "      <td>590 ден</td>\n",
       "      <td>590 ден</td>\n",
       "      <td>0</td>\n",
       "      <td>Романси</td>\n",
       "      <td>2025-05-02</td>\n",
       "    </tr>\n",
       "  </tbody>\n",
       "</table>\n",
       "</div>"
      ],
      "text/plain": [
       "                    title           author real_price sale_price  sale  \\\n",
       "0                Фаворити   од: Лејн Фарго    590 ден    590 ден     0   \n",
       "1                   Тунел     од: Ана Волц    400 ден    400 ден     0   \n",
       "2            Љубов во Рим   од: Сара Адамс    490 ден    490 ден     0   \n",
       "3  Шпанска љубовна измама  од: Елена Армас    590 ден    590 ден     0   \n",
       "4          Изопачени лаги    од: Ана Хуанг    590 ден    590 ден     0   \n",
       "\n",
       "  category retrieved_at  \n",
       "0  Романси   2025-05-02  \n",
       "1  Романси   2025-05-02  \n",
       "2  Романси   2025-05-02  \n",
       "3  Романси   2025-05-02  \n",
       "4  Романси   2025-05-02  "
      ]
     },
     "execution_count": 179,
     "metadata": {},
     "output_type": "execute_result"
    }
   ],
   "source": [
    "df.head()"
   ]
  },
  {
   "cell_type": "code",
   "execution_count": 180,
   "id": "9d40906e",
   "metadata": {},
   "outputs": [
    {
     "data": {
      "text/plain": [
       "sale\n",
       "0    2154\n",
       "1      15\n",
       "Name: count, dtype: int64"
      ]
     },
     "execution_count": 180,
     "metadata": {},
     "output_type": "execute_result"
    }
   ],
   "source": [
    "df['sale'].value_counts()"
   ]
  },
  {
   "cell_type": "markdown",
   "id": "5921ee00",
   "metadata": {},
   "source": [
    "### 1. Converting the 'Sale' Column to Boolean & rename it\n"
   ]
  },
  {
   "cell_type": "code",
   "execution_count": 181,
   "id": "422423fb",
   "metadata": {},
   "outputs": [],
   "source": [
    "df[\"sale\"] = df[\"sale\"].astype(bool)"
   ]
  },
  {
   "cell_type": "code",
   "execution_count": 182,
   "id": "684f7649",
   "metadata": {},
   "outputs": [],
   "source": [
    "df = df.rename(columns={\"sale\": \"IsOnSale\"})"
   ]
  },
  {
   "cell_type": "markdown",
   "id": "a4c27d98",
   "metadata": {},
   "source": [
    "### 2. Convert the 'Retrieved At' column to datetime format."
   ]
  },
  {
   "cell_type": "code",
   "execution_count": 183,
   "id": "2abc3488",
   "metadata": {},
   "outputs": [],
   "source": [
    "df['retrieved_at'] = pd.to_datetime(df['retrieved_at'])"
   ]
  },
  {
   "cell_type": "markdown",
   "id": "ac377ed9",
   "metadata": {},
   "source": [
    "### 3. Remove \"од\" from the 'Author' column\n"
   ]
  },
  {
   "cell_type": "code",
   "execution_count": 184,
   "id": "30761bf8",
   "metadata": {},
   "outputs": [],
   "source": [
    "df['author'] = df['author'].str.replace(\"од:\", \"\")"
   ]
  },
  {
   "cell_type": "code",
   "execution_count": 185,
   "id": "694550a3",
   "metadata": {},
   "outputs": [],
   "source": [
    "df.to_csv(\"../data/preprocessed_datasets/sakamknigi_books.csv\", encoding='utf-8-sig', index=False)\n",
    "df= pd.read_csv('../data/preprocessed_datasets/sakamknigi_books.csv', encoding='utf-8-sig') "
   ]
  },
  {
   "cell_type": "code",
   "execution_count": 186,
   "id": "cb82cce0",
   "metadata": {},
   "outputs": [
    {
     "data": {
      "application/vnd.microsoft.datawrangler.viewer.v0+json": {
       "columns": [
        {
         "name": "index",
         "rawType": "int64",
         "type": "integer"
        },
        {
         "name": "title",
         "rawType": "object",
         "type": "string"
        },
        {
         "name": "author",
         "rawType": "object",
         "type": "string"
        },
        {
         "name": "real_price",
         "rawType": "object",
         "type": "string"
        },
        {
         "name": "sale_price",
         "rawType": "object",
         "type": "string"
        },
        {
         "name": "IsOnSale",
         "rawType": "bool",
         "type": "boolean"
        },
        {
         "name": "category",
         "rawType": "object",
         "type": "string"
        },
        {
         "name": "retrieved_at",
         "rawType": "object",
         "type": "string"
        }
       ],
       "conversionMethod": "pd.DataFrame",
       "ref": "1513a5f4-6f3f-40a9-a4bf-b2d22ce439eb",
       "rows": [
        [
         "0",
         "Фаворити",
         " Лејн Фарго",
         "590 ден",
         "590 ден",
         "False",
         "Романси",
         "2025-05-02"
        ],
        [
         "1",
         "Тунел",
         " Ана Волц",
         "400 ден",
         "400 ден",
         "False",
         "Романси",
         "2025-05-02"
        ],
        [
         "2",
         "Љубов во Рим",
         " Сара Адамс",
         "490 ден",
         "490 ден",
         "False",
         "Романси",
         "2025-05-02"
        ],
        [
         "3",
         "Шпанска љубовна измама",
         " Елена Армас",
         "590 ден",
         "590 ден",
         "False",
         "Романси",
         "2025-05-02"
        ],
        [
         "4",
         "Изопачени лаги",
         " Ана Хуанг",
         "590 ден",
         "590 ден",
         "False",
         "Романси",
         "2025-05-02"
        ]
       ],
       "shape": {
        "columns": 7,
        "rows": 5
       }
      },
      "text/html": [
       "<div>\n",
       "<style scoped>\n",
       "    .dataframe tbody tr th:only-of-type {\n",
       "        vertical-align: middle;\n",
       "    }\n",
       "\n",
       "    .dataframe tbody tr th {\n",
       "        vertical-align: top;\n",
       "    }\n",
       "\n",
       "    .dataframe thead th {\n",
       "        text-align: right;\n",
       "    }\n",
       "</style>\n",
       "<table border=\"1\" class=\"dataframe\">\n",
       "  <thead>\n",
       "    <tr style=\"text-align: right;\">\n",
       "      <th></th>\n",
       "      <th>title</th>\n",
       "      <th>author</th>\n",
       "      <th>real_price</th>\n",
       "      <th>sale_price</th>\n",
       "      <th>IsOnSale</th>\n",
       "      <th>category</th>\n",
       "      <th>retrieved_at</th>\n",
       "    </tr>\n",
       "  </thead>\n",
       "  <tbody>\n",
       "    <tr>\n",
       "      <th>0</th>\n",
       "      <td>Фаворити</td>\n",
       "      <td>Лејн Фарго</td>\n",
       "      <td>590 ден</td>\n",
       "      <td>590 ден</td>\n",
       "      <td>False</td>\n",
       "      <td>Романси</td>\n",
       "      <td>2025-05-02</td>\n",
       "    </tr>\n",
       "    <tr>\n",
       "      <th>1</th>\n",
       "      <td>Тунел</td>\n",
       "      <td>Ана Волц</td>\n",
       "      <td>400 ден</td>\n",
       "      <td>400 ден</td>\n",
       "      <td>False</td>\n",
       "      <td>Романси</td>\n",
       "      <td>2025-05-02</td>\n",
       "    </tr>\n",
       "    <tr>\n",
       "      <th>2</th>\n",
       "      <td>Љубов во Рим</td>\n",
       "      <td>Сара Адамс</td>\n",
       "      <td>490 ден</td>\n",
       "      <td>490 ден</td>\n",
       "      <td>False</td>\n",
       "      <td>Романси</td>\n",
       "      <td>2025-05-02</td>\n",
       "    </tr>\n",
       "    <tr>\n",
       "      <th>3</th>\n",
       "      <td>Шпанска љубовна измама</td>\n",
       "      <td>Елена Армас</td>\n",
       "      <td>590 ден</td>\n",
       "      <td>590 ден</td>\n",
       "      <td>False</td>\n",
       "      <td>Романси</td>\n",
       "      <td>2025-05-02</td>\n",
       "    </tr>\n",
       "    <tr>\n",
       "      <th>4</th>\n",
       "      <td>Изопачени лаги</td>\n",
       "      <td>Ана Хуанг</td>\n",
       "      <td>590 ден</td>\n",
       "      <td>590 ден</td>\n",
       "      <td>False</td>\n",
       "      <td>Романси</td>\n",
       "      <td>2025-05-02</td>\n",
       "    </tr>\n",
       "  </tbody>\n",
       "</table>\n",
       "</div>"
      ],
      "text/plain": [
       "                    title        author real_price sale_price  IsOnSale  \\\n",
       "0                Фаворити    Лејн Фарго    590 ден    590 ден     False   \n",
       "1                   Тунел      Ана Волц    400 ден    400 ден     False   \n",
       "2            Љубов во Рим    Сара Адамс    490 ден    490 ден     False   \n",
       "3  Шпанска љубовна измама   Елена Армас    590 ден    590 ден     False   \n",
       "4          Изопачени лаги     Ана Хуанг    590 ден    590 ден     False   \n",
       "\n",
       "  category retrieved_at  \n",
       "0  Романси   2025-05-02  \n",
       "1  Романси   2025-05-02  \n",
       "2  Романси   2025-05-02  \n",
       "3  Романси   2025-05-02  \n",
       "4  Романси   2025-05-02  "
      ]
     },
     "execution_count": 186,
     "metadata": {},
     "output_type": "execute_result"
    }
   ],
   "source": [
    "df.head()"
   ]
  },
  {
   "cell_type": "code",
   "execution_count": 187,
   "id": "dd41f529",
   "metadata": {},
   "outputs": [
    {
     "data": {
      "text/plain": [
       "title              0\n",
       "author          1617\n",
       "real_price         2\n",
       "sale_price         2\n",
       "IsOnSale           0\n",
       "category           0\n",
       "retrieved_at       0\n",
       "dtype: int64"
      ]
     },
     "execution_count": 187,
     "metadata": {},
     "output_type": "execute_result"
    }
   ],
   "source": [
    "df.isnull().sum()"
   ]
  },
  {
   "cell_type": "markdown",
   "id": "53bb3975",
   "metadata": {},
   "source": [
    "### 4. Prices\n",
    "- Before converting to numeric,remove \"ден\", remove commas and strip whitespace\n"
   ]
  },
  {
   "cell_type": "code",
   "execution_count": 188,
   "id": "25671f53",
   "metadata": {},
   "outputs": [],
   "source": [
    "df['real_price'] = df['real_price'].str.replace(\"ден\", \"\", regex=False).str.replace(\",\", \"\").str.strip()\n",
    "df['sale_price'] = df['sale_price'].str.replace(\"ден\", \"\", regex=False).str.replace(\",\", \"\").str.strip()\n",
    "\n",
    "df[\"real_price\"] = pd.to_numeric(df[\"real_price\"], errors=\"coerce\")\n",
    "df[\"sale_price\"] = pd.to_numeric(df[\"sale_price\"], errors=\"coerce\")"
   ]
  },
  {
   "cell_type": "code",
   "execution_count": 189,
   "id": "585b6c7f",
   "metadata": {},
   "outputs": [
    {
     "data": {
      "text/plain": [
       "title              0\n",
       "author          1617\n",
       "real_price         2\n",
       "sale_price         2\n",
       "IsOnSale           0\n",
       "category           0\n",
       "retrieved_at       0\n",
       "dtype: int64"
      ]
     },
     "execution_count": 189,
     "metadata": {},
     "output_type": "execute_result"
    }
   ],
   "source": [
    "df.isnull().sum()"
   ]
  },
  {
   "cell_type": "markdown",
   "id": "ec133e86",
   "metadata": {},
   "source": [
    "- If a book is not on sale (IsOnSale == False), its Sale Price should be 0 — unless there's a mismatch with Real Price that we want to preserve."
   ]
  },
  {
   "cell_type": "code",
   "execution_count": 190,
   "id": "2b856b73",
   "metadata": {},
   "outputs": [],
   "source": [
    "exclude_indices = df[(df['IsOnSale'] == False) & (df['sale_price'] != df['real_price'])].index\n",
    "df.loc[(df['IsOnSale'] == False) & (~df.index.isin(exclude_indices)), 'sale_price'] = 0\n"
   ]
  },
  {
   "cell_type": "code",
   "execution_count": 191,
   "id": "36331d9d",
   "metadata": {},
   "outputs": [
    {
     "data": {
      "text/plain": [
       "title              0\n",
       "author          1617\n",
       "real_price         2\n",
       "sale_price         2\n",
       "IsOnSale           0\n",
       "category           0\n",
       "retrieved_at       0\n",
       "dtype: int64"
      ]
     },
     "execution_count": 191,
     "metadata": {},
     "output_type": "execute_result"
    }
   ],
   "source": [
    "df.isnull().sum()"
   ]
  },
  {
   "cell_type": "code",
   "execution_count": 192,
   "id": "c1b3faf3",
   "metadata": {},
   "outputs": [
    {
     "data": {
      "text/plain": [
       "IsOnSale\n",
       "False    2154\n",
       "True       15\n",
       "Name: count, dtype: int64"
      ]
     },
     "execution_count": 192,
     "metadata": {},
     "output_type": "execute_result"
    }
   ],
   "source": [
    "df.IsOnSale.value_counts()"
   ]
  },
  {
   "cell_type": "code",
   "execution_count": 193,
   "id": "66304e63",
   "metadata": {},
   "outputs": [
    {
     "data": {
      "application/vnd.microsoft.datawrangler.viewer.v0+json": {
       "columns": [
        {
         "name": "index",
         "rawType": "int64",
         "type": "integer"
        },
        {
         "name": "title",
         "rawType": "object",
         "type": "string"
        },
        {
         "name": "author",
         "rawType": "object",
         "type": "string"
        },
        {
         "name": "real_price",
         "rawType": "float64",
         "type": "float"
        },
        {
         "name": "sale_price",
         "rawType": "float64",
         "type": "float"
        },
        {
         "name": "IsOnSale",
         "rawType": "bool",
         "type": "boolean"
        },
        {
         "name": "category",
         "rawType": "object",
         "type": "string"
        },
        {
         "name": "retrieved_at",
         "rawType": "object",
         "type": "string"
        }
       ],
       "conversionMethod": "pd.DataFrame",
       "ref": "5e624646-62a9-4510-bbea-3d099ac54e7d",
       "rows": [
        [
         "0",
         "Фаворити",
         " Лејн Фарго",
         "590.0",
         "0.0",
         "False",
         "Романси",
         "2025-05-02"
        ],
        [
         "1",
         "Тунел",
         " Ана Волц",
         "400.0",
         "0.0",
         "False",
         "Романси",
         "2025-05-02"
        ],
        [
         "2",
         "Љубов во Рим",
         " Сара Адамс",
         "490.0",
         "0.0",
         "False",
         "Романси",
         "2025-05-02"
        ],
        [
         "3",
         "Шпанска љубовна измама",
         " Елена Армас",
         "590.0",
         "0.0",
         "False",
         "Романси",
         "2025-05-02"
        ],
        [
         "4",
         "Изопачени лаги",
         " Ана Хуанг",
         "590.0",
         "0.0",
         "False",
         "Романси",
         "2025-05-02"
        ]
       ],
       "shape": {
        "columns": 7,
        "rows": 5
       }
      },
      "text/html": [
       "<div>\n",
       "<style scoped>\n",
       "    .dataframe tbody tr th:only-of-type {\n",
       "        vertical-align: middle;\n",
       "    }\n",
       "\n",
       "    .dataframe tbody tr th {\n",
       "        vertical-align: top;\n",
       "    }\n",
       "\n",
       "    .dataframe thead th {\n",
       "        text-align: right;\n",
       "    }\n",
       "</style>\n",
       "<table border=\"1\" class=\"dataframe\">\n",
       "  <thead>\n",
       "    <tr style=\"text-align: right;\">\n",
       "      <th></th>\n",
       "      <th>title</th>\n",
       "      <th>author</th>\n",
       "      <th>real_price</th>\n",
       "      <th>sale_price</th>\n",
       "      <th>IsOnSale</th>\n",
       "      <th>category</th>\n",
       "      <th>retrieved_at</th>\n",
       "    </tr>\n",
       "  </thead>\n",
       "  <tbody>\n",
       "    <tr>\n",
       "      <th>0</th>\n",
       "      <td>Фаворити</td>\n",
       "      <td>Лејн Фарго</td>\n",
       "      <td>590.0</td>\n",
       "      <td>0.0</td>\n",
       "      <td>False</td>\n",
       "      <td>Романси</td>\n",
       "      <td>2025-05-02</td>\n",
       "    </tr>\n",
       "    <tr>\n",
       "      <th>1</th>\n",
       "      <td>Тунел</td>\n",
       "      <td>Ана Волц</td>\n",
       "      <td>400.0</td>\n",
       "      <td>0.0</td>\n",
       "      <td>False</td>\n",
       "      <td>Романси</td>\n",
       "      <td>2025-05-02</td>\n",
       "    </tr>\n",
       "    <tr>\n",
       "      <th>2</th>\n",
       "      <td>Љубов во Рим</td>\n",
       "      <td>Сара Адамс</td>\n",
       "      <td>490.0</td>\n",
       "      <td>0.0</td>\n",
       "      <td>False</td>\n",
       "      <td>Романси</td>\n",
       "      <td>2025-05-02</td>\n",
       "    </tr>\n",
       "    <tr>\n",
       "      <th>3</th>\n",
       "      <td>Шпанска љубовна измама</td>\n",
       "      <td>Елена Армас</td>\n",
       "      <td>590.0</td>\n",
       "      <td>0.0</td>\n",
       "      <td>False</td>\n",
       "      <td>Романси</td>\n",
       "      <td>2025-05-02</td>\n",
       "    </tr>\n",
       "    <tr>\n",
       "      <th>4</th>\n",
       "      <td>Изопачени лаги</td>\n",
       "      <td>Ана Хуанг</td>\n",
       "      <td>590.0</td>\n",
       "      <td>0.0</td>\n",
       "      <td>False</td>\n",
       "      <td>Романси</td>\n",
       "      <td>2025-05-02</td>\n",
       "    </tr>\n",
       "  </tbody>\n",
       "</table>\n",
       "</div>"
      ],
      "text/plain": [
       "                    title        author  real_price  sale_price  IsOnSale  \\\n",
       "0                Фаворити    Лејн Фарго       590.0         0.0     False   \n",
       "1                   Тунел      Ана Волц       400.0         0.0     False   \n",
       "2            Љубов во Рим    Сара Адамс       490.0         0.0     False   \n",
       "3  Шпанска љубовна измама   Елена Армас       590.0         0.0     False   \n",
       "4          Изопачени лаги     Ана Хуанг       590.0         0.0     False   \n",
       "\n",
       "  category retrieved_at  \n",
       "0  Романси   2025-05-02  \n",
       "1  Романси   2025-05-02  \n",
       "2  Романси   2025-05-02  \n",
       "3  Романси   2025-05-02  \n",
       "4  Романси   2025-05-02  "
      ]
     },
     "execution_count": 193,
     "metadata": {},
     "output_type": "execute_result"
    }
   ],
   "source": [
    "df.head()"
   ]
  },
  {
   "cell_type": "code",
   "execution_count": 194,
   "id": "78c5fba7",
   "metadata": {},
   "outputs": [
    {
     "data": {
      "application/vnd.microsoft.datawrangler.viewer.v0+json": {
       "columns": [
        {
         "name": "index",
         "rawType": "int64",
         "type": "integer"
        },
        {
         "name": "title",
         "rawType": "object",
         "type": "string"
        },
        {
         "name": "author",
         "rawType": "object",
         "type": "unknown"
        },
        {
         "name": "real_price",
         "rawType": "float64",
         "type": "float"
        },
        {
         "name": "sale_price",
         "rawType": "float64",
         "type": "float"
        },
        {
         "name": "IsOnSale",
         "rawType": "bool",
         "type": "boolean"
        },
        {
         "name": "category",
         "rawType": "object",
         "type": "string"
        },
        {
         "name": "retrieved_at",
         "rawType": "object",
         "type": "string"
        }
       ],
       "conversionMethod": "pd.DataFrame",
       "ref": "b518b95b-5383-465b-ab95-94cb61f1f6ac",
       "rows": [
        [
         "21",
         "Венчани до изгрејсонце (Хатавеј #4)",
         " Лиса Клејпас",
         "470.0",
         "349.0",
         "True",
         "Романси",
         "2025-05-02"
        ],
        [
         "82",
         "Умри за мене",
         " Синтија Идн",
         "450.0",
         "225.0",
         "True",
         "Романси",
         "2025-05-02"
        ],
        [
         "344",
         "Умри за мене",
         " Синтија Идн",
         "450.0",
         "225.0",
         "True",
         "Мистерии",
         "2025-05-02"
        ],
        [
         "468",
         "Венчани до изгрејсонце (Хатавеј #4)",
         " Лиса Клејпас",
         "470.0",
         "349.0",
         "True",
         "Историски",
         "2025-05-02"
        ],
        [
         "477",
         "Сагата за Рајна",
         " Оља Петрушевска – Томева",
         "350.0",
         "249.0",
         "True",
         "Историски",
         "2025-05-02"
        ],
        [
         "704",
         "Чудо",
         " Р.Џ Паласио",
         "390.0",
         "195.0",
         "True",
         "За млади",
         "2025-05-02"
        ],
        [
         "1048",
         "ИЗЛЕЗ",
         " Саша Богдан",
         "350.0",
         "249.0",
         "True",
         "Трилери",
         "2025-05-02"
        ],
        [
         "1103",
         "Шепкачот",
         null,
         "450.0",
         "225.0",
         "True",
         "Трилери",
         "2025-05-02"
        ],
        [
         "1186",
         "Силвервју",
         null,
         "360.0",
         "280.0",
         "True",
         "Трилери",
         "2025-05-02"
        ],
        [
         "1408",
         "Сагата за Рајна",
         " Оља Петрушевска – Томева",
         "350.0",
         "249.0",
         "True",
         "Драми",
         "2025-05-02"
        ],
        [
         "1467",
         "Чудо",
         " Р.Џ Паласио",
         "390.0",
         "195.0",
         "True",
         "Драми",
         "2025-05-02"
        ],
        [
         "1779",
         "Книга за нередот",
         null,
         "320.0",
         "249.0",
         "True",
         "Детски книги",
         "2025-05-03"
        ],
        [
         "1781",
         "Мојата прва книгичка – форми и фигури",
         null,
         "290.0",
         "249.0",
         "True",
         "Детски книги",
         "2025-05-03"
        ],
        [
         "1782",
         "Мојата прва книгичка – животни",
         null,
         "290.0",
         "249.0",
         "True",
         "Детски книги",
         "2025-05-03"
        ],
        [
         "1783",
         "Да можев да ти го подарам Божиќ",
         " Џенифер Л. Мајер и Лин Плорд",
         "320.0",
         "249.0",
         "True",
         "Детски книги",
         "2025-05-03"
        ]
       ],
       "shape": {
        "columns": 7,
        "rows": 15
       }
      },
      "text/html": [
       "<div>\n",
       "<style scoped>\n",
       "    .dataframe tbody tr th:only-of-type {\n",
       "        vertical-align: middle;\n",
       "    }\n",
       "\n",
       "    .dataframe tbody tr th {\n",
       "        vertical-align: top;\n",
       "    }\n",
       "\n",
       "    .dataframe thead th {\n",
       "        text-align: right;\n",
       "    }\n",
       "</style>\n",
       "<table border=\"1\" class=\"dataframe\">\n",
       "  <thead>\n",
       "    <tr style=\"text-align: right;\">\n",
       "      <th></th>\n",
       "      <th>title</th>\n",
       "      <th>author</th>\n",
       "      <th>real_price</th>\n",
       "      <th>sale_price</th>\n",
       "      <th>IsOnSale</th>\n",
       "      <th>category</th>\n",
       "      <th>retrieved_at</th>\n",
       "    </tr>\n",
       "  </thead>\n",
       "  <tbody>\n",
       "    <tr>\n",
       "      <th>21</th>\n",
       "      <td>Венчани до изгрејсонце (Хатавеј #4)</td>\n",
       "      <td>Лиса Клејпас</td>\n",
       "      <td>470.0</td>\n",
       "      <td>349.0</td>\n",
       "      <td>True</td>\n",
       "      <td>Романси</td>\n",
       "      <td>2025-05-02</td>\n",
       "    </tr>\n",
       "    <tr>\n",
       "      <th>82</th>\n",
       "      <td>Умри за мене</td>\n",
       "      <td>Синтија Идн</td>\n",
       "      <td>450.0</td>\n",
       "      <td>225.0</td>\n",
       "      <td>True</td>\n",
       "      <td>Романси</td>\n",
       "      <td>2025-05-02</td>\n",
       "    </tr>\n",
       "    <tr>\n",
       "      <th>344</th>\n",
       "      <td>Умри за мене</td>\n",
       "      <td>Синтија Идн</td>\n",
       "      <td>450.0</td>\n",
       "      <td>225.0</td>\n",
       "      <td>True</td>\n",
       "      <td>Мистерии</td>\n",
       "      <td>2025-05-02</td>\n",
       "    </tr>\n",
       "    <tr>\n",
       "      <th>468</th>\n",
       "      <td>Венчани до изгрејсонце (Хатавеј #4)</td>\n",
       "      <td>Лиса Клејпас</td>\n",
       "      <td>470.0</td>\n",
       "      <td>349.0</td>\n",
       "      <td>True</td>\n",
       "      <td>Историски</td>\n",
       "      <td>2025-05-02</td>\n",
       "    </tr>\n",
       "    <tr>\n",
       "      <th>477</th>\n",
       "      <td>Сагата за Рајна</td>\n",
       "      <td>Оља Петрушевска – Томева</td>\n",
       "      <td>350.0</td>\n",
       "      <td>249.0</td>\n",
       "      <td>True</td>\n",
       "      <td>Историски</td>\n",
       "      <td>2025-05-02</td>\n",
       "    </tr>\n",
       "    <tr>\n",
       "      <th>704</th>\n",
       "      <td>Чудо</td>\n",
       "      <td>Р.Џ Паласио</td>\n",
       "      <td>390.0</td>\n",
       "      <td>195.0</td>\n",
       "      <td>True</td>\n",
       "      <td>За млади</td>\n",
       "      <td>2025-05-02</td>\n",
       "    </tr>\n",
       "    <tr>\n",
       "      <th>1048</th>\n",
       "      <td>ИЗЛЕЗ</td>\n",
       "      <td>Саша Богдан</td>\n",
       "      <td>350.0</td>\n",
       "      <td>249.0</td>\n",
       "      <td>True</td>\n",
       "      <td>Трилери</td>\n",
       "      <td>2025-05-02</td>\n",
       "    </tr>\n",
       "    <tr>\n",
       "      <th>1103</th>\n",
       "      <td>Шепкачот</td>\n",
       "      <td>NaN</td>\n",
       "      <td>450.0</td>\n",
       "      <td>225.0</td>\n",
       "      <td>True</td>\n",
       "      <td>Трилери</td>\n",
       "      <td>2025-05-02</td>\n",
       "    </tr>\n",
       "    <tr>\n",
       "      <th>1186</th>\n",
       "      <td>Силвервју</td>\n",
       "      <td>NaN</td>\n",
       "      <td>360.0</td>\n",
       "      <td>280.0</td>\n",
       "      <td>True</td>\n",
       "      <td>Трилери</td>\n",
       "      <td>2025-05-02</td>\n",
       "    </tr>\n",
       "    <tr>\n",
       "      <th>1408</th>\n",
       "      <td>Сагата за Рајна</td>\n",
       "      <td>Оља Петрушевска – Томева</td>\n",
       "      <td>350.0</td>\n",
       "      <td>249.0</td>\n",
       "      <td>True</td>\n",
       "      <td>Драми</td>\n",
       "      <td>2025-05-02</td>\n",
       "    </tr>\n",
       "    <tr>\n",
       "      <th>1467</th>\n",
       "      <td>Чудо</td>\n",
       "      <td>Р.Џ Паласио</td>\n",
       "      <td>390.0</td>\n",
       "      <td>195.0</td>\n",
       "      <td>True</td>\n",
       "      <td>Драми</td>\n",
       "      <td>2025-05-02</td>\n",
       "    </tr>\n",
       "    <tr>\n",
       "      <th>1779</th>\n",
       "      <td>Книга за нередот</td>\n",
       "      <td>NaN</td>\n",
       "      <td>320.0</td>\n",
       "      <td>249.0</td>\n",
       "      <td>True</td>\n",
       "      <td>Детски книги</td>\n",
       "      <td>2025-05-03</td>\n",
       "    </tr>\n",
       "    <tr>\n",
       "      <th>1781</th>\n",
       "      <td>Мојата прва книгичка – форми и фигури</td>\n",
       "      <td>NaN</td>\n",
       "      <td>290.0</td>\n",
       "      <td>249.0</td>\n",
       "      <td>True</td>\n",
       "      <td>Детски книги</td>\n",
       "      <td>2025-05-03</td>\n",
       "    </tr>\n",
       "    <tr>\n",
       "      <th>1782</th>\n",
       "      <td>Мојата прва книгичка – животни</td>\n",
       "      <td>NaN</td>\n",
       "      <td>290.0</td>\n",
       "      <td>249.0</td>\n",
       "      <td>True</td>\n",
       "      <td>Детски книги</td>\n",
       "      <td>2025-05-03</td>\n",
       "    </tr>\n",
       "    <tr>\n",
       "      <th>1783</th>\n",
       "      <td>Да можев да ти го подарам Божиќ</td>\n",
       "      <td>Џенифер Л. Мајер и Лин Плорд</td>\n",
       "      <td>320.0</td>\n",
       "      <td>249.0</td>\n",
       "      <td>True</td>\n",
       "      <td>Детски книги</td>\n",
       "      <td>2025-05-03</td>\n",
       "    </tr>\n",
       "  </tbody>\n",
       "</table>\n",
       "</div>"
      ],
      "text/plain": [
       "                                      title                         author  \\\n",
       "21      Венчани до изгрејсонце (Хатавеј #4)                   Лиса Клејпас   \n",
       "82                             Умри за мене                    Синтија Идн   \n",
       "344                            Умри за мене                    Синтија Идн   \n",
       "468     Венчани до изгрејсонце (Хатавеј #4)                   Лиса Клејпас   \n",
       "477                         Сагата за Рајна       Оља Петрушевска – Томева   \n",
       "704                                    Чудо                    Р.Џ Паласио   \n",
       "1048                                  ИЗЛЕЗ                    Саша Богдан   \n",
       "1103                               Шепкачот                            NaN   \n",
       "1186                              Силвервју                            NaN   \n",
       "1408                        Сагата за Рајна       Оља Петрушевска – Томева   \n",
       "1467                                   Чудо                    Р.Џ Паласио   \n",
       "1779                       Книга за нередот                            NaN   \n",
       "1781  Мојата прва книгичка – форми и фигури                            NaN   \n",
       "1782         Мојата прва книгичка – животни                            NaN   \n",
       "1783        Да можев да ти го подарам Божиќ   Џенифер Л. Мајер и Лин Плорд   \n",
       "\n",
       "      real_price  sale_price  IsOnSale      category retrieved_at  \n",
       "21         470.0       349.0      True       Романси   2025-05-02  \n",
       "82         450.0       225.0      True       Романси   2025-05-02  \n",
       "344        450.0       225.0      True      Мистерии   2025-05-02  \n",
       "468        470.0       349.0      True     Историски   2025-05-02  \n",
       "477        350.0       249.0      True     Историски   2025-05-02  \n",
       "704        390.0       195.0      True      За млади   2025-05-02  \n",
       "1048       350.0       249.0      True       Трилери   2025-05-02  \n",
       "1103       450.0       225.0      True       Трилери   2025-05-02  \n",
       "1186       360.0       280.0      True       Трилери   2025-05-02  \n",
       "1408       350.0       249.0      True         Драми   2025-05-02  \n",
       "1467       390.0       195.0      True         Драми   2025-05-02  \n",
       "1779       320.0       249.0      True  Детски книги   2025-05-03  \n",
       "1781       290.0       249.0      True  Детски книги   2025-05-03  \n",
       "1782       290.0       249.0      True  Детски книги   2025-05-03  \n",
       "1783       320.0       249.0      True  Детски книги   2025-05-03  "
      ]
     },
     "execution_count": 194,
     "metadata": {},
     "output_type": "execute_result"
    }
   ],
   "source": [
    "df[df['IsOnSale']==True]"
   ]
  },
  {
   "cell_type": "code",
   "execution_count": 195,
   "id": "4b0e73be",
   "metadata": {},
   "outputs": [
    {
     "data": {
      "application/vnd.microsoft.datawrangler.viewer.v0+json": {
       "columns": [
        {
         "name": "index",
         "rawType": "int64",
         "type": "integer"
        },
        {
         "name": "title",
         "rawType": "object",
         "type": "string"
        },
        {
         "name": "author",
         "rawType": "object",
         "type": "unknown"
        },
        {
         "name": "real_price",
         "rawType": "float64",
         "type": "float"
        },
        {
         "name": "sale_price",
         "rawType": "float64",
         "type": "float"
        },
        {
         "name": "IsOnSale",
         "rawType": "bool",
         "type": "boolean"
        },
        {
         "name": "category",
         "rawType": "object",
         "type": "string"
        },
        {
         "name": "retrieved_at",
         "rawType": "object",
         "type": "string"
        }
       ],
       "conversionMethod": "pd.DataFrame",
       "ref": "7838f6a1-2067-4c5c-a447-0def6ad8b117",
       "rows": [
        [
         "1155",
         "Азбучната куќа",
         null,
         null,
         null,
         "False",
         "Трилери",
         "2025-05-02"
        ],
        [
         "1868",
         "Коалата што не можеше да заспие",
         null,
         null,
         null,
         "False",
         "Детски книги",
         "2025-05-03"
        ]
       ],
       "shape": {
        "columns": 7,
        "rows": 2
       }
      },
      "text/html": [
       "<div>\n",
       "<style scoped>\n",
       "    .dataframe tbody tr th:only-of-type {\n",
       "        vertical-align: middle;\n",
       "    }\n",
       "\n",
       "    .dataframe tbody tr th {\n",
       "        vertical-align: top;\n",
       "    }\n",
       "\n",
       "    .dataframe thead th {\n",
       "        text-align: right;\n",
       "    }\n",
       "</style>\n",
       "<table border=\"1\" class=\"dataframe\">\n",
       "  <thead>\n",
       "    <tr style=\"text-align: right;\">\n",
       "      <th></th>\n",
       "      <th>title</th>\n",
       "      <th>author</th>\n",
       "      <th>real_price</th>\n",
       "      <th>sale_price</th>\n",
       "      <th>IsOnSale</th>\n",
       "      <th>category</th>\n",
       "      <th>retrieved_at</th>\n",
       "    </tr>\n",
       "  </thead>\n",
       "  <tbody>\n",
       "    <tr>\n",
       "      <th>1155</th>\n",
       "      <td>Азбучната куќа</td>\n",
       "      <td>NaN</td>\n",
       "      <td>NaN</td>\n",
       "      <td>NaN</td>\n",
       "      <td>False</td>\n",
       "      <td>Трилери</td>\n",
       "      <td>2025-05-02</td>\n",
       "    </tr>\n",
       "    <tr>\n",
       "      <th>1868</th>\n",
       "      <td>Коалата што не можеше да заспие</td>\n",
       "      <td>NaN</td>\n",
       "      <td>NaN</td>\n",
       "      <td>NaN</td>\n",
       "      <td>False</td>\n",
       "      <td>Детски книги</td>\n",
       "      <td>2025-05-03</td>\n",
       "    </tr>\n",
       "  </tbody>\n",
       "</table>\n",
       "</div>"
      ],
      "text/plain": [
       "                                title author  real_price  sale_price  \\\n",
       "1155                   Азбучната куќа    NaN         NaN         NaN   \n",
       "1868  Коалата што не можеше да заспие    NaN         NaN         NaN   \n",
       "\n",
       "      IsOnSale      category retrieved_at  \n",
       "1155     False       Трилери   2025-05-02  \n",
       "1868     False  Детски книги   2025-05-03  "
      ]
     },
     "execution_count": 195,
     "metadata": {},
     "output_type": "execute_result"
    }
   ],
   "source": [
    "missing_prices_df = df[df['real_price'].isna() | df['sale_price'].isna()]\n",
    "missing_prices_df"
   ]
  },
  {
   "cell_type": "markdown",
   "id": "8bb83071",
   "metadata": {},
   "source": [
    "### Create Discount Percentage Column(%):\n",
    "- If IsOnSale is True, calculate discount info(discount percentage)"
   ]
  },
  {
   "cell_type": "code",
   "execution_count": 196,
   "id": "21bc8d7a",
   "metadata": {},
   "outputs": [],
   "source": [
    "df['Discount (%)'] = 0.0\n",
    "\n",
    "mask = (df['IsOnSale'] == True) & (df['real_price'] > 0)\n",
    "df.loc[mask, 'Discount (%)'] = (\n",
    "    ((df.loc[mask, 'real_price'] - df.loc[mask, 'sale_price']) / df.loc[mask, 'real_price']) * 100\n",
    ").round().astype(int)\n"
   ]
  },
  {
   "cell_type": "code",
   "execution_count": 197,
   "id": "0a77e687",
   "metadata": {},
   "outputs": [
    {
     "data": {
      "application/vnd.microsoft.datawrangler.viewer.v0+json": {
       "columns": [
        {
         "name": "index",
         "rawType": "int64",
         "type": "integer"
        },
        {
         "name": "title",
         "rawType": "object",
         "type": "string"
        },
        {
         "name": "author",
         "rawType": "object",
         "type": "string"
        },
        {
         "name": "real_price",
         "rawType": "float64",
         "type": "float"
        },
        {
         "name": "sale_price",
         "rawType": "float64",
         "type": "float"
        },
        {
         "name": "IsOnSale",
         "rawType": "bool",
         "type": "boolean"
        },
        {
         "name": "category",
         "rawType": "object",
         "type": "string"
        },
        {
         "name": "retrieved_at",
         "rawType": "object",
         "type": "string"
        },
        {
         "name": "Discount (%)",
         "rawType": "float64",
         "type": "float"
        }
       ],
       "conversionMethod": "pd.DataFrame",
       "ref": "3e914978-4297-488d-aa9b-747c41d4d238",
       "rows": [
        [
         "0",
         "Фаворити",
         " Лејн Фарго",
         "590.0",
         "0.0",
         "False",
         "Романси",
         "2025-05-02",
         "0.0"
        ],
        [
         "1",
         "Тунел",
         " Ана Волц",
         "400.0",
         "0.0",
         "False",
         "Романси",
         "2025-05-02",
         "0.0"
        ],
        [
         "2",
         "Љубов во Рим",
         " Сара Адамс",
         "490.0",
         "0.0",
         "False",
         "Романси",
         "2025-05-02",
         "0.0"
        ],
        [
         "3",
         "Шпанска љубовна измама",
         " Елена Армас",
         "590.0",
         "0.0",
         "False",
         "Романси",
         "2025-05-02",
         "0.0"
        ],
        [
         "4",
         "Изопачени лаги",
         " Ана Хуанг",
         "590.0",
         "0.0",
         "False",
         "Романси",
         "2025-05-02",
         "0.0"
        ]
       ],
       "shape": {
        "columns": 8,
        "rows": 5
       }
      },
      "text/html": [
       "<div>\n",
       "<style scoped>\n",
       "    .dataframe tbody tr th:only-of-type {\n",
       "        vertical-align: middle;\n",
       "    }\n",
       "\n",
       "    .dataframe tbody tr th {\n",
       "        vertical-align: top;\n",
       "    }\n",
       "\n",
       "    .dataframe thead th {\n",
       "        text-align: right;\n",
       "    }\n",
       "</style>\n",
       "<table border=\"1\" class=\"dataframe\">\n",
       "  <thead>\n",
       "    <tr style=\"text-align: right;\">\n",
       "      <th></th>\n",
       "      <th>title</th>\n",
       "      <th>author</th>\n",
       "      <th>real_price</th>\n",
       "      <th>sale_price</th>\n",
       "      <th>IsOnSale</th>\n",
       "      <th>category</th>\n",
       "      <th>retrieved_at</th>\n",
       "      <th>Discount (%)</th>\n",
       "    </tr>\n",
       "  </thead>\n",
       "  <tbody>\n",
       "    <tr>\n",
       "      <th>0</th>\n",
       "      <td>Фаворити</td>\n",
       "      <td>Лејн Фарго</td>\n",
       "      <td>590.0</td>\n",
       "      <td>0.0</td>\n",
       "      <td>False</td>\n",
       "      <td>Романси</td>\n",
       "      <td>2025-05-02</td>\n",
       "      <td>0.0</td>\n",
       "    </tr>\n",
       "    <tr>\n",
       "      <th>1</th>\n",
       "      <td>Тунел</td>\n",
       "      <td>Ана Волц</td>\n",
       "      <td>400.0</td>\n",
       "      <td>0.0</td>\n",
       "      <td>False</td>\n",
       "      <td>Романси</td>\n",
       "      <td>2025-05-02</td>\n",
       "      <td>0.0</td>\n",
       "    </tr>\n",
       "    <tr>\n",
       "      <th>2</th>\n",
       "      <td>Љубов во Рим</td>\n",
       "      <td>Сара Адамс</td>\n",
       "      <td>490.0</td>\n",
       "      <td>0.0</td>\n",
       "      <td>False</td>\n",
       "      <td>Романси</td>\n",
       "      <td>2025-05-02</td>\n",
       "      <td>0.0</td>\n",
       "    </tr>\n",
       "    <tr>\n",
       "      <th>3</th>\n",
       "      <td>Шпанска љубовна измама</td>\n",
       "      <td>Елена Армас</td>\n",
       "      <td>590.0</td>\n",
       "      <td>0.0</td>\n",
       "      <td>False</td>\n",
       "      <td>Романси</td>\n",
       "      <td>2025-05-02</td>\n",
       "      <td>0.0</td>\n",
       "    </tr>\n",
       "    <tr>\n",
       "      <th>4</th>\n",
       "      <td>Изопачени лаги</td>\n",
       "      <td>Ана Хуанг</td>\n",
       "      <td>590.0</td>\n",
       "      <td>0.0</td>\n",
       "      <td>False</td>\n",
       "      <td>Романси</td>\n",
       "      <td>2025-05-02</td>\n",
       "      <td>0.0</td>\n",
       "    </tr>\n",
       "  </tbody>\n",
       "</table>\n",
       "</div>"
      ],
      "text/plain": [
       "                    title        author  real_price  sale_price  IsOnSale  \\\n",
       "0                Фаворити    Лејн Фарго       590.0         0.0     False   \n",
       "1                   Тунел      Ана Волц       400.0         0.0     False   \n",
       "2            Љубов во Рим    Сара Адамс       490.0         0.0     False   \n",
       "3  Шпанска љубовна измама   Елена Армас       590.0         0.0     False   \n",
       "4          Изопачени лаги     Ана Хуанг       590.0         0.0     False   \n",
       "\n",
       "  category retrieved_at  Discount (%)  \n",
       "0  Романси   2025-05-02           0.0  \n",
       "1  Романси   2025-05-02           0.0  \n",
       "2  Романси   2025-05-02           0.0  \n",
       "3  Романси   2025-05-02           0.0  \n",
       "4  Романси   2025-05-02           0.0  "
      ]
     },
     "execution_count": 197,
     "metadata": {},
     "output_type": "execute_result"
    }
   ],
   "source": [
    "df.head()"
   ]
  },
  {
   "cell_type": "code",
   "execution_count": 198,
   "id": "5051f37b",
   "metadata": {},
   "outputs": [
    {
     "data": {
      "application/vnd.microsoft.datawrangler.viewer.v0+json": {
       "columns": [
        {
         "name": "index",
         "rawType": "int64",
         "type": "integer"
        },
        {
         "name": "title",
         "rawType": "object",
         "type": "string"
        },
        {
         "name": "author",
         "rawType": "object",
         "type": "unknown"
        },
        {
         "name": "real_price",
         "rawType": "float64",
         "type": "float"
        },
        {
         "name": "sale_price",
         "rawType": "float64",
         "type": "float"
        },
        {
         "name": "IsOnSale",
         "rawType": "bool",
         "type": "boolean"
        },
        {
         "name": "category",
         "rawType": "object",
         "type": "string"
        },
        {
         "name": "retrieved_at",
         "rawType": "object",
         "type": "string"
        },
        {
         "name": "Discount (%)",
         "rawType": "float64",
         "type": "float"
        }
       ],
       "conversionMethod": "pd.DataFrame",
       "ref": "9f52bfe8-add1-440a-9ce7-8c0c322784e2",
       "rows": [
        [
         "1155",
         "Азбучната куќа",
         null,
         null,
         null,
         "False",
         "Трилери",
         "2025-05-02",
         "0.0"
        ],
        [
         "1868",
         "Коалата што не можеше да заспие",
         null,
         null,
         null,
         "False",
         "Детски книги",
         "2025-05-03",
         "0.0"
        ]
       ],
       "shape": {
        "columns": 8,
        "rows": 2
       }
      },
      "text/html": [
       "<div>\n",
       "<style scoped>\n",
       "    .dataframe tbody tr th:only-of-type {\n",
       "        vertical-align: middle;\n",
       "    }\n",
       "\n",
       "    .dataframe tbody tr th {\n",
       "        vertical-align: top;\n",
       "    }\n",
       "\n",
       "    .dataframe thead th {\n",
       "        text-align: right;\n",
       "    }\n",
       "</style>\n",
       "<table border=\"1\" class=\"dataframe\">\n",
       "  <thead>\n",
       "    <tr style=\"text-align: right;\">\n",
       "      <th></th>\n",
       "      <th>title</th>\n",
       "      <th>author</th>\n",
       "      <th>real_price</th>\n",
       "      <th>sale_price</th>\n",
       "      <th>IsOnSale</th>\n",
       "      <th>category</th>\n",
       "      <th>retrieved_at</th>\n",
       "      <th>Discount (%)</th>\n",
       "    </tr>\n",
       "  </thead>\n",
       "  <tbody>\n",
       "    <tr>\n",
       "      <th>1155</th>\n",
       "      <td>Азбучната куќа</td>\n",
       "      <td>NaN</td>\n",
       "      <td>NaN</td>\n",
       "      <td>NaN</td>\n",
       "      <td>False</td>\n",
       "      <td>Трилери</td>\n",
       "      <td>2025-05-02</td>\n",
       "      <td>0.0</td>\n",
       "    </tr>\n",
       "    <tr>\n",
       "      <th>1868</th>\n",
       "      <td>Коалата што не можеше да заспие</td>\n",
       "      <td>NaN</td>\n",
       "      <td>NaN</td>\n",
       "      <td>NaN</td>\n",
       "      <td>False</td>\n",
       "      <td>Детски книги</td>\n",
       "      <td>2025-05-03</td>\n",
       "      <td>0.0</td>\n",
       "    </tr>\n",
       "  </tbody>\n",
       "</table>\n",
       "</div>"
      ],
      "text/plain": [
       "                                title author  real_price  sale_price  \\\n",
       "1155                   Азбучната куќа    NaN         NaN         NaN   \n",
       "1868  Коалата што не можеше да заспие    NaN         NaN         NaN   \n",
       "\n",
       "      IsOnSale      category retrieved_at  Discount (%)  \n",
       "1155     False       Трилери   2025-05-02           0.0  \n",
       "1868     False  Детски книги   2025-05-03           0.0  "
      ]
     },
     "execution_count": 198,
     "metadata": {},
     "output_type": "execute_result"
    }
   ],
   "source": [
    "missing_prices_df = df[df['real_price'].isna() | df['sale_price'].isna()]\n",
    "missing_prices_df"
   ]
  },
  {
   "cell_type": "code",
   "execution_count": 199,
   "id": "7e0a4b95",
   "metadata": {},
   "outputs": [
    {
     "data": {
      "text/plain": [
       "title              0\n",
       "author          1617\n",
       "real_price         2\n",
       "sale_price         2\n",
       "IsOnSale           0\n",
       "category           0\n",
       "retrieved_at       0\n",
       "Discount (%)       0\n",
       "dtype: int64"
      ]
     },
     "execution_count": 199,
     "metadata": {},
     "output_type": "execute_result"
    }
   ],
   "source": [
    "df.isnull().sum()"
   ]
  },
  {
   "cell_type": "markdown",
   "id": "45352fb1",
   "metadata": {},
   "source": [
    "### Duplicates\n",
    "- 10 entries are completely identical. We can merge them, Keep only one"
   ]
  },
  {
   "cell_type": "code",
   "execution_count": 200,
   "id": "f7d454c1",
   "metadata": {},
   "outputs": [
    {
     "name": "stdout",
     "output_type": "stream",
     "text": [
      "Length of duplicates:  10\n"
     ]
    },
    {
     "data": {
      "application/vnd.microsoft.datawrangler.viewer.v0+json": {
       "columns": [
        {
         "name": "index",
         "rawType": "int64",
         "type": "integer"
        },
        {
         "name": "title",
         "rawType": "object",
         "type": "string"
        },
        {
         "name": "author",
         "rawType": "object",
         "type": "unknown"
        },
        {
         "name": "real_price",
         "rawType": "float64",
         "type": "float"
        },
        {
         "name": "sale_price",
         "rawType": "float64",
         "type": "float"
        },
        {
         "name": "IsOnSale",
         "rawType": "bool",
         "type": "boolean"
        },
        {
         "name": "category",
         "rawType": "object",
         "type": "string"
        },
        {
         "name": "retrieved_at",
         "rawType": "object",
         "type": "string"
        },
        {
         "name": "Discount (%)",
         "rawType": "float64",
         "type": "float"
        }
       ],
       "conversionMethod": "pd.DataFrame",
       "ref": "b11b0f63-6cc5-4d02-8bee-605f196ce828",
       "rows": [
        [
         "1016",
         "Голем готвач за бебиња и мали децa",
         null,
         "1990.0",
         "0.0",
         "False",
         "Здравје и исхрана",
         "2025-05-02",
         "0.0"
        ],
        [
         "1018",
         "Голем готвач за бебиња и мали децa",
         null,
         "1990.0",
         "0.0",
         "False",
         "Здравје и исхрана",
         "2025-05-02",
         "0.0"
        ],
        [
         "2057",
         "Кифличката Мирна",
         null,
         "250.0",
         "0.0",
         "False",
         "Детски книги",
         "2025-05-03",
         "0.0"
        ],
        [
         "2146",
         "Кифличката Мирна",
         null,
         "250.0",
         "0.0",
         "False",
         "Детски книги",
         "2025-05-03",
         "0.0"
        ],
        [
         "2038",
         "Мојот брат од тринаесеттиот кат",
         null,
         "250.0",
         "0.0",
         "False",
         "Детски книги",
         "2025-05-03",
         "0.0"
        ],
        [
         "2145",
         "Мојот брат од тринаесеттиот кат",
         null,
         "250.0",
         "0.0",
         "False",
         "Детски книги",
         "2025-05-03",
         "0.0"
        ],
        [
         "5",
         "Убавината на скршените нешта",
         " Ивана Спасев",
         "390.0",
         "0.0",
         "False",
         "Романси",
         "2025-05-02",
         "0.0"
        ],
        [
         "6",
         "Убавината на скршените нешта",
         " Ивана Спасев",
         "390.0",
         "0.0",
         "False",
         "Романси",
         "2025-05-02",
         "0.0"
        ],
        [
         "1380",
         "Убавината на скршените нешта",
         " Ивана Спасев",
         "390.0",
         "0.0",
         "False",
         "Драми",
         "2025-05-02",
         "0.0"
        ],
        [
         "1381",
         "Убавината на скршените нешта",
         " Ивана Спасев",
         "390.0",
         "0.0",
         "False",
         "Драми",
         "2025-05-02",
         "0.0"
        ]
       ],
       "shape": {
        "columns": 8,
        "rows": 10
       }
      },
      "text/html": [
       "<div>\n",
       "<style scoped>\n",
       "    .dataframe tbody tr th:only-of-type {\n",
       "        vertical-align: middle;\n",
       "    }\n",
       "\n",
       "    .dataframe tbody tr th {\n",
       "        vertical-align: top;\n",
       "    }\n",
       "\n",
       "    .dataframe thead th {\n",
       "        text-align: right;\n",
       "    }\n",
       "</style>\n",
       "<table border=\"1\" class=\"dataframe\">\n",
       "  <thead>\n",
       "    <tr style=\"text-align: right;\">\n",
       "      <th></th>\n",
       "      <th>title</th>\n",
       "      <th>author</th>\n",
       "      <th>real_price</th>\n",
       "      <th>sale_price</th>\n",
       "      <th>IsOnSale</th>\n",
       "      <th>category</th>\n",
       "      <th>retrieved_at</th>\n",
       "      <th>Discount (%)</th>\n",
       "    </tr>\n",
       "  </thead>\n",
       "  <tbody>\n",
       "    <tr>\n",
       "      <th>1016</th>\n",
       "      <td>Голем готвач за бебиња и мали децa</td>\n",
       "      <td>NaN</td>\n",
       "      <td>1990.0</td>\n",
       "      <td>0.0</td>\n",
       "      <td>False</td>\n",
       "      <td>Здравје и исхрана</td>\n",
       "      <td>2025-05-02</td>\n",
       "      <td>0.0</td>\n",
       "    </tr>\n",
       "    <tr>\n",
       "      <th>1018</th>\n",
       "      <td>Голем готвач за бебиња и мали децa</td>\n",
       "      <td>NaN</td>\n",
       "      <td>1990.0</td>\n",
       "      <td>0.0</td>\n",
       "      <td>False</td>\n",
       "      <td>Здравје и исхрана</td>\n",
       "      <td>2025-05-02</td>\n",
       "      <td>0.0</td>\n",
       "    </tr>\n",
       "    <tr>\n",
       "      <th>2057</th>\n",
       "      <td>Кифличката Мирна</td>\n",
       "      <td>NaN</td>\n",
       "      <td>250.0</td>\n",
       "      <td>0.0</td>\n",
       "      <td>False</td>\n",
       "      <td>Детски книги</td>\n",
       "      <td>2025-05-03</td>\n",
       "      <td>0.0</td>\n",
       "    </tr>\n",
       "    <tr>\n",
       "      <th>2146</th>\n",
       "      <td>Кифличката Мирна</td>\n",
       "      <td>NaN</td>\n",
       "      <td>250.0</td>\n",
       "      <td>0.0</td>\n",
       "      <td>False</td>\n",
       "      <td>Детски книги</td>\n",
       "      <td>2025-05-03</td>\n",
       "      <td>0.0</td>\n",
       "    </tr>\n",
       "    <tr>\n",
       "      <th>2038</th>\n",
       "      <td>Мојот брат од тринаесеттиот кат</td>\n",
       "      <td>NaN</td>\n",
       "      <td>250.0</td>\n",
       "      <td>0.0</td>\n",
       "      <td>False</td>\n",
       "      <td>Детски книги</td>\n",
       "      <td>2025-05-03</td>\n",
       "      <td>0.0</td>\n",
       "    </tr>\n",
       "    <tr>\n",
       "      <th>2145</th>\n",
       "      <td>Мојот брат од тринаесеттиот кат</td>\n",
       "      <td>NaN</td>\n",
       "      <td>250.0</td>\n",
       "      <td>0.0</td>\n",
       "      <td>False</td>\n",
       "      <td>Детски книги</td>\n",
       "      <td>2025-05-03</td>\n",
       "      <td>0.0</td>\n",
       "    </tr>\n",
       "    <tr>\n",
       "      <th>5</th>\n",
       "      <td>Убавината на скршените нешта</td>\n",
       "      <td>Ивана Спасев</td>\n",
       "      <td>390.0</td>\n",
       "      <td>0.0</td>\n",
       "      <td>False</td>\n",
       "      <td>Романси</td>\n",
       "      <td>2025-05-02</td>\n",
       "      <td>0.0</td>\n",
       "    </tr>\n",
       "    <tr>\n",
       "      <th>6</th>\n",
       "      <td>Убавината на скршените нешта</td>\n",
       "      <td>Ивана Спасев</td>\n",
       "      <td>390.0</td>\n",
       "      <td>0.0</td>\n",
       "      <td>False</td>\n",
       "      <td>Романси</td>\n",
       "      <td>2025-05-02</td>\n",
       "      <td>0.0</td>\n",
       "    </tr>\n",
       "    <tr>\n",
       "      <th>1380</th>\n",
       "      <td>Убавината на скршените нешта</td>\n",
       "      <td>Ивана Спасев</td>\n",
       "      <td>390.0</td>\n",
       "      <td>0.0</td>\n",
       "      <td>False</td>\n",
       "      <td>Драми</td>\n",
       "      <td>2025-05-02</td>\n",
       "      <td>0.0</td>\n",
       "    </tr>\n",
       "    <tr>\n",
       "      <th>1381</th>\n",
       "      <td>Убавината на скршените нешта</td>\n",
       "      <td>Ивана Спасев</td>\n",
       "      <td>390.0</td>\n",
       "      <td>0.0</td>\n",
       "      <td>False</td>\n",
       "      <td>Драми</td>\n",
       "      <td>2025-05-02</td>\n",
       "      <td>0.0</td>\n",
       "    </tr>\n",
       "  </tbody>\n",
       "</table>\n",
       "</div>"
      ],
      "text/plain": [
       "                                   title         author  real_price  \\\n",
       "1016  Голем готвач за бебиња и мали децa            NaN      1990.0   \n",
       "1018  Голем готвач за бебиња и мали децa            NaN      1990.0   \n",
       "2057                    Кифличката Мирна            NaN       250.0   \n",
       "2146                    Кифличката Мирна            NaN       250.0   \n",
       "2038     Мојот брат од тринаесеттиот кат            NaN       250.0   \n",
       "2145     Мојот брат од тринаесеттиот кат            NaN       250.0   \n",
       "5           Убавината на скршените нешта   Ивана Спасев       390.0   \n",
       "6           Убавината на скршените нешта   Ивана Спасев       390.0   \n",
       "1380        Убавината на скршените нешта   Ивана Спасев       390.0   \n",
       "1381        Убавината на скршените нешта   Ивана Спасев       390.0   \n",
       "\n",
       "      sale_price  IsOnSale           category retrieved_at  Discount (%)  \n",
       "1016         0.0     False  Здравје и исхрана   2025-05-02           0.0  \n",
       "1018         0.0     False  Здравје и исхрана   2025-05-02           0.0  \n",
       "2057         0.0     False       Детски книги   2025-05-03           0.0  \n",
       "2146         0.0     False       Детски книги   2025-05-03           0.0  \n",
       "2038         0.0     False       Детски книги   2025-05-03           0.0  \n",
       "2145         0.0     False       Детски книги   2025-05-03           0.0  \n",
       "5            0.0     False            Романси   2025-05-02           0.0  \n",
       "6            0.0     False            Романси   2025-05-02           0.0  \n",
       "1380         0.0     False              Драми   2025-05-02           0.0  \n",
       "1381         0.0     False              Драми   2025-05-02           0.0  "
      ]
     },
     "execution_count": 200,
     "metadata": {},
     "output_type": "execute_result"
    }
   ],
   "source": [
    "duplicates = df[df.duplicated(keep=False)]\n",
    "duplicates = duplicates.sort_values(by=['title', 'author'])\n",
    "print(\"Length of duplicates: \", len(duplicates))\n",
    "duplicates.head(10)"
   ]
  },
  {
   "cell_type": "code",
   "execution_count": 201,
   "id": "d840dd05",
   "metadata": {},
   "outputs": [
    {
     "name": "stdout",
     "output_type": "stream",
     "text": [
      "Original: 2169\n",
      "After drop_duplicates: 2164\n",
      "Duplicates removed: 0\n"
     ]
    }
   ],
   "source": [
    "print(\"Original:\", len(df))\n",
    "df = df.drop_duplicates()\n",
    "print(\"After drop_duplicates:\", len(df))\n",
    "print(\"Duplicates removed:\", len(df) - len(df))"
   ]
  },
  {
   "cell_type": "markdown",
   "id": "774ef0ae",
   "metadata": {},
   "source": [
    "### Author\n",
    "\n",
    "- All 6 Harry Poter books have a missing value in the Author field. Replace all with  'Џ.К. Роулинг'"
   ]
  },
  {
   "cell_type": "code",
   "execution_count": 202,
   "id": "f3a5ac52",
   "metadata": {},
   "outputs": [
    {
     "data": {
      "application/vnd.microsoft.datawrangler.viewer.v0+json": {
       "columns": [
        {
         "name": "index",
         "rawType": "int64",
         "type": "integer"
        },
        {
         "name": "title",
         "rawType": "object",
         "type": "string"
        },
        {
         "name": "author",
         "rawType": "object",
         "type": "unknown"
        },
        {
         "name": "real_price",
         "rawType": "float64",
         "type": "float"
        },
        {
         "name": "sale_price",
         "rawType": "float64",
         "type": "float"
        },
        {
         "name": "IsOnSale",
         "rawType": "bool",
         "type": "boolean"
        },
        {
         "name": "category",
         "rawType": "object",
         "type": "string"
        },
        {
         "name": "retrieved_at",
         "rawType": "object",
         "type": "string"
        },
        {
         "name": "Discount (%)",
         "rawType": "float64",
         "type": "float"
        }
       ],
       "conversionMethod": "pd.DataFrame",
       "ref": "79227db3-e7b0-4fca-b780-4e7abd8fea1f",
       "rows": [
        [
         "451",
         "Хари Потер и Каменот на мудроста (прв дел)",
         null,
         "650.0",
         "0.0",
         "False",
         "Мистерии",
         "2025-05-02",
         "0.0"
        ],
        [
         "452",
         "Хари Потер и и затвореникот од Азкабан",
         null,
         "700.0",
         "0.0",
         "False",
         "Мистерии",
         "2025-05-02",
         "0.0"
        ],
        [
         "453",
         "Хари Потер и Одајата на тајните",
         null,
         "650.0",
         "0.0",
         "False",
         "Мистерии",
         "2025-05-02",
         "0.0"
        ],
        [
         "723",
         "Хари Потер и Редот на фениксот",
         null,
         "1150.0",
         "0.0",
         "False",
         "За млади",
         "2025-05-02",
         "0.0"
        ],
        [
         "1185",
         "Хари Потер и Редот на фениксот",
         null,
         "1150.0",
         "0.0",
         "False",
         "Трилери",
         "2025-05-02",
         "0.0"
        ],
        [
         "1587",
         "Хари Потер и Редот на фениксот",
         null,
         "1150.0",
         "0.0",
         "False",
         "Драми",
         "2025-05-02",
         "0.0"
        ]
       ],
       "shape": {
        "columns": 8,
        "rows": 6
       }
      },
      "text/html": [
       "<div>\n",
       "<style scoped>\n",
       "    .dataframe tbody tr th:only-of-type {\n",
       "        vertical-align: middle;\n",
       "    }\n",
       "\n",
       "    .dataframe tbody tr th {\n",
       "        vertical-align: top;\n",
       "    }\n",
       "\n",
       "    .dataframe thead th {\n",
       "        text-align: right;\n",
       "    }\n",
       "</style>\n",
       "<table border=\"1\" class=\"dataframe\">\n",
       "  <thead>\n",
       "    <tr style=\"text-align: right;\">\n",
       "      <th></th>\n",
       "      <th>title</th>\n",
       "      <th>author</th>\n",
       "      <th>real_price</th>\n",
       "      <th>sale_price</th>\n",
       "      <th>IsOnSale</th>\n",
       "      <th>category</th>\n",
       "      <th>retrieved_at</th>\n",
       "      <th>Discount (%)</th>\n",
       "    </tr>\n",
       "  </thead>\n",
       "  <tbody>\n",
       "    <tr>\n",
       "      <th>451</th>\n",
       "      <td>Хари Потер и Каменот на мудроста (прв дел)</td>\n",
       "      <td>NaN</td>\n",
       "      <td>650.0</td>\n",
       "      <td>0.0</td>\n",
       "      <td>False</td>\n",
       "      <td>Мистерии</td>\n",
       "      <td>2025-05-02</td>\n",
       "      <td>0.0</td>\n",
       "    </tr>\n",
       "    <tr>\n",
       "      <th>452</th>\n",
       "      <td>Хари Потер и и затвореникот од Азкабан</td>\n",
       "      <td>NaN</td>\n",
       "      <td>700.0</td>\n",
       "      <td>0.0</td>\n",
       "      <td>False</td>\n",
       "      <td>Мистерии</td>\n",
       "      <td>2025-05-02</td>\n",
       "      <td>0.0</td>\n",
       "    </tr>\n",
       "    <tr>\n",
       "      <th>453</th>\n",
       "      <td>Хари Потер и Одајата на тајните</td>\n",
       "      <td>NaN</td>\n",
       "      <td>650.0</td>\n",
       "      <td>0.0</td>\n",
       "      <td>False</td>\n",
       "      <td>Мистерии</td>\n",
       "      <td>2025-05-02</td>\n",
       "      <td>0.0</td>\n",
       "    </tr>\n",
       "    <tr>\n",
       "      <th>723</th>\n",
       "      <td>Хари Потер и Редот на фениксот</td>\n",
       "      <td>NaN</td>\n",
       "      <td>1150.0</td>\n",
       "      <td>0.0</td>\n",
       "      <td>False</td>\n",
       "      <td>За млади</td>\n",
       "      <td>2025-05-02</td>\n",
       "      <td>0.0</td>\n",
       "    </tr>\n",
       "    <tr>\n",
       "      <th>1185</th>\n",
       "      <td>Хари Потер и Редот на фениксот</td>\n",
       "      <td>NaN</td>\n",
       "      <td>1150.0</td>\n",
       "      <td>0.0</td>\n",
       "      <td>False</td>\n",
       "      <td>Трилери</td>\n",
       "      <td>2025-05-02</td>\n",
       "      <td>0.0</td>\n",
       "    </tr>\n",
       "    <tr>\n",
       "      <th>1587</th>\n",
       "      <td>Хари Потер и Редот на фениксот</td>\n",
       "      <td>NaN</td>\n",
       "      <td>1150.0</td>\n",
       "      <td>0.0</td>\n",
       "      <td>False</td>\n",
       "      <td>Драми</td>\n",
       "      <td>2025-05-02</td>\n",
       "      <td>0.0</td>\n",
       "    </tr>\n",
       "  </tbody>\n",
       "</table>\n",
       "</div>"
      ],
      "text/plain": [
       "                                           title author  real_price  \\\n",
       "451   Хари Потер и Каменот на мудроста (прв дел)    NaN       650.0   \n",
       "452       Хари Потер и и затвореникот од Азкабан    NaN       700.0   \n",
       "453              Хари Потер и Одајата на тајните    NaN       650.0   \n",
       "723               Хари Потер и Редот на фениксот    NaN      1150.0   \n",
       "1185              Хари Потер и Редот на фениксот    NaN      1150.0   \n",
       "1587              Хари Потер и Редот на фениксот    NaN      1150.0   \n",
       "\n",
       "      sale_price  IsOnSale  category retrieved_at  Discount (%)  \n",
       "451          0.0     False  Мистерии   2025-05-02           0.0  \n",
       "452          0.0     False  Мистерии   2025-05-02           0.0  \n",
       "453          0.0     False  Мистерии   2025-05-02           0.0  \n",
       "723          0.0     False  За млади   2025-05-02           0.0  \n",
       "1185         0.0     False   Трилери   2025-05-02           0.0  \n",
       "1587         0.0     False     Драми   2025-05-02           0.0  "
      ]
     },
     "execution_count": 202,
     "metadata": {},
     "output_type": "execute_result"
    }
   ],
   "source": [
    "harry_potter_rows = df[df['title'].str.contains('Хари Потер', case=False, na=False)]\n",
    "harry_potter_rows"
   ]
  },
  {
   "cell_type": "code",
   "execution_count": 203,
   "id": "41dd8fde",
   "metadata": {},
   "outputs": [],
   "source": [
    "df.loc[df['title'].str.contains('Хари Потер', case=False, na=False), 'author'] = 'Џ.К. Роулинг'"
   ]
  },
  {
   "cell_type": "code",
   "execution_count": 204,
   "id": "0dc9ae68",
   "metadata": {},
   "outputs": [
    {
     "data": {
      "text/plain": [
       "title              0\n",
       "author          1608\n",
       "real_price         2\n",
       "sale_price         2\n",
       "IsOnSale           0\n",
       "category           0\n",
       "retrieved_at       0\n",
       "Discount (%)       0\n",
       "dtype: int64"
      ]
     },
     "execution_count": 204,
     "metadata": {},
     "output_type": "execute_result"
    }
   ],
   "source": [
    "df.isnull().sum()"
   ]
  },
  {
   "cell_type": "markdown",
   "id": "eb5e248e",
   "metadata": {},
   "source": [
    "- Extract authors from the titles that contain authors(e.g. \"Избрани песни – Ана Ахматова\")"
   ]
  },
  {
   "cell_type": "code",
   "execution_count": 205,
   "id": "24650590",
   "metadata": {},
   "outputs": [
    {
     "data": {
      "application/vnd.microsoft.datawrangler.viewer.v0+json": {
       "columns": [
        {
         "name": "index",
         "rawType": "int64",
         "type": "integer"
        },
        {
         "name": "title",
         "rawType": "object",
         "type": "string"
        },
        {
         "name": "author",
         "rawType": "object",
         "type": "unknown"
        },
        {
         "name": "real_price",
         "rawType": "float64",
         "type": "float"
        },
        {
         "name": "sale_price",
         "rawType": "float64",
         "type": "float"
        },
        {
         "name": "IsOnSale",
         "rawType": "bool",
         "type": "boolean"
        },
        {
         "name": "category",
         "rawType": "object",
         "type": "string"
        },
        {
         "name": "retrieved_at",
         "rawType": "object",
         "type": "string"
        },
        {
         "name": "Discount (%)",
         "rawType": "float64",
         "type": "float"
        }
       ],
       "conversionMethod": "pd.DataFrame",
       "ref": "d6477816-4716-4e46-93e2-12f266f7cc58",
       "rows": [
        [
         "383",
         "Црниот мачор – раскази за мистеријата",
         null,
         "300.0",
         "0.0",
         "False",
         "Мистерии",
         "2025-05-02",
         "0.0"
        ],
        [
         "522",
         "Избрани песни – Ана Ахматова",
         null,
         "350.0",
         "0.0",
         "False",
         "Историски",
         "2025-05-02",
         "0.0"
        ],
        [
         "544",
         "Атлас – Приказната на Тате Солт",
         null,
         "940.0",
         "0.0",
         "False",
         "Историски",
         "2025-05-02",
         "0.0"
        ],
        [
         "604",
         "Снеговите на љубовта – книга втора",
         null,
         "199.0",
         "0.0",
         "False",
         "Историски",
         "2025-05-02",
         "0.0"
        ],
        [
         "605",
         "Снеговите на љубовта – книга прва",
         null,
         "199.0",
         "0.0",
         "False",
         "Историски",
         "2025-05-02",
         "0.0"
        ],
        [
         "771",
         "Подарокот – Едит Егер",
         null,
         "400.0",
         "0.0",
         "False",
         "Психологија",
         "2025-05-02",
         "0.0"
        ],
        [
         "810",
         "Мудар родител – среќен тинејџер",
         null,
         "600.0",
         "0.0",
         "False",
         "Психологија",
         "2025-05-02",
         "0.0"
        ],
        [
         "840",
         "Мудар родител – време е за градинка",
         null,
         "650.0",
         "0.0",
         "False",
         "Психологија",
         "2025-05-02",
         "0.0"
        ],
        [
         "870",
         "Умешноста да ја креирате вашата реалност – Водич за свесни креатори",
         null,
         "450.0",
         "0.0",
         "False",
         "Психологија",
         "2025-05-02",
         "0.0"
        ],
        [
         "892",
         "МУДАР РОДИТЕЛ – СРЕЌНО БЕБЕ",
         null,
         "600.0",
         "0.0",
         "False",
         "Психологија",
         "2025-05-02",
         "0.0"
        ],
        [
         "894",
         "ПАТОТ КОН ВЕЛИЧЕСТВЕНОСТА – книга 2",
         null,
         "400.0",
         "0.0",
         "False",
         "Психологија",
         "2025-05-02",
         "0.0"
        ],
        [
         "976",
         "Македонија и Македонците во Библијата – Библиска вистина/Macedonia and Macedonians in the bible – Bible truth",
         null,
         "800.0",
         "0.0",
         "False",
         "Духовна литература",
         "2025-05-02",
         "0.0"
        ],
        [
         "981",
         "ДЕСЕТТЕ БОЖЈИ ЗАПОВЕДИ – ДЕКАЛОГ",
         null,
         "400.0",
         "0.0",
         "False",
         "Духовна литература",
         "2025-05-02",
         "0.0"
        ],
        [
         "992",
         "Св. Јован Шангајски – Чудотворец на последните времиња",
         null,
         "300.0",
         "0.0",
         "False",
         "Духовна литература",
         "2025-05-02",
         "0.0"
        ],
        [
         "1561",
         "Атлас – Приказната на Тате Солт",
         null,
         "940.0",
         "0.0",
         "False",
         "Драми",
         "2025-05-02",
         "0.0"
        ],
        [
         "1781",
         "Мојата прва книгичка – форми и фигури",
         null,
         "290.0",
         "249.0",
         "True",
         "Детски книги",
         "2025-05-03",
         "14.0"
        ],
        [
         "1782",
         "Мојата прва книгичка – животни",
         null,
         "290.0",
         "249.0",
         "True",
         "Детски книги",
         "2025-05-03",
         "14.0"
        ],
        [
         "1787",
         "Џебен сет за боење – Сирени и самовили",
         null,
         "170.0",
         "0.0",
         "False",
         "Детски книги",
         "2025-05-03",
         "0.0"
        ],
        [
         "1816",
         "Кој сум јас? – Животни од шумата",
         null,
         "170.0",
         "0.0",
         "False",
         "Детски книги",
         "2025-05-03",
         "0.0"
        ],
        [
         "1826",
         "Џебен сет за боење – Животни",
         null,
         "170.0",
         "0.0",
         "False",
         "Детски книги",
         "2025-05-03",
         "0.0"
        ],
        [
         "1827",
         "Мојата срцевидна книга – Магијата на малата самовила",
         null,
         "130.0",
         "0.0",
         "False",
         "Детски книги",
         "2025-05-03",
         "0.0"
        ],
        [
         "1828",
         "Мојата срцевидна книга – Лола ја сака ѕвездата",
         null,
         "130.0",
         "0.0",
         "False",
         "Детски книги",
         "2025-05-03",
         "0.0"
        ],
        [
         "1829",
         "Мојата срцевидна книга – Лола е вистински другар",
         null,
         "130.0",
         "0.0",
         "False",
         "Детски книги",
         "2025-05-03",
         "0.0"
        ],
        [
         "1830",
         "Мојата срцевидна книга – Магијата на малата сирена",
         null,
         "130.0",
         "0.0",
         "False",
         "Детски книги",
         "2025-05-03",
         "0.0"
        ],
        [
         "1864",
         "Боенка – Буква до буква азбука",
         null,
         "110.0",
         "0.0",
         "False",
         "Детски книги",
         "2025-05-03",
         "0.0"
        ],
        [
         "1865",
         "Боенка – Боиме и учиме да броиме",
         null,
         "100.0",
         "0.0",
         "False",
         "Детски книги",
         "2025-05-03",
         "0.0"
        ],
        [
         "1885",
         "Малерите на Макс Крамбли – Хаос во основното училиште",
         null,
         "270.0",
         "0.0",
         "False",
         "Детски книги",
         "2025-05-03",
         "0.0"
        ],
        [
         "1886",
         "Малерите на Макс Крамбли – Херојот од шкафчето",
         null,
         "270.0",
         "0.0",
         "False",
         "Детски книги",
         "2025-05-03",
         "0.0"
        ],
        [
         "1913",
         "Џебен сет за боење – Принцези",
         null,
         "150.0",
         "0.0",
         "False",
         "Детски книги",
         "2025-05-03",
         "0.0"
        ],
        [
         "1923",
         "Принцези – сет за боење",
         null,
         "150.0",
         "0.0",
         "False",
         "Детски книги",
         "2025-05-03",
         "0.0"
        ],
        [
         "1937",
         "Фарма – Криенка Миженка",
         null,
         "200.0",
         "0.0",
         "False",
         "Детски книги",
         "2025-05-03",
         "0.0"
        ],
        [
         "1942",
         "Зборовник – ПРВИ ЗБОРОВИ",
         null,
         "299.0",
         "0.0",
         "False",
         "Детски книги",
         "2025-05-03",
         "0.0"
        ],
        [
         "1945",
         "Кој сум јас? – Животни од фармата",
         null,
         "170.0",
         "0.0",
         "False",
         "Детски книги",
         "2025-05-03",
         "0.0"
        ],
        [
         "2009",
         "Природните чуда – енциклопедија",
         null,
         "170.0",
         "0.0",
         "False",
         "Детски книги",
         "2025-05-03",
         "0.0"
        ],
        [
         "2013",
         "АБВ – од ананас до шапка",
         null,
         "148.0",
         "0.0",
         "False",
         "Детски книги",
         "2025-05-03",
         "0.0"
        ],
        [
         "2039",
         "ГДЏ – Големиот добар џин",
         null,
         "290.0",
         "0.0",
         "False",
         "Детски книги",
         "2025-05-03",
         "0.0"
        ],
        [
         "2054",
         "500 зборови – англиско/македонски",
         null,
         "210.0",
         "0.0",
         "False",
         "Детски книги",
         "2025-05-03",
         "0.0"
        ],
        [
         "2079",
         "Полиција – звучна сликовница",
         null,
         "199.0",
         "0.0",
         "False",
         "Детски книги",
         "2025-05-03",
         "0.0"
        ],
        [
         "2081",
         "ABC – from apple to zebra",
         null,
         "148.0",
         "0.0",
         "False",
         "Детски книги",
         "2025-05-03",
         "0.0"
        ],
        [
         "2107",
         "Сонце – енциклопедија",
         null,
         "170.0",
         "0.0",
         "False",
         "Детски книги",
         "2025-05-03",
         "0.0"
        ],
        [
         "2110",
         "Универзум – енциклопедија",
         null,
         "170.0",
         "0.0",
         "False",
         "Детски книги",
         "2025-05-03",
         "0.0"
        ]
       ],
       "shape": {
        "columns": 8,
        "rows": 41
       }
      },
      "text/html": [
       "<div>\n",
       "<style scoped>\n",
       "    .dataframe tbody tr th:only-of-type {\n",
       "        vertical-align: middle;\n",
       "    }\n",
       "\n",
       "    .dataframe tbody tr th {\n",
       "        vertical-align: top;\n",
       "    }\n",
       "\n",
       "    .dataframe thead th {\n",
       "        text-align: right;\n",
       "    }\n",
       "</style>\n",
       "<table border=\"1\" class=\"dataframe\">\n",
       "  <thead>\n",
       "    <tr style=\"text-align: right;\">\n",
       "      <th></th>\n",
       "      <th>title</th>\n",
       "      <th>author</th>\n",
       "      <th>real_price</th>\n",
       "      <th>sale_price</th>\n",
       "      <th>IsOnSale</th>\n",
       "      <th>category</th>\n",
       "      <th>retrieved_at</th>\n",
       "      <th>Discount (%)</th>\n",
       "    </tr>\n",
       "  </thead>\n",
       "  <tbody>\n",
       "    <tr>\n",
       "      <th>383</th>\n",
       "      <td>Црниот мачор – раскази за мистеријата</td>\n",
       "      <td>NaN</td>\n",
       "      <td>300.0</td>\n",
       "      <td>0.0</td>\n",
       "      <td>False</td>\n",
       "      <td>Мистерии</td>\n",
       "      <td>2025-05-02</td>\n",
       "      <td>0.0</td>\n",
       "    </tr>\n",
       "    <tr>\n",
       "      <th>522</th>\n",
       "      <td>Избрани песни – Ана Ахматова</td>\n",
       "      <td>NaN</td>\n",
       "      <td>350.0</td>\n",
       "      <td>0.0</td>\n",
       "      <td>False</td>\n",
       "      <td>Историски</td>\n",
       "      <td>2025-05-02</td>\n",
       "      <td>0.0</td>\n",
       "    </tr>\n",
       "    <tr>\n",
       "      <th>544</th>\n",
       "      <td>Атлас – Приказната на Тате Солт</td>\n",
       "      <td>NaN</td>\n",
       "      <td>940.0</td>\n",
       "      <td>0.0</td>\n",
       "      <td>False</td>\n",
       "      <td>Историски</td>\n",
       "      <td>2025-05-02</td>\n",
       "      <td>0.0</td>\n",
       "    </tr>\n",
       "    <tr>\n",
       "      <th>604</th>\n",
       "      <td>Снеговите на љубовта – книга втора</td>\n",
       "      <td>NaN</td>\n",
       "      <td>199.0</td>\n",
       "      <td>0.0</td>\n",
       "      <td>False</td>\n",
       "      <td>Историски</td>\n",
       "      <td>2025-05-02</td>\n",
       "      <td>0.0</td>\n",
       "    </tr>\n",
       "    <tr>\n",
       "      <th>605</th>\n",
       "      <td>Снеговите на љубовта – книга прва</td>\n",
       "      <td>NaN</td>\n",
       "      <td>199.0</td>\n",
       "      <td>0.0</td>\n",
       "      <td>False</td>\n",
       "      <td>Историски</td>\n",
       "      <td>2025-05-02</td>\n",
       "      <td>0.0</td>\n",
       "    </tr>\n",
       "    <tr>\n",
       "      <th>771</th>\n",
       "      <td>Подарокот – Едит Егер</td>\n",
       "      <td>NaN</td>\n",
       "      <td>400.0</td>\n",
       "      <td>0.0</td>\n",
       "      <td>False</td>\n",
       "      <td>Психологија</td>\n",
       "      <td>2025-05-02</td>\n",
       "      <td>0.0</td>\n",
       "    </tr>\n",
       "    <tr>\n",
       "      <th>810</th>\n",
       "      <td>Мудар родител – среќен тинејџер</td>\n",
       "      <td>NaN</td>\n",
       "      <td>600.0</td>\n",
       "      <td>0.0</td>\n",
       "      <td>False</td>\n",
       "      <td>Психологија</td>\n",
       "      <td>2025-05-02</td>\n",
       "      <td>0.0</td>\n",
       "    </tr>\n",
       "    <tr>\n",
       "      <th>840</th>\n",
       "      <td>Мудар родител – време е за градинка</td>\n",
       "      <td>NaN</td>\n",
       "      <td>650.0</td>\n",
       "      <td>0.0</td>\n",
       "      <td>False</td>\n",
       "      <td>Психологија</td>\n",
       "      <td>2025-05-02</td>\n",
       "      <td>0.0</td>\n",
       "    </tr>\n",
       "    <tr>\n",
       "      <th>870</th>\n",
       "      <td>Умешноста да ја креирате вашата реалност – Вод...</td>\n",
       "      <td>NaN</td>\n",
       "      <td>450.0</td>\n",
       "      <td>0.0</td>\n",
       "      <td>False</td>\n",
       "      <td>Психологија</td>\n",
       "      <td>2025-05-02</td>\n",
       "      <td>0.0</td>\n",
       "    </tr>\n",
       "    <tr>\n",
       "      <th>892</th>\n",
       "      <td>МУДАР РОДИТЕЛ – СРЕЌНО БЕБЕ</td>\n",
       "      <td>NaN</td>\n",
       "      <td>600.0</td>\n",
       "      <td>0.0</td>\n",
       "      <td>False</td>\n",
       "      <td>Психологија</td>\n",
       "      <td>2025-05-02</td>\n",
       "      <td>0.0</td>\n",
       "    </tr>\n",
       "    <tr>\n",
       "      <th>894</th>\n",
       "      <td>ПАТОТ КОН ВЕЛИЧЕСТВЕНОСТА – книга 2</td>\n",
       "      <td>NaN</td>\n",
       "      <td>400.0</td>\n",
       "      <td>0.0</td>\n",
       "      <td>False</td>\n",
       "      <td>Психологија</td>\n",
       "      <td>2025-05-02</td>\n",
       "      <td>0.0</td>\n",
       "    </tr>\n",
       "    <tr>\n",
       "      <th>976</th>\n",
       "      <td>Македонија и Македонците во Библијата – Библис...</td>\n",
       "      <td>NaN</td>\n",
       "      <td>800.0</td>\n",
       "      <td>0.0</td>\n",
       "      <td>False</td>\n",
       "      <td>Духовна литература</td>\n",
       "      <td>2025-05-02</td>\n",
       "      <td>0.0</td>\n",
       "    </tr>\n",
       "    <tr>\n",
       "      <th>981</th>\n",
       "      <td>ДЕСЕТТЕ БОЖЈИ ЗАПОВЕДИ – ДЕКАЛОГ</td>\n",
       "      <td>NaN</td>\n",
       "      <td>400.0</td>\n",
       "      <td>0.0</td>\n",
       "      <td>False</td>\n",
       "      <td>Духовна литература</td>\n",
       "      <td>2025-05-02</td>\n",
       "      <td>0.0</td>\n",
       "    </tr>\n",
       "    <tr>\n",
       "      <th>992</th>\n",
       "      <td>Св. Јован Шангајски – Чудотворец на последните...</td>\n",
       "      <td>NaN</td>\n",
       "      <td>300.0</td>\n",
       "      <td>0.0</td>\n",
       "      <td>False</td>\n",
       "      <td>Духовна литература</td>\n",
       "      <td>2025-05-02</td>\n",
       "      <td>0.0</td>\n",
       "    </tr>\n",
       "    <tr>\n",
       "      <th>1561</th>\n",
       "      <td>Атлас – Приказната на Тате Солт</td>\n",
       "      <td>NaN</td>\n",
       "      <td>940.0</td>\n",
       "      <td>0.0</td>\n",
       "      <td>False</td>\n",
       "      <td>Драми</td>\n",
       "      <td>2025-05-02</td>\n",
       "      <td>0.0</td>\n",
       "    </tr>\n",
       "    <tr>\n",
       "      <th>1781</th>\n",
       "      <td>Мојата прва книгичка – форми и фигури</td>\n",
       "      <td>NaN</td>\n",
       "      <td>290.0</td>\n",
       "      <td>249.0</td>\n",
       "      <td>True</td>\n",
       "      <td>Детски книги</td>\n",
       "      <td>2025-05-03</td>\n",
       "      <td>14.0</td>\n",
       "    </tr>\n",
       "    <tr>\n",
       "      <th>1782</th>\n",
       "      <td>Мојата прва книгичка – животни</td>\n",
       "      <td>NaN</td>\n",
       "      <td>290.0</td>\n",
       "      <td>249.0</td>\n",
       "      <td>True</td>\n",
       "      <td>Детски книги</td>\n",
       "      <td>2025-05-03</td>\n",
       "      <td>14.0</td>\n",
       "    </tr>\n",
       "    <tr>\n",
       "      <th>1787</th>\n",
       "      <td>Џебен сет за боење – Сирени и самовили</td>\n",
       "      <td>NaN</td>\n",
       "      <td>170.0</td>\n",
       "      <td>0.0</td>\n",
       "      <td>False</td>\n",
       "      <td>Детски книги</td>\n",
       "      <td>2025-05-03</td>\n",
       "      <td>0.0</td>\n",
       "    </tr>\n",
       "    <tr>\n",
       "      <th>1816</th>\n",
       "      <td>Кој сум јас? – Животни од шумата</td>\n",
       "      <td>NaN</td>\n",
       "      <td>170.0</td>\n",
       "      <td>0.0</td>\n",
       "      <td>False</td>\n",
       "      <td>Детски книги</td>\n",
       "      <td>2025-05-03</td>\n",
       "      <td>0.0</td>\n",
       "    </tr>\n",
       "    <tr>\n",
       "      <th>1826</th>\n",
       "      <td>Џебен сет за боење – Животни</td>\n",
       "      <td>NaN</td>\n",
       "      <td>170.0</td>\n",
       "      <td>0.0</td>\n",
       "      <td>False</td>\n",
       "      <td>Детски книги</td>\n",
       "      <td>2025-05-03</td>\n",
       "      <td>0.0</td>\n",
       "    </tr>\n",
       "    <tr>\n",
       "      <th>1827</th>\n",
       "      <td>Мојата срцевидна книга – Магијата на малата са...</td>\n",
       "      <td>NaN</td>\n",
       "      <td>130.0</td>\n",
       "      <td>0.0</td>\n",
       "      <td>False</td>\n",
       "      <td>Детски книги</td>\n",
       "      <td>2025-05-03</td>\n",
       "      <td>0.0</td>\n",
       "    </tr>\n",
       "    <tr>\n",
       "      <th>1828</th>\n",
       "      <td>Мојата срцевидна книга – Лола ја сака ѕвездата</td>\n",
       "      <td>NaN</td>\n",
       "      <td>130.0</td>\n",
       "      <td>0.0</td>\n",
       "      <td>False</td>\n",
       "      <td>Детски книги</td>\n",
       "      <td>2025-05-03</td>\n",
       "      <td>0.0</td>\n",
       "    </tr>\n",
       "    <tr>\n",
       "      <th>1829</th>\n",
       "      <td>Мојата срцевидна книга – Лола е вистински другар</td>\n",
       "      <td>NaN</td>\n",
       "      <td>130.0</td>\n",
       "      <td>0.0</td>\n",
       "      <td>False</td>\n",
       "      <td>Детски книги</td>\n",
       "      <td>2025-05-03</td>\n",
       "      <td>0.0</td>\n",
       "    </tr>\n",
       "    <tr>\n",
       "      <th>1830</th>\n",
       "      <td>Мојата срцевидна книга – Магијата на малата си...</td>\n",
       "      <td>NaN</td>\n",
       "      <td>130.0</td>\n",
       "      <td>0.0</td>\n",
       "      <td>False</td>\n",
       "      <td>Детски книги</td>\n",
       "      <td>2025-05-03</td>\n",
       "      <td>0.0</td>\n",
       "    </tr>\n",
       "    <tr>\n",
       "      <th>1864</th>\n",
       "      <td>Боенка – Буква до буква азбука</td>\n",
       "      <td>NaN</td>\n",
       "      <td>110.0</td>\n",
       "      <td>0.0</td>\n",
       "      <td>False</td>\n",
       "      <td>Детски книги</td>\n",
       "      <td>2025-05-03</td>\n",
       "      <td>0.0</td>\n",
       "    </tr>\n",
       "    <tr>\n",
       "      <th>1865</th>\n",
       "      <td>Боенка – Боиме и учиме да броиме</td>\n",
       "      <td>NaN</td>\n",
       "      <td>100.0</td>\n",
       "      <td>0.0</td>\n",
       "      <td>False</td>\n",
       "      <td>Детски книги</td>\n",
       "      <td>2025-05-03</td>\n",
       "      <td>0.0</td>\n",
       "    </tr>\n",
       "    <tr>\n",
       "      <th>1885</th>\n",
       "      <td>Малерите на Макс Крамбли – Хаос во основното у...</td>\n",
       "      <td>NaN</td>\n",
       "      <td>270.0</td>\n",
       "      <td>0.0</td>\n",
       "      <td>False</td>\n",
       "      <td>Детски книги</td>\n",
       "      <td>2025-05-03</td>\n",
       "      <td>0.0</td>\n",
       "    </tr>\n",
       "    <tr>\n",
       "      <th>1886</th>\n",
       "      <td>Малерите на Макс Крамбли – Херојот од шкафчето</td>\n",
       "      <td>NaN</td>\n",
       "      <td>270.0</td>\n",
       "      <td>0.0</td>\n",
       "      <td>False</td>\n",
       "      <td>Детски книги</td>\n",
       "      <td>2025-05-03</td>\n",
       "      <td>0.0</td>\n",
       "    </tr>\n",
       "    <tr>\n",
       "      <th>1913</th>\n",
       "      <td>Џебен сет за боење – Принцези</td>\n",
       "      <td>NaN</td>\n",
       "      <td>150.0</td>\n",
       "      <td>0.0</td>\n",
       "      <td>False</td>\n",
       "      <td>Детски книги</td>\n",
       "      <td>2025-05-03</td>\n",
       "      <td>0.0</td>\n",
       "    </tr>\n",
       "    <tr>\n",
       "      <th>1923</th>\n",
       "      <td>Принцези – сет за боење</td>\n",
       "      <td>NaN</td>\n",
       "      <td>150.0</td>\n",
       "      <td>0.0</td>\n",
       "      <td>False</td>\n",
       "      <td>Детски книги</td>\n",
       "      <td>2025-05-03</td>\n",
       "      <td>0.0</td>\n",
       "    </tr>\n",
       "    <tr>\n",
       "      <th>1937</th>\n",
       "      <td>Фарма – Криенка Миженка</td>\n",
       "      <td>NaN</td>\n",
       "      <td>200.0</td>\n",
       "      <td>0.0</td>\n",
       "      <td>False</td>\n",
       "      <td>Детски книги</td>\n",
       "      <td>2025-05-03</td>\n",
       "      <td>0.0</td>\n",
       "    </tr>\n",
       "    <tr>\n",
       "      <th>1942</th>\n",
       "      <td>Зборовник – ПРВИ ЗБОРОВИ</td>\n",
       "      <td>NaN</td>\n",
       "      <td>299.0</td>\n",
       "      <td>0.0</td>\n",
       "      <td>False</td>\n",
       "      <td>Детски книги</td>\n",
       "      <td>2025-05-03</td>\n",
       "      <td>0.0</td>\n",
       "    </tr>\n",
       "    <tr>\n",
       "      <th>1945</th>\n",
       "      <td>Кој сум јас? – Животни од фармата</td>\n",
       "      <td>NaN</td>\n",
       "      <td>170.0</td>\n",
       "      <td>0.0</td>\n",
       "      <td>False</td>\n",
       "      <td>Детски книги</td>\n",
       "      <td>2025-05-03</td>\n",
       "      <td>0.0</td>\n",
       "    </tr>\n",
       "    <tr>\n",
       "      <th>2009</th>\n",
       "      <td>Природните чуда – енциклопедија</td>\n",
       "      <td>NaN</td>\n",
       "      <td>170.0</td>\n",
       "      <td>0.0</td>\n",
       "      <td>False</td>\n",
       "      <td>Детски книги</td>\n",
       "      <td>2025-05-03</td>\n",
       "      <td>0.0</td>\n",
       "    </tr>\n",
       "    <tr>\n",
       "      <th>2013</th>\n",
       "      <td>АБВ – од ананас до шапка</td>\n",
       "      <td>NaN</td>\n",
       "      <td>148.0</td>\n",
       "      <td>0.0</td>\n",
       "      <td>False</td>\n",
       "      <td>Детски книги</td>\n",
       "      <td>2025-05-03</td>\n",
       "      <td>0.0</td>\n",
       "    </tr>\n",
       "    <tr>\n",
       "      <th>2039</th>\n",
       "      <td>ГДЏ – Големиот добар џин</td>\n",
       "      <td>NaN</td>\n",
       "      <td>290.0</td>\n",
       "      <td>0.0</td>\n",
       "      <td>False</td>\n",
       "      <td>Детски книги</td>\n",
       "      <td>2025-05-03</td>\n",
       "      <td>0.0</td>\n",
       "    </tr>\n",
       "    <tr>\n",
       "      <th>2054</th>\n",
       "      <td>500 зборови – англиско/македонски</td>\n",
       "      <td>NaN</td>\n",
       "      <td>210.0</td>\n",
       "      <td>0.0</td>\n",
       "      <td>False</td>\n",
       "      <td>Детски книги</td>\n",
       "      <td>2025-05-03</td>\n",
       "      <td>0.0</td>\n",
       "    </tr>\n",
       "    <tr>\n",
       "      <th>2079</th>\n",
       "      <td>Полиција – звучна сликовница</td>\n",
       "      <td>NaN</td>\n",
       "      <td>199.0</td>\n",
       "      <td>0.0</td>\n",
       "      <td>False</td>\n",
       "      <td>Детски книги</td>\n",
       "      <td>2025-05-03</td>\n",
       "      <td>0.0</td>\n",
       "    </tr>\n",
       "    <tr>\n",
       "      <th>2081</th>\n",
       "      <td>ABC – from apple to zebra</td>\n",
       "      <td>NaN</td>\n",
       "      <td>148.0</td>\n",
       "      <td>0.0</td>\n",
       "      <td>False</td>\n",
       "      <td>Детски книги</td>\n",
       "      <td>2025-05-03</td>\n",
       "      <td>0.0</td>\n",
       "    </tr>\n",
       "    <tr>\n",
       "      <th>2107</th>\n",
       "      <td>Сонце – енциклопедија</td>\n",
       "      <td>NaN</td>\n",
       "      <td>170.0</td>\n",
       "      <td>0.0</td>\n",
       "      <td>False</td>\n",
       "      <td>Детски книги</td>\n",
       "      <td>2025-05-03</td>\n",
       "      <td>0.0</td>\n",
       "    </tr>\n",
       "    <tr>\n",
       "      <th>2110</th>\n",
       "      <td>Универзум – енциклопедија</td>\n",
       "      <td>NaN</td>\n",
       "      <td>170.0</td>\n",
       "      <td>0.0</td>\n",
       "      <td>False</td>\n",
       "      <td>Детски книги</td>\n",
       "      <td>2025-05-03</td>\n",
       "      <td>0.0</td>\n",
       "    </tr>\n",
       "  </tbody>\n",
       "</table>\n",
       "</div>"
      ],
      "text/plain": [
       "                                                  title author  real_price  \\\n",
       "383               Црниот мачор – раскази за мистеријата    NaN       300.0   \n",
       "522                        Избрани песни – Ана Ахматова    NaN       350.0   \n",
       "544                     Атлас – Приказната на Тате Солт    NaN       940.0   \n",
       "604                  Снеговите на љубовта – книга втора    NaN       199.0   \n",
       "605                   Снеговите на љубовта – книга прва    NaN       199.0   \n",
       "771                               Подарокот – Едит Егер    NaN       400.0   \n",
       "810                     Мудар родител – среќен тинејџер    NaN       600.0   \n",
       "840                 Мудар родител – време е за градинка    NaN       650.0   \n",
       "870   Умешноста да ја креирате вашата реалност – Вод...    NaN       450.0   \n",
       "892                         МУДАР РОДИТЕЛ – СРЕЌНО БЕБЕ    NaN       600.0   \n",
       "894                 ПАТОТ КОН ВЕЛИЧЕСТВЕНОСТА – книга 2    NaN       400.0   \n",
       "976   Македонија и Македонците во Библијата – Библис...    NaN       800.0   \n",
       "981                    ДЕСЕТТЕ БОЖЈИ ЗАПОВЕДИ – ДЕКАЛОГ    NaN       400.0   \n",
       "992   Св. Јован Шангајски – Чудотворец на последните...    NaN       300.0   \n",
       "1561                    Атлас – Приказната на Тате Солт    NaN       940.0   \n",
       "1781              Мојата прва книгичка – форми и фигури    NaN       290.0   \n",
       "1782                     Мојата прва книгичка – животни    NaN       290.0   \n",
       "1787             Џебен сет за боење – Сирени и самовили    NaN       170.0   \n",
       "1816                   Кој сум јас? – Животни од шумата    NaN       170.0   \n",
       "1826                       Џебен сет за боење – Животни    NaN       170.0   \n",
       "1827  Мојата срцевидна книга – Магијата на малата са...    NaN       130.0   \n",
       "1828     Мојата срцевидна книга – Лола ја сака ѕвездата    NaN       130.0   \n",
       "1829   Мојата срцевидна книга – Лола е вистински другар    NaN       130.0   \n",
       "1830  Мојата срцевидна книга – Магијата на малата си...    NaN       130.0   \n",
       "1864                     Боенка – Буква до буква азбука    NaN       110.0   \n",
       "1865                   Боенка – Боиме и учиме да броиме    NaN       100.0   \n",
       "1885  Малерите на Макс Крамбли – Хаос во основното у...    NaN       270.0   \n",
       "1886     Малерите на Макс Крамбли – Херојот од шкафчето    NaN       270.0   \n",
       "1913                      Џебен сет за боење – Принцези    NaN       150.0   \n",
       "1923                            Принцези – сет за боење    NaN       150.0   \n",
       "1937                            Фарма – Криенка Миженка    NaN       200.0   \n",
       "1942                           Зборовник – ПРВИ ЗБОРОВИ    NaN       299.0   \n",
       "1945                  Кој сум јас? – Животни од фармата    NaN       170.0   \n",
       "2009                    Природните чуда – енциклопедија    NaN       170.0   \n",
       "2013                           АБВ – од ананас до шапка    NaN       148.0   \n",
       "2039                           ГДЏ – Големиот добар џин    NaN       290.0   \n",
       "2054                  500 зборови – англиско/македонски    NaN       210.0   \n",
       "2079                       Полиција – звучна сликовница    NaN       199.0   \n",
       "2081                          ABC – from apple to zebra    NaN       148.0   \n",
       "2107                              Сонце – енциклопедија    NaN       170.0   \n",
       "2110                          Универзум – енциклопедија    NaN       170.0   \n",
       "\n",
       "      sale_price  IsOnSale            category retrieved_at  Discount (%)  \n",
       "383          0.0     False            Мистерии   2025-05-02           0.0  \n",
       "522          0.0     False           Историски   2025-05-02           0.0  \n",
       "544          0.0     False           Историски   2025-05-02           0.0  \n",
       "604          0.0     False           Историски   2025-05-02           0.0  \n",
       "605          0.0     False           Историски   2025-05-02           0.0  \n",
       "771          0.0     False         Психологија   2025-05-02           0.0  \n",
       "810          0.0     False         Психологија   2025-05-02           0.0  \n",
       "840          0.0     False         Психологија   2025-05-02           0.0  \n",
       "870          0.0     False         Психологија   2025-05-02           0.0  \n",
       "892          0.0     False         Психологија   2025-05-02           0.0  \n",
       "894          0.0     False         Психологија   2025-05-02           0.0  \n",
       "976          0.0     False  Духовна литература   2025-05-02           0.0  \n",
       "981          0.0     False  Духовна литература   2025-05-02           0.0  \n",
       "992          0.0     False  Духовна литература   2025-05-02           0.0  \n",
       "1561         0.0     False               Драми   2025-05-02           0.0  \n",
       "1781       249.0      True        Детски книги   2025-05-03          14.0  \n",
       "1782       249.0      True        Детски книги   2025-05-03          14.0  \n",
       "1787         0.0     False        Детски книги   2025-05-03           0.0  \n",
       "1816         0.0     False        Детски книги   2025-05-03           0.0  \n",
       "1826         0.0     False        Детски книги   2025-05-03           0.0  \n",
       "1827         0.0     False        Детски книги   2025-05-03           0.0  \n",
       "1828         0.0     False        Детски книги   2025-05-03           0.0  \n",
       "1829         0.0     False        Детски книги   2025-05-03           0.0  \n",
       "1830         0.0     False        Детски книги   2025-05-03           0.0  \n",
       "1864         0.0     False        Детски книги   2025-05-03           0.0  \n",
       "1865         0.0     False        Детски книги   2025-05-03           0.0  \n",
       "1885         0.0     False        Детски книги   2025-05-03           0.0  \n",
       "1886         0.0     False        Детски книги   2025-05-03           0.0  \n",
       "1913         0.0     False        Детски книги   2025-05-03           0.0  \n",
       "1923         0.0     False        Детски книги   2025-05-03           0.0  \n",
       "1937         0.0     False        Детски книги   2025-05-03           0.0  \n",
       "1942         0.0     False        Детски книги   2025-05-03           0.0  \n",
       "1945         0.0     False        Детски книги   2025-05-03           0.0  \n",
       "2009         0.0     False        Детски книги   2025-05-03           0.0  \n",
       "2013         0.0     False        Детски книги   2025-05-03           0.0  \n",
       "2039         0.0     False        Детски книги   2025-05-03           0.0  \n",
       "2054         0.0     False        Детски книги   2025-05-03           0.0  \n",
       "2079         0.0     False        Детски книги   2025-05-03           0.0  \n",
       "2081         0.0     False        Детски книги   2025-05-03           0.0  \n",
       "2107         0.0     False        Детски книги   2025-05-03           0.0  \n",
       "2110         0.0     False        Детски книги   2025-05-03           0.0  "
      ]
     },
     "execution_count": 205,
     "metadata": {},
     "output_type": "execute_result"
    }
   ],
   "source": [
    "# See which authord have – or  - or —\n",
    "authors_fix = df[df['title'].str.contains(r'\\s[–\\-—]\\s\\w+(?:\\s\\w+)?', regex=True, case=False)]\n",
    "authors_fix.head(100)"
   ]
  },
  {
   "cell_type": "code",
   "execution_count": 206,
   "id": "1668973c",
   "metadata": {},
   "outputs": [],
   "source": [
    "updates = {\n",
    "   522: {'title': 'Избрани песни', 'author': 'Ана Ахматова'},\n",
    "   769: {'title': 'Подарокот', 'author': 'Едит Егер'},\n",
    "   842: {'title': 'Херој', 'author': 'Р.Бирн'},\n",
    "   975: {'title': 'ИСТОРИЈА НА РЕЛИГИИТЕ', 'author': 'Александар Мењ'}\n",
    "}\n",
    "\n",
    "for idx, update in updates.items():\n",
    "    df.at[idx, 'title'] = update['title']\n",
    "    df.at[idx, 'author'] = update['author']"
   ]
  },
  {
   "cell_type": "markdown",
   "id": "2db06af7",
   "metadata": {},
   "source": [
    "- Check for 'и'"
   ]
  },
  {
   "cell_type": "code",
   "execution_count": 207,
   "id": "c40fdb43",
   "metadata": {},
   "outputs": [
    {
     "data": {
      "application/vnd.microsoft.datawrangler.viewer.v0+json": {
       "columns": [
        {
         "name": "index",
         "rawType": "int64",
         "type": "integer"
        },
        {
         "name": "title",
         "rawType": "object",
         "type": "string"
        },
        {
         "name": "author",
         "rawType": "object",
         "type": "string"
        },
        {
         "name": "real_price",
         "rawType": "float64",
         "type": "float"
        },
        {
         "name": "sale_price",
         "rawType": "float64",
         "type": "float"
        },
        {
         "name": "IsOnSale",
         "rawType": "bool",
         "type": "boolean"
        },
        {
         "name": "category",
         "rawType": "object",
         "type": "string"
        },
        {
         "name": "retrieved_at",
         "rawType": "object",
         "type": "string"
        },
        {
         "name": "Discount (%)",
         "rawType": "float64",
         "type": "float"
        }
       ],
       "conversionMethod": "pd.DataFrame",
       "ref": "aa3574a6-161a-4836-8d22-9b172a748e1b",
       "rows": [
        [
         "355",
         "Совршената замена",
         " Грир Хендрикс и Сара Пеканен",
         "440.0",
         "0.0",
         "False",
         "Мистерии",
         "2025-05-02",
         "0.0"
        ],
        [
         "1113",
         "Совршената замена",
         " Грир Хендрикс и Сара Пеканен",
         "440.0",
         "0.0",
         "False",
         "Трилери",
         "2025-05-02",
         "0.0"
        ],
        [
         "1783",
         "Да можев да ти го подарам Божиќ",
         " Џенифер Л. Мајер и Лин Плорд",
         "320.0",
         "249.0",
         "True",
         "Детски книги",
         "2025-05-03",
         "22.0"
        ]
       ],
       "shape": {
        "columns": 8,
        "rows": 3
       }
      },
      "text/html": [
       "<div>\n",
       "<style scoped>\n",
       "    .dataframe tbody tr th:only-of-type {\n",
       "        vertical-align: middle;\n",
       "    }\n",
       "\n",
       "    .dataframe tbody tr th {\n",
       "        vertical-align: top;\n",
       "    }\n",
       "\n",
       "    .dataframe thead th {\n",
       "        text-align: right;\n",
       "    }\n",
       "</style>\n",
       "<table border=\"1\" class=\"dataframe\">\n",
       "  <thead>\n",
       "    <tr style=\"text-align: right;\">\n",
       "      <th></th>\n",
       "      <th>title</th>\n",
       "      <th>author</th>\n",
       "      <th>real_price</th>\n",
       "      <th>sale_price</th>\n",
       "      <th>IsOnSale</th>\n",
       "      <th>category</th>\n",
       "      <th>retrieved_at</th>\n",
       "      <th>Discount (%)</th>\n",
       "    </tr>\n",
       "  </thead>\n",
       "  <tbody>\n",
       "    <tr>\n",
       "      <th>355</th>\n",
       "      <td>Совршената замена</td>\n",
       "      <td>Грир Хендрикс и Сара Пеканен</td>\n",
       "      <td>440.0</td>\n",
       "      <td>0.0</td>\n",
       "      <td>False</td>\n",
       "      <td>Мистерии</td>\n",
       "      <td>2025-05-02</td>\n",
       "      <td>0.0</td>\n",
       "    </tr>\n",
       "    <tr>\n",
       "      <th>1113</th>\n",
       "      <td>Совршената замена</td>\n",
       "      <td>Грир Хендрикс и Сара Пеканен</td>\n",
       "      <td>440.0</td>\n",
       "      <td>0.0</td>\n",
       "      <td>False</td>\n",
       "      <td>Трилери</td>\n",
       "      <td>2025-05-02</td>\n",
       "      <td>0.0</td>\n",
       "    </tr>\n",
       "    <tr>\n",
       "      <th>1783</th>\n",
       "      <td>Да можев да ти го подарам Божиќ</td>\n",
       "      <td>Џенифер Л. Мајер и Лин Плорд</td>\n",
       "      <td>320.0</td>\n",
       "      <td>249.0</td>\n",
       "      <td>True</td>\n",
       "      <td>Детски книги</td>\n",
       "      <td>2025-05-03</td>\n",
       "      <td>22.0</td>\n",
       "    </tr>\n",
       "  </tbody>\n",
       "</table>\n",
       "</div>"
      ],
      "text/plain": [
       "                                title                         author  \\\n",
       "355                 Совршената замена   Грир Хендрикс и Сара Пеканен   \n",
       "1113                Совршената замена   Грир Хендрикс и Сара Пеканен   \n",
       "1783  Да можев да ти го подарам Божиќ   Џенифер Л. Мајер и Лин Плорд   \n",
       "\n",
       "      real_price  sale_price  IsOnSale      category retrieved_at  \\\n",
       "355        440.0         0.0     False      Мистерии   2025-05-02   \n",
       "1113       440.0         0.0     False       Трилери   2025-05-02   \n",
       "1783       320.0       249.0      True  Детски книги   2025-05-03   \n",
       "\n",
       "      Discount (%)  \n",
       "355            0.0  \n",
       "1113           0.0  \n",
       "1783          22.0  "
      ]
     },
     "execution_count": 207,
     "metadata": {},
     "output_type": "execute_result"
    }
   ],
   "source": [
    "two_authors_df = df[df['author'].str.contains(r'\\sи\\s', case=False, na=False)]\n",
    "two_authors_df"
   ]
  },
  {
   "cell_type": "code",
   "execution_count": 208,
   "id": "0045ae3a",
   "metadata": {},
   "outputs": [],
   "source": [
    "two_authors_df = df[df['author'].str.contains(r'\\sи\\s', case=False, na=False)].copy()\n",
    "\n",
    "two_authors_df['author'] = two_authors_df['author'].str.split(' и ')\n",
    "\n",
    "exploded_df = two_authors_df.explode('author', ignore_index=True)\n",
    "\n",
    "df = pd.concat([df[~df['author'].str.contains(r'\\sи\\s', case=False, na=False)], exploded_df], ignore_index=True)"
   ]
  },
  {
   "cell_type": "code",
   "execution_count": 209,
   "id": "835c3fd9",
   "metadata": {},
   "outputs": [
    {
     "data": {
      "application/vnd.microsoft.datawrangler.viewer.v0+json": {
       "columns": [
        {
         "name": "index",
         "rawType": "int64",
         "type": "integer"
        },
        {
         "name": "title",
         "rawType": "object",
         "type": "string"
        },
        {
         "name": "author",
         "rawType": "object",
         "type": "string"
        },
        {
         "name": "real_price",
         "rawType": "float64",
         "type": "float"
        },
        {
         "name": "sale_price",
         "rawType": "float64",
         "type": "float"
        },
        {
         "name": "IsOnSale",
         "rawType": "bool",
         "type": "boolean"
        },
        {
         "name": "category",
         "rawType": "object",
         "type": "string"
        },
        {
         "name": "retrieved_at",
         "rawType": "object",
         "type": "string"
        },
        {
         "name": "Discount (%)",
         "rawType": "float64",
         "type": "float"
        }
       ],
       "conversionMethod": "pd.DataFrame",
       "ref": "8c1008ca-1b9d-4473-b77d-4e805fcb324e",
       "rows": [],
       "shape": {
        "columns": 8,
        "rows": 0
       }
      },
      "text/html": [
       "<div>\n",
       "<style scoped>\n",
       "    .dataframe tbody tr th:only-of-type {\n",
       "        vertical-align: middle;\n",
       "    }\n",
       "\n",
       "    .dataframe tbody tr th {\n",
       "        vertical-align: top;\n",
       "    }\n",
       "\n",
       "    .dataframe thead th {\n",
       "        text-align: right;\n",
       "    }\n",
       "</style>\n",
       "<table border=\"1\" class=\"dataframe\">\n",
       "  <thead>\n",
       "    <tr style=\"text-align: right;\">\n",
       "      <th></th>\n",
       "      <th>title</th>\n",
       "      <th>author</th>\n",
       "      <th>real_price</th>\n",
       "      <th>sale_price</th>\n",
       "      <th>IsOnSale</th>\n",
       "      <th>category</th>\n",
       "      <th>retrieved_at</th>\n",
       "      <th>Discount (%)</th>\n",
       "    </tr>\n",
       "  </thead>\n",
       "  <tbody>\n",
       "  </tbody>\n",
       "</table>\n",
       "</div>"
      ],
      "text/plain": [
       "Empty DataFrame\n",
       "Columns: [title, author, real_price, sale_price, IsOnSale, category, retrieved_at, Discount (%)]\n",
       "Index: []"
      ]
     },
     "execution_count": 209,
     "metadata": {},
     "output_type": "execute_result"
    }
   ],
   "source": [
    "two_authors_df = df[df['author'].str.contains(r'\\sи\\s', case=False, na=False)]\n",
    "two_authors_df"
   ]
  },
  {
   "cell_type": "markdown",
   "id": "4b7cc57a",
   "metadata": {},
   "source": [
    "- Check for Authors divided by , Example: 1060\tАурис\t Себастијан Фицек, Винсент Клиш,"
   ]
  },
  {
   "cell_type": "code",
   "execution_count": 210,
   "id": "092eca2f",
   "metadata": {},
   "outputs": [],
   "source": [
    "# Find rows with commas in Author\n",
    "comma_rows = df['author'].str.contains(r'\\s*,\\s*', na=False)\n",
    "\n",
    "# Remove trailing commas in those rows\n",
    "df.loc[comma_rows, 'author'] = df.loc[comma_rows, 'author'].str.rstrip(', ')\n"
   ]
  },
  {
   "cell_type": "code",
   "execution_count": 211,
   "id": "066dd8d1",
   "metadata": {},
   "outputs": [
    {
     "data": {
      "application/vnd.microsoft.datawrangler.viewer.v0+json": {
       "columns": [
        {
         "name": "index",
         "rawType": "int64",
         "type": "integer"
        },
        {
         "name": "title",
         "rawType": "object",
         "type": "string"
        },
        {
         "name": "author",
         "rawType": "object",
         "type": "string"
        },
        {
         "name": "real_price",
         "rawType": "float64",
         "type": "float"
        },
        {
         "name": "sale_price",
         "rawType": "float64",
         "type": "float"
        },
        {
         "name": "IsOnSale",
         "rawType": "bool",
         "type": "boolean"
        },
        {
         "name": "category",
         "rawType": "object",
         "type": "string"
        },
        {
         "name": "retrieved_at",
         "rawType": "object",
         "type": "string"
        },
        {
         "name": "Discount (%)",
         "rawType": "float64",
         "type": "float"
        }
       ],
       "conversionMethod": "pd.DataFrame",
       "ref": "36748533-7c0f-4034-b37e-d0ac900f1c40",
       "rows": [
        [
         "29",
         "Кралицата Шарлота",
         " Џулија Квин, Шонда Рајмс",
         "520.0",
         "0.0",
         "False",
         "Романси",
         "2025-05-02",
         "0.0"
        ],
        [
         "470",
         "Кралицата Шарлота",
         " Џулија Квин, Шонда Рајмс",
         "520.0",
         "0.0",
         "False",
         "Историски",
         "2025-05-02",
         "0.0"
        ],
        [
         "1060",
         "Аурис",
         " Себастијан Фицек, Винсент Клиш",
         "450.0",
         "0.0",
         "False",
         "Трилери",
         "2025-05-02",
         "0.0"
        ],
        [
         "1384",
         "Кралицата Шарлота",
         " Џулија Квин, Шонда Рајмс",
         "520.0",
         "0.0",
         "False",
         "Драми",
         "2025-05-02",
         "0.0"
        ],
        [
         "1416",
         "Аурис",
         " Себастијан Фицек, Винсент Клиш",
         "450.0",
         "0.0",
         "False",
         "Драми",
         "2025-05-02",
         "0.0"
        ]
       ],
       "shape": {
        "columns": 8,
        "rows": 5
       }
      },
      "text/html": [
       "<div>\n",
       "<style scoped>\n",
       "    .dataframe tbody tr th:only-of-type {\n",
       "        vertical-align: middle;\n",
       "    }\n",
       "\n",
       "    .dataframe tbody tr th {\n",
       "        vertical-align: top;\n",
       "    }\n",
       "\n",
       "    .dataframe thead th {\n",
       "        text-align: right;\n",
       "    }\n",
       "</style>\n",
       "<table border=\"1\" class=\"dataframe\">\n",
       "  <thead>\n",
       "    <tr style=\"text-align: right;\">\n",
       "      <th></th>\n",
       "      <th>title</th>\n",
       "      <th>author</th>\n",
       "      <th>real_price</th>\n",
       "      <th>sale_price</th>\n",
       "      <th>IsOnSale</th>\n",
       "      <th>category</th>\n",
       "      <th>retrieved_at</th>\n",
       "      <th>Discount (%)</th>\n",
       "    </tr>\n",
       "  </thead>\n",
       "  <tbody>\n",
       "    <tr>\n",
       "      <th>29</th>\n",
       "      <td>Кралицата Шарлота</td>\n",
       "      <td>Џулија Квин, Шонда Рајмс</td>\n",
       "      <td>520.0</td>\n",
       "      <td>0.0</td>\n",
       "      <td>False</td>\n",
       "      <td>Романси</td>\n",
       "      <td>2025-05-02</td>\n",
       "      <td>0.0</td>\n",
       "    </tr>\n",
       "    <tr>\n",
       "      <th>470</th>\n",
       "      <td>Кралицата Шарлота</td>\n",
       "      <td>Џулија Квин, Шонда Рајмс</td>\n",
       "      <td>520.0</td>\n",
       "      <td>0.0</td>\n",
       "      <td>False</td>\n",
       "      <td>Историски</td>\n",
       "      <td>2025-05-02</td>\n",
       "      <td>0.0</td>\n",
       "    </tr>\n",
       "    <tr>\n",
       "      <th>1060</th>\n",
       "      <td>Аурис</td>\n",
       "      <td>Себастијан Фицек, Винсент Клиш</td>\n",
       "      <td>450.0</td>\n",
       "      <td>0.0</td>\n",
       "      <td>False</td>\n",
       "      <td>Трилери</td>\n",
       "      <td>2025-05-02</td>\n",
       "      <td>0.0</td>\n",
       "    </tr>\n",
       "    <tr>\n",
       "      <th>1384</th>\n",
       "      <td>Кралицата Шарлота</td>\n",
       "      <td>Џулија Квин, Шонда Рајмс</td>\n",
       "      <td>520.0</td>\n",
       "      <td>0.0</td>\n",
       "      <td>False</td>\n",
       "      <td>Драми</td>\n",
       "      <td>2025-05-02</td>\n",
       "      <td>0.0</td>\n",
       "    </tr>\n",
       "    <tr>\n",
       "      <th>1416</th>\n",
       "      <td>Аурис</td>\n",
       "      <td>Себастијан Фицек, Винсент Клиш</td>\n",
       "      <td>450.0</td>\n",
       "      <td>0.0</td>\n",
       "      <td>False</td>\n",
       "      <td>Драми</td>\n",
       "      <td>2025-05-02</td>\n",
       "      <td>0.0</td>\n",
       "    </tr>\n",
       "  </tbody>\n",
       "</table>\n",
       "</div>"
      ],
      "text/plain": [
       "                  title                           author  real_price  \\\n",
       "29    Кралицата Шарлота         Џулија Квин, Шонда Рајмс       520.0   \n",
       "470   Кралицата Шарлота         Џулија Квин, Шонда Рајмс       520.0   \n",
       "1060              Аурис   Себастијан Фицек, Винсент Клиш       450.0   \n",
       "1384  Кралицата Шарлота         Џулија Квин, Шонда Рајмс       520.0   \n",
       "1416              Аурис   Себастијан Фицек, Винсент Клиш       450.0   \n",
       "\n",
       "      sale_price  IsOnSale   category retrieved_at  Discount (%)  \n",
       "29           0.0     False    Романси   2025-05-02           0.0  \n",
       "470          0.0     False  Историски   2025-05-02           0.0  \n",
       "1060         0.0     False    Трилери   2025-05-02           0.0  \n",
       "1384         0.0     False      Драми   2025-05-02           0.0  \n",
       "1416         0.0     False      Драми   2025-05-02           0.0  "
      ]
     },
     "execution_count": 211,
     "metadata": {},
     "output_type": "execute_result"
    }
   ],
   "source": [
    "comma_authors_df = df[df['author'].str.contains(r'\\s*,\\s*', na=False)]\n",
    "comma_authors_df"
   ]
  },
  {
   "cell_type": "code",
   "execution_count": 212,
   "id": "b7c512da",
   "metadata": {},
   "outputs": [],
   "source": [
    "comma_authors_df = df[df['author'].str.contains(r'\\s*,\\s*', na=False)].copy()\n",
    "\n",
    "comma_authors_df['author'] = comma_authors_df['author'].str.rstrip(', ')\n",
    "comma_authors_df['author'] = comma_authors_df['author'].str.split(r'\\s*,\\s*')\n",
    "exploded_comma_df = comma_authors_df.explode('author', ignore_index=True)\n",
    "df = df[~df['author'].str.contains(r'\\s*,\\s*', na=False)]\n",
    "df = pd.concat([df, exploded_comma_df], ignore_index=True)\n"
   ]
  },
  {
   "cell_type": "code",
   "execution_count": 213,
   "id": "b9cf7bca",
   "metadata": {},
   "outputs": [
    {
     "data": {
      "application/vnd.microsoft.datawrangler.viewer.v0+json": {
       "columns": [
        {
         "name": "index",
         "rawType": "int64",
         "type": "integer"
        },
        {
         "name": "title",
         "rawType": "object",
         "type": "string"
        },
        {
         "name": "author",
         "rawType": "object",
         "type": "string"
        },
        {
         "name": "real_price",
         "rawType": "float64",
         "type": "float"
        },
        {
         "name": "sale_price",
         "rawType": "float64",
         "type": "float"
        },
        {
         "name": "IsOnSale",
         "rawType": "bool",
         "type": "boolean"
        },
        {
         "name": "category",
         "rawType": "object",
         "type": "string"
        },
        {
         "name": "retrieved_at",
         "rawType": "object",
         "type": "string"
        },
        {
         "name": "Discount (%)",
         "rawType": "float64",
         "type": "float"
        }
       ],
       "conversionMethod": "pd.DataFrame",
       "ref": "e88a04bf-b736-4022-8511-8e8aa4bfb10a",
       "rows": [],
       "shape": {
        "columns": 8,
        "rows": 0
       }
      },
      "text/html": [
       "<div>\n",
       "<style scoped>\n",
       "    .dataframe tbody tr th:only-of-type {\n",
       "        vertical-align: middle;\n",
       "    }\n",
       "\n",
       "    .dataframe tbody tr th {\n",
       "        vertical-align: top;\n",
       "    }\n",
       "\n",
       "    .dataframe thead th {\n",
       "        text-align: right;\n",
       "    }\n",
       "</style>\n",
       "<table border=\"1\" class=\"dataframe\">\n",
       "  <thead>\n",
       "    <tr style=\"text-align: right;\">\n",
       "      <th></th>\n",
       "      <th>title</th>\n",
       "      <th>author</th>\n",
       "      <th>real_price</th>\n",
       "      <th>sale_price</th>\n",
       "      <th>IsOnSale</th>\n",
       "      <th>category</th>\n",
       "      <th>retrieved_at</th>\n",
       "      <th>Discount (%)</th>\n",
       "    </tr>\n",
       "  </thead>\n",
       "  <tbody>\n",
       "  </tbody>\n",
       "</table>\n",
       "</div>"
      ],
      "text/plain": [
       "Empty DataFrame\n",
       "Columns: [title, author, real_price, sale_price, IsOnSale, category, retrieved_at, Discount (%)]\n",
       "Index: []"
      ]
     },
     "execution_count": 213,
     "metadata": {},
     "output_type": "execute_result"
    }
   ],
   "source": [
    "comma_authors_df = df[df['author'].str.contains(r'\\s*,\\s*', na=False)]\n",
    "comma_authors_df"
   ]
  },
  {
   "cell_type": "code",
   "execution_count": 214,
   "id": "50d43060",
   "metadata": {},
   "outputs": [
    {
     "data": {
      "text/plain": [
       "title              0\n",
       "author          1605\n",
       "real_price         2\n",
       "sale_price         2\n",
       "IsOnSale           0\n",
       "category           0\n",
       "retrieved_at       0\n",
       "Discount (%)       0\n",
       "dtype: int64"
      ]
     },
     "execution_count": 214,
     "metadata": {},
     "output_type": "execute_result"
    }
   ],
   "source": [
    "df.isnull().sum()"
   ]
  },
  {
   "cell_type": "markdown",
   "id": "b4139922",
   "metadata": {},
   "source": [
    "### Missing values"
   ]
  },
  {
   "cell_type": "markdown",
   "id": "bea15eac",
   "metadata": {},
   "source": [
    "- The heatmap shows that the two columns have missing values in exactly the same rows.\n",
    "- If Real Price is NaN → Sale Price is also NaN.\n",
    "- If Sale Price is NaN → Real Price is also NaN."
   ]
  },
  {
   "cell_type": "code",
   "execution_count": 215,
   "id": "fa8f8623",
   "metadata": {},
   "outputs": [
    {
     "data": {
      "text/plain": [
       "<Axes: >"
      ]
     },
     "execution_count": 215,
     "metadata": {},
     "output_type": "execute_result"
    },
    {
     "data": {
      "image/png": "[encoded data removed]",
      "text/plain": [
       "<Figure size 2000x1200 with 2 Axes>"
      ]
     },
     "metadata": {},
     "output_type": "display_data"
    }
   ],
   "source": [
    "msno.heatmap(df)"
   ]
  },
  {
   "cell_type": "code",
   "execution_count": 216,
   "id": "f8868e5b",
   "metadata": {},
   "outputs": [
    {
     "data": {
      "application/vnd.microsoft.datawrangler.viewer.v0+json": {
       "columns": [
        {
         "name": "index",
         "rawType": "int64",
         "type": "integer"
        },
        {
         "name": "column",
         "rawType": "object",
         "type": "string"
        },
        {
         "name": "percent missing",
         "rawType": "float64",
         "type": "float"
        }
       ],
       "conversionMethod": "pd.DataFrame",
       "ref": "a49a2447-b127-49ee-a15f-566656254d76",
       "rows": [
        [
         "0",
         "title",
         "0.0"
        ],
        [
         "1",
         "author",
         "73.9"
        ],
        [
         "2",
         "real_price",
         "0.09"
        ],
        [
         "3",
         "sale_price",
         "0.09"
        ],
        [
         "4",
         "IsOnSale",
         "0.0"
        ],
        [
         "5",
         "category",
         "0.0"
        ],
        [
         "6",
         "retrieved_at",
         "0.0"
        ],
        [
         "7",
         "Discount (%)",
         "0.0"
        ]
       ],
       "shape": {
        "columns": 2,
        "rows": 8
       }
      },
      "text/html": [
       "<div>\n",
       "<style scoped>\n",
       "    .dataframe tbody tr th:only-of-type {\n",
       "        vertical-align: middle;\n",
       "    }\n",
       "\n",
       "    .dataframe tbody tr th {\n",
       "        vertical-align: top;\n",
       "    }\n",
       "\n",
       "    .dataframe thead th {\n",
       "        text-align: right;\n",
       "    }\n",
       "</style>\n",
       "<table border=\"1\" class=\"dataframe\">\n",
       "  <thead>\n",
       "    <tr style=\"text-align: right;\">\n",
       "      <th></th>\n",
       "      <th>column</th>\n",
       "      <th>percent missing</th>\n",
       "    </tr>\n",
       "  </thead>\n",
       "  <tbody>\n",
       "    <tr>\n",
       "      <th>0</th>\n",
       "      <td>title</td>\n",
       "      <td>0.00</td>\n",
       "    </tr>\n",
       "    <tr>\n",
       "      <th>1</th>\n",
       "      <td>author</td>\n",
       "      <td>73.90</td>\n",
       "    </tr>\n",
       "    <tr>\n",
       "      <th>2</th>\n",
       "      <td>real_price</td>\n",
       "      <td>0.09</td>\n",
       "    </tr>\n",
       "    <tr>\n",
       "      <th>3</th>\n",
       "      <td>sale_price</td>\n",
       "      <td>0.09</td>\n",
       "    </tr>\n",
       "    <tr>\n",
       "      <th>4</th>\n",
       "      <td>IsOnSale</td>\n",
       "      <td>0.00</td>\n",
       "    </tr>\n",
       "    <tr>\n",
       "      <th>5</th>\n",
       "      <td>category</td>\n",
       "      <td>0.00</td>\n",
       "    </tr>\n",
       "    <tr>\n",
       "      <th>6</th>\n",
       "      <td>retrieved_at</td>\n",
       "      <td>0.00</td>\n",
       "    </tr>\n",
       "    <tr>\n",
       "      <th>7</th>\n",
       "      <td>Discount (%)</td>\n",
       "      <td>0.00</td>\n",
       "    </tr>\n",
       "  </tbody>\n",
       "</table>\n",
       "</div>"
      ],
      "text/plain": [
       "         column  percent missing\n",
       "0         title             0.00\n",
       "1        author            73.90\n",
       "2    real_price             0.09\n",
       "3    sale_price             0.09\n",
       "4      IsOnSale             0.00\n",
       "5      category             0.00\n",
       "6  retrieved_at             0.00\n",
       "7  Discount (%)             0.00"
      ]
     },
     "execution_count": 216,
     "metadata": {},
     "output_type": "execute_result"
    }
   ],
   "source": [
    "missing_percent = df.isnull().sum() / len(df) * 100\n",
    "missing_percent = missing_percent.round(2)\n",
    "missing_percent = missing_percent.reset_index().rename(columns={\"index\": \"column\", 0: \"percent missing\"})\n",
    "missing_percent"
   ]
  },
  {
   "cell_type": "code",
   "execution_count": 217,
   "id": "924784ce",
   "metadata": {},
   "outputs": [
    {
     "name": "stdout",
     "output_type": "stream",
     "text": [
      "\n",
      "'Author' column:\n",
      "Non-missing values: 567\n",
      "Missing values: 1605\n",
      "Percentage missing: 73.9%\n"
     ]
    }
   ],
   "source": [
    "total_rows = len(df)\n",
    "missing_authors = df['author'].isna().sum()\n",
    "non_missing_authors = total_rows - missing_authors\n",
    "\n",
    "print(f\"\\n'Author' column:\")\n",
    "print(f\"Non-missing values: {non_missing_authors}\")\n",
    "print(f\"Missing values: {missing_authors}\")\n",
    "print(f\"Percentage missing: {round((missing_authors / total_rows) * 100, 2)}%\")\n"
   ]
  },
  {
   "cell_type": "code",
   "execution_count": 218,
   "id": "c06ff2e7",
   "metadata": {},
   "outputs": [],
   "source": [
    "df.to_csv(\"../data/preprocessed_datasets/sakamknigi_books.csv\", encoding='utf-8-sig', index=False)"
   ]
  },
  {
   "cell_type": "markdown",
   "id": "79625181",
   "metadata": {},
   "source": [
    "### Preprocessing Output Summary"
   ]
  },
  {
   "cell_type": "markdown",
   "id": "84677881",
   "metadata": {},
   "source": [
    "Number of Books Scraped"
   ]
  },
  {
   "cell_type": "code",
   "execution_count": 219,
   "id": "91cbb876",
   "metadata": {},
   "outputs": [
    {
     "data": {
      "text/plain": [
       "2172"
      ]
     },
     "execution_count": 219,
     "metadata": {},
     "output_type": "execute_result"
    }
   ],
   "source": [
    "df.shape[0]"
   ]
  },
  {
   "cell_type": "markdown",
   "id": "58aa417d",
   "metadata": {},
   "source": [
    "Number of categories"
   ]
  },
  {
   "cell_type": "code",
   "execution_count": 220,
   "id": "46c781e1",
   "metadata": {},
   "outputs": [
    {
     "name": "stdout",
     "output_type": "stream",
     "text": [
      "11\n"
     ]
    }
   ],
   "source": [
    "total_categories = df['category'].nunique()\n",
    "print(total_categories)"
   ]
  },
  {
   "cell_type": "markdown",
   "id": "6a914e0d",
   "metadata": {},
   "source": [
    "Number of Discounted Books\n"
   ]
  },
  {
   "cell_type": "code",
   "execution_count": 221,
   "id": "9232c959",
   "metadata": {},
   "outputs": [
    {
     "name": "stdout",
     "output_type": "stream",
     "text": [
      "11\n"
     ]
    }
   ],
   "source": [
    "num_distinct_on_sale = df[df['IsOnSale'] == True]['title'].nunique()\n",
    "print(num_distinct_on_sale)"
   ]
  }
 ],
 "metadata": {
  "kernelspec": {
   "display_name": ".venv",
   "language": "python",
   "name": "python3"
  },
  "language_info": {
   "codemirror_mode": {
    "name": "ipython",
    "version": 3
   },
   "file_extension": ".py",
   "mimetype": "text/x-python",
   "name": "python",
   "nbconvert_exporter": "python",
   "pygments_lexer": "ipython3",
   "version": "3.13.2"
  }
 },
 "nbformat": 4,
 "nbformat_minor": 5
}
