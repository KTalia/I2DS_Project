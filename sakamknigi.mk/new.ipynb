{
 "cells": [
  {
   "cell_type": "code",
   "execution_count": 271,
   "id": "5f3b1b37",
   "metadata": {},
   "outputs": [],
   "source": [
    "import pandas as pd\n",
    "import missingno as msno\n",
    "import re\n",
    "import numpy as np"
   ]
  },
  {
   "cell_type": "code",
   "execution_count": 272,
   "id": "ccee81a9",
   "metadata": {},
   "outputs": [],
   "source": [
    "df = pd.read_csv(\"sakam_knigi.csv\", encoding='utf-8-sig')"
   ]
  },
  {
   "cell_type": "code",
   "execution_count": 273,
   "id": "ef4141d0",
   "metadata": {},
   "outputs": [
    {
     "data": {
      "application/vnd.microsoft.datawrangler.viewer.v0+json": {
       "columns": [
        {
         "name": "index",
         "rawType": "int64",
         "type": "integer"
        },
        {
         "name": "Title",
         "rawType": "object",
         "type": "string"
        },
        {
         "name": "Author",
         "rawType": "object",
         "type": "string"
        },
        {
         "name": "Real Price",
         "rawType": "float64",
         "type": "float"
        },
        {
         "name": "Sale Price",
         "rawType": "float64",
         "type": "float"
        },
        {
         "name": "IsOnSale",
         "rawType": "bool",
         "type": "boolean"
        },
        {
         "name": "Category",
         "rawType": "object",
         "type": "string"
        },
        {
         "name": "Retrieved At",
         "rawType": "object",
         "type": "string"
        }
       ],
       "conversionMethod": "pd.DataFrame",
       "ref": "229610c2-4eb3-48d9-94dc-3acf1430373d",
       "rows": [
        [
         "0",
         "Фаворити",
         " Лејн Фарго",
         "590.0",
         "590.0",
         "False",
         "Романси",
         "2025-05-02"
        ],
        [
         "1",
         "Тунел",
         " Ана Волц",
         "400.0",
         "400.0",
         "False",
         "Романси",
         "2025-05-02"
        ],
        [
         "2",
         "Љубов во Рим",
         " Сара Адамс",
         "490.0",
         "490.0",
         "False",
         "Романси",
         "2025-05-02"
        ],
        [
         "3",
         "Шпанска љубовна измама",
         " Елена Армас",
         "590.0",
         "590.0",
         "False",
         "Романси",
         "2025-05-02"
        ],
        [
         "4",
         "Изопачени лаги",
         " Ана Хуанг",
         "590.0",
         "590.0",
         "False",
         "Романси",
         "2025-05-02"
        ]
       ],
       "shape": {
        "columns": 7,
        "rows": 5
       }
      },
      "text/html": [
       "<div>\n",
       "<style scoped>\n",
       "    .dataframe tbody tr th:only-of-type {\n",
       "        vertical-align: middle;\n",
       "    }\n",
       "\n",
       "    .dataframe tbody tr th {\n",
       "        vertical-align: top;\n",
       "    }\n",
       "\n",
       "    .dataframe thead th {\n",
       "        text-align: right;\n",
       "    }\n",
       "</style>\n",
       "<table border=\"1\" class=\"dataframe\">\n",
       "  <thead>\n",
       "    <tr style=\"text-align: right;\">\n",
       "      <th></th>\n",
       "      <th>Title</th>\n",
       "      <th>Author</th>\n",
       "      <th>Real Price</th>\n",
       "      <th>Sale Price</th>\n",
       "      <th>IsOnSale</th>\n",
       "      <th>Category</th>\n",
       "      <th>Retrieved At</th>\n",
       "    </tr>\n",
       "  </thead>\n",
       "  <tbody>\n",
       "    <tr>\n",
       "      <th>0</th>\n",
       "      <td>Фаворити</td>\n",
       "      <td>Лејн Фарго</td>\n",
       "      <td>590.0</td>\n",
       "      <td>590.0</td>\n",
       "      <td>False</td>\n",
       "      <td>Романси</td>\n",
       "      <td>2025-05-02</td>\n",
       "    </tr>\n",
       "    <tr>\n",
       "      <th>1</th>\n",
       "      <td>Тунел</td>\n",
       "      <td>Ана Волц</td>\n",
       "      <td>400.0</td>\n",
       "      <td>400.0</td>\n",
       "      <td>False</td>\n",
       "      <td>Романси</td>\n",
       "      <td>2025-05-02</td>\n",
       "    </tr>\n",
       "    <tr>\n",
       "      <th>2</th>\n",
       "      <td>Љубов во Рим</td>\n",
       "      <td>Сара Адамс</td>\n",
       "      <td>490.0</td>\n",
       "      <td>490.0</td>\n",
       "      <td>False</td>\n",
       "      <td>Романси</td>\n",
       "      <td>2025-05-02</td>\n",
       "    </tr>\n",
       "    <tr>\n",
       "      <th>3</th>\n",
       "      <td>Шпанска љубовна измама</td>\n",
       "      <td>Елена Армас</td>\n",
       "      <td>590.0</td>\n",
       "      <td>590.0</td>\n",
       "      <td>False</td>\n",
       "      <td>Романси</td>\n",
       "      <td>2025-05-02</td>\n",
       "    </tr>\n",
       "    <tr>\n",
       "      <th>4</th>\n",
       "      <td>Изопачени лаги</td>\n",
       "      <td>Ана Хуанг</td>\n",
       "      <td>590.0</td>\n",
       "      <td>590.0</td>\n",
       "      <td>False</td>\n",
       "      <td>Романси</td>\n",
       "      <td>2025-05-02</td>\n",
       "    </tr>\n",
       "  </tbody>\n",
       "</table>\n",
       "</div>"
      ],
      "text/plain": [
       "                    Title        Author  Real Price  Sale Price  IsOnSale  \\\n",
       "0                Фаворити    Лејн Фарго       590.0       590.0     False   \n",
       "1                   Тунел      Ана Волц       400.0       400.0     False   \n",
       "2            Љубов во Рим    Сара Адамс       490.0       490.0     False   \n",
       "3  Шпанска љубовна измама   Елена Армас       590.0       590.0     False   \n",
       "4          Изопачени лаги     Ана Хуанг       590.0       590.0     False   \n",
       "\n",
       "  Category Retrieved At  \n",
       "0  Романси   2025-05-02  \n",
       "1  Романси   2025-05-02  \n",
       "2  Романси   2025-05-02  \n",
       "3  Романси   2025-05-02  \n",
       "4  Романси   2025-05-02  "
      ]
     },
     "execution_count": 273,
     "metadata": {},
     "output_type": "execute_result"
    }
   ],
   "source": [
    "df.head()"
   ]
  },
  {
   "cell_type": "markdown",
   "id": "2df38191",
   "metadata": {},
   "source": [
    "### Clean Author Column"
   ]
  },
  {
   "cell_type": "code",
   "execution_count": 274,
   "id": "d05942a0",
   "metadata": {},
   "outputs": [],
   "source": [
    "df['Author'] = df['Author'].str.replace(\"од:\", \"\")"
   ]
  },
  {
   "cell_type": "code",
   "execution_count": 275,
   "id": "7916fe6f",
   "metadata": {},
   "outputs": [],
   "source": [
    "df.to_csv(\"sakam_knigi.csv\", encoding='utf-8-sig', index=False)\n",
    "df = pd.read_csv(\"sakam_knigi.csv\", encoding='utf-8-sig')"
   ]
  },
  {
   "cell_type": "code",
   "execution_count": 276,
   "id": "cdc8be25",
   "metadata": {},
   "outputs": [
    {
     "data": {
      "application/vnd.microsoft.datawrangler.viewer.v0+json": {
       "columns": [
        {
         "name": "index",
         "rawType": "int64",
         "type": "integer"
        },
        {
         "name": "Title",
         "rawType": "object",
         "type": "string"
        },
        {
         "name": "Author",
         "rawType": "object",
         "type": "string"
        },
        {
         "name": "Real Price",
         "rawType": "float64",
         "type": "float"
        },
        {
         "name": "Sale Price",
         "rawType": "float64",
         "type": "float"
        },
        {
         "name": "IsOnSale",
         "rawType": "bool",
         "type": "boolean"
        },
        {
         "name": "Category",
         "rawType": "object",
         "type": "string"
        },
        {
         "name": "Retrieved At",
         "rawType": "object",
         "type": "string"
        }
       ],
       "conversionMethod": "pd.DataFrame",
       "ref": "476128fd-fc5b-460b-a977-0a39e3bfef57",
       "rows": [
        [
         "0",
         "Фаворити",
         " Лејн Фарго",
         "590.0",
         "590.0",
         "False",
         "Романси",
         "2025-05-02"
        ],
        [
         "1",
         "Тунел",
         " Ана Волц",
         "400.0",
         "400.0",
         "False",
         "Романси",
         "2025-05-02"
        ],
        [
         "2",
         "Љубов во Рим",
         " Сара Адамс",
         "490.0",
         "490.0",
         "False",
         "Романси",
         "2025-05-02"
        ],
        [
         "3",
         "Шпанска љубовна измама",
         " Елена Армас",
         "590.0",
         "590.0",
         "False",
         "Романси",
         "2025-05-02"
        ],
        [
         "4",
         "Изопачени лаги",
         " Ана Хуанг",
         "590.0",
         "590.0",
         "False",
         "Романси",
         "2025-05-02"
        ]
       ],
       "shape": {
        "columns": 7,
        "rows": 5
       }
      },
      "text/html": [
       "<div>\n",
       "<style scoped>\n",
       "    .dataframe tbody tr th:only-of-type {\n",
       "        vertical-align: middle;\n",
       "    }\n",
       "\n",
       "    .dataframe tbody tr th {\n",
       "        vertical-align: top;\n",
       "    }\n",
       "\n",
       "    .dataframe thead th {\n",
       "        text-align: right;\n",
       "    }\n",
       "</style>\n",
       "<table border=\"1\" class=\"dataframe\">\n",
       "  <thead>\n",
       "    <tr style=\"text-align: right;\">\n",
       "      <th></th>\n",
       "      <th>Title</th>\n",
       "      <th>Author</th>\n",
       "      <th>Real Price</th>\n",
       "      <th>Sale Price</th>\n",
       "      <th>IsOnSale</th>\n",
       "      <th>Category</th>\n",
       "      <th>Retrieved At</th>\n",
       "    </tr>\n",
       "  </thead>\n",
       "  <tbody>\n",
       "    <tr>\n",
       "      <th>0</th>\n",
       "      <td>Фаворити</td>\n",
       "      <td>Лејн Фарго</td>\n",
       "      <td>590.0</td>\n",
       "      <td>590.0</td>\n",
       "      <td>False</td>\n",
       "      <td>Романси</td>\n",
       "      <td>2025-05-02</td>\n",
       "    </tr>\n",
       "    <tr>\n",
       "      <th>1</th>\n",
       "      <td>Тунел</td>\n",
       "      <td>Ана Волц</td>\n",
       "      <td>400.0</td>\n",
       "      <td>400.0</td>\n",
       "      <td>False</td>\n",
       "      <td>Романси</td>\n",
       "      <td>2025-05-02</td>\n",
       "    </tr>\n",
       "    <tr>\n",
       "      <th>2</th>\n",
       "      <td>Љубов во Рим</td>\n",
       "      <td>Сара Адамс</td>\n",
       "      <td>490.0</td>\n",
       "      <td>490.0</td>\n",
       "      <td>False</td>\n",
       "      <td>Романси</td>\n",
       "      <td>2025-05-02</td>\n",
       "    </tr>\n",
       "    <tr>\n",
       "      <th>3</th>\n",
       "      <td>Шпанска љубовна измама</td>\n",
       "      <td>Елена Армас</td>\n",
       "      <td>590.0</td>\n",
       "      <td>590.0</td>\n",
       "      <td>False</td>\n",
       "      <td>Романси</td>\n",
       "      <td>2025-05-02</td>\n",
       "    </tr>\n",
       "    <tr>\n",
       "      <th>4</th>\n",
       "      <td>Изопачени лаги</td>\n",
       "      <td>Ана Хуанг</td>\n",
       "      <td>590.0</td>\n",
       "      <td>590.0</td>\n",
       "      <td>False</td>\n",
       "      <td>Романси</td>\n",
       "      <td>2025-05-02</td>\n",
       "    </tr>\n",
       "  </tbody>\n",
       "</table>\n",
       "</div>"
      ],
      "text/plain": [
       "                    Title        Author  Real Price  Sale Price  IsOnSale  \\\n",
       "0                Фаворити    Лејн Фарго       590.0       590.0     False   \n",
       "1                   Тунел      Ана Волц       400.0       400.0     False   \n",
       "2            Љубов во Рим    Сара Адамс       490.0       490.0     False   \n",
       "3  Шпанска љубовна измама   Елена Армас       590.0       590.0     False   \n",
       "4          Изопачени лаги     Ана Хуанг       590.0       590.0     False   \n",
       "\n",
       "  Category Retrieved At  \n",
       "0  Романси   2025-05-02  \n",
       "1  Романси   2025-05-02  \n",
       "2  Романси   2025-05-02  \n",
       "3  Романси   2025-05-02  \n",
       "4  Романси   2025-05-02  "
      ]
     },
     "execution_count": 276,
     "metadata": {},
     "output_type": "execute_result"
    }
   ],
   "source": [
    "df.head()"
   ]
  },
  {
   "cell_type": "code",
   "execution_count": 277,
   "id": "f7c86e36",
   "metadata": {},
   "outputs": [
    {
     "data": {
      "text/plain": [
       "Title              0\n",
       "Author          1592\n",
       "Real Price         2\n",
       "Sale Price         2\n",
       "IsOnSale           0\n",
       "Category           0\n",
       "Retrieved At       0\n",
       "dtype: int64"
      ]
     },
     "execution_count": 277,
     "metadata": {},
     "output_type": "execute_result"
    }
   ],
   "source": [
    "df.isnull().sum()"
   ]
  },
  {
   "cell_type": "markdown",
   "id": "43ec08a0",
   "metadata": {},
   "source": [
    "### Duplicates\n",
    "- 10 entries are completely identical. We can merge the, Keep only one"
   ]
  },
  {
   "cell_type": "code",
   "execution_count": 278,
   "id": "fa107be5",
   "metadata": {},
   "outputs": [
    {
     "name": "stdout",
     "output_type": "stream",
     "text": [
      "Length of duplicates:  2\n"
     ]
    },
    {
     "data": {
      "application/vnd.microsoft.datawrangler.viewer.v0+json": {
       "columns": [
        {
         "name": "index",
         "rawType": "int64",
         "type": "integer"
        },
        {
         "name": "Title",
         "rawType": "object",
         "type": "string"
        },
        {
         "name": "Author",
         "rawType": "object",
         "type": "string"
        },
        {
         "name": "Real Price",
         "rawType": "float64",
         "type": "float"
        },
        {
         "name": "Sale Price",
         "rawType": "float64",
         "type": "float"
        },
        {
         "name": "IsOnSale",
         "rawType": "bool",
         "type": "boolean"
        },
        {
         "name": "Category",
         "rawType": "object",
         "type": "string"
        },
        {
         "name": "Retrieved At",
         "rawType": "object",
         "type": "string"
        }
       ],
       "conversionMethod": "pd.DataFrame",
       "ref": "703c6a6e-7588-48bc-bea7-7c5304204421",
       "rows": [
        [
         "975",
         "ИСТОРИЈА НА РЕЛИГИИТЕ",
         "Александар Мењ",
         "800.0",
         "800.0",
         "False",
         "Духовна литература",
         "2025-05-02"
        ],
        [
         "976",
         "ИСТОРИЈА НА РЕЛИГИИТЕ",
         "Александар Мењ",
         "800.0",
         "800.0",
         "False",
         "Духовна литература",
         "2025-05-02"
        ]
       ],
       "shape": {
        "columns": 7,
        "rows": 2
       }
      },
      "text/html": [
       "<div>\n",
       "<style scoped>\n",
       "    .dataframe tbody tr th:only-of-type {\n",
       "        vertical-align: middle;\n",
       "    }\n",
       "\n",
       "    .dataframe tbody tr th {\n",
       "        vertical-align: top;\n",
       "    }\n",
       "\n",
       "    .dataframe thead th {\n",
       "        text-align: right;\n",
       "    }\n",
       "</style>\n",
       "<table border=\"1\" class=\"dataframe\">\n",
       "  <thead>\n",
       "    <tr style=\"text-align: right;\">\n",
       "      <th></th>\n",
       "      <th>Title</th>\n",
       "      <th>Author</th>\n",
       "      <th>Real Price</th>\n",
       "      <th>Sale Price</th>\n",
       "      <th>IsOnSale</th>\n",
       "      <th>Category</th>\n",
       "      <th>Retrieved At</th>\n",
       "    </tr>\n",
       "  </thead>\n",
       "  <tbody>\n",
       "    <tr>\n",
       "      <th>975</th>\n",
       "      <td>ИСТОРИЈА НА РЕЛИГИИТЕ</td>\n",
       "      <td>Александар Мењ</td>\n",
       "      <td>800.0</td>\n",
       "      <td>800.0</td>\n",
       "      <td>False</td>\n",
       "      <td>Духовна литература</td>\n",
       "      <td>2025-05-02</td>\n",
       "    </tr>\n",
       "    <tr>\n",
       "      <th>976</th>\n",
       "      <td>ИСТОРИЈА НА РЕЛИГИИТЕ</td>\n",
       "      <td>Александар Мењ</td>\n",
       "      <td>800.0</td>\n",
       "      <td>800.0</td>\n",
       "      <td>False</td>\n",
       "      <td>Духовна литература</td>\n",
       "      <td>2025-05-02</td>\n",
       "    </tr>\n",
       "  </tbody>\n",
       "</table>\n",
       "</div>"
      ],
      "text/plain": [
       "                     Title          Author  Real Price  Sale Price  IsOnSale  \\\n",
       "975  ИСТОРИЈА НА РЕЛИГИИТЕ  Александар Мењ       800.0       800.0     False   \n",
       "976  ИСТОРИЈА НА РЕЛИГИИТЕ  Александар Мењ       800.0       800.0     False   \n",
       "\n",
       "               Category Retrieved At  \n",
       "975  Духовна литература   2025-05-02  \n",
       "976  Духовна литература   2025-05-02  "
      ]
     },
     "execution_count": 278,
     "metadata": {},
     "output_type": "execute_result"
    }
   ],
   "source": [
    "duplicates = df[df.duplicated(keep=False)]\n",
    "duplicates = duplicates.sort_values(by=['Title', 'Author'])\n",
    "print(\"Length of duplicates: \", len(duplicates))\n",
    "duplicates.head(10)"
   ]
  },
  {
   "cell_type": "code",
   "execution_count": 279,
   "id": "f4ee5bee",
   "metadata": {},
   "outputs": [
    {
     "name": "stdout",
     "output_type": "stream",
     "text": [
      "Original: 2167\n",
      "After drop_duplicates: 2166\n",
      "Duplicates removed: 0\n"
     ]
    }
   ],
   "source": [
    "print(\"Original:\", len(df))\n",
    "df = df.drop_duplicates()\n",
    "print(\"After drop_duplicates:\", len(df))\n",
    "print(\"Duplicates removed:\", len(df) - len(df))"
   ]
  },
  {
   "cell_type": "markdown",
   "id": "e4573af0",
   "metadata": {},
   "source": [
    "### Author\n",
    "\n",
    "- All 6 Harry Poter books have a missing value in the Author field. Replace all with  'Џ.К. Роулинг'"
   ]
  },
  {
   "cell_type": "code",
   "execution_count": 280,
   "id": "65e8cfdc",
   "metadata": {},
   "outputs": [
    {
     "data": {
      "application/vnd.microsoft.datawrangler.viewer.v0+json": {
       "columns": [
        {
         "name": "index",
         "rawType": "int64",
         "type": "integer"
        },
        {
         "name": "Title",
         "rawType": "object",
         "type": "string"
        },
        {
         "name": "Author",
         "rawType": "object",
         "type": "string"
        },
        {
         "name": "Real Price",
         "rawType": "float64",
         "type": "float"
        },
        {
         "name": "Sale Price",
         "rawType": "float64",
         "type": "float"
        },
        {
         "name": "IsOnSale",
         "rawType": "bool",
         "type": "boolean"
        },
        {
         "name": "Category",
         "rawType": "object",
         "type": "string"
        },
        {
         "name": "Retrieved At",
         "rawType": "object",
         "type": "string"
        }
       ],
       "conversionMethod": "pd.DataFrame",
       "ref": "2b7d487d-0b26-4550-91e7-33515eba14a2",
       "rows": [
        [
         "448",
         "Хари Потер и Каменот на мудроста (прв дел)",
         "Џ.К. Роулинг",
         "650.0",
         "650.0",
         "False",
         "Мистерии",
         "2025-05-02"
        ],
        [
         "449",
         "Хари Потер и и затвореникот од Азкабан",
         "Џ.К. Роулинг",
         "700.0",
         "700.0",
         "False",
         "Мистерии",
         "2025-05-02"
        ],
        [
         "450",
         "Хари Потер и Одајата на тајните",
         "Џ.К. Роулинг",
         "650.0",
         "650.0",
         "False",
         "Мистерии",
         "2025-05-02"
        ],
        [
         "718",
         "Хари Потер и Редот на фениксот",
         "Џ.К. Роулинг",
         "1150.0",
         "1150.0",
         "False",
         "За млади",
         "2025-05-02"
        ],
        [
         "1173",
         "Хари Потер и Редот на фениксот",
         "Џ.К. Роулинг",
         "1150.0",
         "1150.0",
         "False",
         "Трилери",
         "2025-05-02"
        ],
        [
         "1572",
         "Хари Потер и Редот на фениксот",
         "Џ.К. Роулинг",
         "1150.0",
         "1150.0",
         "False",
         "Драми",
         "2025-05-02"
        ]
       ],
       "shape": {
        "columns": 7,
        "rows": 6
       }
      },
      "text/html": [
       "<div>\n",
       "<style scoped>\n",
       "    .dataframe tbody tr th:only-of-type {\n",
       "        vertical-align: middle;\n",
       "    }\n",
       "\n",
       "    .dataframe tbody tr th {\n",
       "        vertical-align: top;\n",
       "    }\n",
       "\n",
       "    .dataframe thead th {\n",
       "        text-align: right;\n",
       "    }\n",
       "</style>\n",
       "<table border=\"1\" class=\"dataframe\">\n",
       "  <thead>\n",
       "    <tr style=\"text-align: right;\">\n",
       "      <th></th>\n",
       "      <th>Title</th>\n",
       "      <th>Author</th>\n",
       "      <th>Real Price</th>\n",
       "      <th>Sale Price</th>\n",
       "      <th>IsOnSale</th>\n",
       "      <th>Category</th>\n",
       "      <th>Retrieved At</th>\n",
       "    </tr>\n",
       "  </thead>\n",
       "  <tbody>\n",
       "    <tr>\n",
       "      <th>448</th>\n",
       "      <td>Хари Потер и Каменот на мудроста (прв дел)</td>\n",
       "      <td>Џ.К. Роулинг</td>\n",
       "      <td>650.0</td>\n",
       "      <td>650.0</td>\n",
       "      <td>False</td>\n",
       "      <td>Мистерии</td>\n",
       "      <td>2025-05-02</td>\n",
       "    </tr>\n",
       "    <tr>\n",
       "      <th>449</th>\n",
       "      <td>Хари Потер и и затвореникот од Азкабан</td>\n",
       "      <td>Џ.К. Роулинг</td>\n",
       "      <td>700.0</td>\n",
       "      <td>700.0</td>\n",
       "      <td>False</td>\n",
       "      <td>Мистерии</td>\n",
       "      <td>2025-05-02</td>\n",
       "    </tr>\n",
       "    <tr>\n",
       "      <th>450</th>\n",
       "      <td>Хари Потер и Одајата на тајните</td>\n",
       "      <td>Џ.К. Роулинг</td>\n",
       "      <td>650.0</td>\n",
       "      <td>650.0</td>\n",
       "      <td>False</td>\n",
       "      <td>Мистерии</td>\n",
       "      <td>2025-05-02</td>\n",
       "    </tr>\n",
       "    <tr>\n",
       "      <th>718</th>\n",
       "      <td>Хари Потер и Редот на фениксот</td>\n",
       "      <td>Џ.К. Роулинг</td>\n",
       "      <td>1150.0</td>\n",
       "      <td>1150.0</td>\n",
       "      <td>False</td>\n",
       "      <td>За млади</td>\n",
       "      <td>2025-05-02</td>\n",
       "    </tr>\n",
       "    <tr>\n",
       "      <th>1173</th>\n",
       "      <td>Хари Потер и Редот на фениксот</td>\n",
       "      <td>Џ.К. Роулинг</td>\n",
       "      <td>1150.0</td>\n",
       "      <td>1150.0</td>\n",
       "      <td>False</td>\n",
       "      <td>Трилери</td>\n",
       "      <td>2025-05-02</td>\n",
       "    </tr>\n",
       "    <tr>\n",
       "      <th>1572</th>\n",
       "      <td>Хари Потер и Редот на фениксот</td>\n",
       "      <td>Џ.К. Роулинг</td>\n",
       "      <td>1150.0</td>\n",
       "      <td>1150.0</td>\n",
       "      <td>False</td>\n",
       "      <td>Драми</td>\n",
       "      <td>2025-05-02</td>\n",
       "    </tr>\n",
       "  </tbody>\n",
       "</table>\n",
       "</div>"
      ],
      "text/plain": [
       "                                           Title        Author  Real Price  \\\n",
       "448   Хари Потер и Каменот на мудроста (прв дел)  Џ.К. Роулинг       650.0   \n",
       "449       Хари Потер и и затвореникот од Азкабан  Џ.К. Роулинг       700.0   \n",
       "450              Хари Потер и Одајата на тајните  Џ.К. Роулинг       650.0   \n",
       "718               Хари Потер и Редот на фениксот  Џ.К. Роулинг      1150.0   \n",
       "1173              Хари Потер и Редот на фениксот  Џ.К. Роулинг      1150.0   \n",
       "1572              Хари Потер и Редот на фениксот  Џ.К. Роулинг      1150.0   \n",
       "\n",
       "      Sale Price  IsOnSale  Category Retrieved At  \n",
       "448        650.0     False  Мистерии   2025-05-02  \n",
       "449        700.0     False  Мистерии   2025-05-02  \n",
       "450        650.0     False  Мистерии   2025-05-02  \n",
       "718       1150.0     False  За млади   2025-05-02  \n",
       "1173      1150.0     False   Трилери   2025-05-02  \n",
       "1572      1150.0     False     Драми   2025-05-02  "
      ]
     },
     "execution_count": 280,
     "metadata": {},
     "output_type": "execute_result"
    }
   ],
   "source": [
    "harry_potter_rows = df[df['Title'].str.contains('Хари Потер', case=False, na=False)]\n",
    "harry_potter_rows"
   ]
  },
  {
   "cell_type": "code",
   "execution_count": 281,
   "id": "d7ccd93c",
   "metadata": {},
   "outputs": [],
   "source": [
    "df.loc[df['Title'].str.contains('Хари Потер', case=False, na=False), 'Author'] = 'Џ.К. Роулинг'"
   ]
  },
  {
   "cell_type": "code",
   "execution_count": 282,
   "id": "e1f124c8",
   "metadata": {},
   "outputs": [],
   "source": [
    "df.to_csv(\"sakam_knigi.csv\", encoding='utf-8-sig', index=False)\n",
    "df = pd.read_csv(\"sakam_knigi.csv\", encoding='utf-8-sig')"
   ]
  },
  {
   "cell_type": "markdown",
   "id": "9c8d5107",
   "metadata": {},
   "source": [
    "- Extract authors from the titles that contain authors(e.g. \"Избрани песни – Ана Ахматова\")"
   ]
  },
  {
   "cell_type": "code",
   "execution_count": 283,
   "id": "a7711e96",
   "metadata": {},
   "outputs": [
    {
     "data": {
      "application/vnd.microsoft.datawrangler.viewer.v0+json": {
       "columns": [
        {
         "name": "index",
         "rawType": "int64",
         "type": "integer"
        },
        {
         "name": "Title",
         "rawType": "object",
         "type": "string"
        },
        {
         "name": "Author",
         "rawType": "object",
         "type": "unknown"
        },
        {
         "name": "Real Price",
         "rawType": "float64",
         "type": "float"
        },
        {
         "name": "Sale Price",
         "rawType": "float64",
         "type": "float"
        },
        {
         "name": "IsOnSale",
         "rawType": "bool",
         "type": "boolean"
        },
        {
         "name": "Category",
         "rawType": "object",
         "type": "string"
        },
        {
         "name": "Retrieved At",
         "rawType": "object",
         "type": "string"
        }
       ],
       "conversionMethod": "pd.DataFrame",
       "ref": "380f7904-3c60-477a-8a39-3e21eaf41f51",
       "rows": [
        [
         "380",
         "Црниот мачор – раскази за мистеријата",
         null,
         "300.0",
         "300.0",
         "False",
         "Мистерии",
         "2025-05-02"
        ],
        [
         "539",
         "Атлас – Приказната на Тате Солт",
         null,
         "940.0",
         "940.0",
         "False",
         "Историски",
         "2025-05-02"
        ],
        [
         "599",
         "Снеговите на љубовта – книга втора",
         null,
         "199.0",
         "199.0",
         "False",
         "Историски",
         "2025-05-02"
        ],
        [
         "600",
         "Снеговите на љубовта – книга прва",
         null,
         "199.0",
         "199.0",
         "False",
         "Историски",
         "2025-05-02"
        ],
        [
         "803",
         "Мудар родител – среќен тинејџер",
         null,
         "600.0",
         "600.0",
         "False",
         "Психологија",
         "2025-05-02"
        ],
        [
         "833",
         "Мудар родител – време е за градинка",
         null,
         "650.0",
         "650.0",
         "False",
         "Психологија",
         "2025-05-02"
        ],
        [
         "863",
         "Умешноста да ја креирате вашата реалност – Водич за свесни креатори",
         null,
         "450.0",
         "450.0",
         "False",
         "Психологија",
         "2025-05-02"
        ],
        [
         "885",
         "МУДАР РОДИТЕЛ – СРЕЌНО БЕБЕ",
         null,
         "600.0",
         "600.0",
         "False",
         "Психологија",
         "2025-05-02"
        ],
        [
         "887",
         "ПАТОТ КОН ВЕЛИЧЕСТВЕНОСТА – книга 2",
         null,
         "400.0",
         "400.0",
         "False",
         "Психологија",
         "2025-05-02"
        ],
        [
         "969",
         "Македонија и Македонците во Библијата – Библиска вистина/Macedonia and Macedonians in the bible – Bible truth",
         null,
         "800.0",
         "800.0",
         "False",
         "Духовна литература",
         "2025-05-02"
        ],
        [
         "974",
         "ДЕСЕТТЕ БОЖЈИ ЗАПОВЕДИ – ДЕКАЛОГ",
         null,
         "400.0",
         "400.0",
         "False",
         "Духовна литература",
         "2025-05-02"
        ],
        [
         "982",
         "Св. Јован Шангајски – Чудотворец на последните времиња",
         null,
         "300.0",
         "300.0",
         "False",
         "Духовна литература",
         "2025-05-02"
        ],
        [
         "1545",
         "Атлас – Приказната на Тате Солт",
         null,
         "940.0",
         "940.0",
         "False",
         "Драми",
         "2025-05-02"
        ],
        [
         "1765",
         "Мојата прва книгичка – форми и фигури",
         null,
         "290.0",
         "249.0",
         "True",
         "Детски книги",
         "2025-05-03"
        ],
        [
         "1766",
         "Мојата прва книгичка – животни",
         null,
         "290.0",
         "249.0",
         "True",
         "Детски книги",
         "2025-05-03"
        ],
        [
         "1770",
         "Џебен сет за боење – Сирени и самовили",
         null,
         "170.0",
         "170.0",
         "False",
         "Детски книги",
         "2025-05-03"
        ],
        [
         "1799",
         "Кој сум јас? – Животни од шумата",
         null,
         "170.0",
         "170.0",
         "False",
         "Детски книги",
         "2025-05-03"
        ],
        [
         "1809",
         "Џебен сет за боење – Животни",
         null,
         "170.0",
         "170.0",
         "False",
         "Детски книги",
         "2025-05-03"
        ],
        [
         "1810",
         "Мојата срцевидна книга – Магијата на малата самовила",
         null,
         "130.0",
         "130.0",
         "False",
         "Детски книги",
         "2025-05-03"
        ],
        [
         "1811",
         "Мојата срцевидна книга – Лола ја сака ѕвездата",
         null,
         "130.0",
         "130.0",
         "False",
         "Детски книги",
         "2025-05-03"
        ],
        [
         "1812",
         "Мојата срцевидна книга – Лола е вистински другар",
         null,
         "130.0",
         "130.0",
         "False",
         "Детски книги",
         "2025-05-03"
        ],
        [
         "1813",
         "Мојата срцевидна книга – Магијата на малата сирена",
         null,
         "130.0",
         "130.0",
         "False",
         "Детски книги",
         "2025-05-03"
        ],
        [
         "1847",
         "Боенка – Буква до буква азбука",
         null,
         "110.0",
         "110.0",
         "False",
         "Детски книги",
         "2025-05-03"
        ],
        [
         "1848",
         "Боенка – Боиме и учиме да броиме",
         null,
         "100.0",
         "100.0",
         "False",
         "Детски книги",
         "2025-05-03"
        ],
        [
         "1868",
         "Малерите на Макс Крамбли – Хаос во основното училиште",
         null,
         "270.0",
         "270.0",
         "False",
         "Детски книги",
         "2025-05-03"
        ],
        [
         "1869",
         "Малерите на Макс Крамбли – Херојот од шкафчето",
         null,
         "270.0",
         "270.0",
         "False",
         "Детски книги",
         "2025-05-03"
        ],
        [
         "1896",
         "Џебен сет за боење – Принцези",
         null,
         "150.0",
         "150.0",
         "False",
         "Детски книги",
         "2025-05-03"
        ],
        [
         "1906",
         "Принцези – сет за боење",
         null,
         "150.0",
         "150.0",
         "False",
         "Детски книги",
         "2025-05-03"
        ],
        [
         "1920",
         "Фарма – Криенка Миженка",
         null,
         "200.0",
         "200.0",
         "False",
         "Детски книги",
         "2025-05-03"
        ],
        [
         "1925",
         "Зборовник – ПРВИ ЗБОРОВИ",
         null,
         "299.0",
         "299.0",
         "False",
         "Детски книги",
         "2025-05-03"
        ],
        [
         "1928",
         "Кој сум јас? – Животни од фармата",
         null,
         "170.0",
         "170.0",
         "False",
         "Детски книги",
         "2025-05-03"
        ],
        [
         "1992",
         "Природните чуда – енциклопедија",
         null,
         "170.0",
         "170.0",
         "False",
         "Детски книги",
         "2025-05-03"
        ],
        [
         "1996",
         "АБВ – од ананас до шапка",
         null,
         "148.0",
         "148.0",
         "False",
         "Детски книги",
         "2025-05-03"
        ],
        [
         "2022",
         "ГДЏ – Големиот добар џин",
         null,
         "290.0",
         "290.0",
         "False",
         "Детски книги",
         "2025-05-03"
        ],
        [
         "2037",
         "500 зборови – англиско/македонски",
         null,
         "210.0",
         "210.0",
         "False",
         "Детски книги",
         "2025-05-03"
        ],
        [
         "2062",
         "Полиција – звучна сликовница",
         null,
         "199.0",
         "199.0",
         "False",
         "Детски книги",
         "2025-05-03"
        ],
        [
         "2064",
         "ABC – from apple to zebra",
         null,
         "148.0",
         "148.0",
         "False",
         "Детски книги",
         "2025-05-03"
        ],
        [
         "2090",
         "Сонце – енциклопедија",
         null,
         "170.0",
         "170.0",
         "False",
         "Детски книги",
         "2025-05-03"
        ],
        [
         "2093",
         "Универзум – енциклопедија",
         null,
         "170.0",
         "170.0",
         "False",
         "Детски книги",
         "2025-05-03"
        ]
       ],
       "shape": {
        "columns": 7,
        "rows": 39
       }
      },
      "text/html": [
       "<div>\n",
       "<style scoped>\n",
       "    .dataframe tbody tr th:only-of-type {\n",
       "        vertical-align: middle;\n",
       "    }\n",
       "\n",
       "    .dataframe tbody tr th {\n",
       "        vertical-align: top;\n",
       "    }\n",
       "\n",
       "    .dataframe thead th {\n",
       "        text-align: right;\n",
       "    }\n",
       "</style>\n",
       "<table border=\"1\" class=\"dataframe\">\n",
       "  <thead>\n",
       "    <tr style=\"text-align: right;\">\n",
       "      <th></th>\n",
       "      <th>Title</th>\n",
       "      <th>Author</th>\n",
       "      <th>Real Price</th>\n",
       "      <th>Sale Price</th>\n",
       "      <th>IsOnSale</th>\n",
       "      <th>Category</th>\n",
       "      <th>Retrieved At</th>\n",
       "    </tr>\n",
       "  </thead>\n",
       "  <tbody>\n",
       "    <tr>\n",
       "      <th>380</th>\n",
       "      <td>Црниот мачор – раскази за мистеријата</td>\n",
       "      <td>NaN</td>\n",
       "      <td>300.0</td>\n",
       "      <td>300.0</td>\n",
       "      <td>False</td>\n",
       "      <td>Мистерии</td>\n",
       "      <td>2025-05-02</td>\n",
       "    </tr>\n",
       "    <tr>\n",
       "      <th>539</th>\n",
       "      <td>Атлас – Приказната на Тате Солт</td>\n",
       "      <td>NaN</td>\n",
       "      <td>940.0</td>\n",
       "      <td>940.0</td>\n",
       "      <td>False</td>\n",
       "      <td>Историски</td>\n",
       "      <td>2025-05-02</td>\n",
       "    </tr>\n",
       "    <tr>\n",
       "      <th>599</th>\n",
       "      <td>Снеговите на љубовта – книга втора</td>\n",
       "      <td>NaN</td>\n",
       "      <td>199.0</td>\n",
       "      <td>199.0</td>\n",
       "      <td>False</td>\n",
       "      <td>Историски</td>\n",
       "      <td>2025-05-02</td>\n",
       "    </tr>\n",
       "    <tr>\n",
       "      <th>600</th>\n",
       "      <td>Снеговите на љубовта – книга прва</td>\n",
       "      <td>NaN</td>\n",
       "      <td>199.0</td>\n",
       "      <td>199.0</td>\n",
       "      <td>False</td>\n",
       "      <td>Историски</td>\n",
       "      <td>2025-05-02</td>\n",
       "    </tr>\n",
       "    <tr>\n",
       "      <th>803</th>\n",
       "      <td>Мудар родител – среќен тинејџер</td>\n",
       "      <td>NaN</td>\n",
       "      <td>600.0</td>\n",
       "      <td>600.0</td>\n",
       "      <td>False</td>\n",
       "      <td>Психологија</td>\n",
       "      <td>2025-05-02</td>\n",
       "    </tr>\n",
       "    <tr>\n",
       "      <th>833</th>\n",
       "      <td>Мудар родител – време е за градинка</td>\n",
       "      <td>NaN</td>\n",
       "      <td>650.0</td>\n",
       "      <td>650.0</td>\n",
       "      <td>False</td>\n",
       "      <td>Психологија</td>\n",
       "      <td>2025-05-02</td>\n",
       "    </tr>\n",
       "    <tr>\n",
       "      <th>863</th>\n",
       "      <td>Умешноста да ја креирате вашата реалност – Вод...</td>\n",
       "      <td>NaN</td>\n",
       "      <td>450.0</td>\n",
       "      <td>450.0</td>\n",
       "      <td>False</td>\n",
       "      <td>Психологија</td>\n",
       "      <td>2025-05-02</td>\n",
       "    </tr>\n",
       "    <tr>\n",
       "      <th>885</th>\n",
       "      <td>МУДАР РОДИТЕЛ – СРЕЌНО БЕБЕ</td>\n",
       "      <td>NaN</td>\n",
       "      <td>600.0</td>\n",
       "      <td>600.0</td>\n",
       "      <td>False</td>\n",
       "      <td>Психологија</td>\n",
       "      <td>2025-05-02</td>\n",
       "    </tr>\n",
       "    <tr>\n",
       "      <th>887</th>\n",
       "      <td>ПАТОТ КОН ВЕЛИЧЕСТВЕНОСТА – книга 2</td>\n",
       "      <td>NaN</td>\n",
       "      <td>400.0</td>\n",
       "      <td>400.0</td>\n",
       "      <td>False</td>\n",
       "      <td>Психологија</td>\n",
       "      <td>2025-05-02</td>\n",
       "    </tr>\n",
       "    <tr>\n",
       "      <th>969</th>\n",
       "      <td>Македонија и Македонците во Библијата – Библис...</td>\n",
       "      <td>NaN</td>\n",
       "      <td>800.0</td>\n",
       "      <td>800.0</td>\n",
       "      <td>False</td>\n",
       "      <td>Духовна литература</td>\n",
       "      <td>2025-05-02</td>\n",
       "    </tr>\n",
       "    <tr>\n",
       "      <th>974</th>\n",
       "      <td>ДЕСЕТТЕ БОЖЈИ ЗАПОВЕДИ – ДЕКАЛОГ</td>\n",
       "      <td>NaN</td>\n",
       "      <td>400.0</td>\n",
       "      <td>400.0</td>\n",
       "      <td>False</td>\n",
       "      <td>Духовна литература</td>\n",
       "      <td>2025-05-02</td>\n",
       "    </tr>\n",
       "    <tr>\n",
       "      <th>982</th>\n",
       "      <td>Св. Јован Шангајски – Чудотворец на последните...</td>\n",
       "      <td>NaN</td>\n",
       "      <td>300.0</td>\n",
       "      <td>300.0</td>\n",
       "      <td>False</td>\n",
       "      <td>Духовна литература</td>\n",
       "      <td>2025-05-02</td>\n",
       "    </tr>\n",
       "    <tr>\n",
       "      <th>1545</th>\n",
       "      <td>Атлас – Приказната на Тате Солт</td>\n",
       "      <td>NaN</td>\n",
       "      <td>940.0</td>\n",
       "      <td>940.0</td>\n",
       "      <td>False</td>\n",
       "      <td>Драми</td>\n",
       "      <td>2025-05-02</td>\n",
       "    </tr>\n",
       "    <tr>\n",
       "      <th>1765</th>\n",
       "      <td>Мојата прва книгичка – форми и фигури</td>\n",
       "      <td>NaN</td>\n",
       "      <td>290.0</td>\n",
       "      <td>249.0</td>\n",
       "      <td>True</td>\n",
       "      <td>Детски книги</td>\n",
       "      <td>2025-05-03</td>\n",
       "    </tr>\n",
       "    <tr>\n",
       "      <th>1766</th>\n",
       "      <td>Мојата прва книгичка – животни</td>\n",
       "      <td>NaN</td>\n",
       "      <td>290.0</td>\n",
       "      <td>249.0</td>\n",
       "      <td>True</td>\n",
       "      <td>Детски книги</td>\n",
       "      <td>2025-05-03</td>\n",
       "    </tr>\n",
       "    <tr>\n",
       "      <th>1770</th>\n",
       "      <td>Џебен сет за боење – Сирени и самовили</td>\n",
       "      <td>NaN</td>\n",
       "      <td>170.0</td>\n",
       "      <td>170.0</td>\n",
       "      <td>False</td>\n",
       "      <td>Детски книги</td>\n",
       "      <td>2025-05-03</td>\n",
       "    </tr>\n",
       "    <tr>\n",
       "      <th>1799</th>\n",
       "      <td>Кој сум јас? – Животни од шумата</td>\n",
       "      <td>NaN</td>\n",
       "      <td>170.0</td>\n",
       "      <td>170.0</td>\n",
       "      <td>False</td>\n",
       "      <td>Детски книги</td>\n",
       "      <td>2025-05-03</td>\n",
       "    </tr>\n",
       "    <tr>\n",
       "      <th>1809</th>\n",
       "      <td>Џебен сет за боење – Животни</td>\n",
       "      <td>NaN</td>\n",
       "      <td>170.0</td>\n",
       "      <td>170.0</td>\n",
       "      <td>False</td>\n",
       "      <td>Детски книги</td>\n",
       "      <td>2025-05-03</td>\n",
       "    </tr>\n",
       "    <tr>\n",
       "      <th>1810</th>\n",
       "      <td>Мојата срцевидна книга – Магијата на малата са...</td>\n",
       "      <td>NaN</td>\n",
       "      <td>130.0</td>\n",
       "      <td>130.0</td>\n",
       "      <td>False</td>\n",
       "      <td>Детски книги</td>\n",
       "      <td>2025-05-03</td>\n",
       "    </tr>\n",
       "    <tr>\n",
       "      <th>1811</th>\n",
       "      <td>Мојата срцевидна книга – Лола ја сака ѕвездата</td>\n",
       "      <td>NaN</td>\n",
       "      <td>130.0</td>\n",
       "      <td>130.0</td>\n",
       "      <td>False</td>\n",
       "      <td>Детски книги</td>\n",
       "      <td>2025-05-03</td>\n",
       "    </tr>\n",
       "    <tr>\n",
       "      <th>1812</th>\n",
       "      <td>Мојата срцевидна книга – Лола е вистински другар</td>\n",
       "      <td>NaN</td>\n",
       "      <td>130.0</td>\n",
       "      <td>130.0</td>\n",
       "      <td>False</td>\n",
       "      <td>Детски книги</td>\n",
       "      <td>2025-05-03</td>\n",
       "    </tr>\n",
       "    <tr>\n",
       "      <th>1813</th>\n",
       "      <td>Мојата срцевидна книга – Магијата на малата си...</td>\n",
       "      <td>NaN</td>\n",
       "      <td>130.0</td>\n",
       "      <td>130.0</td>\n",
       "      <td>False</td>\n",
       "      <td>Детски книги</td>\n",
       "      <td>2025-05-03</td>\n",
       "    </tr>\n",
       "    <tr>\n",
       "      <th>1847</th>\n",
       "      <td>Боенка – Буква до буква азбука</td>\n",
       "      <td>NaN</td>\n",
       "      <td>110.0</td>\n",
       "      <td>110.0</td>\n",
       "      <td>False</td>\n",
       "      <td>Детски книги</td>\n",
       "      <td>2025-05-03</td>\n",
       "    </tr>\n",
       "    <tr>\n",
       "      <th>1848</th>\n",
       "      <td>Боенка – Боиме и учиме да броиме</td>\n",
       "      <td>NaN</td>\n",
       "      <td>100.0</td>\n",
       "      <td>100.0</td>\n",
       "      <td>False</td>\n",
       "      <td>Детски книги</td>\n",
       "      <td>2025-05-03</td>\n",
       "    </tr>\n",
       "    <tr>\n",
       "      <th>1868</th>\n",
       "      <td>Малерите на Макс Крамбли – Хаос во основното у...</td>\n",
       "      <td>NaN</td>\n",
       "      <td>270.0</td>\n",
       "      <td>270.0</td>\n",
       "      <td>False</td>\n",
       "      <td>Детски книги</td>\n",
       "      <td>2025-05-03</td>\n",
       "    </tr>\n",
       "    <tr>\n",
       "      <th>1869</th>\n",
       "      <td>Малерите на Макс Крамбли – Херојот од шкафчето</td>\n",
       "      <td>NaN</td>\n",
       "      <td>270.0</td>\n",
       "      <td>270.0</td>\n",
       "      <td>False</td>\n",
       "      <td>Детски книги</td>\n",
       "      <td>2025-05-03</td>\n",
       "    </tr>\n",
       "    <tr>\n",
       "      <th>1896</th>\n",
       "      <td>Џебен сет за боење – Принцези</td>\n",
       "      <td>NaN</td>\n",
       "      <td>150.0</td>\n",
       "      <td>150.0</td>\n",
       "      <td>False</td>\n",
       "      <td>Детски книги</td>\n",
       "      <td>2025-05-03</td>\n",
       "    </tr>\n",
       "    <tr>\n",
       "      <th>1906</th>\n",
       "      <td>Принцези – сет за боење</td>\n",
       "      <td>NaN</td>\n",
       "      <td>150.0</td>\n",
       "      <td>150.0</td>\n",
       "      <td>False</td>\n",
       "      <td>Детски книги</td>\n",
       "      <td>2025-05-03</td>\n",
       "    </tr>\n",
       "    <tr>\n",
       "      <th>1920</th>\n",
       "      <td>Фарма – Криенка Миженка</td>\n",
       "      <td>NaN</td>\n",
       "      <td>200.0</td>\n",
       "      <td>200.0</td>\n",
       "      <td>False</td>\n",
       "      <td>Детски книги</td>\n",
       "      <td>2025-05-03</td>\n",
       "    </tr>\n",
       "    <tr>\n",
       "      <th>1925</th>\n",
       "      <td>Зборовник – ПРВИ ЗБОРОВИ</td>\n",
       "      <td>NaN</td>\n",
       "      <td>299.0</td>\n",
       "      <td>299.0</td>\n",
       "      <td>False</td>\n",
       "      <td>Детски книги</td>\n",
       "      <td>2025-05-03</td>\n",
       "    </tr>\n",
       "    <tr>\n",
       "      <th>1928</th>\n",
       "      <td>Кој сум јас? – Животни од фармата</td>\n",
       "      <td>NaN</td>\n",
       "      <td>170.0</td>\n",
       "      <td>170.0</td>\n",
       "      <td>False</td>\n",
       "      <td>Детски книги</td>\n",
       "      <td>2025-05-03</td>\n",
       "    </tr>\n",
       "    <tr>\n",
       "      <th>1992</th>\n",
       "      <td>Природните чуда – енциклопедија</td>\n",
       "      <td>NaN</td>\n",
       "      <td>170.0</td>\n",
       "      <td>170.0</td>\n",
       "      <td>False</td>\n",
       "      <td>Детски книги</td>\n",
       "      <td>2025-05-03</td>\n",
       "    </tr>\n",
       "    <tr>\n",
       "      <th>1996</th>\n",
       "      <td>АБВ – од ананас до шапка</td>\n",
       "      <td>NaN</td>\n",
       "      <td>148.0</td>\n",
       "      <td>148.0</td>\n",
       "      <td>False</td>\n",
       "      <td>Детски книги</td>\n",
       "      <td>2025-05-03</td>\n",
       "    </tr>\n",
       "    <tr>\n",
       "      <th>2022</th>\n",
       "      <td>ГДЏ – Големиот добар џин</td>\n",
       "      <td>NaN</td>\n",
       "      <td>290.0</td>\n",
       "      <td>290.0</td>\n",
       "      <td>False</td>\n",
       "      <td>Детски книги</td>\n",
       "      <td>2025-05-03</td>\n",
       "    </tr>\n",
       "    <tr>\n",
       "      <th>2037</th>\n",
       "      <td>500 зборови – англиско/македонски</td>\n",
       "      <td>NaN</td>\n",
       "      <td>210.0</td>\n",
       "      <td>210.0</td>\n",
       "      <td>False</td>\n",
       "      <td>Детски книги</td>\n",
       "      <td>2025-05-03</td>\n",
       "    </tr>\n",
       "    <tr>\n",
       "      <th>2062</th>\n",
       "      <td>Полиција – звучна сликовница</td>\n",
       "      <td>NaN</td>\n",
       "      <td>199.0</td>\n",
       "      <td>199.0</td>\n",
       "      <td>False</td>\n",
       "      <td>Детски книги</td>\n",
       "      <td>2025-05-03</td>\n",
       "    </tr>\n",
       "    <tr>\n",
       "      <th>2064</th>\n",
       "      <td>ABC – from apple to zebra</td>\n",
       "      <td>NaN</td>\n",
       "      <td>148.0</td>\n",
       "      <td>148.0</td>\n",
       "      <td>False</td>\n",
       "      <td>Детски книги</td>\n",
       "      <td>2025-05-03</td>\n",
       "    </tr>\n",
       "    <tr>\n",
       "      <th>2090</th>\n",
       "      <td>Сонце – енциклопедија</td>\n",
       "      <td>NaN</td>\n",
       "      <td>170.0</td>\n",
       "      <td>170.0</td>\n",
       "      <td>False</td>\n",
       "      <td>Детски книги</td>\n",
       "      <td>2025-05-03</td>\n",
       "    </tr>\n",
       "    <tr>\n",
       "      <th>2093</th>\n",
       "      <td>Универзум – енциклопедија</td>\n",
       "      <td>NaN</td>\n",
       "      <td>170.0</td>\n",
       "      <td>170.0</td>\n",
       "      <td>False</td>\n",
       "      <td>Детски книги</td>\n",
       "      <td>2025-05-03</td>\n",
       "    </tr>\n",
       "  </tbody>\n",
       "</table>\n",
       "</div>"
      ],
      "text/plain": [
       "                                                  Title Author  Real Price  \\\n",
       "380               Црниот мачор – раскази за мистеријата    NaN       300.0   \n",
       "539                     Атлас – Приказната на Тате Солт    NaN       940.0   \n",
       "599                  Снеговите на љубовта – книга втора    NaN       199.0   \n",
       "600                   Снеговите на љубовта – книга прва    NaN       199.0   \n",
       "803                     Мудар родител – среќен тинејџер    NaN       600.0   \n",
       "833                 Мудар родител – време е за градинка    NaN       650.0   \n",
       "863   Умешноста да ја креирате вашата реалност – Вод...    NaN       450.0   \n",
       "885                         МУДАР РОДИТЕЛ – СРЕЌНО БЕБЕ    NaN       600.0   \n",
       "887                 ПАТОТ КОН ВЕЛИЧЕСТВЕНОСТА – книга 2    NaN       400.0   \n",
       "969   Македонија и Македонците во Библијата – Библис...    NaN       800.0   \n",
       "974                    ДЕСЕТТЕ БОЖЈИ ЗАПОВЕДИ – ДЕКАЛОГ    NaN       400.0   \n",
       "982   Св. Јован Шангајски – Чудотворец на последните...    NaN       300.0   \n",
       "1545                    Атлас – Приказната на Тате Солт    NaN       940.0   \n",
       "1765              Мојата прва книгичка – форми и фигури    NaN       290.0   \n",
       "1766                     Мојата прва книгичка – животни    NaN       290.0   \n",
       "1770             Џебен сет за боење – Сирени и самовили    NaN       170.0   \n",
       "1799                   Кој сум јас? – Животни од шумата    NaN       170.0   \n",
       "1809                       Џебен сет за боење – Животни    NaN       170.0   \n",
       "1810  Мојата срцевидна книга – Магијата на малата са...    NaN       130.0   \n",
       "1811     Мојата срцевидна книга – Лола ја сака ѕвездата    NaN       130.0   \n",
       "1812   Мојата срцевидна книга – Лола е вистински другар    NaN       130.0   \n",
       "1813  Мојата срцевидна книга – Магијата на малата си...    NaN       130.0   \n",
       "1847                     Боенка – Буква до буква азбука    NaN       110.0   \n",
       "1848                   Боенка – Боиме и учиме да броиме    NaN       100.0   \n",
       "1868  Малерите на Макс Крамбли – Хаос во основното у...    NaN       270.0   \n",
       "1869     Малерите на Макс Крамбли – Херојот од шкафчето    NaN       270.0   \n",
       "1896                      Џебен сет за боење – Принцези    NaN       150.0   \n",
       "1906                            Принцези – сет за боење    NaN       150.0   \n",
       "1920                            Фарма – Криенка Миженка    NaN       200.0   \n",
       "1925                           Зборовник – ПРВИ ЗБОРОВИ    NaN       299.0   \n",
       "1928                  Кој сум јас? – Животни од фармата    NaN       170.0   \n",
       "1992                    Природните чуда – енциклопедија    NaN       170.0   \n",
       "1996                           АБВ – од ананас до шапка    NaN       148.0   \n",
       "2022                           ГДЏ – Големиот добар џин    NaN       290.0   \n",
       "2037                  500 зборови – англиско/македонски    NaN       210.0   \n",
       "2062                       Полиција – звучна сликовница    NaN       199.0   \n",
       "2064                          ABC – from apple to zebra    NaN       148.0   \n",
       "2090                              Сонце – енциклопедија    NaN       170.0   \n",
       "2093                          Универзум – енциклопедија    NaN       170.0   \n",
       "\n",
       "      Sale Price  IsOnSale            Category Retrieved At  \n",
       "380        300.0     False            Мистерии   2025-05-02  \n",
       "539        940.0     False           Историски   2025-05-02  \n",
       "599        199.0     False           Историски   2025-05-02  \n",
       "600        199.0     False           Историски   2025-05-02  \n",
       "803        600.0     False         Психологија   2025-05-02  \n",
       "833        650.0     False         Психологија   2025-05-02  \n",
       "863        450.0     False         Психологија   2025-05-02  \n",
       "885        600.0     False         Психологија   2025-05-02  \n",
       "887        400.0     False         Психологија   2025-05-02  \n",
       "969        800.0     False  Духовна литература   2025-05-02  \n",
       "974        400.0     False  Духовна литература   2025-05-02  \n",
       "982        300.0     False  Духовна литература   2025-05-02  \n",
       "1545       940.0     False               Драми   2025-05-02  \n",
       "1765       249.0      True        Детски книги   2025-05-03  \n",
       "1766       249.0      True        Детски книги   2025-05-03  \n",
       "1770       170.0     False        Детски книги   2025-05-03  \n",
       "1799       170.0     False        Детски книги   2025-05-03  \n",
       "1809       170.0     False        Детски книги   2025-05-03  \n",
       "1810       130.0     False        Детски книги   2025-05-03  \n",
       "1811       130.0     False        Детски книги   2025-05-03  \n",
       "1812       130.0     False        Детски книги   2025-05-03  \n",
       "1813       130.0     False        Детски книги   2025-05-03  \n",
       "1847       110.0     False        Детски книги   2025-05-03  \n",
       "1848       100.0     False        Детски книги   2025-05-03  \n",
       "1868       270.0     False        Детски книги   2025-05-03  \n",
       "1869       270.0     False        Детски книги   2025-05-03  \n",
       "1896       150.0     False        Детски книги   2025-05-03  \n",
       "1906       150.0     False        Детски книги   2025-05-03  \n",
       "1920       200.0     False        Детски книги   2025-05-03  \n",
       "1925       299.0     False        Детски книги   2025-05-03  \n",
       "1928       170.0     False        Детски книги   2025-05-03  \n",
       "1992       170.0     False        Детски книги   2025-05-03  \n",
       "1996       148.0     False        Детски книги   2025-05-03  \n",
       "2022       290.0     False        Детски книги   2025-05-03  \n",
       "2037       210.0     False        Детски книги   2025-05-03  \n",
       "2062       199.0     False        Детски книги   2025-05-03  \n",
       "2064       148.0     False        Детски книги   2025-05-03  \n",
       "2090       170.0     False        Детски книги   2025-05-03  \n",
       "2093       170.0     False        Детски книги   2025-05-03  "
      ]
     },
     "execution_count": 283,
     "metadata": {},
     "output_type": "execute_result"
    }
   ],
   "source": [
    "# See which authord have – or  - or —\n",
    "authors_fix = df[df['Title'].str.contains(r'\\s[–\\-—]\\s\\w+(?:\\s\\w+)?', regex=True, case=False)]\n",
    "authors_fix.head(100)"
   ]
  },
  {
   "cell_type": "code",
   "execution_count": 284,
   "id": "1c3605ec",
   "metadata": {},
   "outputs": [],
   "source": [
    "updates = {\n",
    "   521: {'Title': 'Избрани песни', 'Author': 'Ана Ахматова'},\n",
    "   770: {'Title': 'Подарокот', 'Author': 'Едит Егер'},\n",
    "   843: {'Title': 'Херој', 'Author': 'Р.Бирн'},\n",
    "   976: {'Title': 'ИСТОРИЈА НА РЕЛИГИИТЕ', 'Author': 'Александар Мењ'}\n",
    "}\n",
    "\n",
    "for idx, update in updates.items():\n",
    "    df.at[idx, 'Title'] = update['Title']\n",
    "    df.at[idx, 'Author'] = update['Author']"
   ]
  },
  {
   "cell_type": "code",
   "execution_count": 285,
   "id": "d18e151a",
   "metadata": {},
   "outputs": [],
   "source": [
    "# df[df['Title'].str.contains('ИСТОРИЈА НА РЕЛИГИИТЕ', case=False)]\n",
    "# df[df['Title'].str.contains('Херој', case=False)]\n",
    "# df[df['Title'].str.contains('Избрани песни', case=False)]\n",
    "# df[df['Title'].str.contains('Подарокот', case=False)]"
   ]
  },
  {
   "cell_type": "code",
   "execution_count": 286,
   "id": "90b55344",
   "metadata": {},
   "outputs": [],
   "source": [
    "df.to_csv(\"sakam_knigi.csv\", encoding='utf-8-sig', index=False)\n",
    "df = pd.read_csv(\"sakam_knigi.csv\", encoding='utf-8-sig')"
   ]
  },
  {
   "cell_type": "markdown",
   "id": "7703cd44",
   "metadata": {},
   "source": [
    "- Check for 'и'"
   ]
  },
  {
   "cell_type": "code",
   "execution_count": 287,
   "id": "d830a98a",
   "metadata": {},
   "outputs": [
    {
     "data": {
      "application/vnd.microsoft.datawrangler.viewer.v0+json": {
       "columns": [
        {
         "name": "index",
         "rawType": "int64",
         "type": "integer"
        },
        {
         "name": "Title",
         "rawType": "object",
         "type": "string"
        },
        {
         "name": "Author",
         "rawType": "object",
         "type": "string"
        },
        {
         "name": "Real Price",
         "rawType": "float64",
         "type": "float"
        },
        {
         "name": "Sale Price",
         "rawType": "float64",
         "type": "float"
        },
        {
         "name": "IsOnSale",
         "rawType": "bool",
         "type": "boolean"
        },
        {
         "name": "Category",
         "rawType": "object",
         "type": "string"
        },
        {
         "name": "Retrieved At",
         "rawType": "object",
         "type": "string"
        }
       ],
       "conversionMethod": "pd.DataFrame",
       "ref": "25d54a5d-0c8b-4c79-9eb3-1298378a76ba",
       "rows": [],
       "shape": {
        "columns": 7,
        "rows": 0
       }
      },
      "text/html": [
       "<div>\n",
       "<style scoped>\n",
       "    .dataframe tbody tr th:only-of-type {\n",
       "        vertical-align: middle;\n",
       "    }\n",
       "\n",
       "    .dataframe tbody tr th {\n",
       "        vertical-align: top;\n",
       "    }\n",
       "\n",
       "    .dataframe thead th {\n",
       "        text-align: right;\n",
       "    }\n",
       "</style>\n",
       "<table border=\"1\" class=\"dataframe\">\n",
       "  <thead>\n",
       "    <tr style=\"text-align: right;\">\n",
       "      <th></th>\n",
       "      <th>Title</th>\n",
       "      <th>Author</th>\n",
       "      <th>Real Price</th>\n",
       "      <th>Sale Price</th>\n",
       "      <th>IsOnSale</th>\n",
       "      <th>Category</th>\n",
       "      <th>Retrieved At</th>\n",
       "    </tr>\n",
       "  </thead>\n",
       "  <tbody>\n",
       "  </tbody>\n",
       "</table>\n",
       "</div>"
      ],
      "text/plain": [
       "Empty DataFrame\n",
       "Columns: [Title, Author, Real Price, Sale Price, IsOnSale, Category, Retrieved At]\n",
       "Index: []"
      ]
     },
     "execution_count": 287,
     "metadata": {},
     "output_type": "execute_result"
    }
   ],
   "source": [
    "two_authors_df = df[df['Author'].str.contains(r'\\sи\\s', case=False, na=False)]\n",
    "two_authors_df"
   ]
  },
  {
   "cell_type": "code",
   "execution_count": 288,
   "id": "12113a63",
   "metadata": {},
   "outputs": [],
   "source": [
    "two_authors_df = df[df['Author'].str.contains(r'\\sи\\s', case=False, na=False)].copy()\n",
    "\n",
    "two_authors_df['Author'] = two_authors_df['Author'].str.split(' и ')\n",
    "\n",
    "exploded_df = two_authors_df.explode('Author', ignore_index=True)\n",
    "\n",
    "df = pd.concat([df[~df['Author'].str.contains(r'\\sи\\s', case=False, na=False)], exploded_df], ignore_index=True)"
   ]
  },
  {
   "cell_type": "code",
   "execution_count": 289,
   "id": "d45959f7",
   "metadata": {},
   "outputs": [
    {
     "data": {
      "application/vnd.microsoft.datawrangler.viewer.v0+json": {
       "columns": [
        {
         "name": "index",
         "rawType": "int64",
         "type": "integer"
        },
        {
         "name": "Title",
         "rawType": "object",
         "type": "string"
        },
        {
         "name": "Author",
         "rawType": "object",
         "type": "string"
        },
        {
         "name": "Real Price",
         "rawType": "float64",
         "type": "float"
        },
        {
         "name": "Sale Price",
         "rawType": "float64",
         "type": "float"
        },
        {
         "name": "IsOnSale",
         "rawType": "bool",
         "type": "boolean"
        },
        {
         "name": "Category",
         "rawType": "object",
         "type": "string"
        },
        {
         "name": "Retrieved At",
         "rawType": "object",
         "type": "string"
        }
       ],
       "conversionMethod": "pd.DataFrame",
       "ref": "1921509e-160b-4ba6-8f98-10d325a3c25e",
       "rows": [],
       "shape": {
        "columns": 7,
        "rows": 0
       }
      },
      "text/html": [
       "<div>\n",
       "<style scoped>\n",
       "    .dataframe tbody tr th:only-of-type {\n",
       "        vertical-align: middle;\n",
       "    }\n",
       "\n",
       "    .dataframe tbody tr th {\n",
       "        vertical-align: top;\n",
       "    }\n",
       "\n",
       "    .dataframe thead th {\n",
       "        text-align: right;\n",
       "    }\n",
       "</style>\n",
       "<table border=\"1\" class=\"dataframe\">\n",
       "  <thead>\n",
       "    <tr style=\"text-align: right;\">\n",
       "      <th></th>\n",
       "      <th>Title</th>\n",
       "      <th>Author</th>\n",
       "      <th>Real Price</th>\n",
       "      <th>Sale Price</th>\n",
       "      <th>IsOnSale</th>\n",
       "      <th>Category</th>\n",
       "      <th>Retrieved At</th>\n",
       "    </tr>\n",
       "  </thead>\n",
       "  <tbody>\n",
       "  </tbody>\n",
       "</table>\n",
       "</div>"
      ],
      "text/plain": [
       "Empty DataFrame\n",
       "Columns: [Title, Author, Real Price, Sale Price, IsOnSale, Category, Retrieved At]\n",
       "Index: []"
      ]
     },
     "execution_count": 289,
     "metadata": {},
     "output_type": "execute_result"
    }
   ],
   "source": [
    "two_authors_df = df[df['Author'].str.contains(r'\\sи\\s', case=False, na=False)]\n",
    "two_authors_df"
   ]
  },
  {
   "cell_type": "code",
   "execution_count": 290,
   "id": "b010bb3b",
   "metadata": {},
   "outputs": [],
   "source": [
    "df.to_csv(\"sakam_knigi.csv\", encoding='utf-8-sig', index=False)\n",
    "df = pd.read_csv(\"sakam_knigi.csv\", encoding='utf-8-sig')"
   ]
  },
  {
   "cell_type": "markdown",
   "id": "e1cc74cd",
   "metadata": {},
   "source": [
    "- Check for Authors divided by , Example: 1060\tАурис\t Себастијан Фицек, Винсент Клиш,"
   ]
  },
  {
   "cell_type": "code",
   "execution_count": 291,
   "id": "48cdf7e3",
   "metadata": {},
   "outputs": [],
   "source": [
    "# # Find rows with commas in Author\n",
    "comma_rows = df['Author'].str.contains(r'\\s*,\\s*', na=False)\n",
    "\n",
    "# # Remove trailing commas in those rows\n",
    "df.loc[comma_rows, 'Author'] = df.loc[comma_rows, 'Author'].str.rstrip(', ')\n"
   ]
  },
  {
   "cell_type": "code",
   "execution_count": 292,
   "id": "50e3f1c7",
   "metadata": {},
   "outputs": [
    {
     "data": {
      "application/vnd.microsoft.datawrangler.viewer.v0+json": {
       "columns": [
        {
         "name": "index",
         "rawType": "int64",
         "type": "integer"
        },
        {
         "name": "Title",
         "rawType": "object",
         "type": "string"
        },
        {
         "name": "Author",
         "rawType": "object",
         "type": "string"
        },
        {
         "name": "Real Price",
         "rawType": "float64",
         "type": "float"
        },
        {
         "name": "Sale Price",
         "rawType": "float64",
         "type": "float"
        },
        {
         "name": "IsOnSale",
         "rawType": "bool",
         "type": "boolean"
        },
        {
         "name": "Category",
         "rawType": "object",
         "type": "string"
        },
        {
         "name": "Retrieved At",
         "rawType": "object",
         "type": "string"
        }
       ],
       "conversionMethod": "pd.DataFrame",
       "ref": "eed5e3d7-aa21-4df2-a8bf-71a97da3594b",
       "rows": [],
       "shape": {
        "columns": 7,
        "rows": 0
       }
      },
      "text/html": [
       "<div>\n",
       "<style scoped>\n",
       "    .dataframe tbody tr th:only-of-type {\n",
       "        vertical-align: middle;\n",
       "    }\n",
       "\n",
       "    .dataframe tbody tr th {\n",
       "        vertical-align: top;\n",
       "    }\n",
       "\n",
       "    .dataframe thead th {\n",
       "        text-align: right;\n",
       "    }\n",
       "</style>\n",
       "<table border=\"1\" class=\"dataframe\">\n",
       "  <thead>\n",
       "    <tr style=\"text-align: right;\">\n",
       "      <th></th>\n",
       "      <th>Title</th>\n",
       "      <th>Author</th>\n",
       "      <th>Real Price</th>\n",
       "      <th>Sale Price</th>\n",
       "      <th>IsOnSale</th>\n",
       "      <th>Category</th>\n",
       "      <th>Retrieved At</th>\n",
       "    </tr>\n",
       "  </thead>\n",
       "  <tbody>\n",
       "  </tbody>\n",
       "</table>\n",
       "</div>"
      ],
      "text/plain": [
       "Empty DataFrame\n",
       "Columns: [Title, Author, Real Price, Sale Price, IsOnSale, Category, Retrieved At]\n",
       "Index: []"
      ]
     },
     "execution_count": 292,
     "metadata": {},
     "output_type": "execute_result"
    }
   ],
   "source": [
    "comma_authors_df = df[df['Author'].str.contains(r'\\s*,\\s*', na=False)]\n",
    "comma_authors_df"
   ]
  },
  {
   "cell_type": "code",
   "execution_count": 293,
   "id": "3f13ab47",
   "metadata": {},
   "outputs": [],
   "source": [
    "comma_authors_df = df[df['Author'].str.contains(r'\\s*,\\s*', na=False)].copy()\n",
    "\n",
    "comma_authors_df['Author'] = comma_authors_df['Author'].str.rstrip(', ')\n",
    "comma_authors_df['Author'] = comma_authors_df['Author'].str.split(r'\\s*,\\s*')\n",
    "exploded_comma_df = comma_authors_df.explode('Author', ignore_index=True)\n",
    "df = df[~df['Author'].str.contains(r'\\s*,\\s*', na=False)]\n",
    "df = pd.concat([df, exploded_comma_df], ignore_index=True)\n"
   ]
  },
  {
   "cell_type": "code",
   "execution_count": 294,
   "id": "1fb1d340",
   "metadata": {},
   "outputs": [
    {
     "data": {
      "application/vnd.microsoft.datawrangler.viewer.v0+json": {
       "columns": [
        {
         "name": "index",
         "rawType": "int64",
         "type": "integer"
        },
        {
         "name": "Title",
         "rawType": "object",
         "type": "string"
        },
        {
         "name": "Author",
         "rawType": "object",
         "type": "string"
        },
        {
         "name": "Real Price",
         "rawType": "float64",
         "type": "float"
        },
        {
         "name": "Sale Price",
         "rawType": "float64",
         "type": "float"
        },
        {
         "name": "IsOnSale",
         "rawType": "bool",
         "type": "boolean"
        },
        {
         "name": "Category",
         "rawType": "object",
         "type": "string"
        },
        {
         "name": "Retrieved At",
         "rawType": "object",
         "type": "string"
        }
       ],
       "conversionMethod": "pd.DataFrame",
       "ref": "4cd69f08-6a26-442f-86d0-08e6791ba1f3",
       "rows": [],
       "shape": {
        "columns": 7,
        "rows": 0
       }
      },
      "text/html": [
       "<div>\n",
       "<style scoped>\n",
       "    .dataframe tbody tr th:only-of-type {\n",
       "        vertical-align: middle;\n",
       "    }\n",
       "\n",
       "    .dataframe tbody tr th {\n",
       "        vertical-align: top;\n",
       "    }\n",
       "\n",
       "    .dataframe thead th {\n",
       "        text-align: right;\n",
       "    }\n",
       "</style>\n",
       "<table border=\"1\" class=\"dataframe\">\n",
       "  <thead>\n",
       "    <tr style=\"text-align: right;\">\n",
       "      <th></th>\n",
       "      <th>Title</th>\n",
       "      <th>Author</th>\n",
       "      <th>Real Price</th>\n",
       "      <th>Sale Price</th>\n",
       "      <th>IsOnSale</th>\n",
       "      <th>Category</th>\n",
       "      <th>Retrieved At</th>\n",
       "    </tr>\n",
       "  </thead>\n",
       "  <tbody>\n",
       "  </tbody>\n",
       "</table>\n",
       "</div>"
      ],
      "text/plain": [
       "Empty DataFrame\n",
       "Columns: [Title, Author, Real Price, Sale Price, IsOnSale, Category, Retrieved At]\n",
       "Index: []"
      ]
     },
     "execution_count": 294,
     "metadata": {},
     "output_type": "execute_result"
    }
   ],
   "source": [
    "comma_authors_df = df[df['Author'].str.contains(r'\\s*,\\s*', na=False)]\n",
    "comma_authors_df"
   ]
  },
  {
   "cell_type": "markdown",
   "id": "955e732e",
   "metadata": {},
   "source": [
    "- Find titles that appear under multiple authors <br/> The books from before have multiple authors: (Кралицата Шарлот, Да можев да ти го подарам Божиќ, Аурис, Совршената замена)"
   ]
  },
  {
   "cell_type": "code",
   "execution_count": 295,
   "id": "12a42a34",
   "metadata": {},
   "outputs": [
    {
     "data": {
      "application/vnd.microsoft.datawrangler.viewer.v0+json": {
       "columns": [
        {
         "name": "index",
         "rawType": "int64",
         "type": "integer"
        },
        {
         "name": "Title",
         "rawType": "object",
         "type": "string"
        },
        {
         "name": "Author",
         "rawType": "object",
         "type": "unknown"
        },
        {
         "name": "Author Count",
         "rawType": "int64",
         "type": "integer"
        }
       ],
       "conversionMethod": "pd.DataFrame",
       "ref": "ca4327c2-ec4b-4b9d-bd86-aad97366cc3d",
       "rows": [
        [
         "1132",
         "Подарокот",
         "['Едит Егер' ' Себастијан Фицек' nan]",
         "3"
        ],
        [
         "260",
         "Вистинскиот",
         "[' Џон Марс' nan]",
         "2"
        ],
        [
         "126",
         "Аурис",
         "[' Себастијан Фицек' 'Винсент Клиш']",
         "2"
        ],
        [
         "357",
         "Да можев да ти го подарам Божиќ",
         "[' Џенифер Л. Мајер' 'Лин Плорд']",
         "2"
        ],
        [
         "757",
         "Кралицата Шарлота",
         "[' Џулија Квин' 'Шонда Рајмс']",
         "2"
        ],
        [
         "1411",
         "Совршената замена",
         "[' Грир Хендрикс' 'Сара Пеканен']",
         "2"
        ],
        [
         "1592",
         "Херој",
         "[' Саманта Јанг' 'Р.Бирн']",
         "2"
        ]
       ],
       "shape": {
        "columns": 3,
        "rows": 7
       }
      },
      "text/html": [
       "<div>\n",
       "<style scoped>\n",
       "    .dataframe tbody tr th:only-of-type {\n",
       "        vertical-align: middle;\n",
       "    }\n",
       "\n",
       "    .dataframe tbody tr th {\n",
       "        vertical-align: top;\n",
       "    }\n",
       "\n",
       "    .dataframe thead th {\n",
       "        text-align: right;\n",
       "    }\n",
       "</style>\n",
       "<table border=\"1\" class=\"dataframe\">\n",
       "  <thead>\n",
       "    <tr style=\"text-align: right;\">\n",
       "      <th></th>\n",
       "      <th>Title</th>\n",
       "      <th>Author</th>\n",
       "      <th>Author Count</th>\n",
       "    </tr>\n",
       "  </thead>\n",
       "  <tbody>\n",
       "    <tr>\n",
       "      <th>1132</th>\n",
       "      <td>Подарокот</td>\n",
       "      <td>[Едит Егер,  Себастијан Фицек, nan]</td>\n",
       "      <td>3</td>\n",
       "    </tr>\n",
       "    <tr>\n",
       "      <th>260</th>\n",
       "      <td>Вистинскиот</td>\n",
       "      <td>[ Џон Марс, nan]</td>\n",
       "      <td>2</td>\n",
       "    </tr>\n",
       "    <tr>\n",
       "      <th>126</th>\n",
       "      <td>Аурис</td>\n",
       "      <td>[ Себастијан Фицек, Винсент Клиш]</td>\n",
       "      <td>2</td>\n",
       "    </tr>\n",
       "    <tr>\n",
       "      <th>357</th>\n",
       "      <td>Да можев да ти го подарам Божиќ</td>\n",
       "      <td>[ Џенифер Л. Мајер, Лин Плорд]</td>\n",
       "      <td>2</td>\n",
       "    </tr>\n",
       "    <tr>\n",
       "      <th>757</th>\n",
       "      <td>Кралицата Шарлота</td>\n",
       "      <td>[ Џулија Квин, Шонда Рајмс]</td>\n",
       "      <td>2</td>\n",
       "    </tr>\n",
       "    <tr>\n",
       "      <th>1411</th>\n",
       "      <td>Совршената замена</td>\n",
       "      <td>[ Грир Хендрикс, Сара Пеканен]</td>\n",
       "      <td>2</td>\n",
       "    </tr>\n",
       "    <tr>\n",
       "      <th>1592</th>\n",
       "      <td>Херој</td>\n",
       "      <td>[ Саманта Јанг, Р.Бирн]</td>\n",
       "      <td>2</td>\n",
       "    </tr>\n",
       "  </tbody>\n",
       "</table>\n",
       "</div>"
      ],
      "text/plain": [
       "                                Title                               Author  \\\n",
       "1132                        Подарокот  [Едит Егер,  Себастијан Фицек, nan]   \n",
       "260                       Вистинскиот                     [ Џон Марс, nan]   \n",
       "126                             Аурис    [ Себастијан Фицек, Винсент Клиш]   \n",
       "357   Да можев да ти го подарам Божиќ       [ Џенифер Л. Мајер, Лин Плорд]   \n",
       "757                 Кралицата Шарлота          [ Џулија Квин, Шонда Рајмс]   \n",
       "1411                Совршената замена       [ Грир Хендрикс, Сара Пеканен]   \n",
       "1592                            Херој              [ Саманта Јанг, Р.Бирн]   \n",
       "\n",
       "      Author Count  \n",
       "1132             3  \n",
       "260              2  \n",
       "126              2  \n",
       "357              2  \n",
       "757              2  \n",
       "1411             2  \n",
       "1592             2  "
      ]
     },
     "execution_count": 295,
     "metadata": {},
     "output_type": "execute_result"
    }
   ],
   "source": [
    "# Group by Title and collect unique authors\n",
    "title_authors = df.groupby('Title')['Author'].unique()\n",
    "\n",
    "# Reset to a DataFrame\n",
    "title_authors_df = title_authors.reset_index()\n",
    "\n",
    "# Add a count of how many authors per title\n",
    "title_authors_df['Author Count'] = title_authors_df['Author'].apply(len)\n",
    "\n",
    "# Filter titles with more than one author (i.e., different authors for the same book title)\n",
    "duplicate_titles = title_authors_df[title_authors_df['Author Count'] > 1]\n",
    "\n",
    "# Sort by number of authors if desired\n",
    "duplicate_titles = duplicate_titles.sort_values(by='Author Count', ascending=False)\n",
    "\n",
    "# Show the result\n",
    "duplicate_titles.head(200)\n"
   ]
  },
  {
   "cell_type": "code",
   "execution_count": 296,
   "id": "506571bb",
   "metadata": {},
   "outputs": [
    {
     "data": {
      "text/plain": [
       "Title              0\n",
       "Author          1591\n",
       "Real Price         2\n",
       "Sale Price         2\n",
       "IsOnSale           0\n",
       "Category           0\n",
       "Retrieved At       0\n",
       "dtype: int64"
      ]
     },
     "execution_count": 296,
     "metadata": {},
     "output_type": "execute_result"
    }
   ],
   "source": [
    "df.isnull().sum()"
   ]
  },
  {
   "cell_type": "markdown",
   "id": "8b59e39d",
   "metadata": {},
   "source": [
    "2. Clean Price\n",
    "- Remove \"ден\" from \"Real Price\" and \"Sale Price\" cols"
   ]
  },
  {
   "cell_type": "code",
   "execution_count": 297,
   "id": "1882fbd5",
   "metadata": {},
   "outputs": [
    {
     "data": {
      "application/vnd.microsoft.datawrangler.viewer.v0+json": {
       "columns": [
        {
         "name": "index",
         "rawType": "int64",
         "type": "integer"
        },
        {
         "name": "Title",
         "rawType": "object",
         "type": "string"
        },
        {
         "name": "Author",
         "rawType": "object",
         "type": "unknown"
        },
        {
         "name": "Real Price",
         "rawType": "float64",
         "type": "float"
        },
        {
         "name": "Sale Price",
         "rawType": "float64",
         "type": "float"
        },
        {
         "name": "IsOnSale",
         "rawType": "bool",
         "type": "boolean"
        },
        {
         "name": "Category",
         "rawType": "object",
         "type": "string"
        },
        {
         "name": "Retrieved At",
         "rawType": "object",
         "type": "string"
        }
       ],
       "conversionMethod": "pd.DataFrame",
       "ref": "f8774874-2fee-45b5-8590-9dab4bdfdca5",
       "rows": [
        [
         "1142",
         "Азбучната куќа",
         null,
         null,
         null,
         "False",
         "Трилери",
         "2025-05-02"
        ],
        [
         "1851",
         "Коалата што не можеше да заспие",
         null,
         null,
         null,
         "False",
         "Детски книги",
         "2025-05-03"
        ]
       ],
       "shape": {
        "columns": 7,
        "rows": 2
       }
      },
      "text/html": [
       "<div>\n",
       "<style scoped>\n",
       "    .dataframe tbody tr th:only-of-type {\n",
       "        vertical-align: middle;\n",
       "    }\n",
       "\n",
       "    .dataframe tbody tr th {\n",
       "        vertical-align: top;\n",
       "    }\n",
       "\n",
       "    .dataframe thead th {\n",
       "        text-align: right;\n",
       "    }\n",
       "</style>\n",
       "<table border=\"1\" class=\"dataframe\">\n",
       "  <thead>\n",
       "    <tr style=\"text-align: right;\">\n",
       "      <th></th>\n",
       "      <th>Title</th>\n",
       "      <th>Author</th>\n",
       "      <th>Real Price</th>\n",
       "      <th>Sale Price</th>\n",
       "      <th>IsOnSale</th>\n",
       "      <th>Category</th>\n",
       "      <th>Retrieved At</th>\n",
       "    </tr>\n",
       "  </thead>\n",
       "  <tbody>\n",
       "    <tr>\n",
       "      <th>1142</th>\n",
       "      <td>Азбучната куќа</td>\n",
       "      <td>NaN</td>\n",
       "      <td>NaN</td>\n",
       "      <td>NaN</td>\n",
       "      <td>False</td>\n",
       "      <td>Трилери</td>\n",
       "      <td>2025-05-02</td>\n",
       "    </tr>\n",
       "    <tr>\n",
       "      <th>1851</th>\n",
       "      <td>Коалата што не можеше да заспие</td>\n",
       "      <td>NaN</td>\n",
       "      <td>NaN</td>\n",
       "      <td>NaN</td>\n",
       "      <td>False</td>\n",
       "      <td>Детски книги</td>\n",
       "      <td>2025-05-03</td>\n",
       "    </tr>\n",
       "  </tbody>\n",
       "</table>\n",
       "</div>"
      ],
      "text/plain": [
       "                                Title Author  Real Price  Sale Price  \\\n",
       "1142                   Азбучната куќа    NaN         NaN         NaN   \n",
       "1851  Коалата што не можеше да заспие    NaN         NaN         NaN   \n",
       "\n",
       "      IsOnSale      Category Retrieved At  \n",
       "1142     False       Трилери   2025-05-02  \n",
       "1851     False  Детски книги   2025-05-03  "
      ]
     },
     "execution_count": 297,
     "metadata": {},
     "output_type": "execute_result"
    }
   ],
   "source": [
    "missing_prices_df = df[df['Real Price'].isna() | df['Sale Price'].isna()]\n",
    "missing_prices_df"
   ]
  },
  {
   "cell_type": "markdown",
   "id": "9a00f139",
   "metadata": {},
   "source": [
    "### Clean price cols\n",
    "- Before converting to numeric,remove \"ден\", remove commas and strip whitespace\n"
   ]
  },
  {
   "cell_type": "code",
   "execution_count": 298,
   "id": "87b347c1",
   "metadata": {},
   "outputs": [],
   "source": [
    "# # Clean price columns\n",
    "# df['Real Price'] = df['Real Price'].str.replace(\"ден\", \"\", regex=False).str.replace(\",\", \"\").str.strip()\n",
    "# df['Sale Price'] = df['Sale Price'].str.replace(\"ден\", \"\", regex=False).str.replace(\",\", \"\").str.strip()\n",
    "\n",
    "# # Convert to numeric\n",
    "# df[\"Real Price\"] = pd.to_numeric(df[\"Real Price\"], errors=\"coerce\")\n",
    "# df[\"Sale Price\"] = pd.to_numeric(df[\"Sale Price\"], errors=\"coerce\")\n"
   ]
  },
  {
   "cell_type": "code",
   "execution_count": 299,
   "id": "bcc4acaf",
   "metadata": {},
   "outputs": [
    {
     "data": {
      "application/vnd.microsoft.datawrangler.viewer.v0+json": {
       "columns": [
        {
         "name": "index",
         "rawType": "int64",
         "type": "integer"
        },
        {
         "name": "Title",
         "rawType": "object",
         "type": "string"
        },
        {
         "name": "Author",
         "rawType": "object",
         "type": "string"
        },
        {
         "name": "Real Price",
         "rawType": "float64",
         "type": "float"
        },
        {
         "name": "Sale Price",
         "rawType": "float64",
         "type": "float"
        },
        {
         "name": "IsOnSale",
         "rawType": "bool",
         "type": "boolean"
        },
        {
         "name": "Category",
         "rawType": "object",
         "type": "string"
        },
        {
         "name": "Retrieved At",
         "rawType": "object",
         "type": "string"
        }
       ],
       "conversionMethod": "pd.DataFrame",
       "ref": "211387c6-6c30-41e7-8134-8b81e0e381eb",
       "rows": [
        [
         "0",
         "Фаворити",
         " Лејн Фарго",
         "590.0",
         "590.0",
         "False",
         "Романси",
         "2025-05-02"
        ],
        [
         "1",
         "Тунел",
         " Ана Волц",
         "400.0",
         "400.0",
         "False",
         "Романси",
         "2025-05-02"
        ],
        [
         "2",
         "Љубов во Рим",
         " Сара Адамс",
         "490.0",
         "490.0",
         "False",
         "Романси",
         "2025-05-02"
        ],
        [
         "3",
         "Шпанска љубовна измама",
         " Елена Армас",
         "590.0",
         "590.0",
         "False",
         "Романси",
         "2025-05-02"
        ],
        [
         "4",
         "Изопачени лаги",
         " Ана Хуанг",
         "590.0",
         "590.0",
         "False",
         "Романси",
         "2025-05-02"
        ]
       ],
       "shape": {
        "columns": 7,
        "rows": 5
       }
      },
      "text/html": [
       "<div>\n",
       "<style scoped>\n",
       "    .dataframe tbody tr th:only-of-type {\n",
       "        vertical-align: middle;\n",
       "    }\n",
       "\n",
       "    .dataframe tbody tr th {\n",
       "        vertical-align: top;\n",
       "    }\n",
       "\n",
       "    .dataframe thead th {\n",
       "        text-align: right;\n",
       "    }\n",
       "</style>\n",
       "<table border=\"1\" class=\"dataframe\">\n",
       "  <thead>\n",
       "    <tr style=\"text-align: right;\">\n",
       "      <th></th>\n",
       "      <th>Title</th>\n",
       "      <th>Author</th>\n",
       "      <th>Real Price</th>\n",
       "      <th>Sale Price</th>\n",
       "      <th>IsOnSale</th>\n",
       "      <th>Category</th>\n",
       "      <th>Retrieved At</th>\n",
       "    </tr>\n",
       "  </thead>\n",
       "  <tbody>\n",
       "    <tr>\n",
       "      <th>0</th>\n",
       "      <td>Фаворити</td>\n",
       "      <td>Лејн Фарго</td>\n",
       "      <td>590.0</td>\n",
       "      <td>590.0</td>\n",
       "      <td>False</td>\n",
       "      <td>Романси</td>\n",
       "      <td>2025-05-02</td>\n",
       "    </tr>\n",
       "    <tr>\n",
       "      <th>1</th>\n",
       "      <td>Тунел</td>\n",
       "      <td>Ана Волц</td>\n",
       "      <td>400.0</td>\n",
       "      <td>400.0</td>\n",
       "      <td>False</td>\n",
       "      <td>Романси</td>\n",
       "      <td>2025-05-02</td>\n",
       "    </tr>\n",
       "    <tr>\n",
       "      <th>2</th>\n",
       "      <td>Љубов во Рим</td>\n",
       "      <td>Сара Адамс</td>\n",
       "      <td>490.0</td>\n",
       "      <td>490.0</td>\n",
       "      <td>False</td>\n",
       "      <td>Романси</td>\n",
       "      <td>2025-05-02</td>\n",
       "    </tr>\n",
       "    <tr>\n",
       "      <th>3</th>\n",
       "      <td>Шпанска љубовна измама</td>\n",
       "      <td>Елена Армас</td>\n",
       "      <td>590.0</td>\n",
       "      <td>590.0</td>\n",
       "      <td>False</td>\n",
       "      <td>Романси</td>\n",
       "      <td>2025-05-02</td>\n",
       "    </tr>\n",
       "    <tr>\n",
       "      <th>4</th>\n",
       "      <td>Изопачени лаги</td>\n",
       "      <td>Ана Хуанг</td>\n",
       "      <td>590.0</td>\n",
       "      <td>590.0</td>\n",
       "      <td>False</td>\n",
       "      <td>Романси</td>\n",
       "      <td>2025-05-02</td>\n",
       "    </tr>\n",
       "  </tbody>\n",
       "</table>\n",
       "</div>"
      ],
      "text/plain": [
       "                    Title        Author  Real Price  Sale Price  IsOnSale  \\\n",
       "0                Фаворити    Лејн Фарго       590.0       590.0     False   \n",
       "1                   Тунел      Ана Волц       400.0       400.0     False   \n",
       "2            Љубов во Рим    Сара Адамс       490.0       490.0     False   \n",
       "3  Шпанска љубовна измама   Елена Армас       590.0       590.0     False   \n",
       "4          Изопачени лаги     Ана Хуанг       590.0       590.0     False   \n",
       "\n",
       "  Category Retrieved At  \n",
       "0  Романси   2025-05-02  \n",
       "1  Романси   2025-05-02  \n",
       "2  Романси   2025-05-02  \n",
       "3  Романси   2025-05-02  \n",
       "4  Романси   2025-05-02  "
      ]
     },
     "execution_count": 299,
     "metadata": {},
     "output_type": "execute_result"
    }
   ],
   "source": [
    "df.head()"
   ]
  },
  {
   "cell_type": "code",
   "execution_count": 300,
   "id": "8c0e8180",
   "metadata": {},
   "outputs": [
    {
     "data": {
      "text/plain": [
       "Title              0\n",
       "Author          1591\n",
       "Real Price         2\n",
       "Sale Price         2\n",
       "IsOnSale           0\n",
       "Category           0\n",
       "Retrieved At       0\n",
       "dtype: int64"
      ]
     },
     "execution_count": 300,
     "metadata": {},
     "output_type": "execute_result"
    }
   ],
   "source": [
    "df.isnull().sum()"
   ]
  },
  {
   "cell_type": "code",
   "execution_count": 301,
   "id": "556a826f",
   "metadata": {},
   "outputs": [
    {
     "data": {
      "application/vnd.microsoft.datawrangler.viewer.v0+json": {
       "columns": [
        {
         "name": "index",
         "rawType": "int64",
         "type": "integer"
        },
        {
         "name": "Title",
         "rawType": "object",
         "type": "string"
        },
        {
         "name": "Author",
         "rawType": "object",
         "type": "unknown"
        },
        {
         "name": "Real Price",
         "rawType": "float64",
         "type": "float"
        },
        {
         "name": "Sale Price",
         "rawType": "float64",
         "type": "float"
        },
        {
         "name": "IsOnSale",
         "rawType": "bool",
         "type": "boolean"
        },
        {
         "name": "Category",
         "rawType": "object",
         "type": "string"
        },
        {
         "name": "Retrieved At",
         "rawType": "object",
         "type": "string"
        }
       ],
       "conversionMethod": "pd.DataFrame",
       "ref": "901b209c-fb04-47e4-8229-75bfde30fb77",
       "rows": [
        [
         "1142",
         "Азбучната куќа",
         null,
         null,
         null,
         "False",
         "Трилери",
         "2025-05-02"
        ],
        [
         "1851",
         "Коалата што не можеше да заспие",
         null,
         null,
         null,
         "False",
         "Детски книги",
         "2025-05-03"
        ]
       ],
       "shape": {
        "columns": 7,
        "rows": 2
       }
      },
      "text/html": [
       "<div>\n",
       "<style scoped>\n",
       "    .dataframe tbody tr th:only-of-type {\n",
       "        vertical-align: middle;\n",
       "    }\n",
       "\n",
       "    .dataframe tbody tr th {\n",
       "        vertical-align: top;\n",
       "    }\n",
       "\n",
       "    .dataframe thead th {\n",
       "        text-align: right;\n",
       "    }\n",
       "</style>\n",
       "<table border=\"1\" class=\"dataframe\">\n",
       "  <thead>\n",
       "    <tr style=\"text-align: right;\">\n",
       "      <th></th>\n",
       "      <th>Title</th>\n",
       "      <th>Author</th>\n",
       "      <th>Real Price</th>\n",
       "      <th>Sale Price</th>\n",
       "      <th>IsOnSale</th>\n",
       "      <th>Category</th>\n",
       "      <th>Retrieved At</th>\n",
       "    </tr>\n",
       "  </thead>\n",
       "  <tbody>\n",
       "    <tr>\n",
       "      <th>1142</th>\n",
       "      <td>Азбучната куќа</td>\n",
       "      <td>NaN</td>\n",
       "      <td>NaN</td>\n",
       "      <td>NaN</td>\n",
       "      <td>False</td>\n",
       "      <td>Трилери</td>\n",
       "      <td>2025-05-02</td>\n",
       "    </tr>\n",
       "    <tr>\n",
       "      <th>1851</th>\n",
       "      <td>Коалата што не можеше да заспие</td>\n",
       "      <td>NaN</td>\n",
       "      <td>NaN</td>\n",
       "      <td>NaN</td>\n",
       "      <td>False</td>\n",
       "      <td>Детски книги</td>\n",
       "      <td>2025-05-03</td>\n",
       "    </tr>\n",
       "  </tbody>\n",
       "</table>\n",
       "</div>"
      ],
      "text/plain": [
       "                                Title Author  Real Price  Sale Price  \\\n",
       "1142                   Азбучната куќа    NaN         NaN         NaN   \n",
       "1851  Коалата што не можеше да заспие    NaN         NaN         NaN   \n",
       "\n",
       "      IsOnSale      Category Retrieved At  \n",
       "1142     False       Трилери   2025-05-02  \n",
       "1851     False  Детски книги   2025-05-03  "
      ]
     },
     "execution_count": 301,
     "metadata": {},
     "output_type": "execute_result"
    }
   ],
   "source": [
    "missing_prices_df = df[df['Real Price'].isna() | df['Sale Price'].isna()]\n",
    "missing_prices_df.head(20)"
   ]
  },
  {
   "cell_type": "markdown",
   "id": "10bffc6e",
   "metadata": {},
   "source": [
    "### Missing values"
   ]
  },
  {
   "cell_type": "code",
   "execution_count": 302,
   "id": "59648e59",
   "metadata": {},
   "outputs": [],
   "source": [
    "# msno.heatmap(df)"
   ]
  },
  {
   "cell_type": "markdown",
   "id": "cab434f9",
   "metadata": {},
   "source": [
    "- The heatmap shows that the two columns have missing values in exactly the same rows.\n",
    "- If Real Price is NaN → Sale Price is also NaN.\n",
    "- If Sale Price is NaN → Real Price is also NaN.\n",
    "\n"
   ]
  },
  {
   "cell_type": "markdown",
   "id": "9603d76f",
   "metadata": {},
   "source": [
    "### Sale column\n",
    "- Make Sale a bool field"
   ]
  },
  {
   "cell_type": "code",
   "execution_count": 303,
   "id": "cd42a753",
   "metadata": {},
   "outputs": [],
   "source": [
    "# df[\"Sale\"] = df[\"Sale\"].astype(bool)"
   ]
  },
  {
   "cell_type": "code",
   "execution_count": 304,
   "id": "d267f624",
   "metadata": {},
   "outputs": [],
   "source": [
    "df = df.rename(columns={\"Sale\": \"IsOnSale\"})"
   ]
  },
  {
   "cell_type": "code",
   "execution_count": 305,
   "id": "f8027b4d",
   "metadata": {},
   "outputs": [],
   "source": [
    "df.to_csv(\"sakam_knigi.csv\", encoding='utf-8-sig', index=False)\n",
    "df = pd.read_csv(\"sakam_knigi.csv\", encoding='utf-8-sig')"
   ]
  },
  {
   "cell_type": "code",
   "execution_count": 306,
   "id": "03ba3b47",
   "metadata": {},
   "outputs": [
    {
     "data": {
      "application/vnd.microsoft.datawrangler.viewer.v0+json": {
       "columns": [
        {
         "name": "index",
         "rawType": "int64",
         "type": "integer"
        },
        {
         "name": "Title",
         "rawType": "object",
         "type": "string"
        },
        {
         "name": "Author",
         "rawType": "object",
         "type": "string"
        },
        {
         "name": "Real Price",
         "rawType": "float64",
         "type": "float"
        },
        {
         "name": "Sale Price",
         "rawType": "float64",
         "type": "float"
        },
        {
         "name": "IsOnSale",
         "rawType": "bool",
         "type": "boolean"
        },
        {
         "name": "Category",
         "rawType": "object",
         "type": "string"
        },
        {
         "name": "Retrieved At",
         "rawType": "object",
         "type": "string"
        }
       ],
       "conversionMethod": "pd.DataFrame",
       "ref": "abb0e1c6-4d98-407b-8636-9e1179f48704",
       "rows": [
        [
         "0",
         "Фаворити",
         " Лејн Фарго",
         "590.0",
         "590.0",
         "False",
         "Романси",
         "2025-05-02"
        ],
        [
         "1",
         "Тунел",
         " Ана Волц",
         "400.0",
         "400.0",
         "False",
         "Романси",
         "2025-05-02"
        ],
        [
         "2",
         "Љубов во Рим",
         " Сара Адамс",
         "490.0",
         "490.0",
         "False",
         "Романси",
         "2025-05-02"
        ],
        [
         "3",
         "Шпанска љубовна измама",
         " Елена Армас",
         "590.0",
         "590.0",
         "False",
         "Романси",
         "2025-05-02"
        ],
        [
         "4",
         "Изопачени лаги",
         " Ана Хуанг",
         "590.0",
         "590.0",
         "False",
         "Романси",
         "2025-05-02"
        ]
       ],
       "shape": {
        "columns": 7,
        "rows": 5
       }
      },
      "text/html": [
       "<div>\n",
       "<style scoped>\n",
       "    .dataframe tbody tr th:only-of-type {\n",
       "        vertical-align: middle;\n",
       "    }\n",
       "\n",
       "    .dataframe tbody tr th {\n",
       "        vertical-align: top;\n",
       "    }\n",
       "\n",
       "    .dataframe thead th {\n",
       "        text-align: right;\n",
       "    }\n",
       "</style>\n",
       "<table border=\"1\" class=\"dataframe\">\n",
       "  <thead>\n",
       "    <tr style=\"text-align: right;\">\n",
       "      <th></th>\n",
       "      <th>Title</th>\n",
       "      <th>Author</th>\n",
       "      <th>Real Price</th>\n",
       "      <th>Sale Price</th>\n",
       "      <th>IsOnSale</th>\n",
       "      <th>Category</th>\n",
       "      <th>Retrieved At</th>\n",
       "    </tr>\n",
       "  </thead>\n",
       "  <tbody>\n",
       "    <tr>\n",
       "      <th>0</th>\n",
       "      <td>Фаворити</td>\n",
       "      <td>Лејн Фарго</td>\n",
       "      <td>590.0</td>\n",
       "      <td>590.0</td>\n",
       "      <td>False</td>\n",
       "      <td>Романси</td>\n",
       "      <td>2025-05-02</td>\n",
       "    </tr>\n",
       "    <tr>\n",
       "      <th>1</th>\n",
       "      <td>Тунел</td>\n",
       "      <td>Ана Волц</td>\n",
       "      <td>400.0</td>\n",
       "      <td>400.0</td>\n",
       "      <td>False</td>\n",
       "      <td>Романси</td>\n",
       "      <td>2025-05-02</td>\n",
       "    </tr>\n",
       "    <tr>\n",
       "      <th>2</th>\n",
       "      <td>Љубов во Рим</td>\n",
       "      <td>Сара Адамс</td>\n",
       "      <td>490.0</td>\n",
       "      <td>490.0</td>\n",
       "      <td>False</td>\n",
       "      <td>Романси</td>\n",
       "      <td>2025-05-02</td>\n",
       "    </tr>\n",
       "    <tr>\n",
       "      <th>3</th>\n",
       "      <td>Шпанска љубовна измама</td>\n",
       "      <td>Елена Армас</td>\n",
       "      <td>590.0</td>\n",
       "      <td>590.0</td>\n",
       "      <td>False</td>\n",
       "      <td>Романси</td>\n",
       "      <td>2025-05-02</td>\n",
       "    </tr>\n",
       "    <tr>\n",
       "      <th>4</th>\n",
       "      <td>Изопачени лаги</td>\n",
       "      <td>Ана Хуанг</td>\n",
       "      <td>590.0</td>\n",
       "      <td>590.0</td>\n",
       "      <td>False</td>\n",
       "      <td>Романси</td>\n",
       "      <td>2025-05-02</td>\n",
       "    </tr>\n",
       "  </tbody>\n",
       "</table>\n",
       "</div>"
      ],
      "text/plain": [
       "                    Title        Author  Real Price  Sale Price  IsOnSale  \\\n",
       "0                Фаворити    Лејн Фарго       590.0       590.0     False   \n",
       "1                   Тунел      Ана Волц       400.0       400.0     False   \n",
       "2            Љубов во Рим    Сара Адамс       490.0       490.0     False   \n",
       "3  Шпанска љубовна измама   Елена Армас       590.0       590.0     False   \n",
       "4          Изопачени лаги     Ана Хуанг       590.0       590.0     False   \n",
       "\n",
       "  Category Retrieved At  \n",
       "0  Романси   2025-05-02  \n",
       "1  Романси   2025-05-02  \n",
       "2  Романси   2025-05-02  \n",
       "3  Романси   2025-05-02  \n",
       "4  Романси   2025-05-02  "
      ]
     },
     "execution_count": 306,
     "metadata": {},
     "output_type": "execute_result"
    }
   ],
   "source": [
    "df.head()"
   ]
  },
  {
   "cell_type": "markdown",
   "id": "210c263e",
   "metadata": {},
   "source": [
    "### Retrieved At Column\n",
    "- Convert Retrieved At to datetime"
   ]
  },
  {
   "cell_type": "code",
   "execution_count": 307,
   "id": "362237d0",
   "metadata": {},
   "outputs": [],
   "source": [
    "df['Retrieved At'] = pd.to_datetime(df['Retrieved At'])"
   ]
  },
  {
   "cell_type": "code",
   "execution_count": 308,
   "id": "bb6754e5",
   "metadata": {},
   "outputs": [],
   "source": [
    "df.to_csv(\"sakam_knigi.csv\", encoding='utf-8-sig', index=False)\n",
    "df = pd.read_csv(\"sakam_knigi.csv\", encoding='utf-8-sig')"
   ]
  },
  {
   "cell_type": "markdown",
   "id": "0bc9b3dd",
   "metadata": {},
   "source": [
    "### Fix\n",
    "-  When a book is not on sale, the Sale Price is equal to the Real Price --> Set the Sale Price to 0 to all rows where IsOnSale==False.Except for the rows where"
   ]
  },
  {
   "cell_type": "code",
   "execution_count": 309,
   "id": "497e5326",
   "metadata": {},
   "outputs": [
    {
     "data": {
      "text/plain": [
       "IsOnSale\n",
       "False    2150\n",
       "True       16\n",
       "Name: count, dtype: int64"
      ]
     },
     "execution_count": 309,
     "metadata": {},
     "output_type": "execute_result"
    }
   ],
   "source": [
    "df.IsOnSale.value_counts()"
   ]
  },
  {
   "cell_type": "code",
   "execution_count": 310,
   "id": "868b17bc",
   "metadata": {},
   "outputs": [],
   "source": [
    "exclude_indices = df[(df['IsOnSale'] == False) & (df['Sale Price'] != df['Real Price'])].index\n"
   ]
  },
  {
   "cell_type": "code",
   "execution_count": 311,
   "id": "b8f2ab08",
   "metadata": {},
   "outputs": [],
   "source": [
    "df.loc[(df['IsOnSale'] == False) & (~df.index.isin(exclude_indices)), 'Sale Price'] = 0"
   ]
  },
  {
   "cell_type": "code",
   "execution_count": 312,
   "id": "fef3cd88",
   "metadata": {},
   "outputs": [
    {
     "data": {
      "text/plain": [
       "Title              0\n",
       "Author          1591\n",
       "Real Price         2\n",
       "Sale Price         2\n",
       "IsOnSale           0\n",
       "Category           0\n",
       "Retrieved At       0\n",
       "dtype: int64"
      ]
     },
     "execution_count": 312,
     "metadata": {},
     "output_type": "execute_result"
    }
   ],
   "source": [
    "df.isnull().sum()"
   ]
  },
  {
   "cell_type": "markdown",
   "id": "537d7e2e",
   "metadata": {},
   "source": [
    "### Create Discount (%):\n",
    "- If IsOnSale is True, calculate discount info(discount percentage)"
   ]
  },
  {
   "cell_type": "code",
   "execution_count": 313,
   "id": "4f54f56a",
   "metadata": {},
   "outputs": [
    {
     "data": {
      "application/vnd.microsoft.datawrangler.viewer.v0+json": {
       "columns": [
        {
         "name": "index",
         "rawType": "int64",
         "type": "integer"
        },
        {
         "name": "Title",
         "rawType": "object",
         "type": "string"
        },
        {
         "name": "Author",
         "rawType": "object",
         "type": "unknown"
        },
        {
         "name": "Real Price",
         "rawType": "float64",
         "type": "float"
        },
        {
         "name": "Sale Price",
         "rawType": "float64",
         "type": "float"
        },
        {
         "name": "IsOnSale",
         "rawType": "bool",
         "type": "boolean"
        },
        {
         "name": "Category",
         "rawType": "object",
         "type": "string"
        },
        {
         "name": "Retrieved At",
         "rawType": "object",
         "type": "string"
        }
       ],
       "conversionMethod": "pd.DataFrame",
       "ref": "9325c1b9-74ff-4c55-aeba-ccdf08d292ab",
       "rows": [
        [
         "0",
         "Фаворити",
         " Лејн Фарго",
         "590.0",
         "0.0",
         "False",
         "Романси",
         "2025-05-02"
        ],
        [
         "1",
         "Тунел",
         " Ана Волц",
         "400.0",
         "0.0",
         "False",
         "Романси",
         "2025-05-02"
        ],
        [
         "2",
         "Љубов во Рим",
         " Сара Адамс",
         "490.0",
         "0.0",
         "False",
         "Романси",
         "2025-05-02"
        ],
        [
         "3",
         "Шпанска љубовна измама",
         " Елена Армас",
         "590.0",
         "0.0",
         "False",
         "Романси",
         "2025-05-02"
        ],
        [
         "4",
         "Изопачени лаги",
         " Ана Хуанг",
         "590.0",
         "0.0",
         "False",
         "Романси",
         "2025-05-02"
        ],
        [
         "5",
         "Убавината на скршените нешта",
         " Ивана Спасев",
         "390.0",
         "0.0",
         "False",
         "Романси",
         "2025-05-02"
        ],
        [
         "6",
         "Твој Толак",
         " Торе Ренберг",
         "370.0",
         "0.0",
         "False",
         "Романси",
         "2025-05-02"
        ],
        [
         "7",
         "За нас (Браќата Бејли #2)",
         " Клер Кингсли",
         "550.0",
         "0.0",
         "False",
         "Романси",
         "2025-05-02"
        ],
        [
         "8",
         "Завеани за Божиќ",
         " Сара Морган",
         "490.0",
         "0.0",
         "False",
         "Романси",
         "2025-05-02"
        ],
        [
         "9",
         "Божиќниот клуб на читатели",
         " Сара Морган",
         "490.0",
         "0.0",
         "False",
         "Романси",
         "2025-05-02"
        ],
        [
         "10",
         "Бессони во Менхетен",
         " Вај Киленд",
         "450.0",
         "0.0",
         "False",
         "Романси",
         "2025-05-02"
        ],
        [
         "11",
         "Како намќорот го спаси Божиќ",
         " Клер Кингсли",
         "470.0",
         "0.0",
         "False",
         "Романси",
         "2025-05-02"
        ],
        [
         "12",
         "За тебе (Браќата Бејли #1)",
         " Клер Кингсли",
         "390.0",
         "0.0",
         "False",
         "Романси",
         "2025-05-02"
        ],
        [
         "13",
         "Љубов на втор поглед",
         " Меган Квин",
         "590.0",
         "0.0",
         "False",
         "Романси",
         "2025-05-02"
        ],
        [
         "14",
         "ВРАЌАЊЕ",
         " Али Мартинез",
         "450.0",
         "0.0",
         "False",
         "Романси",
         "2025-05-02"
        ],
        [
         "15",
         "Невидлива убавина",
         " Ејми Хармон",
         "450.0",
         "0.0",
         "False",
         "Романси",
         "2025-05-02"
        ],
        [
         "16",
         "Деновите кога најмногу те љубев",
         " Ејми Неф",
         "490.0",
         "0.0",
         "False",
         "Романси",
         "2025-05-02"
        ],
        [
         "17",
         "Првата вечерна ѕвезда",
         " Сузан Е. Филипс",
         "440.0",
         "0.0",
         "False",
         "Романси",
         "2025-05-02"
        ],
        [
         "18",
         "Изопачена омраза",
         " Ана Хуанг",
         "500.0",
         "0.0",
         "False",
         "Романси",
         "2025-05-02"
        ],
        [
         "19",
         "На господин Филип, со љубов (Бриџертон #5)",
         " Џулија Квин",
         "520.0",
         "0.0",
         "False",
         "Романси",
         "2025-05-02"
        ],
        [
         "20",
         "Венчани до изгрејсонце (Хатавеј #4)",
         " Лиса Клејпас",
         "470.0",
         "349.0",
         "True",
         "Романси",
         "2025-05-02"
        ],
        [
         "21",
         "Кафеноока (Тревис #4)",
         " Лиса Клејпас",
         "450.0",
         "0.0",
         "False",
         "Романси",
         "2025-05-02"
        ],
        [
         "22",
         "Со секој здив",
         " Николас Спаркс",
         "450.0",
         "0.0",
         "False",
         "Романси",
         "2025-05-02"
        ],
        [
         "23",
         "Договор за љубов (Dreamland Billionaires #2)",
         " Лорен Ашер",
         "490.0",
         "0.0",
         "False",
         "Романси",
         "2025-05-02"
        ],
        [
         "24",
         "Љубов во Тел Авив",
         " Сандра Малетски",
         "370.0",
         "0.0",
         "False",
         "Романси",
         "2025-05-02"
        ],
        [
         "25",
         "Романса со господин Бриџертон (Бриџертон #4)",
         " Џулија Квин",
         "520.0",
         "0.0",
         "False",
         "Романси",
         "2025-05-02"
        ],
        [
         "26",
         "Беспрекорно",
         " Елси Силвер",
         "520.0",
         "0.0",
         "False",
         "Романси",
         "2025-05-02"
        ],
        [
         "27",
         "Безобразни писма",
         " Вај Киленд",
         "450.0",
         "0.0",
         "False",
         "Романси",
         "2025-05-02"
        ],
        [
         "28",
         "Шепотот на судбината",
         " Ана Антовска",
         "390.0",
         "0.0",
         "False",
         "Романси",
         "2025-05-02"
        ],
        [
         "29",
         "Скрши го мразот",
         " Хана Грејс",
         "590.0",
         "0.0",
         "False",
         "Романси",
         "2025-05-02"
        ],
        [
         "30",
         "Ривалите",
         " Вај Киленд",
         "450.0",
         "0.0",
         "False",
         "Романси",
         "2025-05-02"
        ],
        [
         "31",
         "Види ме",
         " Николас Спаркс",
         "590.0",
         "0.0",
         "False",
         "Романси",
         "2025-05-02"
        ],
        [
         "32",
         "Свадба во декември",
         " Сара Морган",
         "490.0",
         "0.0",
         "False",
         "Романси",
         "2025-05-02"
        ],
        [
         "33",
         "КУМ",
         " Саша Богдан",
         "300.0",
         "0.0",
         "False",
         "Романси",
         "2025-05-02"
        ],
        [
         "34",
         "Плејбој",
         " Вај Киленд",
         "450.0",
         "0.0",
         "False",
         "Романси",
         "2025-05-02"
        ],
        [
         "35",
         "Изопачени игри",
         " Ана Хуанг",
         "470.0",
         "0.0",
         "False",
         "Романси",
         "2025-05-02"
        ],
        [
         "36",
         "Сите недовршени нешта",
         " Ребека Јарос",
         "590.0",
         "0.0",
         "False",
         "Романси",
         "2025-05-02"
        ],
        [
         "37",
         "Последната желба",
         " Николас Спаркс",
         "550.0",
         "0.0",
         "False",
         "Романси",
         "2025-05-02"
        ],
        [
         "38",
         "Длабоко под површината",
         " Памела Клер",
         "420.0",
         "0.0",
         "False",
         "Романси",
         "2025-05-02"
        ],
        [
         "39",
         "Фустанот и Светец",
         " Колин Хувер",
         "350.0",
         "0.0",
         "False",
         "Романси",
         "2025-05-02"
        ],
        [
         "40",
         "Последното писмо",
         " Ребека Јарос",
         "590.0",
         "0.0",
         "False",
         "Романси",
         "2025-05-02"
        ],
        [
         "41",
         "Статистичка веројатност за љубов на прв поглед",
         " Џенифер И. Смит",
         "390.0",
         "0.0",
         "False",
         "Романси",
         "2025-05-02"
        ],
        [
         "42",
         "Танцувај со мене",
         " Сузан Е. Филипс",
         "520.0",
         "0.0",
         "False",
         "Романси",
         "2025-05-02"
        ],
        [
         "43",
         "Домашен фронт",
         " Кристин Хана",
         "550.0",
         "0.0",
         "False",
         "Романси",
         "2025-05-02"
        ],
        [
         "44",
         "ОСЛОБОДУВАЊЕ",
         " Али Мартинез",
         "450.0",
         "0.0",
         "False",
         "Романси",
         "2025-05-02"
        ],
        [
         "45",
         "Прекрасна грешка",
         " Вај Киленд",
         "450.0",
         "0.0",
         "False",
         "Романси",
         "2025-05-02"
        ],
        [
         "46",
         "ИГРАЧОТ",
         " Вај Киленд",
         "450.0",
         "0.0",
         "False",
         "Романси",
         "2025-05-02"
        ],
        [
         "47",
         "Изопачена љубов",
         " Ана Хуанг",
         "450.0",
         "0.0",
         "False",
         "Романси",
         "2025-05-02"
        ],
        [
         "48",
         "ПОГОДОКОТ #3",
         " Ел Кенеди",
         "450.0",
         "0.0",
         "False",
         "Романси",
         "2025-05-02"
        ],
        [
         "49",
         "Најслаткиот филџан кафе",
         " Оља Петрушевска – Томева",
         "320.0",
         "0.0",
         "False",
         "Романси",
         "2025-05-02"
        ]
       ],
       "shape": {
        "columns": 7,
        "rows": 2166
       }
      },
      "text/html": [
       "<div>\n",
       "<style scoped>\n",
       "    .dataframe tbody tr th:only-of-type {\n",
       "        vertical-align: middle;\n",
       "    }\n",
       "\n",
       "    .dataframe tbody tr th {\n",
       "        vertical-align: top;\n",
       "    }\n",
       "\n",
       "    .dataframe thead th {\n",
       "        text-align: right;\n",
       "    }\n",
       "</style>\n",
       "<table border=\"1\" class=\"dataframe\">\n",
       "  <thead>\n",
       "    <tr style=\"text-align: right;\">\n",
       "      <th></th>\n",
       "      <th>Title</th>\n",
       "      <th>Author</th>\n",
       "      <th>Real Price</th>\n",
       "      <th>Sale Price</th>\n",
       "      <th>IsOnSale</th>\n",
       "      <th>Category</th>\n",
       "      <th>Retrieved At</th>\n",
       "    </tr>\n",
       "  </thead>\n",
       "  <tbody>\n",
       "    <tr>\n",
       "      <th>0</th>\n",
       "      <td>Фаворити</td>\n",
       "      <td>Лејн Фарго</td>\n",
       "      <td>590.0</td>\n",
       "      <td>0.0</td>\n",
       "      <td>False</td>\n",
       "      <td>Романси</td>\n",
       "      <td>2025-05-02</td>\n",
       "    </tr>\n",
       "    <tr>\n",
       "      <th>1</th>\n",
       "      <td>Тунел</td>\n",
       "      <td>Ана Волц</td>\n",
       "      <td>400.0</td>\n",
       "      <td>0.0</td>\n",
       "      <td>False</td>\n",
       "      <td>Романси</td>\n",
       "      <td>2025-05-02</td>\n",
       "    </tr>\n",
       "    <tr>\n",
       "      <th>2</th>\n",
       "      <td>Љубов во Рим</td>\n",
       "      <td>Сара Адамс</td>\n",
       "      <td>490.0</td>\n",
       "      <td>0.0</td>\n",
       "      <td>False</td>\n",
       "      <td>Романси</td>\n",
       "      <td>2025-05-02</td>\n",
       "    </tr>\n",
       "    <tr>\n",
       "      <th>3</th>\n",
       "      <td>Шпанска љубовна измама</td>\n",
       "      <td>Елена Армас</td>\n",
       "      <td>590.0</td>\n",
       "      <td>0.0</td>\n",
       "      <td>False</td>\n",
       "      <td>Романси</td>\n",
       "      <td>2025-05-02</td>\n",
       "    </tr>\n",
       "    <tr>\n",
       "      <th>4</th>\n",
       "      <td>Изопачени лаги</td>\n",
       "      <td>Ана Хуанг</td>\n",
       "      <td>590.0</td>\n",
       "      <td>0.0</td>\n",
       "      <td>False</td>\n",
       "      <td>Романси</td>\n",
       "      <td>2025-05-02</td>\n",
       "    </tr>\n",
       "    <tr>\n",
       "      <th>...</th>\n",
       "      <td>...</td>\n",
       "      <td>...</td>\n",
       "      <td>...</td>\n",
       "      <td>...</td>\n",
       "      <td>...</td>\n",
       "      <td>...</td>\n",
       "      <td>...</td>\n",
       "    </tr>\n",
       "    <tr>\n",
       "      <th>2161</th>\n",
       "      <td>Аурис</td>\n",
       "      <td>Винсент Клиш</td>\n",
       "      <td>450.0</td>\n",
       "      <td>0.0</td>\n",
       "      <td>False</td>\n",
       "      <td>Трилери</td>\n",
       "      <td>2025-05-02</td>\n",
       "    </tr>\n",
       "    <tr>\n",
       "      <th>2162</th>\n",
       "      <td>Кралицата Шарлота</td>\n",
       "      <td>Џулија Квин</td>\n",
       "      <td>520.0</td>\n",
       "      <td>0.0</td>\n",
       "      <td>False</td>\n",
       "      <td>Драми</td>\n",
       "      <td>2025-05-02</td>\n",
       "    </tr>\n",
       "    <tr>\n",
       "      <th>2163</th>\n",
       "      <td>Кралицата Шарлота</td>\n",
       "      <td>Шонда Рајмс</td>\n",
       "      <td>520.0</td>\n",
       "      <td>0.0</td>\n",
       "      <td>False</td>\n",
       "      <td>Драми</td>\n",
       "      <td>2025-05-02</td>\n",
       "    </tr>\n",
       "    <tr>\n",
       "      <th>2164</th>\n",
       "      <td>Аурис</td>\n",
       "      <td>Себастијан Фицек</td>\n",
       "      <td>450.0</td>\n",
       "      <td>0.0</td>\n",
       "      <td>False</td>\n",
       "      <td>Драми</td>\n",
       "      <td>2025-05-02</td>\n",
       "    </tr>\n",
       "    <tr>\n",
       "      <th>2165</th>\n",
       "      <td>Аурис</td>\n",
       "      <td>Винсент Клиш</td>\n",
       "      <td>450.0</td>\n",
       "      <td>0.0</td>\n",
       "      <td>False</td>\n",
       "      <td>Драми</td>\n",
       "      <td>2025-05-02</td>\n",
       "    </tr>\n",
       "  </tbody>\n",
       "</table>\n",
       "<p>2166 rows × 7 columns</p>\n",
       "</div>"
      ],
      "text/plain": [
       "                       Title             Author  Real Price  Sale Price  \\\n",
       "0                   Фаворити         Лејн Фарго       590.0         0.0   \n",
       "1                      Тунел           Ана Волц       400.0         0.0   \n",
       "2               Љубов во Рим         Сара Адамс       490.0         0.0   \n",
       "3     Шпанска љубовна измама        Елена Армас       590.0         0.0   \n",
       "4             Изопачени лаги          Ана Хуанг       590.0         0.0   \n",
       "...                      ...                ...         ...         ...   \n",
       "2161                   Аурис       Винсент Клиш       450.0         0.0   \n",
       "2162       Кралицата Шарлота        Џулија Квин       520.0         0.0   \n",
       "2163       Кралицата Шарлота        Шонда Рајмс       520.0         0.0   \n",
       "2164                   Аурис   Себастијан Фицек       450.0         0.0   \n",
       "2165                   Аурис       Винсент Клиш       450.0         0.0   \n",
       "\n",
       "      IsOnSale Category Retrieved At  \n",
       "0        False  Романси   2025-05-02  \n",
       "1        False  Романси   2025-05-02  \n",
       "2        False  Романси   2025-05-02  \n",
       "3        False  Романси   2025-05-02  \n",
       "4        False  Романси   2025-05-02  \n",
       "...        ...      ...          ...  \n",
       "2161     False  Трилери   2025-05-02  \n",
       "2162     False    Драми   2025-05-02  \n",
       "2163     False    Драми   2025-05-02  \n",
       "2164     False    Драми   2025-05-02  \n",
       "2165     False    Драми   2025-05-02  \n",
       "\n",
       "[2166 rows x 7 columns]"
      ]
     },
     "execution_count": 313,
     "metadata": {},
     "output_type": "execute_result"
    }
   ],
   "source": [
    "df"
   ]
  },
  {
   "cell_type": "code",
   "execution_count": null,
   "id": "2fb70d75",
   "metadata": {},
   "outputs": [],
   "source": []
  }
 ],
 "metadata": {
  "kernelspec": {
   "display_name": ".venv",
   "language": "python",
   "name": "python3"
  },
  "language_info": {
   "codemirror_mode": {
    "name": "ipython",
    "version": 3
   },
   "file_extension": ".py",
   "mimetype": "text/x-python",
   "name": "python",
   "nbconvert_exporter": "python",
   "pygments_lexer": "ipython3",
   "version": "3.13.2"
  }
 },
 "nbformat": 4,
 "nbformat_minor": 5
}
