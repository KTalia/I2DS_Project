{
 "cells": [
  {
   "cell_type": "code",
   "execution_count": 131,
   "id": "6b933032",
   "metadata": {},
   "outputs": [],
   "source": [
    "import pandas as pd\n",
    "import missingno as msno"
   ]
  },
  {
   "cell_type": "code",
   "execution_count": 132,
   "id": "eeea6f84",
   "metadata": {},
   "outputs": [],
   "source": [
    "df = pd.read_csv(\"sakam_knigi_books.csv\", encoding='utf-8-sig')"
   ]
  },
  {
   "cell_type": "code",
   "execution_count": 133,
   "id": "b5d360aa",
   "metadata": {},
   "outputs": [
    {
     "data": {
      "text/plain": [
       "Title              0\n",
       "Author          1614\n",
       "Real Price         0\n",
       "Sale Price         0\n",
       "Sale               0\n",
       "Category           0\n",
       "Retrieved At       0\n",
       "dtype: int64"
      ]
     },
     "execution_count": 133,
     "metadata": {},
     "output_type": "execute_result"
    }
   ],
   "source": [
    "df.isnull().sum()"
   ]
  },
  {
   "cell_type": "markdown",
   "id": "7cb6fa7f",
   "metadata": {},
   "source": [
    "### Clean Author Column"
   ]
  },
  {
   "cell_type": "code",
   "execution_count": 134,
   "id": "8c2407f5",
   "metadata": {},
   "outputs": [],
   "source": [
    "df['Author'] = df['Author'].str.replace(\"од:\", \"\")"
   ]
  },
  {
   "cell_type": "markdown",
   "id": "b1c8bfb2",
   "metadata": {},
   "source": [
    "### Clean Real Price and Sale Price Columns"
   ]
  },
  {
   "cell_type": "code",
   "execution_count": 135,
   "id": "a3719012",
   "metadata": {},
   "outputs": [],
   "source": [
    "# df[\"Real Price\"] = df[\"Real Price\"].str.replace(\" ден\", \"\").str.strip()\n",
    "# df[\"Real Price\"] = pd.to_numeric(df[\"Real Price\"], errors=\"coerce\")"
   ]
  },
  {
   "cell_type": "code",
   "execution_count": 136,
   "id": "470f17fc",
   "metadata": {},
   "outputs": [],
   "source": [
    "# df[\"Sale Price\"] = df[\"Sale Price\"].str.replace(\" ден\", \"\").str.strip()\n",
    "# df[\"Sale Price\"] = pd.to_numeric(df[\"Sale Price\"], errors=\"coerce\")"
   ]
  },
  {
   "cell_type": "code",
   "execution_count": 137,
   "id": "e59b7a8b",
   "metadata": {},
   "outputs": [],
   "source": [
    "df.to_csv(\"sakam_knigi_books.csv\", encoding='utf-8-sig', index=False)\n",
    "df = pd.read_csv(\"sakam_knigi_books.csv\", encoding='utf-8-sig')"
   ]
  },
  {
   "cell_type": "code",
   "execution_count": 138,
   "id": "72d65fcb",
   "metadata": {},
   "outputs": [
    {
     "data": {
      "text/plain": [
       "Title              0\n",
       "Author          1614\n",
       "Real Price         0\n",
       "Sale Price         0\n",
       "Sale               0\n",
       "Category           0\n",
       "Retrieved At       0\n",
       "dtype: int64"
      ]
     },
     "execution_count": 138,
     "metadata": {},
     "output_type": "execute_result"
    }
   ],
   "source": [
    "df.isnull().sum()"
   ]
  },
  {
   "cell_type": "code",
   "execution_count": 139,
   "id": "389f2c2d",
   "metadata": {},
   "outputs": [
    {
     "data": {
      "text/plain": [
       "<Axes: >"
      ]
     },
     "execution_count": 139,
     "metadata": {},
     "output_type": "execute_result"
    },
    {
     "data": {
      "image/png": "[encoded data removed]",
      "text/plain": [
       "<Figure size 2000x1200 with 2 Axes>"
      ]
     },
     "metadata": {},
     "output_type": "display_data"
    }
   ],
   "source": [
    "msno.heatmap(df)"
   ]
  },
  {
   "cell_type": "code",
   "execution_count": 140,
   "id": "92fee97e",
   "metadata": {},
   "outputs": [
    {
     "data": {
      "application/vnd.microsoft.datawrangler.viewer.v0+json": {
       "columns": [
        {
         "name": "index",
         "rawType": "int64",
         "type": "integer"
        },
        {
         "name": "Title",
         "rawType": "object",
         "type": "string"
        },
        {
         "name": "Author",
         "rawType": "object",
         "type": "string"
        },
        {
         "name": "Real Price",
         "rawType": "float64",
         "type": "float"
        },
        {
         "name": "Sale Price",
         "rawType": "float64",
         "type": "float"
        },
        {
         "name": "Sale",
         "rawType": "int64",
         "type": "integer"
        },
        {
         "name": "Category",
         "rawType": "object",
         "type": "string"
        },
        {
         "name": "Retrieved At",
         "rawType": "object",
         "type": "string"
        }
       ],
       "conversionMethod": "pd.DataFrame",
       "ref": "ac18cccd-e121-459e-963f-c29e69008da1",
       "rows": [],
       "shape": {
        "columns": 7,
        "rows": 0
       }
      },
      "text/html": [
       "<div>\n",
       "<style scoped>\n",
       "    .dataframe tbody tr th:only-of-type {\n",
       "        vertical-align: middle;\n",
       "    }\n",
       "\n",
       "    .dataframe tbody tr th {\n",
       "        vertical-align: top;\n",
       "    }\n",
       "\n",
       "    .dataframe thead th {\n",
       "        text-align: right;\n",
       "    }\n",
       "</style>\n",
       "<table border=\"1\" class=\"dataframe\">\n",
       "  <thead>\n",
       "    <tr style=\"text-align: right;\">\n",
       "      <th></th>\n",
       "      <th>Title</th>\n",
       "      <th>Author</th>\n",
       "      <th>Real Price</th>\n",
       "      <th>Sale Price</th>\n",
       "      <th>Sale</th>\n",
       "      <th>Category</th>\n",
       "      <th>Retrieved At</th>\n",
       "    </tr>\n",
       "  </thead>\n",
       "  <tbody>\n",
       "  </tbody>\n",
       "</table>\n",
       "</div>"
      ],
      "text/plain": [
       "Empty DataFrame\n",
       "Columns: [Title, Author, Real Price, Sale Price, Sale, Category, Retrieved At]\n",
       "Index: []"
      ]
     },
     "execution_count": 140,
     "metadata": {},
     "output_type": "execute_result"
    }
   ],
   "source": [
    "df[df['Real Price'].isnull()].head(15)"
   ]
  },
  {
   "cell_type": "code",
   "execution_count": 141,
   "id": "6eb1f13b",
   "metadata": {},
   "outputs": [],
   "source": [
    "# -1 where the Real Price and Sale Price is missing\n",
    "df['Real Price'] = df['Real Price'].fillna(-1)\n",
    "df['Sale Price'] = df['Sale Price'].fillna(-1)"
   ]
  },
  {
   "cell_type": "code",
   "execution_count": 142,
   "id": "1049541a",
   "metadata": {},
   "outputs": [
    {
     "data": {
      "text/plain": [
       "Title              0\n",
       "Author          1614\n",
       "Real Price         0\n",
       "Sale Price         0\n",
       "Sale               0\n",
       "Category           0\n",
       "Retrieved At       0\n",
       "dtype: int64"
      ]
     },
     "execution_count": 142,
     "metadata": {},
     "output_type": "execute_result"
    }
   ],
   "source": [
    "df.isnull().sum()"
   ]
  },
  {
   "cell_type": "markdown",
   "id": "3c68b806",
   "metadata": {},
   "source": [
    "### Duplicates"
   ]
  },
  {
   "cell_type": "markdown",
   "id": "8c279fc1",
   "metadata": {},
   "source": [
    "10 entries are completely identical. We can merge, keep only one"
   ]
  },
  {
   "cell_type": "code",
   "execution_count": 143,
   "id": "28c83cfe",
   "metadata": {},
   "outputs": [
    {
     "name": "stdout",
     "output_type": "stream",
     "text": [
      "Length of duplicates:  0\n"
     ]
    },
    {
     "data": {
      "application/vnd.microsoft.datawrangler.viewer.v0+json": {
       "columns": [
        {
         "name": "index",
         "rawType": "int64",
         "type": "integer"
        },
        {
         "name": "Title",
         "rawType": "object",
         "type": "string"
        },
        {
         "name": "Author",
         "rawType": "object",
         "type": "string"
        },
        {
         "name": "Real Price",
         "rawType": "float64",
         "type": "float"
        },
        {
         "name": "Sale Price",
         "rawType": "float64",
         "type": "float"
        },
        {
         "name": "Sale",
         "rawType": "int64",
         "type": "integer"
        },
        {
         "name": "Category",
         "rawType": "object",
         "type": "string"
        },
        {
         "name": "Retrieved At",
         "rawType": "object",
         "type": "string"
        }
       ],
       "conversionMethod": "pd.DataFrame",
       "ref": "21318a4e-930e-488a-9ca4-7c71e635970d",
       "rows": [],
       "shape": {
        "columns": 7,
        "rows": 0
       }
      },
      "text/html": [
       "<div>\n",
       "<style scoped>\n",
       "    .dataframe tbody tr th:only-of-type {\n",
       "        vertical-align: middle;\n",
       "    }\n",
       "\n",
       "    .dataframe tbody tr th {\n",
       "        vertical-align: top;\n",
       "    }\n",
       "\n",
       "    .dataframe thead th {\n",
       "        text-align: right;\n",
       "    }\n",
       "</style>\n",
       "<table border=\"1\" class=\"dataframe\">\n",
       "  <thead>\n",
       "    <tr style=\"text-align: right;\">\n",
       "      <th></th>\n",
       "      <th>Title</th>\n",
       "      <th>Author</th>\n",
       "      <th>Real Price</th>\n",
       "      <th>Sale Price</th>\n",
       "      <th>Sale</th>\n",
       "      <th>Category</th>\n",
       "      <th>Retrieved At</th>\n",
       "    </tr>\n",
       "  </thead>\n",
       "  <tbody>\n",
       "  </tbody>\n",
       "</table>\n",
       "</div>"
      ],
      "text/plain": [
       "Empty DataFrame\n",
       "Columns: [Title, Author, Real Price, Sale Price, Sale, Category, Retrieved At]\n",
       "Index: []"
      ]
     },
     "execution_count": 143,
     "metadata": {},
     "output_type": "execute_result"
    }
   ],
   "source": [
    "duplicates = df[df.duplicated(keep=False)]\n",
    "duplicates = duplicates.sort_values(by=['Title', 'Author'])\n",
    "print(\"Length of duplicates: \", len(duplicates))\n",
    "duplicates.head(20)"
   ]
  },
  {
   "cell_type": "code",
   "execution_count": 144,
   "id": "97be7039",
   "metadata": {},
   "outputs": [
    {
     "name": "stdout",
     "output_type": "stream",
     "text": [
      "Original: 2164\n",
      "After drop_duplicates: 2164\n",
      "Duplicates removed: 0\n"
     ]
    }
   ],
   "source": [
    "print(\"Original:\", len(df))\n",
    "df = df.drop_duplicates()\n",
    "print(\"After drop_duplicates:\", len(df))\n",
    "print(\"Duplicates removed:\", len(df) - len(df))"
   ]
  },
  {
   "cell_type": "code",
   "execution_count": 145,
   "id": "5f31711f",
   "metadata": {},
   "outputs": [],
   "source": [
    "df.to_csv(\"sakam_knigi_books.csv\", encoding='utf-8-sig', index=False)\n",
    "df = pd.read_csv(\"sakam_knigi_books.csv\", encoding='utf-8-sig')"
   ]
  },
  {
   "cell_type": "markdown",
   "id": "7f3f4c2f",
   "metadata": {},
   "source": [
    "### Find rows with duplicate title"
   ]
  },
  {
   "cell_type": "code",
   "execution_count": null,
   "id": "b87d28b8",
   "metadata": {},
   "outputs": [],
   "source": []
  },
  {
   "cell_type": "markdown",
   "id": "923e799e",
   "metadata": {},
   "source": [
    "## Author missing values fix"
   ]
  },
  {
   "cell_type": "markdown",
   "id": "6112e5d5",
   "metadata": {},
   "source": [
    "- All 7 Harry Poter books have a missing value in the Author field. Replace all with  'Џ.К. Роулинг'"
   ]
  },
  {
   "cell_type": "code",
   "execution_count": null,
   "id": "e2d071dc",
   "metadata": {},
   "outputs": [],
   "source": [
    "harry_potter_rows = df[df['Title'].str.contains('Хари Потер', case=False, na=False)]\n",
    "harry_potter_rows"
   ]
  },
  {
   "cell_type": "code",
   "execution_count": null,
   "id": "8a2f6f10",
   "metadata": {},
   "outputs": [],
   "source": [
    "df.loc[df['Title'].str.contains('Хари Потер', case=False, na=False), 'Author'] = 'Џ.К. Роулинг'\n"
   ]
  },
  {
   "cell_type": "markdown",
   "id": "a65b05a3",
   "metadata": {},
   "source": [
    "- There is an issue in some entries. The title contains \"- author_name\". And the author name field is null. Find and fix:"
   ]
  },
  {
   "cell_type": "code",
   "execution_count": null,
   "id": "23631160",
   "metadata": {},
   "outputs": [],
   "source": [
    "authors_fix =df[df['Title'].str.contains(\"-\", case=False) | df['Title'].str.contains(\"–\", case=False)]\n",
    "authors_fix.head()"
   ]
  },
  {
   "cell_type": "code",
   "execution_count": null,
   "id": "49e105f3",
   "metadata": {},
   "outputs": [],
   "source": [
    "updates = {\n",
    "    770: {'Title': 'Подарокот', 'Author': 'Едит Егер'},\n",
    "    521: {'Title': 'Избрани песни', 'Author': 'Ана Ахматова'},\n",
    "    843: {'Title': 'Херој', 'Author': 'Р.Бирн'},\n",
    "    976: {'Title': 'ИСТОРИЈА НА РЕЛИГИИТЕ', 'Author': 'Александар Мењ'}\n",
    "}\n",
    "\n",
    "for idx, cols in updates.items():\n",
    "    for col_name, new_value in cols.items():\n",
    "        df.loc[idx, col_name] = new_value"
   ]
  },
  {
   "cell_type": "code",
   "execution_count": null,
   "id": "aa217137",
   "metadata": {},
   "outputs": [],
   "source": []
  }
 ],
 "metadata": {
  "kernelspec": {
   "display_name": ".venv",
   "language": "python",
   "name": "python3"
  },
  "language_info": {
   "codemirror_mode": {
    "name": "ipython",
    "version": 3
   },
   "file_extension": ".py",
   "mimetype": "text/x-python",
   "name": "python",
   "nbconvert_exporter": "python",
   "pygments_lexer": "ipython3",
   "version": "3.13.2"
  }
 },
 "nbformat": 4,
 "nbformat_minor": 5
}
