{
 "cells": [
  {
   "cell_type": "code",
   "execution_count": 1,
   "id": "6b933032",
   "metadata": {},
   "outputs": [],
   "source": [
    "import pandas as pd"
   ]
  },
  {
   "cell_type": "code",
   "execution_count": 4,
   "id": "eeea6f84",
   "metadata": {},
   "outputs": [],
   "source": [
    "df = pd.read_csv(\"sakam_knigi_books.csv\")"
   ]
  },
  {
   "cell_type": "code",
   "execution_count": 5,
   "id": "9de6a595",
   "metadata": {},
   "outputs": [
    {
     "data": {
      "application/vnd.microsoft.datawrangler.viewer.v0+json": {
       "columns": [
        {
         "name": "index",
         "rawType": "int64",
         "type": "integer"
        },
        {
         "name": "Title",
         "rawType": "object",
         "type": "string"
        },
        {
         "name": "Author",
         "rawType": "object",
         "type": "string"
        },
        {
         "name": "Real Price",
         "rawType": "object",
         "type": "string"
        },
        {
         "name": "Sale Price",
         "rawType": "object",
         "type": "string"
        },
        {
         "name": "Sale",
         "rawType": "int64",
         "type": "integer"
        },
        {
         "name": "Category",
         "rawType": "object",
         "type": "string"
        }
       ],
       "conversionMethod": "pd.DataFrame",
       "ref": "114f4269-d541-40d4-b06a-0b40bc2f09f5",
       "rows": [
        [
         "0",
         "Фаворити",
         "од: Лејн Фарго",
         "590 ден",
         "590 ден",
         "0",
         "Романси"
        ],
        [
         "1",
         "Тунел",
         "од: Ана Волц",
         "400 ден",
         "400 ден",
         "0",
         "Романси"
        ],
        [
         "2",
         "Љубов во Рим",
         "од: Сара Адамс",
         "490 ден",
         "490 ден",
         "0",
         "Романси"
        ],
        [
         "3",
         "Шпанска љубовна измама",
         "од: Елена Армас",
         "590 ден",
         "590 ден",
         "0",
         "Романси"
        ],
        [
         "4",
         "Изопачени лаги",
         "од: Ана Хуанг",
         "590 ден",
         "590 ден",
         "0",
         "Романси"
        ]
       ],
       "shape": {
        "columns": 6,
        "rows": 5
       }
      },
      "text/html": [
       "<div>\n",
       "<style scoped>\n",
       "    .dataframe tbody tr th:only-of-type {\n",
       "        vertical-align: middle;\n",
       "    }\n",
       "\n",
       "    .dataframe tbody tr th {\n",
       "        vertical-align: top;\n",
       "    }\n",
       "\n",
       "    .dataframe thead th {\n",
       "        text-align: right;\n",
       "    }\n",
       "</style>\n",
       "<table border=\"1\" class=\"dataframe\">\n",
       "  <thead>\n",
       "    <tr style=\"text-align: right;\">\n",
       "      <th></th>\n",
       "      <th>Title</th>\n",
       "      <th>Author</th>\n",
       "      <th>Real Price</th>\n",
       "      <th>Sale Price</th>\n",
       "      <th>Sale</th>\n",
       "      <th>Category</th>\n",
       "    </tr>\n",
       "  </thead>\n",
       "  <tbody>\n",
       "    <tr>\n",
       "      <th>0</th>\n",
       "      <td>Фаворити</td>\n",
       "      <td>од: Лејн Фарго</td>\n",
       "      <td>590 ден</td>\n",
       "      <td>590 ден</td>\n",
       "      <td>0</td>\n",
       "      <td>Романси</td>\n",
       "    </tr>\n",
       "    <tr>\n",
       "      <th>1</th>\n",
       "      <td>Тунел</td>\n",
       "      <td>од: Ана Волц</td>\n",
       "      <td>400 ден</td>\n",
       "      <td>400 ден</td>\n",
       "      <td>0</td>\n",
       "      <td>Романси</td>\n",
       "    </tr>\n",
       "    <tr>\n",
       "      <th>2</th>\n",
       "      <td>Љубов во Рим</td>\n",
       "      <td>од: Сара Адамс</td>\n",
       "      <td>490 ден</td>\n",
       "      <td>490 ден</td>\n",
       "      <td>0</td>\n",
       "      <td>Романси</td>\n",
       "    </tr>\n",
       "    <tr>\n",
       "      <th>3</th>\n",
       "      <td>Шпанска љубовна измама</td>\n",
       "      <td>од: Елена Армас</td>\n",
       "      <td>590 ден</td>\n",
       "      <td>590 ден</td>\n",
       "      <td>0</td>\n",
       "      <td>Романси</td>\n",
       "    </tr>\n",
       "    <tr>\n",
       "      <th>4</th>\n",
       "      <td>Изопачени лаги</td>\n",
       "      <td>од: Ана Хуанг</td>\n",
       "      <td>590 ден</td>\n",
       "      <td>590 ден</td>\n",
       "      <td>0</td>\n",
       "      <td>Романси</td>\n",
       "    </tr>\n",
       "  </tbody>\n",
       "</table>\n",
       "</div>"
      ],
      "text/plain": [
       "                    Title           Author Real Price Sale Price  Sale  \\\n",
       "0                Фаворити   од: Лејн Фарго    590 ден    590 ден     0   \n",
       "1                   Тунел     од: Ана Волц    400 ден    400 ден     0   \n",
       "2            Љубов во Рим   од: Сара Адамс    490 ден    490 ден     0   \n",
       "3  Шпанска љубовна измама  од: Елена Армас    590 ден    590 ден     0   \n",
       "4          Изопачени лаги    од: Ана Хуанг    590 ден    590 ден     0   \n",
       "\n",
       "  Category  \n",
       "0  Романси  \n",
       "1  Романси  \n",
       "2  Романси  \n",
       "3  Романси  \n",
       "4  Романси  "
      ]
     },
     "execution_count": 5,
     "metadata": {},
     "output_type": "execute_result"
    }
   ],
   "source": [
    "df.head()"
   ]
  },
  {
   "cell_type": "code",
   "execution_count": null,
   "id": "8c2407f5",
   "metadata": {},
   "outputs": [],
   "source": []
  }
 ],
 "metadata": {
  "kernelspec": {
   "display_name": ".venv",
   "language": "python",
   "name": "python3"
  },
  "language_info": {
   "codemirror_mode": {
    "name": "ipython",
    "version": 3
   },
   "file_extension": ".py",
   "mimetype": "text/x-python",
   "name": "python",
   "nbconvert_exporter": "python",
   "pygments_lexer": "ipython3",
   "version": "3.13.2"
  }
 },
 "nbformat": 4,
 "nbformat_minor": 5
}
